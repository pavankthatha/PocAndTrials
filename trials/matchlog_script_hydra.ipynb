{
 "cells": [
  {
   "cell_type": "code",
   "execution_count": 323,
   "metadata": {
    "collapsed": true
   },
   "outputs": [],
   "source": [
    "import pandas as pd\n",
    "import numpy as np"
   ]
  },
  {
   "cell_type": "code",
   "execution_count": 324,
   "metadata": {
    "collapsed": false
   },
   "outputs": [],
   "source": [
    "data_frame = pd.read_csv('/home/tivo/master_tsn_list')"
   ]
  },
  {
   "cell_type": "code",
   "execution_count": 325,
   "metadata": {
    "collapsed": false
   },
   "outputs": [],
   "source": [
    "#data_frame\n",
    "#str = \"this is string example....wow!!!\";\n",
    "#print str.startswith( 'this' )\n",
    "#print str.startswith( 'is', 2, 4 )\n",
    "#print str.startswith( 'this', 2, 4 )"
   ]
  },
  {
   "cell_type": "code",
   "execution_count": 326,
   "metadata": {
    "collapsed": false
   },
   "outputs": [],
   "source": [
    "#data_frame = data_frame[(data_frame['Sw Version Group Code'] == 'released') | \n",
    "#           (data_frame['Sw Version Group Code'] == 'sysqedb__picasso_mainline4_th')]\n",
    "#data_frame = data_frame[ (data_frame['Sw Version Group Code'] == 'alpha')]\n",
    "#data_frame1 = data_frame[data_frame['Sw Version Group Code'].apply(lambda x: 'harmony__dev' in x)]\n",
    "list_beta = ['quattro_2_3_beta_office',\n",
    "'quattro_2_6_1_beta_office',\n",
    "'quattro_2_6_beta_office',\n",
    "'quattro_2_6_mso_beta',\n",
    "'quattro_2_7_ext_beta',\n",
    "'quattro_2_8_beta',\n",
    "'quattro_3_0_beta',\n",
    "'quattro_3_0_beta_office',\n",
    "'quattro_3_1_beta_office',\n",
    "'quattro_3_2_beta',\n",
    "'quattro_3_3_beta',\n",
    "'quattro_3_4_beta',\n",
    "'quattro_3_5_beta',\n",
    "'quattro_3_5_beta_office',\n",
    "'quattro_3_6_beta_office',\n",
    "'quattro_3_8_beta',\n",
    "'quattro_3_8_beta_office',\n",
    "'seal_beta'\n",
    "];\n",
    "'''\n",
    "data_frame1 = pd.DataFrame(columns=data_frame.columns)\n",
    "#for p in list_beta:\n",
    "    #data_frame1.append(data_frame[(data_frame['Sw Version Group Code'] == p)])\n",
    "\n",
    "def filterlist(x,list_beta):\n",
    "    for p in list_beta:\n",
    "        if p in x:\n",
    "            print x\n",
    "            x\n",
    "'''\n",
    "\n",
    "#data_frame[data_frame['Sw Version Group Code'].apply(lambda x: filterlist(x,list_beta))]\n",
    "data_frame=data_frame[data_frame['Sw Version Group Code'].isin(list_beta)]"
   ]
  },
  {
   "cell_type": "code",
   "execution_count": 327,
   "metadata": {
    "collapsed": false
   },
   "outputs": [
    {
     "data": {
      "text/plain": [
       "\"data_frame1 = data_frame[(data_frame['Sw Version Group Code'] == 'seal_alpha_office') | \\n                         (data_frame['Sw Version Group Code'] == 'seal_alpha') |\\n                        (data_frame['Sw Version Group Code'] == 'quattro_2_3_alpha_office') |\\n                        (data_frame['Sw Version Group Code'] == 'quattro_2_2_alpha') |\\n                        (data_frame['Sw Version Group Code'] == 'quattro_2_6_alpha_office') |\\n                        (data_frame['Sw Version Group Code'] == 'quattro_2_7_alpha') |\\n                        (data_frame['Sw Version Group Code'] == 'quattro_2_7_alpha_office') |\\n                        (data_frame['Sw Version Group Code'] == 'quattro_2_8_alpha') |\\n                        (data_frame['Sw Version Group Code'] == 'quattro_2_8_alpha_office') |\\n                        (data_frame['Sw Version Group Code'] == 'quattro_3_0_alpha') |\\n                        (data_frame['Sw Version Group Code'] == 'quattro_3_0_alpha_office') |\\n                        (data_frame['Sw Version Group Code'] == 'quattro_3_1_alpha_office') |\\n                        (data_frame['Sw Version Group Code'] == 'quattro_3_2_alpha') |\\n                        (data_frame['Sw Version Group Code'] == 'quattro_3_2_alpha_office') |\\n                        (data_frame['Sw Version Group Code'] == 'quattro_3_3_alpha_office') |\\n                        (data_frame['Sw Version Group Code'] == 'quattro_3_4_alpha_office') |\\n                        (data_frame['Sw Version Group Code'] == 'quattro_3_5_5_alpha') |\\n                        (data_frame['Sw Version Group Code'] == 'quattro_3_5_alpha') |\\n                        (data_frame['Sw Version Group Code'] == 'quattro_3_5_alpha_office') |\\n                        (data_frame['Sw Version Group Code'] == 'quattro_3_7_alpha') |\\n                        (data_frame['Sw Version Group Code'] == 'quattro_3_7_alpha_office') |\\n                        (data_frame['Sw Version Group Code'] == 'quattro_3_8_alpha') |\\n                        (data_frame['Sw Version Group Code'] == 'quattro_3_8_alpha_office') |\\n                        (data_frame['Sw Version Group Code'] == 'quattro_3_9_alpha') |\\n                        (data_frame['Sw Version Group Code'] == 'quattro_3_9_alpha_office')]\\n\""
      ]
     },
     "execution_count": 327,
     "metadata": {},
     "output_type": "execute_result"
    }
   ],
   "source": [
    "'''data_frame1 = data_frame[(data_frame['Sw Version Group Code'] == 'seal_alpha_office') | \n",
    "                         (data_frame['Sw Version Group Code'] == 'seal_alpha') |\n",
    "                        (data_frame['Sw Version Group Code'] == 'quattro_2_3_alpha_office') |\n",
    "                        (data_frame['Sw Version Group Code'] == 'quattro_2_2_alpha') |\n",
    "                        (data_frame['Sw Version Group Code'] == 'quattro_2_6_alpha_office') |\n",
    "                        (data_frame['Sw Version Group Code'] == 'quattro_2_7_alpha') |\n",
    "                        (data_frame['Sw Version Group Code'] == 'quattro_2_7_alpha_office') |\n",
    "                        (data_frame['Sw Version Group Code'] == 'quattro_2_8_alpha') |\n",
    "                        (data_frame['Sw Version Group Code'] == 'quattro_2_8_alpha_office') |\n",
    "                        (data_frame['Sw Version Group Code'] == 'quattro_3_0_alpha') |\n",
    "                        (data_frame['Sw Version Group Code'] == 'quattro_3_0_alpha_office') |\n",
    "                        (data_frame['Sw Version Group Code'] == 'quattro_3_1_alpha_office') |\n",
    "                        (data_frame['Sw Version Group Code'] == 'quattro_3_2_alpha') |\n",
    "                        (data_frame['Sw Version Group Code'] == 'quattro_3_2_alpha_office') |\n",
    "                        (data_frame['Sw Version Group Code'] == 'quattro_3_3_alpha_office') |\n",
    "                        (data_frame['Sw Version Group Code'] == 'quattro_3_4_alpha_office') |\n",
    "                        (data_frame['Sw Version Group Code'] == 'quattro_3_5_5_alpha') |\n",
    "                        (data_frame['Sw Version Group Code'] == 'quattro_3_5_alpha') |\n",
    "                        (data_frame['Sw Version Group Code'] == 'quattro_3_5_alpha_office') |\n",
    "                        (data_frame['Sw Version Group Code'] == 'quattro_3_7_alpha') |\n",
    "                        (data_frame['Sw Version Group Code'] == 'quattro_3_7_alpha_office') |\n",
    "                        (data_frame['Sw Version Group Code'] == 'quattro_3_8_alpha') |\n",
    "                        (data_frame['Sw Version Group Code'] == 'quattro_3_8_alpha_office') |\n",
    "                        (data_frame['Sw Version Group Code'] == 'quattro_3_9_alpha') |\n",
    "                        (data_frame['Sw Version Group Code'] == 'quattro_3_9_alpha_office')]\n",
    "'''"
   ]
  },
  {
   "cell_type": "code",
   "execution_count": 328,
   "metadata": {
    "collapsed": false
   },
   "outputs": [],
   "source": [
    "data_frame1=data_frame['TSN']\n",
    "#data_frame1"
   ]
  },
  {
   "cell_type": "code",
   "execution_count": 329,
   "metadata": {
    "collapsed": true
   },
   "outputs": [],
   "source": [
    "data_frame1.to_csv('beta_tsn',index=False)"
   ]
  },
  {
   "cell_type": "code",
   "execution_count": null,
   "metadata": {
    "collapsed": true
   },
   "outputs": [],
   "source": []
  }
 ],
 "metadata": {
  "kernelspec": {
   "display_name": "Python 2",
   "language": "python",
   "name": "python2"
  },
  "language_info": {
   "codemirror_mode": {
    "name": "ipython",
    "version": 2
   },
   "file_extension": ".py",
   "mimetype": "text/x-python",
   "name": "python",
   "nbconvert_exporter": "python",
   "pygments_lexer": "ipython2",
   "version": "2.7.11"
  }
 },
 "nbformat": 4,
 "nbformat_minor": 0
}
