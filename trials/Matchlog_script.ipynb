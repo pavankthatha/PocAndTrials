{
 "cells": [
  {
   "cell_type": "code",
   "execution_count": 3,
   "metadata": {
    "collapsed": false
   },
   "outputs": [
    {
     "name": "stdout",
     "output_type": "stream",
     "text": [
      "Number of arguments: 3 arguments\n",
      "Argument List: ['/home/tivo/anaconda2/lib/python2.7/site-packages/ipykernel/__main__.py', '-f', '/home/tivo/.local/share/jupyter/runtime/kernel-eeef0be6-22c1-4164-a04b-4294369889f6.json']\n"
     ]
    }
   ],
   "source": [
    "#\n",
    "# This script takes start date,end date ,tsn list (or may be just a tsn) ,a pattern config file which has a list of patterns (Start Pattern# ,Intermediate patterns,end pattern) to be matched by the script ,output directory to redirect the results, service portla info as argumen# ts\n",
    "#  An Example -\n",
    "#  while read line; do ruby matchLog.rb 20140801 20140805 $line pattern.config outRoot_ComHem log02.chp1.tivo.com; done<tsnlist_ComHem \n",
    "#\n",
    "#\n",
    "#./publicLogMatch.sh -d $startdate -D $enddate -t $tsn -o #{outRoot}/$date/$tsn -m \"Displayed \\d+/\\d+ OSD\";gunzip #{outRoot}/$date/$tsn/matchFile.gz;grep \"Displayed \\d+/\\d+ OSD\" #{outRoot}/$date/$tsn/matchFile >> #{outRoot}/out-displayOSD.txt;test -e #{outRoot}/$date/$tsn/matchFile || echo $tsn\",\"$(date -d $date +\"%b %d\")\",00:00:00,NO LOGS\" >> #{outRoot}/f.csv\n",
    "\n",
    "#if ARGV.nil?\n",
    "\n",
    "import sys\n",
    "print 'Number of arguments:', len(sys.argv), 'arguments'\n",
    "print 'Argument List:', str(sys.argv)"
   ]
  },
  {
   "cell_type": "code",
   "execution_count": null,
   "metadata": {
    "collapsed": true
   },
   "outputs": [],
   "source": [
    "import getopt\n",
    "def main(argv):\n",
    "    "
   ]
  }
 ],
 "metadata": {
  "kernelspec": {
   "display_name": "Python 2",
   "language": "python",
   "name": "python2"
  },
  "language_info": {
   "codemirror_mode": {
    "name": "ipython",
    "version": 2
   },
   "file_extension": ".py",
   "mimetype": "text/x-python",
   "name": "python",
   "nbconvert_exporter": "python",
   "pygments_lexer": "ipython2",
   "version": "2.7.11"
  }
 },
 "nbformat": 4,
 "nbformat_minor": 0
}
