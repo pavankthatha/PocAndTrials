{
 "cells": [
  {
   "cell_type": "code",
   "execution_count": 209,
   "metadata": {
    "collapsed": false
   },
   "outputs": [],
   "source": [
    "#import scipy as sc\n",
    "import pandas as pnd\n",
    "\n",
    "from nltk.tokenize import RegexpTokenizer\n",
    "from stop_words import get_stop_words\n",
    "from nltk.stem.porter import PorterStemmer\n"
   ]
  },
  {
   "cell_type": "code",
   "execution_count": 210,
   "metadata": {
    "collapsed": true
   },
   "outputs": [],
   "source": [
    "#inits\n",
    "tokenizer = RegexpTokenizer(r'\\w+')\n",
    "p_stemmer = PorterStemmer()"
   ]
  },
  {
   "cell_type": "code",
   "execution_count": 211,
   "metadata": {
    "collapsed": true
   },
   "outputs": [],
   "source": [
    "#people = pnd.read_csv('filtered.csv',header=0,index_col=False)\n",
    "#people = pnd.read_csv('60_lines_after_kernel_EOBT.csv',header=0,index_col=False)\n",
    "people = pnd.read_csv('100_lines_after_and_before_EOBT.csv',header=0,index_col=False)\n",
    "#people = pnd.read_csv('videoGuts_crashes.csv',header=0,index_col=False)"
   ]
  },
  {
   "cell_type": "code",
   "execution_count": 213,
   "metadata": {
    "collapsed": false
   },
   "outputs": [],
   "source": [
    "#people.head()"
   ]
  },
  {
   "cell_type": "code",
   "execution_count": 214,
   "metadata": {
    "collapsed": false
   },
   "outputs": [],
   "source": [
    "\n",
    "import re\n",
    "people['text'] = people['text'].map(lambda words: re.sub(r'\\w*\\d\\w*', '', str(words)).strip())\n",
    "people['text'] = people['text'].map(lambda words: re.sub(r'zonelists', '', str(words)).strip())\n",
    "people['text'] = people['text'].map(lambda words: re.sub(r'zone', '', str(words)).strip())\n",
    "people['text'] = people['text'].map(lambda words: re.sub(r'znusb', '', str(words)).strip())\n",
    "people['text'] = people['text'].map(lambda words: re.sub(r'lib/', '', str(words)).strip())\n",
    "people['text'] = people['text'].map(lambda words: re.sub(r'[\\\\,\\/,\\{,\\},\\[,\\]]', '', str(words)).strip())\n",
    "people['text'] = people['text'].map(lambda words: re.sub(r'read', '', str(words)).strip())\n",
    "people['text'] = people['text'].map(lambda words: re.sub(r'kernel:', '', str(words)).strip())\n",
    "people['text'] = people['text'].map(lambda words: re.sub(r'Open file descriptor', '', str(words)).strip())\n",
    "people['text'] = people['text'].map(lambda words: re.sub(r':', ' ', str(words)).strip())\n",
    "#people['text'] = people['text'].map(lambda words: re.sub(r' +', '', str(words)).strip())"
   ]
  },
  {
   "cell_type": "code",
   "execution_count": 180,
   "metadata": {
    "collapsed": false
   },
   "outputs": [],
   "source": [
    "#people.head(60)"
   ]
  },
  {
   "cell_type": "code",
   "execution_count": 181,
   "metadata": {
    "collapsed": false
   },
   "outputs": [],
   "source": [
    "# creating cleaner dataframe\n",
    "#my_df['text'] = people['text'][0:500].map(lambda x : documentCleaner(x))\n",
    "#my_df['text'] = people['text'].map(lambda x : documentCleaner(x))\n"
   ]
  },
  {
   "cell_type": "code",
   "execution_count": 182,
   "metadata": {
    "collapsed": false
   },
   "outputs": [],
   "source": [
    "#print my_df['text'][1]"
   ]
  },
  {
   "cell_type": "code",
   "execution_count": 183,
   "metadata": {
    "collapsed": false
   },
   "outputs": [],
   "source": [
    "#my_df['tf-idf'][0]"
   ]
  },
  {
   "cell_type": "code",
   "execution_count": 215,
   "metadata": {
    "collapsed": false
   },
   "outputs": [],
   "source": [
    "from sklearn.feature_extraction.text import TfidfVectorizer\n",
    "\n",
    "tfidfModel = TfidfVectorizer(min_df=1,tokenizer=None,stop_words=\"english\")\n",
    "\n",
    "#print people['text'][13]\n",
    "X = tfidfModel.fit_transform(people['text'])"
   ]
  },
  {
   "cell_type": "code",
   "execution_count": 219,
   "metadata": {
    "collapsed": false
   },
   "outputs": [
    {
     "name": "stdout",
     "output_type": "stream",
     "text": [
      "168\n",
      "(168, 2273)\n",
      "  (0, 1822)\t0.0136163288404\n",
      "  (0, 612)\t0.0136163288404\n",
      "  (0, 1272)\t0.012233865374\n",
      "  (0, 1016)\t0.0136163288404\n",
      "  (0, 1234)\t0.0136163288404\n",
      "  (0, 504)\t0.0128377657914\n",
      "  (0, 376)\t0.0128377657914\n",
      "  (0, 1214)\t0.0128377657914\n",
      "  (0, 1127)\t0.0113232599678\n",
      "  (0, 1622)\t0.0212862396384\n",
      "  (0, 1626)\t0.00944737393281\n",
      "  (0, 2115)\t0.00822415236392\n",
      "  (0, 502)\t0.0113232599678\n",
      "  (0, 742)\t0.00876723378417\n",
      "  (0, 977)\t0.0109618797564\n",
      "  (0, 1719)\t0.00908599372137\n",
      "  (0, 66)\t0.0128377657914\n",
      "  (0, 1392)\t0.0109618797564\n",
      "  (0, 2131)\t0.0128377657914\n",
      "  (0, 1637)\t0.0128377657914\n",
      "  (0, 317)\t0.0128377657914\n",
      "  (0, 1170)\t0.0128377657914\n",
      "  (0, 1635)\t0.0136163288404\n",
      "  (0, 617)\t0.0128377657914\n",
      "  (0, 1634)\t0.0136163288404\n",
      "  :\t:\n",
      "  (3, 114)\t0.0115647800365\n",
      "  (3, 1737)\t0.00285559519753\n",
      "  (3, 1708)\t0.00648243691552\n",
      "  (3, 1657)\t0.00689608250485\n",
      "  (3, 2138)\t0.00524325239197\n",
      "  (3, 17)\t0.201610768223\n",
      "  (3, 517)\t0.00871751850089\n",
      "  (3, 562)\t0.00876926014749\n",
      "  (3, 1858)\t0.00876926014749\n",
      "  (3, 497)\t0.00438463007375\n",
      "  (3, 1313)\t0.00518036836812\n",
      "  (3, 1304)\t0.00518036836812\n",
      "  (3, 1305)\t0.00518036836812\n",
      "  (3, 874)\t0.00511838918182\n",
      "  (3, 885)\t0.00521169562716\n",
      "  (3, 920)\t0.00511838918182\n",
      "  (3, 942)\t0.00524325239197\n",
      "  (3, 933)\t0.00511838918182\n",
      "  (3, 948)\t0.00511838918182\n",
      "  (3, 935)\t0.0060795753724\n",
      "  (3, 881)\t0.00511838918182\n",
      "  (3, 951)\t0.00511838918182\n",
      "  (3, 943)\t0.00530706806482\n",
      "  (3, 912)\t0.00530706806482\n",
      "  (3, 947)\t0.00574664309832\n"
     ]
    }
   ],
   "source": [
    "print len(people)\n",
    "print X.get_shape()\n",
    "features = tfidfModel.get_feature_names()\n",
    "#print features\n",
    "print X[1:5]"
   ]
  },
  {
   "cell_type": "code",
   "execution_count": 208,
   "metadata": {
    "collapsed": false
   },
   "outputs": [
    {
     "name": "stdout",
     "output_type": "stream",
     "text": [
      "Rare-word is : [zone] with tfidf: 0.888505275576\n"
     ]
    }
   ],
   "source": [
    "#print X.A[0]\n",
    "def printmaxword(rowIndex):\n",
    "    #print (max(X.A[0]))\n",
    "    max_number=0\n",
    "    max_index=0\n",
    "    for i,value in enumerate(X.A[rowIndex]):\n",
    "        if ( value != 0):\n",
    "            #print i,value,features[i]\n",
    "            if ( value > max_number ):\n",
    "                max_number = value\n",
    "                max_index = i          \n",
    "    print (\"Rare-word is : [{}] with tfidf: {}\".format(features[i],max_number))\n",
    "#X.A\n",
    "printmaxword(0)"
   ]
  },
  {
   "cell_type": "code",
   "execution_count": 187,
   "metadata": {
    "collapsed": true
   },
   "outputs": [],
   "source": [
    "#from sklearn import neighbors\n",
    "#knn=neighbors.KNeighborsClassifier(n_neighbors=5)"
   ]
  },
  {
   "cell_type": "code",
   "execution_count": 188,
   "metadata": {
    "collapsed": false
   },
   "outputs": [],
   "source": [
    "#knn.fit(X.A,people['name'])"
   ]
  },
  {
   "cell_type": "code",
   "execution_count": 189,
   "metadata": {
    "collapsed": false,
    "scrolled": true
   },
   "outputs": [],
   "source": [
    "#TEMPORARY COMMENTING\n",
    "pnd.set_option('display.max_colwidth', -1)\n",
    "#index=1\n",
    "#print people.loc[index]['name']\n",
    "#a = knn.predict(X.A[index])\n",
    "#print a\n",
    "\n",
    "# NOT REQUIRED\n",
    "#print a.shape\n",
    "#print (\"{}\".format(people[people['name'] == 'Ben Stratton']['text']))\n",
    "#print knn.classes_"
   ]
  },
  {
   "cell_type": "code",
   "execution_count": 224,
   "metadata": {
    "collapsed": false
   },
   "outputs": [],
   "source": [
    "#TEMPORARY COMMENTING\n",
    "#print knn.predict(X.A[33:35])\n",
    "#print people.loc[33:35]['name']\n",
    "\n",
    "#print knn.get_params\n",
    "\n",
    "#COMMENTED CODE : NOT REQUIRED\n",
    "#print knn.classes_\n",
    "#for i,value in enumerate(X.A[0]):\n",
    "#    if (value != 0):\n",
    "#        print \"i{}:value{}\".format(i,value\n",
    "#X.A[5]\n",
    "#print people['text'][7]\n",
    "#print (\"*\"*80)\n",
    "#print people['text'][51]"
   ]
  },
  {
   "cell_type": "code",
   "execution_count": 193,
   "metadata": {
    "collapsed": false,
    "scrolled": true
   },
   "outputs": [
    {
     "name": "stdout",
     "output_type": "stream",
     "text": [
      "(array([[ 0.        ,  0.        ,  0.08805333]]), array([[119,   0,  81]]))\n",
      "================================================================================\n",
      "For [/.cheats/cmd/logScripts/74800019025D46D/all.txt-2011-05-09 00:27:32 056439 ] neighbours are\n",
      "[(array([[ 0.        ,  0.08547058,  0.12365308]]), array([[ 5, 14, 15]]))]\n",
      "[5     /.cheats/cmd/logScripts/74800019025D46D/all.txt-2011-05-09 00:27:32 056439 \n",
      "14    /.cheats/cmd/logScripts/7EB0000001E9346/all.txt-2011-11-05 04:44:37 091835 \n",
      "15    /.cheats/cmd/logScripts/7EB0000001E9346/all.txt-2011-11-11 08:17:08 789035 \n",
      "Name: name, dtype: object]\n",
      "================================================================================\n",
      "\n",
      "\n",
      "================================================================================\n",
      "For [/.cheats/cmd/logScripts/7DB2001901F31C0/all.txt-2016-02-19 03:28:34 149026 ] neighbours are\n",
      "[(array([[ 0.        ,  0.08668691,  0.09126656]]), array([[  6,  16, 118]]))]\n",
      "[6      /.cheats/cmd/logScripts/7DB2001901F31C0/all.txt-2016-02-19 03:28:34 149026 \n",
      "16     /.cheats/cmd/logScripts/8F00000001EF255/all.txt-2016-02-24 13:09:09 039275 \n",
      "118    /.cheats/cmd/logScripts/8400001901F5EA2/all.txt-2016-02-14 08:59:03 058033 \n",
      "Name: name, dtype: object]\n",
      "================================================================================\n",
      "\n",
      "\n",
      "================================================================================\n",
      "For [/.cheats/cmd/logScripts/7F80000001E2F4F/all.txt-2011-05-27 10:32:11 040884 ] neighbours are\n",
      "[(array([[ 0.        ,  1.24963856,  1.26744739]]), array([[ 7, 51, 32]]))]\n",
      "[7     /.cheats/cmd/logScripts/7F80000001E2F4F/all.txt-2011-05-27 10:32:11 040884 \n",
      "51    /.cheats/cmd/logScripts/7D6000190304394/all.txt-2011-07-20 17:57:51 305800 \n",
      "32    /.cheats/cmd/logScripts/7D600019036BCA8/all.txt-2011-07-15 17:30:46 147313 \n",
      "Name: name, dtype: object]\n",
      "================================================================================\n",
      "\n",
      "\n",
      "================================================================================\n",
      "For [/.cheats/cmd/logScripts/7F80000001E2F4F/all.txt-2011-05-31 03:33:19 314280 ] neighbours are\n",
      "[(array([[ 0.        ,  0.3971148 ,  0.40662069]]), array([[ 8, 22, 44]]))]\n",
      "[8     /.cheats/cmd/logScripts/7F80000001E2F4F/all.txt-2011-05-31 03:33:19 314280 \n",
      "22    /.cheats/cmd/logScripts/8D000019032ADA8/all.txt-2015-06-25 10:57:29 320671 \n",
      "44    /.cheats/cmd/logScripts/7D60001901E49B7/all.txt-2011-07-29 17:02:53 089886 \n",
      "Name: name, dtype: object]"
     ]
    },
    {
     "name": "stderr",
     "output_type": "stream",
     "text": [
      "//anaconda2/lib/python2.7/site-packages/sklearn/utils/validation.py:386: DeprecationWarning: Passing 1d arrays as data is deprecated in 0.17 and willraise ValueError in 0.19. Reshape your data either using X.reshape(-1, 1) if your data has a single feature or X.reshape(1, -1) if it contains a single sample.\n",
      "  DeprecationWarning)\n",
      "//anaconda2/lib/python2.7/site-packages/sklearn/utils/validation.py:386: DeprecationWarning: Passing 1d arrays as data is deprecated in 0.17 and willraise ValueError in 0.19. Reshape your data either using X.reshape(-1, 1) if your data has a single feature or X.reshape(1, -1) if it contains a single sample.\n",
      "  DeprecationWarning)\n",
      "//anaconda2/lib/python2.7/site-packages/sklearn/utils/validation.py:386: DeprecationWarning: Passing 1d arrays as data is deprecated in 0.17 and willraise ValueError in 0.19. Reshape your data either using X.reshape(-1, 1) if your data has a single feature or X.reshape(1, -1) if it contains a single sample.\n",
      "  DeprecationWarning)\n",
      "//anaconda2/lib/python2.7/site-packages/sklearn/utils/validation.py:386: DeprecationWarning: Passing 1d arrays as data is deprecated in 0.17 and willraise ValueError in 0.19. Reshape your data either using X.reshape(-1, 1) if your data has a single feature or X.reshape(1, -1) if it contains a single sample.\n",
      "  DeprecationWarning)\n",
      "//anaconda2/lib/python2.7/site-packages/sklearn/utils/validation.py:386: DeprecationWarning: Passing 1d arrays as data is deprecated in 0.17 and willraise ValueError in 0.19. Reshape your data either using X.reshape(-1, 1) if your data has a single feature or X.reshape(1, -1) if it contains a single sample.\n",
      "  DeprecationWarning)\n",
      "//anaconda2/lib/python2.7/site-packages/sklearn/utils/validation.py:386: DeprecationWarning: Passing 1d arrays as data is deprecated in 0.17 and willraise ValueError in 0.19. Reshape your data either using X.reshape(-1, 1) if your data has a single feature or X.reshape(1, -1) if it contains a single sample.\n",
      "  DeprecationWarning)\n",
      "//anaconda2/lib/python2.7/site-packages/sklearn/utils/validation.py:386: DeprecationWarning: Passing 1d arrays as data is deprecated in 0.17 and willraise ValueError in 0.19. Reshape your data either using X.reshape(-1, 1) if your data has a single feature or X.reshape(1, -1) if it contains a single sample.\n",
      "  DeprecationWarning)\n",
      "//anaconda2/lib/python2.7/site-packages/sklearn/utils/validation.py:386: DeprecationWarning: Passing 1d arrays as data is deprecated in 0.17 and willraise ValueError in 0.19. Reshape your data either using X.reshape(-1, 1) if your data has a single feature or X.reshape(1, -1) if it contains a single sample.\n",
      "  DeprecationWarning)\n",
      "//anaconda2/lib/python2.7/site-packages/sklearn/utils/validation.py:386: DeprecationWarning: Passing 1d arrays as data is deprecated in 0.17 and willraise ValueError in 0.19. Reshape your data either using X.reshape(-1, 1) if your data has a single feature or X.reshape(1, -1) if it contains a single sample.\n",
      "  DeprecationWarning)\n",
      "//anaconda2/lib/python2.7/site-packages/sklearn/utils/validation.py:386: DeprecationWarning: Passing 1d arrays as data is deprecated in 0.17 and willraise ValueError in 0.19. Reshape your data either using X.reshape(-1, 1) if your data has a single feature or X.reshape(1, -1) if it contains a single sample.\n",
      "  DeprecationWarning)\n"
     ]
    },
    {
     "name": "stdout",
     "output_type": "stream",
     "text": [
      "\n",
      "================================================================================\n",
      "\n",
      "\n",
      "================================================================================\n",
      "For [/.cheats/cmd/logScripts/7F80000001E35F4/all.txt-2011-04-12 19:14:35 074658 ] neighbours are\n",
      "[(array([[ 0.        ,  0.79045155,  0.81938358]]), array([[ 9,  8, 44]]))]\n",
      "[9     /.cheats/cmd/logScripts/7F80000001E35F4/all.txt-2011-04-12 19:14:35 074658 \n",
      "8     /.cheats/cmd/logScripts/7F80000001E2F4F/all.txt-2011-05-31 03:33:19 314280 \n",
      "44    /.cheats/cmd/logScripts/7D60001901E49B7/all.txt-2011-07-29 17:02:53 089886 \n",
      "Name: name, dtype: object]\n",
      "================================================================================\n",
      "\n",
      "\n"
     ]
    },
    {
     "name": "stderr",
     "output_type": "stream",
     "text": [
      "//anaconda2/lib/python2.7/site-packages/sklearn/utils/validation.py:386: DeprecationWarning: Passing 1d arrays as data is deprecated in 0.17 and willraise ValueError in 0.19. Reshape your data either using X.reshape(-1, 1) if your data has a single feature or X.reshape(1, -1) if it contains a single sample.\n",
      "  DeprecationWarning)\n"
     ]
    }
   ],
   "source": [
    "from sklearn.neighbors import NearestNeighbors\n",
    "\n",
    "neigh = NearestNeighbors(3, 0.4)\n",
    "neigh.fit(X.A)\n",
    "print neigh.kneighbors(X.A[0],return_distance=True)\n",
    "\n",
    "for i in range(5,10):\n",
    "    #print \"prediction neighbour of ::: {}\".format(people.loc[i]['name'])\n",
    "    #print (\"is\",neigh.kneighbors(X.A[0]))\n",
    "    print (\"=\" *80)\n",
    "    print \"For [{}] neighbours are\".format(people.loc[i]['name'])\n",
    "    print [neigh.kneighbors(X.A[i],return_distance=True)]\n",
    "    print [people.loc[j]['name'] for j in neigh.kneighbors(X.A[i],return_distance=False)]\n",
    "    #for j in neigh.kneighbors(X.A[i],return_distance=False):\n",
    "    #    printmaxword(j)\n",
    "    \n",
    "    #print [people.loc[j]['text'] for j in neigh.kneighbors(X.A[i],return_distance=False)]\n",
    "    print (\"=\" *80)\n",
    "    print (\"\\n\")\n",
    "\n"
   ]
  },
  {
   "cell_type": "code",
   "execution_count": 200,
   "metadata": {
    "collapsed": false
   },
   "outputs": [
    {
     "data": {
      "text/plain": [
       "DPGMM(alpha=1.0, covariance_type='full', init_params='wmc', min_covar=None,\n",
       "   n_components=5, n_iter=10, params='wmc', random_state=None, thresh=None,\n",
       "   tol=0.001, verbose=0)"
      ]
     },
     "execution_count": 200,
     "metadata": {},
     "output_type": "execute_result"
    }
   ],
   "source": [
    "import itertools\n",
    "\n",
    "import numpy as np\n",
    "from scipy import linalg\n",
    "import matplotlib.pyplot as plt\n",
    "import matplotlib as mpl\n",
    "%matplotlib inline\n",
    "\n",
    "from sklearn import mixture\n",
    "\n",
    "dpgmm = mixture.DPGMM(n_components=5, covariance_type='full')\n",
    "dpgmm.fit(X.A)\n",
    "\n"
   ]
  },
  {
   "cell_type": "code",
   "execution_count": 197,
   "metadata": {
    "collapsed": false
   },
   "outputs": [
    {
     "data": {
      "text/plain": [
       "DPGMM(alpha=1.0, covariance_type='full', init_params='wmc', min_covar=None,\n",
       "   n_components=5, n_iter=10, params='wmc', random_state=None, thresh=None,\n",
       "   tol=0.001, verbose=0)"
      ]
     },
     "execution_count": 197,
     "metadata": {},
     "output_type": "execute_result"
    }
   ],
   "source": [
    "color_iter = itertools.cycle(['r', 'g', 'b', 'c', 'm'])\n",
    "\n",
    "for i, (clf, title) in enumerate([(dpgmm, 'Dirichlet Process GMM')]):\n",
    "    splot = plt.subplot(2, 1, 1 + i)\n",
    "    Y_ = clf.predict(X.A)\n",
    "    #for i, (mean, covar, color) in enumerate(zip(\n",
    "    #        clf.means_, clf._get_covars(), color_iter)):\n",
    "    #    v, w = linalg.eigh(covar)\n",
    "    #   u = w[0] / linalg.norm(w[0])\n",
    "    #    # as the DP will not use every component it has access to\n",
    "    #    # unless it needs it, we shouldn't plot the redundant\n",
    "    #    # components.\n",
    "    #    if not np.any(Y_ == i):\n",
    "    #        continue\n",
    "    #    plt.scatter(X[Y_ == i, 0], X[Y_ == i, 0], .8, color=color)\n",
    "\n",
    "        # Plot an ellipse to show the Gaussian component\n",
    "    #    angle = np.arctan(u[1] / u[0])\n",
    "    #    angle = 180 * angle / np.pi  # convert to degrees\n",
    "    #    ell = mpl.patches.Ellipse(mean, v[0], v[1], 180 + angle, color=color)\n",
    "    #    ell.set_clip_box(splot.bbox)\n",
    "    #    ell.set_alpha(0.5)\n",
    "    #    splot.add_artist(ell)\n",
    "\n",
    "    #plt.xlim(-10, 10)\n",
    "    #plt.ylim(-3, 6)\n",
    "    #plt.xticks(())\n",
    "    #plt.yticks(())\n",
    "    #plt.title(title)\n",
    "\n",
    "#plt.show()"
   ]
  },
  {
   "cell_type": "code",
   "execution_count": 201,
   "metadata": {
    "collapsed": false
   },
   "outputs": [
    {
     "data": {
      "text/plain": [
       "array([0, 0, 0, 0, 0, 0, 0, 0, 0, 0, 0, 0, 0, 0, 0, 0, 0, 0, 0, 0, 0, 0, 0,\n",
       "       0, 0, 0, 0, 0, 0, 0, 0, 0, 0, 0, 0, 0, 0, 0, 0, 0, 0, 0, 0, 0, 0, 0,\n",
       "       0, 0, 0, 0, 0, 0, 0, 0, 0, 0, 0, 0, 0, 0, 0, 0, 0, 0, 0, 0, 0, 0, 0,\n",
       "       0, 0, 0, 0, 0, 0, 0, 0, 0, 0, 0, 0, 0, 0, 0, 0, 0, 0, 0, 0, 0, 0, 0,\n",
       "       0, 0, 0, 0, 0, 0, 0, 0, 0, 0, 0, 0, 0, 0, 0, 0, 0, 0, 0, 0, 0, 0, 0,\n",
       "       0, 0, 0, 0, 0, 0, 0, 0, 0, 0, 0, 0, 0, 0, 0, 0, 0, 0, 0, 0, 0, 0, 0,\n",
       "       0, 0, 0, 0, 0, 0, 0, 0, 0, 0, 0, 0, 0, 0, 0, 0, 0, 0, 0, 0, 0, 0, 0,\n",
       "       0, 0, 0, 0, 0, 0, 0])"
      ]
     },
     "execution_count": 201,
     "metadata": {},
     "output_type": "execute_result"
    }
   ],
   "source": [
    "dpgmm.predict(X.A)"
   ]
  },
  {
   "cell_type": "code",
   "execution_count": 174,
   "metadata": {
    "collapsed": false
   },
   "outputs": [
    {
     "data": {
      "image/png": "[encoded data removed]",
      "text/plain": [
       "<matplotlib.figure.Figure at 0xaad3160c>"
      ]
     },
     "metadata": {},
     "output_type": "display_data"
    }
   ],
   "source": [
    "import itertools\n",
    "\n",
    "import numpy as np\n",
    "from scipy import linalg\n",
    "import matplotlib.pyplot as plt\n",
    "import matplotlib as mpl\n",
    "%matplotlib inline\n",
    "\n",
    "from sklearn import mixture\n",
    "\n",
    "# Number of samples per component\n",
    "n_samples = 500\n",
    "\n",
    "# Generate random sample, two components\n",
    "np.random.seed(0)\n",
    "C = np.array([[0., -0.1], [1.7, .4]])\n",
    "X = np.r_[np.dot(np.random.randn(n_samples, 2), C),\n",
    "          .7 * np.random.randn(n_samples, 2) + np.array([-6, 3])]\n",
    "\n",
    "# Fit a mixture of Gaussians with EM using five components\n",
    "gmm = mixture.GMM(n_components=5, covariance_type='full')\n",
    "gmm.fit(X)\n",
    "\n",
    "# Fit a Dirichlet process mixture of Gaussians using five components\n",
    "dpgmm = mixture.DPGMM(n_components=5, covariance_type='full')\n",
    "dpgmm.fit(X)\n",
    "\n",
    "color_iter = itertools.cycle(['r', 'g', 'b', 'c', 'm'])\n",
    "\n",
    "for i, (clf, title) in enumerate([(gmm, 'GMM'),\n",
    "                                  (dpgmm, 'Dirichlet Process GMM')]):\n",
    "    splot = plt.subplot(2, 1, 1 + i)\n",
    "    Y_ = clf.predict(X)\n",
    "    for i, (mean, covar, color) in enumerate(zip(\n",
    "            clf.means_, clf._get_covars(), color_iter)):\n",
    "        v, w = linalg.eigh(covar)\n",
    "        u = w[0] / linalg.norm(w[0])\n",
    "        # as the DP will not use every component it has access to\n",
    "        # unless it needs it, we shouldn't plot the redundant\n",
    "        # components.\n",
    "        if not np.any(Y_ == i):\n",
    "            continue\n",
    "        plt.scatter(X[Y_ == i, 0], X[Y_ == i, 1], .8, color=color)\n",
    "\n",
    "        # Plot an ellipse to show the Gaussian component\n",
    "        angle = np.arctan(u[1] / u[0])\n",
    "        angle = 180 * angle / np.pi  # convert to degrees\n",
    "        ell = mpl.patches.Ellipse(mean, v[0], v[1], 180 + angle, color=color)\n",
    "        ell.set_clip_box(splot.bbox)\n",
    "        ell.set_alpha(0.5)\n",
    "        splot.add_artist(ell)\n",
    "\n",
    "    plt.xlim(-10, 10)\n",
    "    plt.ylim(-3, 6)\n",
    "    plt.xticks(())\n",
    "    plt.yticks(())\n",
    "    plt.title(title)\n",
    "\n",
    "plt.show()"
   ]
  },
  {
   "cell_type": "code",
   "execution_count": null,
   "metadata": {
    "collapsed": true
   },
   "outputs": [],
   "source": []
  }
 ],
 "metadata": {
  "kernelspec": {
   "display_name": "Python 2",
   "language": "python",
   "name": "python2"
  },
  "language_info": {
   "codemirror_mode": {
    "name": "ipython",
    "version": 2
   },
   "file_extension": ".py",
   "mimetype": "text/x-python",
   "name": "python",
   "nbconvert_exporter": "python",
   "pygments_lexer": "ipython2",
   "version": "2.7.11"
  }
 },
 "nbformat": 4,
 "nbformat_minor": 0
}
