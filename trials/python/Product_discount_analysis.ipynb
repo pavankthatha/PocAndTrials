{
 "cells": [
  {
   "cell_type": "code",
   "execution_count": 2,
   "metadata": {
    "collapsed": true
   },
   "outputs": [],
   "source": [
    "import pandas as pd\n",
    "import statsmodels as st\n",
    "import matplotlib.pyplot as plt\n",
    "import numpy as np"
   ]
  },
  {
   "cell_type": "code",
   "execution_count": 3,
   "metadata": {
    "collapsed": false
   },
   "outputs": [],
   "source": [
    "CustomerData = pd.read_excel('datasets/test3.xlsx')"
   ]
  },
  {
   "cell_type": "code",
   "execution_count": 14,
   "metadata": {
    "collapsed": false
   },
   "outputs": [
    {
     "data": {
      "text/html": [
       "<div>\n",
       "<table border=\"1\" class=\"dataframe\">\n",
       "  <thead>\n",
       "    <tr style=\"text-align: right;\">\n",
       "      <th></th>\n",
       "      <th>month</th>\n",
       "      <th>LOB</th>\n",
       "      <th>patner type</th>\n",
       "      <th>product category</th>\n",
       "      <th>Sale type</th>\n",
       "      <th>deal size</th>\n",
       "      <th>order qty</th>\n",
       "      <th>Discount</th>\n",
       "      <th>list margin</th>\n",
       "      <th>List revenue</th>\n",
       "      <th>cost price</th>\n",
       "      <th>selling price</th>\n",
       "      <th>cmp price</th>\n",
       "    </tr>\n",
       "  </thead>\n",
       "  <tbody>\n",
       "    <tr>\n",
       "      <th>0</th>\n",
       "      <td>2015-M10</td>\n",
       "      <td>CSB</td>\n",
       "      <td>V</td>\n",
       "      <td>XYZ 11</td>\n",
       "      <td>APOS</td>\n",
       "      <td>Small</td>\n",
       "      <td>1</td>\n",
       "      <td>0.140000</td>\n",
       "      <td>0.285679</td>\n",
       "      <td>0.00</td>\n",
       "      <td>0.000</td>\n",
       "      <td>0.0</td>\n",
       "      <td>0.0</td>\n",
       "    </tr>\n",
       "    <tr>\n",
       "      <th>1</th>\n",
       "      <td>2015-M10</td>\n",
       "      <td>CSB</td>\n",
       "      <td>V</td>\n",
       "      <td>XYZ 11</td>\n",
       "      <td>APOS</td>\n",
       "      <td>Small</td>\n",
       "      <td>1</td>\n",
       "      <td>0.125005</td>\n",
       "      <td>0.186930</td>\n",
       "      <td>56.04</td>\n",
       "      <td>102.495</td>\n",
       "      <td>173.2</td>\n",
       "      <td>0.0</td>\n",
       "    </tr>\n",
       "    <tr>\n",
       "      <th>2</th>\n",
       "      <td>2015-M10</td>\n",
       "      <td>CSB</td>\n",
       "      <td>V</td>\n",
       "      <td>XYZ 11</td>\n",
       "      <td>APOS</td>\n",
       "      <td>Small</td>\n",
       "      <td>1</td>\n",
       "      <td>0.075005</td>\n",
       "      <td>0.184192</td>\n",
       "      <td>0.00</td>\n",
       "      <td>0.000</td>\n",
       "      <td>0.0</td>\n",
       "      <td>0.0</td>\n",
       "    </tr>\n",
       "    <tr>\n",
       "      <th>3</th>\n",
       "      <td>2015-M10</td>\n",
       "      <td>CSB</td>\n",
       "      <td>V</td>\n",
       "      <td>XYZ 11</td>\n",
       "      <td>POS</td>\n",
       "      <td>Small</td>\n",
       "      <td>1</td>\n",
       "      <td>0.000000</td>\n",
       "      <td>0.183198</td>\n",
       "      <td>30.09</td>\n",
       "      <td>47.495</td>\n",
       "      <td>63.0</td>\n",
       "      <td>0.0</td>\n",
       "    </tr>\n",
       "    <tr>\n",
       "      <th>4</th>\n",
       "      <td>2015-M10</td>\n",
       "      <td>CSB</td>\n",
       "      <td>V</td>\n",
       "      <td>XYZ 11</td>\n",
       "      <td>POS</td>\n",
       "      <td>Small</td>\n",
       "      <td>1</td>\n",
       "      <td>0.000000</td>\n",
       "      <td>0.171554</td>\n",
       "      <td>0.00</td>\n",
       "      <td>0.000</td>\n",
       "      <td>0.0</td>\n",
       "      <td>0.0</td>\n",
       "    </tr>\n",
       "  </tbody>\n",
       "</table>\n",
       "</div>"
      ],
      "text/plain": [
       "      month  LOB patner type product category  Sale type deal size  order qty  \\\n",
       "0  2015-M10  CSB           V            XYZ 11      APOS     Small          1   \n",
       "1  2015-M10  CSB           V            XYZ 11      APOS     Small          1   \n",
       "2  2015-M10  CSB           V            XYZ 11      APOS     Small          1   \n",
       "3  2015-M10  CSB           V            XYZ 11       POS     Small          1   \n",
       "4  2015-M10  CSB           V            XYZ 11       POS     Small          1   \n",
       "\n",
       "   Discount  list margin  List revenue  cost price   selling price  cmp price  \n",
       "0  0.140000     0.285679          0.00        0.000            0.0        0.0  \n",
       "1  0.125005     0.186930         56.04      102.495          173.2        0.0  \n",
       "2  0.075005     0.184192          0.00        0.000            0.0        0.0  \n",
       "3  0.000000     0.183198         30.09       47.495           63.0        0.0  \n",
       "4  0.000000     0.171554          0.00        0.000            0.0        0.0  "
      ]
     },
     "execution_count": 14,
     "metadata": {},
     "output_type": "execute_result"
    }
   ],
   "source": [
    "CustomerData.head()"
   ]
  },
  {
   "cell_type": "code",
   "execution_count": 15,
   "metadata": {
    "collapsed": false
   },
   "outputs": [
    {
     "name": "stderr",
     "output_type": "stream",
     "text": [
      "/home/tivo/anaconda3/lib/python3.5/site-packages/numpy/lib/function_base.py:3834: RuntimeWarning: Invalid value encountered in percentile\n",
      "  RuntimeWarning)\n"
     ]
    },
    {
     "data": {
      "text/html": [
       "<div>\n",
       "<table border=\"1\" class=\"dataframe\">\n",
       "  <thead>\n",
       "    <tr style=\"text-align: right;\">\n",
       "      <th></th>\n",
       "      <th>order qty</th>\n",
       "      <th>Discount</th>\n",
       "      <th>list margin</th>\n",
       "      <th>List revenue</th>\n",
       "      <th>cost price</th>\n",
       "      <th>selling price</th>\n",
       "      <th>cmp price</th>\n",
       "    </tr>\n",
       "  </thead>\n",
       "  <tbody>\n",
       "    <tr>\n",
       "      <th>count</th>\n",
       "      <td>40204.000000</td>\n",
       "      <td>4.019200e+04</td>\n",
       "      <td>4.019200e+04</td>\n",
       "      <td>40204.000000</td>\n",
       "      <td>40204.000000</td>\n",
       "      <td>40204.000000</td>\n",
       "      <td>40204.000000</td>\n",
       "    </tr>\n",
       "    <tr>\n",
       "      <th>mean</th>\n",
       "      <td>2.864839</td>\n",
       "      <td>2.626222e+09</td>\n",
       "      <td>2.976385e+09</td>\n",
       "      <td>56.822743</td>\n",
       "      <td>193.508829</td>\n",
       "      <td>212.947811</td>\n",
       "      <td>0.074947</td>\n",
       "    </tr>\n",
       "    <tr>\n",
       "      <th>std</th>\n",
       "      <td>5.379440</td>\n",
       "      <td>5.265035e+11</td>\n",
       "      <td>5.967040e+11</td>\n",
       "      <td>74.338355</td>\n",
       "      <td>298.988724</td>\n",
       "      <td>339.290674</td>\n",
       "      <td>0.222483</td>\n",
       "    </tr>\n",
       "    <tr>\n",
       "      <th>min</th>\n",
       "      <td>1.000000</td>\n",
       "      <td>-7.733614e+01</td>\n",
       "      <td>-3.588307e+00</td>\n",
       "      <td>0.000000</td>\n",
       "      <td>0.000000</td>\n",
       "      <td>0.000000</td>\n",
       "      <td>0.000000</td>\n",
       "    </tr>\n",
       "    <tr>\n",
       "      <th>25%</th>\n",
       "      <td>1.000000</td>\n",
       "      <td>NaN</td>\n",
       "      <td>NaN</td>\n",
       "      <td>11.600000</td>\n",
       "      <td>37.495000</td>\n",
       "      <td>0.000000</td>\n",
       "      <td>0.000000</td>\n",
       "    </tr>\n",
       "    <tr>\n",
       "      <th>50%</th>\n",
       "      <td>1.000000</td>\n",
       "      <td>NaN</td>\n",
       "      <td>NaN</td>\n",
       "      <td>41.295000</td>\n",
       "      <td>102.495000</td>\n",
       "      <td>130.400000</td>\n",
       "      <td>0.000000</td>\n",
       "    </tr>\n",
       "    <tr>\n",
       "      <th>75%</th>\n",
       "      <td>2.000000</td>\n",
       "      <td>NaN</td>\n",
       "      <td>NaN</td>\n",
       "      <td>73.220000</td>\n",
       "      <td>242.495000</td>\n",
       "      <td>267.360000</td>\n",
       "      <td>0.000000</td>\n",
       "    </tr>\n",
       "    <tr>\n",
       "      <th>max</th>\n",
       "      <td>115.000000</td>\n",
       "      <td>1.055531e+14</td>\n",
       "      <td>1.196269e+14</td>\n",
       "      <td>929.525000</td>\n",
       "      <td>4004.995000</td>\n",
       "      <td>4830.210000</td>\n",
       "      <td>1.080000</td>\n",
       "    </tr>\n",
       "  </tbody>\n",
       "</table>\n",
       "</div>"
      ],
      "text/plain": [
       "          order qty      Discount   list margin  List revenue   cost price   \\\n",
       "count  40204.000000  4.019200e+04  4.019200e+04  40204.000000  40204.000000   \n",
       "mean       2.864839  2.626222e+09  2.976385e+09     56.822743    193.508829   \n",
       "std        5.379440  5.265035e+11  5.967040e+11     74.338355    298.988724   \n",
       "min        1.000000 -7.733614e+01 -3.588307e+00      0.000000      0.000000   \n",
       "25%        1.000000           NaN           NaN     11.600000     37.495000   \n",
       "50%        1.000000           NaN           NaN     41.295000    102.495000   \n",
       "75%        2.000000           NaN           NaN     73.220000    242.495000   \n",
       "max      115.000000  1.055531e+14  1.196269e+14    929.525000   4004.995000   \n",
       "\n",
       "       selling price     cmp price  \n",
       "count   40204.000000  40204.000000  \n",
       "mean      212.947811      0.074947  \n",
       "std       339.290674      0.222483  \n",
       "min         0.000000      0.000000  \n",
       "25%         0.000000      0.000000  \n",
       "50%       130.400000      0.000000  \n",
       "75%       267.360000      0.000000  \n",
       "max      4830.210000      1.080000  "
      ]
     },
     "execution_count": 15,
     "metadata": {},
     "output_type": "execute_result"
    }
   ],
   "source": [
    "CustomerData.describe()"
   ]
  },
  {
   "cell_type": "code",
   "execution_count": 16,
   "metadata": {
    "collapsed": false
   },
   "outputs": [
    {
     "data": {
      "text/html": [
       "<div>\n",
       "<table border=\"1\" class=\"dataframe\">\n",
       "  <thead>\n",
       "    <tr style=\"text-align: right;\">\n",
       "      <th></th>\n",
       "      <th>order qty</th>\n",
       "      <th>Discount</th>\n",
       "      <th>list margin</th>\n",
       "      <th>List revenue</th>\n",
       "      <th>cost price</th>\n",
       "      <th>selling price</th>\n",
       "      <th>cmp price</th>\n",
       "    </tr>\n",
       "  </thead>\n",
       "  <tbody>\n",
       "    <tr>\n",
       "      <th>order qty</th>\n",
       "      <td>1.000000</td>\n",
       "      <td>-0.000802</td>\n",
       "      <td>-0.000802</td>\n",
       "      <td>-0.053086</td>\n",
       "      <td>-0.079325</td>\n",
       "      <td>-0.056973</td>\n",
       "      <td>-0.069551</td>\n",
       "    </tr>\n",
       "    <tr>\n",
       "      <th>Discount</th>\n",
       "      <td>-0.000802</td>\n",
       "      <td>1.000000</td>\n",
       "      <td>1.000000</td>\n",
       "      <td>-0.003814</td>\n",
       "      <td>-0.003229</td>\n",
       "      <td>-0.003132</td>\n",
       "      <td>-0.001680</td>\n",
       "    </tr>\n",
       "    <tr>\n",
       "      <th>list margin</th>\n",
       "      <td>-0.000802</td>\n",
       "      <td>1.000000</td>\n",
       "      <td>1.000000</td>\n",
       "      <td>-0.003814</td>\n",
       "      <td>-0.003229</td>\n",
       "      <td>-0.003132</td>\n",
       "      <td>-0.001680</td>\n",
       "    </tr>\n",
       "    <tr>\n",
       "      <th>List revenue</th>\n",
       "      <td>-0.053086</td>\n",
       "      <td>-0.003814</td>\n",
       "      <td>-0.003814</td>\n",
       "      <td>1.000000</td>\n",
       "      <td>0.947201</td>\n",
       "      <td>0.915462</td>\n",
       "      <td>0.120854</td>\n",
       "    </tr>\n",
       "    <tr>\n",
       "      <th>cost price</th>\n",
       "      <td>-0.079325</td>\n",
       "      <td>-0.003229</td>\n",
       "      <td>-0.003229</td>\n",
       "      <td>0.947201</td>\n",
       "      <td>1.000000</td>\n",
       "      <td>0.915316</td>\n",
       "      <td>0.241674</td>\n",
       "    </tr>\n",
       "    <tr>\n",
       "      <th>selling price</th>\n",
       "      <td>-0.056973</td>\n",
       "      <td>-0.003132</td>\n",
       "      <td>-0.003132</td>\n",
       "      <td>0.915462</td>\n",
       "      <td>0.915316</td>\n",
       "      <td>1.000000</td>\n",
       "      <td>0.152687</td>\n",
       "    </tr>\n",
       "    <tr>\n",
       "      <th>cmp price</th>\n",
       "      <td>-0.069551</td>\n",
       "      <td>-0.001680</td>\n",
       "      <td>-0.001680</td>\n",
       "      <td>0.120854</td>\n",
       "      <td>0.241674</td>\n",
       "      <td>0.152687</td>\n",
       "      <td>1.000000</td>\n",
       "    </tr>\n",
       "  </tbody>\n",
       "</table>\n",
       "</div>"
      ],
      "text/plain": [
       "               order qty  Discount  list margin  List revenue  cost price   \\\n",
       "order qty       1.000000 -0.000802    -0.000802     -0.053086    -0.079325   \n",
       "Discount       -0.000802  1.000000     1.000000     -0.003814    -0.003229   \n",
       "list margin    -0.000802  1.000000     1.000000     -0.003814    -0.003229   \n",
       "List revenue   -0.053086 -0.003814    -0.003814      1.000000     0.947201   \n",
       "cost price     -0.079325 -0.003229    -0.003229      0.947201     1.000000   \n",
       "selling price  -0.056973 -0.003132    -0.003132      0.915462     0.915316   \n",
       "cmp price      -0.069551 -0.001680    -0.001680      0.120854     0.241674   \n",
       "\n",
       "               selling price  cmp price  \n",
       "order qty          -0.056973  -0.069551  \n",
       "Discount           -0.003132  -0.001680  \n",
       "list margin        -0.003132  -0.001680  \n",
       "List revenue        0.915462   0.120854  \n",
       "cost price          0.915316   0.241674  \n",
       "selling price       1.000000   0.152687  \n",
       "cmp price           0.152687   1.000000  "
      ]
     },
     "execution_count": 16,
     "metadata": {},
     "output_type": "execute_result"
    }
   ],
   "source": [
    "CustomerData.corr()"
   ]
  },
  {
   "cell_type": "code",
   "execution_count": 18,
   "metadata": {
    "collapsed": false
   },
   "outputs": [
    {
     "data": {
      "text/plain": [
       "Index(['month', 'LOB', 'patner type', 'product category ', 'Sale type',\n",
       "       'deal size', 'order qty', 'Discount', 'list margin', 'List revenue',\n",
       "       'cost price ', 'selling price', 'cmp price'],\n",
       "      dtype='object')"
      ]
     },
     "execution_count": 18,
     "metadata": {},
     "output_type": "execute_result"
    }
   ],
   "source": [
    "CustomerData.columns"
   ]
  },
  {
   "cell_type": "code",
   "execution_count": 19,
   "metadata": {
    "collapsed": false
   },
   "outputs": [
    {
     "data": {
      "text/plain": [
       "array(['V', 'D', 'Direct'], dtype=object)"
      ]
     },
     "execution_count": 19,
     "metadata": {},
     "output_type": "execute_result"
    }
   ],
   "source": [
    "CustomerData['patner type'].unique()"
   ]
  },
  {
   "cell_type": "code",
   "execution_count": 21,
   "metadata": {
    "collapsed": false
   },
   "outputs": [
    {
     "data": {
      "text/plain": [
       "array(['XYZ 11', 'XYZ Others', 'XYZ 22', 'Client Others'], dtype=object)"
      ]
     },
     "execution_count": 21,
     "metadata": {},
     "output_type": "execute_result"
    }
   ],
   "source": [
    "CustomerData['product category '].unique()"
   ]
  },
  {
   "cell_type": "code",
   "execution_count": 125,
   "metadata": {
    "collapsed": false
   },
   "outputs": [],
   "source": [
    "#Check missing values\n",
    "#CustomerData[CustomerData['Discount'] != 'NaN'] \n",
    "\n",
    "#As of now remove missing values # treatment if required, let's do later\n",
    "CustomerDataTemp = CustomerData[pd.isnull(CustomerData['Discount']) == False]\n",
    "    "
   ]
  },
  {
   "cell_type": "code",
   "execution_count": 66,
   "metadata": {
    "collapsed": true
   },
   "outputs": [],
   "source": [
    "def getUpperAndLowerOutlierThreshold(data):\n",
    "    q75, q25 = np.percentile(data, [75 ,25])\n",
    "    iqr = q75 - q25\n",
    "    upperOutlier = q75 + iqr*1.5\n",
    "    lowerOutlier = q25 - iqr*1.5\n",
    "    return upperOutlier,lowerOutlier"
   ]
  },
  {
   "cell_type": "code",
   "execution_count": 67,
   "metadata": {
    "collapsed": true
   },
   "outputs": [],
   "source": [
    "# Let's select features\n",
    "categoricalFeatures = ['product category ', 'patner type',  'Sale type','deal size']\n",
    "numericfeatures = ['order qty', 'Discount']"
   ]
  },
  {
   "cell_type": "code",
   "execution_count": 68,
   "metadata": {
    "collapsed": false
   },
   "outputs": [
    {
     "name": "stdout",
     "output_type": "stream",
     "text": [
      "================================================================================\n",
      "3.5 -0.5\n",
      "order qty\n",
      "Total=40192  #Outlier=6862 Outliers=17.073049363057326 %\n",
      "\n",
      "================================================================================\n",
      "0.369356601222 -0.061609896064\n",
      "Discount\n",
      "Total=40192  #Outlier=846 Outliers=2.104896496815287 %\n",
      "\n",
      "(40192, 13)\n",
      "(39346, 13)\n"
     ]
    }
   ],
   "source": [
    "for i in numericfeatures:\n",
    "    upperOutlier,lowerOutlier = getUpperAndLowerOutlierThreshold(CustomerDataTemp[i])\n",
    "    print(\"=\"*80)\n",
    "    print (upperOutlier,lowerOutlier)\n",
    "    print (i)\n",
    "    \n",
    "    totalLen = CustomerDataTemp.shape[0]\n",
    "    afterRemovingOutliers = (CustomerDataTemp[((CustomerDataTemp[i] < upperOutlier) & \n",
    "                                           (CustomerDataTemp[i] > lowerOutlier ))].shape)[0]\n",
    "    percentageOfOutliers = ( (totalLen - afterRemovingOutliers) / totalLen)*100\n",
    "    print (\"Total={}  #Outlier={} Outliers={} %\".format(totalLen,totalLen - afterRemovingOutliers,percentageOfOutliers))\n",
    "    print ()\n",
    "    #Remove outliers\n",
    "\n",
    "def removeOutliers(data,i):\n",
    "    _upperOutlier,_lowerOutlier = getUpperAndLowerOutlierThreshold(data[i])\n",
    "    return data[((data[i] < _upperOutlier) & (data[i] > _lowerOutlier ))]\n",
    "\n",
    "print (CustomerDataTemp.shape)\n",
    "CustomerDataRemovedMissingAndOL = removeOutliers(CustomerDataTemp,'Discount')\n",
    "print (CustomerDataRemovedMissingAndOL.shape)"
   ]
  },
  {
   "cell_type": "markdown",
   "metadata": {},
   "source": [
    "# Outlier analysis indicates presence of few clusters\n",
    "* Removing outliers s not good idea.\n",
    "* Let's see if removing high influential points help"
   ]
  },
  {
   "cell_type": "code",
   "execution_count": 129,
   "metadata": {
    "collapsed": false
   },
   "outputs": [
    {
     "name": "stdout",
     "output_type": "stream",
     "text": [
      "1.05553116266e+14 [-77.33614064 -19.86520365 -10.91591656]\n"
     ]
    },
    {
     "name": "stderr",
     "output_type": "stream",
     "text": [
      "/home/tivo/anaconda3/lib/python3.5/site-packages/ipykernel/__main__.py:2: FutureWarning: sort(columns=....) is deprecated, use sort_values(by=.....)\n",
      "  from ipykernel import kernelapp as app\n",
      "/home/tivo/anaconda3/lib/python3.5/site-packages/ipykernel/__main__.py:3: FutureWarning: sort(columns=....) is deprecated, use sort_values(by=.....)\n",
      "  app.launch_new_instance()\n"
     ]
    }
   ],
   "source": [
    "# GEt highest value\n",
    "_a = CustomerDataTemp.sort(['Discount'],ascending=False)['Discount'].head(1).values[0]\n",
    "_b = CustomerDataTemp.sort(['Discount'],ascending=True)['Discount'].head(3).values\n",
    "# Remove it : it is too high\n",
    "print (_a,_b)\n",
    "CustomerDataTemp = CustomerDataTemp[CustomerDataTemp['Discount'] != _a]\n",
    "CustomerDataTemp = CustomerDataTemp[-CustomerDataTemp['Discount'].isin(_b)]"
   ]
  },
  {
   "cell_type": "code",
   "execution_count": 130,
   "metadata": {
    "collapsed": true
   },
   "outputs": [],
   "source": [
    "%matplotlib inline"
   ]
  },
  {
   "cell_type": "code",
   "execution_count": 131,
   "metadata": {
    "collapsed": false,
    "scrolled": true
   },
   "outputs": [
    {
     "name": "stdout",
     "output_type": "stream",
     "text": [
      "count    40188.000000\n",
      "mean         0.154828\n",
      "std          0.107997\n",
      "min         -4.800000\n",
      "25%          0.100003\n",
      "50%          0.140002\n",
      "75%          0.207744\n",
      "max          6.400000\n",
      "Name: Discount, dtype: float64\n"
     ]
    },
    {
     "data": {
      "text/plain": [
       "[<matplotlib.lines.Line2D at 0x7f94fb12e0f0>]"
      ]
     },
     "execution_count": 131,
     "metadata": {},
     "output_type": "execute_result"
    },
    {
     "data": {
      "image/png": "[encoded data removed]",
      "text/plain": [
       "<matplotlib.figure.Figure at 0x7f94fbbe15f8>"
      ]
     },
     "metadata": {},
     "output_type": "display_data"
    }
   ],
   "source": [
    "print (CustomerDataTemp['Discount'].describe())\n",
    "#plt.plot(CustomerDataTemp['Discount'])\n",
    "plt.plot(CustomerDataTemp['Discount'])"
   ]
  },
  {
   "cell_type": "code",
   "execution_count": 134,
   "metadata": {
    "collapsed": false
   },
   "outputs": [
    {
     "data": {
      "text/plain": [
       "<matplotlib.legend.Legend at 0x7f94fb1674e0>"
      ]
     },
     "execution_count": 134,
     "metadata": {},
     "output_type": "execute_result"
    },
    {
     "data": {
      "image/png": "[encoded data removed]",
      "text/plain": [
       "<matplotlib.figure.Figure at 0x7f94fb15ad30>"
      ]
     },
     "metadata": {},
     "output_type": "display_data"
    }
   ],
   "source": []
  },
  {
   "cell_type": "code",
   "execution_count": 151,
   "metadata": {
    "collapsed": false
   },
   "outputs": [
    {
     "data": {
      "image/png": "[encoded data removed]",
      "text/plain": [
       "<matplotlib.figure.Figure at 0x7f94fb252240>"
      ]
     },
     "metadata": {},
     "output_type": "display_data"
    },
    {
     "data": {
      "image/png": "[encoded data removed]",
      "text/plain": [
       "<matplotlib.figure.Figure at 0x7f94fbf98908>"
      ]
     },
     "metadata": {},
     "output_type": "display_data"
    }
   ],
   "source": [
    "plt_legend = []\n",
    "colormap='rgbc'\n",
    "for index,val in enumerate(CustomerDataTemp['product category '].unique()):\n",
    "    plt.plot(CustomerDataTemp[CustomerDataTemp['product category '] == val]['Discount'], color=colormap[index])\n",
    "    plt_legend.append(val)\n",
    "    \n",
    "plt.legend(plt_legend)\n",
    "\n",
    "f,((ax1,ax2),(ax3,ax4))=plt.subplots(2,2,figsize=(20, 10))\n",
    "axis = [ax1, ax2, ax3, ax4]\n",
    "prodCategoryDescribe = pd.DataFrame(columns=['Product Category','min','max','mean','count'])\n",
    "for index,val in enumerate(CustomerDataTemp['product category '].unique()):\n",
    "    #print (index,val)\n",
    "    prodCategory = CustomerDataTemp[CustomerDataTemp['product category '] == val]['Discount']\n",
    "    axis[index].plot(prodCategory, color=colormap[index])\n",
    "    axis[index].set_title(val)\n",
    "    _prodDes = prodCategory.describe()\n",
    "    prodCategoryDescribe.loc[index] = [val,_prodDes['min'], _prodDes['max'],_prodDes['mean'],_prodDes['count']]"
   ]
  },
  {
   "cell_type": "code",
   "execution_count": 152,
   "metadata": {
    "collapsed": false
   },
   "outputs": [
    {
     "data": {
      "text/html": [
       "<div>\n",
       "<table border=\"1\" class=\"dataframe\">\n",
       "  <thead>\n",
       "    <tr style=\"text-align: right;\">\n",
       "      <th></th>\n",
       "      <th>Product Category</th>\n",
       "      <th>min</th>\n",
       "      <th>max</th>\n",
       "      <th>mean</th>\n",
       "      <th>count</th>\n",
       "    </tr>\n",
       "  </thead>\n",
       "  <tbody>\n",
       "    <tr>\n",
       "      <th>0</th>\n",
       "      <td>XYZ 11</td>\n",
       "      <td>-2.699969</td>\n",
       "      <td>1.796064</td>\n",
       "      <td>0.109671</td>\n",
       "      <td>11185.0</td>\n",
       "    </tr>\n",
       "    <tr>\n",
       "      <th>1</th>\n",
       "      <td>XYZ Others</td>\n",
       "      <td>-4.800000</td>\n",
       "      <td>0.854450</td>\n",
       "      <td>0.196056</td>\n",
       "      <td>13406.0</td>\n",
       "    </tr>\n",
       "    <tr>\n",
       "      <th>2</th>\n",
       "      <td>XYZ 22</td>\n",
       "      <td>-1.749969</td>\n",
       "      <td>6.400000</td>\n",
       "      <td>0.162654</td>\n",
       "      <td>9726.0</td>\n",
       "    </tr>\n",
       "    <tr>\n",
       "      <th>3</th>\n",
       "      <td>Client Others</td>\n",
       "      <td>-3.019996</td>\n",
       "      <td>0.749469</td>\n",
       "      <td>0.133754</td>\n",
       "      <td>5871.0</td>\n",
       "    </tr>\n",
       "  </tbody>\n",
       "</table>\n",
       "</div>"
      ],
      "text/plain": [
       "  Product Category       min       max      mean    count\n",
       "0           XYZ 11 -2.699969  1.796064  0.109671  11185.0\n",
       "1       XYZ Others -4.800000  0.854450  0.196056  13406.0\n",
       "2           XYZ 22 -1.749969  6.400000  0.162654   9726.0\n",
       "3    Client Others -3.019996  0.749469  0.133754   5871.0"
      ]
     },
     "execution_count": 152,
     "metadata": {},
     "output_type": "execute_result"
    }
   ],
   "source": [
    "prodCategoryDescribe"
   ]
  },
  {
   "cell_type": "code",
   "execution_count": 85,
   "metadata": {
    "collapsed": false
   },
   "outputs": [
    {
     "name": "stdout",
     "output_type": "stream",
     "text": [
      "          order qty      Discount   list margin  List revenue   cost price   \\\n",
      "count  39346.000000  39346.000000  39346.000000  39346.000000  39346.000000   \n",
      "mean       2.885528      0.152529      0.307098     57.074662    193.240487   \n",
      "std        5.422813      0.083776      0.087967     74.636439    299.410689   \n",
      "min        1.000000     -0.060217     -1.579661      0.000000      0.000000   \n",
      "25%        1.000000      0.100002      0.226201     11.600000     37.495000   \n",
      "50%        1.000000      0.139989      0.331141     41.295000    102.495000   \n",
      "75%        2.000000      0.201038      0.378899     73.220000    242.495000   \n",
      "max      115.000000      0.369323      1.100000    929.525000   4004.995000   \n",
      "\n",
      "       selling price     cmp price  \n",
      "count   39346.000000  39346.000000  \n",
      "mean      213.372959      0.072797  \n",
      "std       340.697913      0.220393  \n",
      "min         0.000000      0.000000  \n",
      "25%         0.000000      0.000000  \n",
      "50%       130.400000      0.000000  \n",
      "75%       267.360000      0.000000  \n",
      "max      4830.210000      1.080000  \n"
     ]
    },
    {
     "data": {
      "text/plain": [
       "[<matplotlib.lines.Line2D at 0x7f94fc03b3c8>]"
      ]
     },
     "execution_count": 85,
     "metadata": {},
     "output_type": "execute_result"
    },
    {
     "data": {
      "image/png": "[encoded data removed]",
      "text/plain": [
       "<matplotlib.figure.Figure at 0x7f94fb156400>"
      ]
     },
     "metadata": {},
     "output_type": "display_data"
    }
   ],
   "source": [
    "print (CustomerDataRemovedMissingAndOL.describe())\n",
    "plt.plot(CustomerDataRemovedMissingAndOL['Discount'])"
   ]
  },
  {
   "cell_type": "code",
   "execution_count": 74,
   "metadata": {
    "collapsed": false
   },
   "outputs": [
    {
     "data": {
      "text/plain": [
       "{'boxes': [<matplotlib.lines.Line2D at 0x7f94fab5c2b0>],\n",
       " 'caps': [<matplotlib.lines.Line2D at 0x7f94fab3bcc0>,\n",
       "  <matplotlib.lines.Line2D at 0x7f94fab3bdd8>],\n",
       " 'fliers': [<matplotlib.lines.Line2D at 0x7f94fb0f9e48>],\n",
       " 'means': [],\n",
       " 'medians': [<matplotlib.lines.Line2D at 0x7f94fb0f9630>],\n",
       " 'whiskers': [<matplotlib.lines.Line2D at 0x7f94fab5cc50>,\n",
       "  <matplotlib.lines.Line2D at 0x7f94fab5cd68>]}"
      ]
     },
     "execution_count": 74,
     "metadata": {},
     "output_type": "execute_result"
    },
    {
     "data": {
      "image/png": "[encoded data removed]",
      "text/plain": [
       "<matplotlib.figure.Figure at 0x7f94fb018ba8>"
      ]
     },
     "metadata": {},
     "output_type": "display_data"
    }
   ],
   "source": [
    "plt.boxplot(CustomerDataRemovedMissingAndOL['Discount'])"
   ]
  },
  {
   "cell_type": "code",
   "execution_count": 75,
   "metadata": {
    "collapsed": true
   },
   "outputs": [],
   "source": [
    "import numpy as np\n",
    "from scipy import cluster\n",
    "from matplotlib import pyplot"
   ]
  },
  {
   "cell_type": "code",
   "execution_count": 84,
   "metadata": {
    "collapsed": false
   },
   "outputs": [
    {
     "name": "stdout",
     "output_type": "stream",
     "text": [
      "        month  LOB patner type product category  Sale type deal size  \\\n",
      "590  2015-M10  CSB           V     Client Others       POS     Small   \n",
      "591  2015-M11  CSB           D     Client Others      APOS     Small   \n",
      "592  2015-M11  CSB           D     Client Others       POS       big   \n",
      "593  2015-M11  CSB           V     Client Others      APOS     Small   \n",
      "594  2015-M12  CSB           V     Client Others      APOS     Small   \n",
      "\n",
      "     order qty  Discount  list margin  List revenue  cost price   \\\n",
      "590          1  0.150030     0.348266          0.00        0.000   \n",
      "591          1 -0.070298     0.311406         53.81      139.995   \n",
      "592          2  0.175311     0.302105         56.43      139.995   \n",
      "593          2 -0.088604     0.300882         53.81      139.995   \n",
      "594          1  0.000012     0.285113         56.43      139.995   \n",
      "\n",
      "     selling price  cmp price  \n",
      "590          0.000        0.0  \n",
      "591        228.645        0.0  \n",
      "592        228.645        0.0  \n",
      "593        228.645        0.0  \n",
      "594        228.645        0.0  \n",
      "      month  LOB patner type product category  Sale type deal size  order qty  \\\n",
      "0  2015-M10  CSB           V            XYZ 11      APOS     Small          1   \n",
      "1  2015-M10  CSB           V            XYZ 11      APOS     Small          1   \n",
      "2  2015-M10  CSB           V            XYZ 11      APOS     Small          1   \n",
      "3  2015-M10  CSB           V            XYZ 11       POS     Small          1   \n",
      "4  2015-M10  CSB           V            XYZ 11       POS     Small          1   \n",
      "\n",
      "   Discount  list margin  List revenue  cost price   selling price  cmp price  \n",
      "0  0.140000     0.285679          0.00        0.000            0.0        0.0  \n",
      "1  0.125005     0.186930         56.04      102.495          173.2        0.0  \n",
      "2  0.075005     0.184192          0.00        0.000            0.0        0.0  \n",
      "3  0.000000     0.183198         30.09       47.495           63.0        0.0  \n",
      "4  0.000000     0.171554          0.00        0.000            0.0        0.0  \n",
      "       month  LOB patner type product category  Sale type deal size  \\\n",
      "17  2015-M10  CSB           V            XYZ 22      APOS     Small   \n",
      "18  2015-M10  CSB           V            XYZ 22       POS     Small   \n",
      "19  2015-M10  CSB           V            XYZ 22      APOS     Small   \n",
      "20  2015-M10  CSB           V            XYZ 22      APOS     Small   \n",
      "21  2015-M10  CSB           V            XYZ 22      APOS     Small   \n",
      "\n",
      "    order qty  Discount  list margin  List revenue  cost price   \\\n",
      "17          2  0.083336     0.301320        58.700      144.995   \n",
      "18          1  0.210007     0.301320        58.700      144.995   \n",
      "19          4  0.124270     0.316172        41.585      114.995   \n",
      "20          1  0.150003     0.384701        61.465      264.995   \n",
      "21          1  0.140006     0.253788         0.000        0.000   \n",
      "\n",
      "    selling price  cmp price  \n",
      "17         164.50        0.0  \n",
      "18         164.50        0.0  \n",
      "19         149.52        0.0  \n",
      "20         289.50        0.0  \n",
      "21           0.00        0.0  \n",
      "       month  LOB patner type product category  Sale type deal size  \\\n",
      "11  2015-M10  CSB           V        XYZ Others      APOS     Small   \n",
      "12  2015-M10  CSB           V        XYZ Others      APOS     Small   \n",
      "13  2015-M10  CSB           V        XYZ Others      APOS     Small   \n",
      "14  2015-M10  CSB           V        XYZ Others      APOS     Small   \n",
      "15  2015-M10  CSB           V        XYZ Others      APOS     Small   \n",
      "\n",
      "    order qty  Discount  list margin  List revenue  cost price   \\\n",
      "11          1  0.100002     0.339599        75.895      249.995   \n",
      "12          1  0.125008     0.378899         0.000        0.000   \n",
      "13          1  0.125002     0.423715         0.000        0.000   \n",
      "14          1  0.125004     0.417634         0.000        0.000   \n",
      "15          1  0.100005     0.372473         0.000        0.000   \n",
      "\n",
      "    selling price  cmp price  \n",
      "11          249.5       0.94  \n",
      "12            0.0       0.00  \n",
      "13            0.0       0.00  \n",
      "14            0.0       0.00  \n",
      "15            0.0       0.00  \n"
     ]
    },
    {
     "name": "stderr",
     "output_type": "stream",
     "text": [
      "/home/tivo/anaconda3/lib/python3.5/site-packages/matplotlib/axes/_axes.py:519: UserWarning: No labelled objects found. Use label='...' kwarg on individual plots.\n",
      "  warnings.warn(\"No labelled objects found. \"\n"
     ]
    },
    {
     "data": {
      "image/png": "[encoded data removed]",
      "text/plain": [
       "<matplotlib.figure.Figure at 0x7f94fb222160>"
      ]
     },
     "metadata": {},
     "output_type": "display_data"
    }
   ],
   "source": [
    "\n",
    "groups = CustomerDataTemp.groupby('product category ')\n",
    "\n",
    "# Plot\n",
    "fig, ax = plt.subplots()\n",
    "#print (groups.head())\n",
    "ax.margins(0.05) # Optional, just adds 5% padding to the autoscaling\n",
    "for name, group in groups:\n",
    "    print (group.head(5))\n",
    "    #ax.plot(group['patner type'], group['Discount'], marker='o', linestyle='', ms=12, label=name)\n",
    "ax.legend()\n",
    "\n",
    "plt.show()\n",
    "#plt.scatter(CustomerDataTemp['Discount'])"
   ]
  },
  {
   "cell_type": "code",
   "execution_count": null,
   "metadata": {
    "collapsed": true
   },
   "outputs": [],
   "source": []
  }
 ],
 "metadata": {
  "kernelspec": {
   "display_name": "Python 2",
   "language": "python",
   "name": "python2"
  },
  "language_info": {
   "codemirror_mode": {
    "name": "ipython",
    "version": 2
   },
   "file_extension": ".py",
   "mimetype": "text/x-python",
   "name": "python",
   "nbconvert_exporter": "python",
   "pygments_lexer": "ipython2",
   "version": "2.7.11"
  }
 },
 "nbformat": 4,
 "nbformat_minor": 0
}
