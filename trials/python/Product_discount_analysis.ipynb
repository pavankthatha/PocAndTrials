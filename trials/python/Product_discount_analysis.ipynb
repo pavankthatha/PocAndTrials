{
 "cells": [
  {
   "cell_type": "code",
   "execution_count": 1,
   "metadata": {
    "collapsed": true
   },
   "outputs": [],
   "source": [
    "import pandas as pd\n",
    "import statsmodels as st\n",
    "import matplotlib.pyplot as plt\n",
    "import numpy as np\n",
    "%matplotlib inline"
   ]
  },
  {
   "cell_type": "code",
   "execution_count": 2,
   "metadata": {
    "collapsed": false
   },
   "outputs": [],
   "source": [
    "CustomerData = pd.read_excel('datasets/test3.xlsx')"
   ]
  },
  {
   "cell_type": "code",
   "execution_count": 56,
   "metadata": {
    "collapsed": false
   },
   "outputs": [
    {
     "data": {
      "text/html": [
       "<div>\n",
       "<table border=\"1\" class=\"dataframe\">\n",
       "  <thead>\n",
       "    <tr style=\"text-align: right;\">\n",
       "      <th></th>\n",
       "      <th>month</th>\n",
       "      <th>LOB</th>\n",
       "      <th>patner type</th>\n",
       "      <th>product category</th>\n",
       "      <th>Sale type</th>\n",
       "      <th>deal size</th>\n",
       "      <th>order qty</th>\n",
       "      <th>Discount</th>\n",
       "      <th>list margin</th>\n",
       "      <th>List revenue</th>\n",
       "      <th>cost price</th>\n",
       "      <th>selling price</th>\n",
       "      <th>cmp price</th>\n",
       "    </tr>\n",
       "  </thead>\n",
       "  <tbody>\n",
       "    <tr>\n",
       "      <th>0</th>\n",
       "      <td>2015-M10</td>\n",
       "      <td>CSB</td>\n",
       "      <td>V</td>\n",
       "      <td>XYZ 11</td>\n",
       "      <td>APOS</td>\n",
       "      <td>Small</td>\n",
       "      <td>1</td>\n",
       "      <td>0.140000</td>\n",
       "      <td>0.285679</td>\n",
       "      <td>0.00</td>\n",
       "      <td>0.000</td>\n",
       "      <td>0.0</td>\n",
       "      <td>0</td>\n",
       "    </tr>\n",
       "    <tr>\n",
       "      <th>1</th>\n",
       "      <td>2015-M10</td>\n",
       "      <td>CSB</td>\n",
       "      <td>V</td>\n",
       "      <td>XYZ 11</td>\n",
       "      <td>APOS</td>\n",
       "      <td>Small</td>\n",
       "      <td>1</td>\n",
       "      <td>0.125005</td>\n",
       "      <td>0.186930</td>\n",
       "      <td>56.04</td>\n",
       "      <td>102.495</td>\n",
       "      <td>173.2</td>\n",
       "      <td>0</td>\n",
       "    </tr>\n",
       "    <tr>\n",
       "      <th>2</th>\n",
       "      <td>2015-M10</td>\n",
       "      <td>CSB</td>\n",
       "      <td>V</td>\n",
       "      <td>XYZ 11</td>\n",
       "      <td>APOS</td>\n",
       "      <td>Small</td>\n",
       "      <td>1</td>\n",
       "      <td>0.075005</td>\n",
       "      <td>0.184192</td>\n",
       "      <td>0.00</td>\n",
       "      <td>0.000</td>\n",
       "      <td>0.0</td>\n",
       "      <td>0</td>\n",
       "    </tr>\n",
       "    <tr>\n",
       "      <th>3</th>\n",
       "      <td>2015-M10</td>\n",
       "      <td>CSB</td>\n",
       "      <td>V</td>\n",
       "      <td>XYZ 11</td>\n",
       "      <td>POS</td>\n",
       "      <td>Small</td>\n",
       "      <td>1</td>\n",
       "      <td>0.000000</td>\n",
       "      <td>0.183198</td>\n",
       "      <td>30.09</td>\n",
       "      <td>47.495</td>\n",
       "      <td>63.0</td>\n",
       "      <td>0</td>\n",
       "    </tr>\n",
       "    <tr>\n",
       "      <th>4</th>\n",
       "      <td>2015-M10</td>\n",
       "      <td>CSB</td>\n",
       "      <td>V</td>\n",
       "      <td>XYZ 11</td>\n",
       "      <td>POS</td>\n",
       "      <td>Small</td>\n",
       "      <td>1</td>\n",
       "      <td>0.000000</td>\n",
       "      <td>0.171554</td>\n",
       "      <td>0.00</td>\n",
       "      <td>0.000</td>\n",
       "      <td>0.0</td>\n",
       "      <td>0</td>\n",
       "    </tr>\n",
       "  </tbody>\n",
       "</table>\n",
       "</div>"
      ],
      "text/plain": [
       "      month  LOB patner type product category  Sale type deal size  order qty  \\\n",
       "0  2015-M10  CSB           V            XYZ 11      APOS     Small          1   \n",
       "1  2015-M10  CSB           V            XYZ 11      APOS     Small          1   \n",
       "2  2015-M10  CSB           V            XYZ 11      APOS     Small          1   \n",
       "3  2015-M10  CSB           V            XYZ 11       POS     Small          1   \n",
       "4  2015-M10  CSB           V            XYZ 11       POS     Small          1   \n",
       "\n",
       "   Discount  list margin  List revenue  cost price   selling price  cmp price  \n",
       "0  0.140000     0.285679          0.00        0.000            0.0          0  \n",
       "1  0.125005     0.186930         56.04      102.495          173.2          0  \n",
       "2  0.075005     0.184192          0.00        0.000            0.0          0  \n",
       "3  0.000000     0.183198         30.09       47.495           63.0          0  \n",
       "4  0.000000     0.171554          0.00        0.000            0.0          0  "
      ]
     },
     "execution_count": 56,
     "metadata": {},
     "output_type": "execute_result"
    }
   ],
   "source": [
    "CustomerData.head()"
   ]
  },
  {
   "cell_type": "code",
   "execution_count": 57,
   "metadata": {
    "collapsed": false
   },
   "outputs": [
    {
     "data": {
      "text/html": [
       "<div>\n",
       "<table border=\"1\" class=\"dataframe\">\n",
       "  <thead>\n",
       "    <tr style=\"text-align: right;\">\n",
       "      <th></th>\n",
       "      <th>order qty</th>\n",
       "      <th>Discount</th>\n",
       "      <th>list margin</th>\n",
       "      <th>List revenue</th>\n",
       "      <th>cost price</th>\n",
       "      <th>selling price</th>\n",
       "      <th>cmp price</th>\n",
       "    </tr>\n",
       "  </thead>\n",
       "  <tbody>\n",
       "    <tr>\n",
       "      <th>count</th>\n",
       "      <td>40204.000000</td>\n",
       "      <td>4.019200e+04</td>\n",
       "      <td>4.019200e+04</td>\n",
       "      <td>40204.000000</td>\n",
       "      <td>40204.000000</td>\n",
       "      <td>40204.000000</td>\n",
       "      <td>40204.000000</td>\n",
       "    </tr>\n",
       "    <tr>\n",
       "      <th>mean</th>\n",
       "      <td>2.864839</td>\n",
       "      <td>2.626222e+09</td>\n",
       "      <td>2.976385e+09</td>\n",
       "      <td>56.822743</td>\n",
       "      <td>193.508829</td>\n",
       "      <td>212.947811</td>\n",
       "      <td>0.074947</td>\n",
       "    </tr>\n",
       "    <tr>\n",
       "      <th>std</th>\n",
       "      <td>5.379440</td>\n",
       "      <td>5.265035e+11</td>\n",
       "      <td>5.967040e+11</td>\n",
       "      <td>74.338355</td>\n",
       "      <td>298.988724</td>\n",
       "      <td>339.290674</td>\n",
       "      <td>0.222483</td>\n",
       "    </tr>\n",
       "    <tr>\n",
       "      <th>min</th>\n",
       "      <td>1.000000</td>\n",
       "      <td>-7.733614e+01</td>\n",
       "      <td>-3.588307e+00</td>\n",
       "      <td>0.000000</td>\n",
       "      <td>0.000000</td>\n",
       "      <td>0.000000</td>\n",
       "      <td>0.000000</td>\n",
       "    </tr>\n",
       "    <tr>\n",
       "      <th>25%</th>\n",
       "      <td>1.000000</td>\n",
       "      <td>1.000025e-01</td>\n",
       "      <td>2.280285e-01</td>\n",
       "      <td>11.600000</td>\n",
       "      <td>37.495000</td>\n",
       "      <td>0.000000</td>\n",
       "      <td>0.000000</td>\n",
       "    </tr>\n",
       "    <tr>\n",
       "      <th>50%</th>\n",
       "      <td>1.000000</td>\n",
       "      <td>1.400020e-01</td>\n",
       "      <td>3.321395e-01</td>\n",
       "      <td>41.295000</td>\n",
       "      <td>102.495000</td>\n",
       "      <td>130.400000</td>\n",
       "      <td>0.000000</td>\n",
       "    </tr>\n",
       "    <tr>\n",
       "      <th>75%</th>\n",
       "      <td>2.000000</td>\n",
       "      <td>2.077442e-01</td>\n",
       "      <td>3.799081e-01</td>\n",
       "      <td>73.220000</td>\n",
       "      <td>242.495000</td>\n",
       "      <td>267.360000</td>\n",
       "      <td>0.000000</td>\n",
       "    </tr>\n",
       "    <tr>\n",
       "      <th>max</th>\n",
       "      <td>115.000000</td>\n",
       "      <td>1.055531e+14</td>\n",
       "      <td>1.196269e+14</td>\n",
       "      <td>929.525000</td>\n",
       "      <td>4004.995000</td>\n",
       "      <td>4830.210000</td>\n",
       "      <td>1.080000</td>\n",
       "    </tr>\n",
       "  </tbody>\n",
       "</table>\n",
       "</div>"
      ],
      "text/plain": [
       "          order qty      Discount   list margin  List revenue   cost price   \\\n",
       "count  40204.000000  4.019200e+04  4.019200e+04  40204.000000  40204.000000   \n",
       "mean       2.864839  2.626222e+09  2.976385e+09     56.822743    193.508829   \n",
       "std        5.379440  5.265035e+11  5.967040e+11     74.338355    298.988724   \n",
       "min        1.000000 -7.733614e+01 -3.588307e+00      0.000000      0.000000   \n",
       "25%        1.000000  1.000025e-01  2.280285e-01     11.600000     37.495000   \n",
       "50%        1.000000  1.400020e-01  3.321395e-01     41.295000    102.495000   \n",
       "75%        2.000000  2.077442e-01  3.799081e-01     73.220000    242.495000   \n",
       "max      115.000000  1.055531e+14  1.196269e+14    929.525000   4004.995000   \n",
       "\n",
       "       selling price     cmp price  \n",
       "count   40204.000000  40204.000000  \n",
       "mean      212.947811      0.074947  \n",
       "std       339.290674      0.222483  \n",
       "min         0.000000      0.000000  \n",
       "25%         0.000000      0.000000  \n",
       "50%       130.400000      0.000000  \n",
       "75%       267.360000      0.000000  \n",
       "max      4830.210000      1.080000  "
      ]
     },
     "execution_count": 57,
     "metadata": {},
     "output_type": "execute_result"
    }
   ],
   "source": [
    "CustomerData.describe()"
   ]
  },
  {
   "cell_type": "code",
   "execution_count": 58,
   "metadata": {
    "collapsed": false
   },
   "outputs": [
    {
     "name": "stdout",
     "output_type": "stream",
     "text": [
      "<class 'pandas.core.frame.DataFrame'>\n",
      "Int64Index: 40204 entries, 0 to 40203\n",
      "Data columns (total 13 columns):\n",
      "month                40204 non-null object\n",
      "LOB                  40204 non-null object\n",
      "patner type          40204 non-null object\n",
      "product category     40204 non-null object\n",
      "Sale type            40204 non-null object\n",
      "deal size            40204 non-null object\n",
      "order qty            40204 non-null int64\n",
      "Discount             40192 non-null float64\n",
      "list margin          40192 non-null float64\n",
      "List revenue         40204 non-null float64\n",
      "cost price           40204 non-null float64\n",
      "selling price        40204 non-null float64\n",
      "cmp price            40204 non-null float64\n",
      "dtypes: float64(6), int64(1), object(6)\n",
      "memory usage: 4.3+ MB\n"
     ]
    }
   ],
   "source": [
    "CustomerData.info()"
   ]
  },
  {
   "cell_type": "code",
   "execution_count": 59,
   "metadata": {
    "collapsed": false
   },
   "outputs": [
    {
     "data": {
      "text/html": [
       "<div>\n",
       "<table border=\"1\" class=\"dataframe\">\n",
       "  <thead>\n",
       "    <tr style=\"text-align: right;\">\n",
       "      <th></th>\n",
       "      <th>order qty</th>\n",
       "      <th>Discount</th>\n",
       "      <th>list margin</th>\n",
       "      <th>List revenue</th>\n",
       "      <th>cost price</th>\n",
       "      <th>selling price</th>\n",
       "      <th>cmp price</th>\n",
       "    </tr>\n",
       "  </thead>\n",
       "  <tbody>\n",
       "    <tr>\n",
       "      <th>order qty</th>\n",
       "      <td>1.000000</td>\n",
       "      <td>-0.000802</td>\n",
       "      <td>-0.000802</td>\n",
       "      <td>-0.053086</td>\n",
       "      <td>-0.079325</td>\n",
       "      <td>-0.056973</td>\n",
       "      <td>-0.069551</td>\n",
       "    </tr>\n",
       "    <tr>\n",
       "      <th>Discount</th>\n",
       "      <td>-0.000802</td>\n",
       "      <td>1.000000</td>\n",
       "      <td>1.000000</td>\n",
       "      <td>-0.003814</td>\n",
       "      <td>-0.003229</td>\n",
       "      <td>-0.003132</td>\n",
       "      <td>-0.001680</td>\n",
       "    </tr>\n",
       "    <tr>\n",
       "      <th>list margin</th>\n",
       "      <td>-0.000802</td>\n",
       "      <td>1.000000</td>\n",
       "      <td>1.000000</td>\n",
       "      <td>-0.003814</td>\n",
       "      <td>-0.003229</td>\n",
       "      <td>-0.003132</td>\n",
       "      <td>-0.001680</td>\n",
       "    </tr>\n",
       "    <tr>\n",
       "      <th>List revenue</th>\n",
       "      <td>-0.053086</td>\n",
       "      <td>-0.003814</td>\n",
       "      <td>-0.003814</td>\n",
       "      <td>1.000000</td>\n",
       "      <td>0.947201</td>\n",
       "      <td>0.915462</td>\n",
       "      <td>0.120854</td>\n",
       "    </tr>\n",
       "    <tr>\n",
       "      <th>cost price</th>\n",
       "      <td>-0.079325</td>\n",
       "      <td>-0.003229</td>\n",
       "      <td>-0.003229</td>\n",
       "      <td>0.947201</td>\n",
       "      <td>1.000000</td>\n",
       "      <td>0.915316</td>\n",
       "      <td>0.241674</td>\n",
       "    </tr>\n",
       "    <tr>\n",
       "      <th>selling price</th>\n",
       "      <td>-0.056973</td>\n",
       "      <td>-0.003132</td>\n",
       "      <td>-0.003132</td>\n",
       "      <td>0.915462</td>\n",
       "      <td>0.915316</td>\n",
       "      <td>1.000000</td>\n",
       "      <td>0.152687</td>\n",
       "    </tr>\n",
       "    <tr>\n",
       "      <th>cmp price</th>\n",
       "      <td>-0.069551</td>\n",
       "      <td>-0.001680</td>\n",
       "      <td>-0.001680</td>\n",
       "      <td>0.120854</td>\n",
       "      <td>0.241674</td>\n",
       "      <td>0.152687</td>\n",
       "      <td>1.000000</td>\n",
       "    </tr>\n",
       "  </tbody>\n",
       "</table>\n",
       "</div>"
      ],
      "text/plain": [
       "               order qty  Discount  list margin  List revenue  cost price   \\\n",
       "order qty       1.000000 -0.000802    -0.000802     -0.053086    -0.079325   \n",
       "Discount       -0.000802  1.000000     1.000000     -0.003814    -0.003229   \n",
       "list margin    -0.000802  1.000000     1.000000     -0.003814    -0.003229   \n",
       "List revenue   -0.053086 -0.003814    -0.003814      1.000000     0.947201   \n",
       "cost price     -0.079325 -0.003229    -0.003229      0.947201     1.000000   \n",
       "selling price  -0.056973 -0.003132    -0.003132      0.915462     0.915316   \n",
       "cmp price      -0.069551 -0.001680    -0.001680      0.120854     0.241674   \n",
       "\n",
       "               selling price  cmp price  \n",
       "order qty          -0.056973  -0.069551  \n",
       "Discount           -0.003132  -0.001680  \n",
       "list margin        -0.003132  -0.001680  \n",
       "List revenue        0.915462   0.120854  \n",
       "cost price          0.915316   0.241674  \n",
       "selling price       1.000000   0.152687  \n",
       "cmp price           0.152687   1.000000  "
      ]
     },
     "execution_count": 59,
     "metadata": {},
     "output_type": "execute_result"
    }
   ],
   "source": [
    "CustomerData.corr()"
   ]
  },
  {
   "cell_type": "code",
   "execution_count": 60,
   "metadata": {
    "collapsed": false
   },
   "outputs": [
    {
     "data": {
      "text/plain": [
       "<matplotlib.image.AxesImage at 0xfdb7160>"
      ]
     },
     "execution_count": 60,
     "metadata": {},
     "output_type": "execute_result"
    },
    {
     "data": {
      "image/png": "[encoded data removed]",
      "text/plain": [
       "<matplotlib.figure.Figure at 0x48c105f8>"
      ]
     },
     "metadata": {},
     "output_type": "display_data"
    }
   ],
   "source": [
    "_corr = CustomerData.corr()\n",
    "plt.matshow(_corr)\n",
    "#plt.legend(_corr.columns)\n",
    "#plt.plot(CustomerData.corr())"
   ]
  },
  {
   "cell_type": "markdown",
   "metadata": {},
   "source": [
    "# As of now discount looks highly correlated only with 'list margin'\n",
    "#### But are there more trends/relations?\n",
    "* Let's treat missing values, outliers(if any), highly-influencing points if any.\n",
    "* After treat/cleaning data - let's see if there are more trends visible"
   ]
  },
  {
   "cell_type": "code",
   "execution_count": 76,
   "metadata": {
    "collapsed": false
   },
   "outputs": [
    {
     "name": "stdout",
     "output_type": "stream",
     "text": [
      "Missing values in Discount are: (12, 13)\n"
     ]
    }
   ],
   "source": [
    "# Remove missing values from Discount (they are very few)\n",
    "_tmp = CustomerData[(pd.isnull(CustomerData['Discount']) == True)].shape\n",
    "print (\"Missing values in Discount are: {}\".format(_tmp))\n",
    "CustomerDataNoMissing = CustomerData[pd.isnull(CustomerData['Discount']) == False]"
   ]
  },
  {
   "cell_type": "code",
   "execution_count": 77,
   "metadata": {
    "collapsed": false
   },
   "outputs": [
    {
     "name": "stdout",
     "output_type": "stream",
     "text": [
      "(0L,)\n",
      "(0L,)\n",
      "(0L,)\n",
      "(0L,)\n",
      "(0L,)\n",
      "(0L,)\n",
      "(0L,)\n",
      "(0L,)\n",
      "(0L,)\n",
      "(0L,)\n",
      "(0L,)\n",
      "(0L,)\n",
      "(0L,)\n"
     ]
    },
    {
     "data": {
      "text/plain": [
       "month                None\n",
       "LOB                  None\n",
       "patner type          None\n",
       "product category     None\n",
       "Sale type            None\n",
       "deal size            None\n",
       "order qty            None\n",
       "Discount             None\n",
       "list margin          None\n",
       "List revenue         None\n",
       "cost price           None\n",
       "selling price        None\n",
       "cmp price            None\n",
       "dtype: object"
      ]
     },
     "execution_count": 77,
     "metadata": {},
     "output_type": "execute_result"
    }
   ],
   "source": [
    "# Check another missing values too:\n",
    "def printmissingValues(x):\n",
    "    print(x[pd.isnull(x) == True].shape)\n",
    "CustomerDataNoMissing.apply(lambda x: printmissingValues(x), axis=0)"
   ]
  },
  {
   "cell_type": "code",
   "execution_count": 78,
   "metadata": {
    "collapsed": true
   },
   "outputs": [],
   "source": [
    "def getUpperAndLowerOutlierThreshold(data):\n",
    "    q75, q25 = np.percentile(data, [75 ,25])\n",
    "    iqr = q75 - q25\n",
    "    upperOutlier = q75 + iqr*1.5\n",
    "    lowerOutlier = q25 - iqr*1.5\n",
    "    return upperOutlier,lowerOutlier\n",
    "\n",
    "def removeOutliers(data,i):\n",
    "    _upperOutlier,_lowerOutlier = getUpperAndLowerOutlierThreshold(data[i])\n",
    "    return data[((data[i] < _upperOutlier) & (data[i] > _lowerOutlier ))]\n"
   ]
  },
  {
   "cell_type": "code",
   "execution_count": 79,
   "metadata": {
    "collapsed": true
   },
   "outputs": [],
   "source": [
    "# Let's select features\n",
    "categoricalFeatures = ['product category ', 'patner type',  'Sale type','deal size']\n",
    "numericfeatures = ['order qty', 'Discount']"
   ]
  },
  {
   "cell_type": "code",
   "execution_count": 80,
   "metadata": {
    "collapsed": true
   },
   "outputs": [],
   "source": [
    "CustomerDataTemp = CustomerDataNoMissing"
   ]
  },
  {
   "cell_type": "code",
   "execution_count": 81,
   "metadata": {
    "collapsed": false
   },
   "outputs": [
    {
     "name": "stdout",
     "output_type": "stream",
     "text": [
      "================================================================================\n",
      "(3.5, -0.5)\n",
      "order qty\n",
      "33330\n",
      "Total=40192  #Outlier=6862 Outliers=17 %\n",
      "()\n",
      "================================================================================\n",
      "(0.36935660122165215, -0.061609896064030278)\n",
      "Discount\n",
      "39346\n",
      "Total=40192  #Outlier=846 Outliers=2 %\n",
      "()\n",
      "(40192, 13)\n",
      "(39346, 13)\n"
     ]
    }
   ],
   "source": [
    "for i in numericfeatures:\n",
    "    upperOutlier,lowerOutlier = getUpperAndLowerOutlierThreshold(CustomerDataTemp[i])\n",
    "    print(\"=\"*80)\n",
    "    print (upperOutlier,lowerOutlier)\n",
    "    print (i)\n",
    "    \n",
    "    totalLen = CustomerDataTemp.shape[0]\n",
    "    afterRemovingOutliers = (CustomerDataTemp[((CustomerDataTemp[i] < upperOutlier) & \n",
    "                                           (CustomerDataTemp[i] > lowerOutlier ))].shape)[0]\n",
    "    print (afterRemovingOutliers)\n",
    "    percentageOfOutliers = ( ((totalLen - afterRemovingOutliers)*100) / totalLen)\n",
    "    print (\"Total={}  #Outlier={} Outliers={} %\".format(totalLen,totalLen - afterRemovingOutliers,percentageOfOutliers))\n",
    "    print ()\n",
    "    #Remove outliers\n",
    "\n",
    "\n",
    "print (CustomerDataTemp.shape)\n",
    "CustomerDataRemovedMissingAndOL = removeOutliers(CustomerDataTemp,'Discount')\n",
    "print (CustomerDataRemovedMissingAndOL.shape)"
   ]
  },
  {
   "cell_type": "markdown",
   "metadata": {},
   "source": [
    "* In Discount column, if we see:  upper and lower quartile value .36 and .06; and outliers are 2%. These outliers doesn't look like outliers, but indicates different segment of data.\n",
    "\n",
    "* Let's remove very few highly influencing points as of now and see more trends in data if visible\n",
    "\n",
    "# Outlier analysis by percentage indicates presence of few segmentation\n",
    "* Removing outliers s not good idea.\n",
    "* Let's see if removing high influential points help"
   ]
  },
  {
   "cell_type": "code",
   "execution_count": 66,
   "metadata": {
    "collapsed": false
   },
   "outputs": [
    {
     "name": "stdout",
     "output_type": "stream",
     "text": [
      "(20754    1.055531e+14\n",
      "24584    6.400000e+00\n",
      "954      3.857823e+00\n",
      "2461     1.796064e+00\n",
      "38687    9.166667e-01\n",
      "38038    8.544500e-01\n",
      "15273    8.214286e-01\n",
      "37651    7.883352e-01\n",
      "15484    7.500000e-01\n",
      "4122     7.494690e-01\n",
      "Name: Discount, dtype: float64, 34579   -77.336141\n",
      "27465   -19.865204\n",
      "35974   -10.915917\n",
      "15871    -4.800000\n",
      "13468    -3.019996\n",
      "33254    -2.729376\n",
      "11328    -2.699969\n",
      "36953    -2.031432\n",
      "9264     -1.749969\n",
      "30644    -1.553741\n",
      "Name: Discount, dtype: float64)\n"
     ]
    }
   ],
   "source": [
    "_a = CustomerDataTemp.sort_values(by=['Discount'],ascending=False)['Discount'].head(10)\n",
    "_b = CustomerDataTemp.sort_values(by=['Discount'],ascending=True)['Discount'].head(10)\n",
    "\n",
    "print (_a, _b)"
   ]
  },
  {
   "cell_type": "markdown",
   "metadata": {},
   "source": [
    "# Caution : Never remove high influential points just like that: have some decision background"
   ]
  },
  {
   "cell_type": "code",
   "execution_count": 82,
   "metadata": {
    "collapsed": false
   },
   "outputs": [],
   "source": [
    "## Let's remove few highly influencing points\n",
    "# Let's remove top 1 only.\n",
    "_a = CustomerDataTemp.sort_values(by=['Discount'],ascending=False)['Discount'].head(1).values\n",
    "#_b = CustomerDataTemp.sort_values(by=['Discount'],ascending=True)['Discount'].head(10).values\n",
    "# Remove it : it is too high\n",
    "#print (_a,_b)\n",
    "CustomerDataTemp = CustomerDataTemp[-CustomerDataTemp['Discount'].isin(_a)]\n",
    "#CustomerDataTemp = CustomerDataTemp[-CustomerDataTemp['Discount'].isin(_b)]\n",
    "\n"
   ]
  },
  {
   "cell_type": "code",
   "execution_count": 83,
   "metadata": {
    "collapsed": true
   },
   "outputs": [],
   "source": [
    "CustomerDataTemp.reset_index(drop=True,inplace=True)"
   ]
  },
  {
   "cell_type": "code",
   "execution_count": 84,
   "metadata": {
    "collapsed": false
   },
   "outputs": [
    {
     "data": {
      "text/html": [
       "<div>\n",
       "<table border=\"1\" class=\"dataframe\">\n",
       "  <thead>\n",
       "    <tr style=\"text-align: right;\">\n",
       "      <th></th>\n",
       "      <th>month</th>\n",
       "      <th>LOB</th>\n",
       "      <th>patner type</th>\n",
       "      <th>product category</th>\n",
       "      <th>Sale type</th>\n",
       "      <th>deal size</th>\n",
       "      <th>order qty</th>\n",
       "      <th>Discount</th>\n",
       "      <th>list margin</th>\n",
       "      <th>List revenue</th>\n",
       "      <th>cost price</th>\n",
       "      <th>selling price</th>\n",
       "      <th>cmp price</th>\n",
       "    </tr>\n",
       "  </thead>\n",
       "  <tbody>\n",
       "    <tr>\n",
       "      <th>0</th>\n",
       "      <td>2015-M10</td>\n",
       "      <td>CSB</td>\n",
       "      <td>V</td>\n",
       "      <td>XYZ 11</td>\n",
       "      <td>APOS</td>\n",
       "      <td>Small</td>\n",
       "      <td>1</td>\n",
       "      <td>0.140000</td>\n",
       "      <td>0.285679</td>\n",
       "      <td>0.00</td>\n",
       "      <td>0.000</td>\n",
       "      <td>0.0</td>\n",
       "      <td>0</td>\n",
       "    </tr>\n",
       "    <tr>\n",
       "      <th>1</th>\n",
       "      <td>2015-M10</td>\n",
       "      <td>CSB</td>\n",
       "      <td>V</td>\n",
       "      <td>XYZ 11</td>\n",
       "      <td>APOS</td>\n",
       "      <td>Small</td>\n",
       "      <td>1</td>\n",
       "      <td>0.125005</td>\n",
       "      <td>0.186930</td>\n",
       "      <td>56.04</td>\n",
       "      <td>102.495</td>\n",
       "      <td>173.2</td>\n",
       "      <td>0</td>\n",
       "    </tr>\n",
       "    <tr>\n",
       "      <th>2</th>\n",
       "      <td>2015-M10</td>\n",
       "      <td>CSB</td>\n",
       "      <td>V</td>\n",
       "      <td>XYZ 11</td>\n",
       "      <td>APOS</td>\n",
       "      <td>Small</td>\n",
       "      <td>1</td>\n",
       "      <td>0.075005</td>\n",
       "      <td>0.184192</td>\n",
       "      <td>0.00</td>\n",
       "      <td>0.000</td>\n",
       "      <td>0.0</td>\n",
       "      <td>0</td>\n",
       "    </tr>\n",
       "    <tr>\n",
       "      <th>3</th>\n",
       "      <td>2015-M10</td>\n",
       "      <td>CSB</td>\n",
       "      <td>V</td>\n",
       "      <td>XYZ 11</td>\n",
       "      <td>POS</td>\n",
       "      <td>Small</td>\n",
       "      <td>1</td>\n",
       "      <td>0.000000</td>\n",
       "      <td>0.183198</td>\n",
       "      <td>30.09</td>\n",
       "      <td>47.495</td>\n",
       "      <td>63.0</td>\n",
       "      <td>0</td>\n",
       "    </tr>\n",
       "    <tr>\n",
       "      <th>4</th>\n",
       "      <td>2015-M10</td>\n",
       "      <td>CSB</td>\n",
       "      <td>V</td>\n",
       "      <td>XYZ 11</td>\n",
       "      <td>POS</td>\n",
       "      <td>Small</td>\n",
       "      <td>1</td>\n",
       "      <td>0.000000</td>\n",
       "      <td>0.171554</td>\n",
       "      <td>0.00</td>\n",
       "      <td>0.000</td>\n",
       "      <td>0.0</td>\n",
       "      <td>0</td>\n",
       "    </tr>\n",
       "  </tbody>\n",
       "</table>\n",
       "</div>"
      ],
      "text/plain": [
       "      month  LOB patner type product category  Sale type deal size  order qty  \\\n",
       "0  2015-M10  CSB           V            XYZ 11      APOS     Small          1   \n",
       "1  2015-M10  CSB           V            XYZ 11      APOS     Small          1   \n",
       "2  2015-M10  CSB           V            XYZ 11      APOS     Small          1   \n",
       "3  2015-M10  CSB           V            XYZ 11       POS     Small          1   \n",
       "4  2015-M10  CSB           V            XYZ 11       POS     Small          1   \n",
       "\n",
       "   Discount  list margin  List revenue  cost price   selling price  cmp price  \n",
       "0  0.140000     0.285679          0.00        0.000            0.0          0  \n",
       "1  0.125005     0.186930         56.04      102.495          173.2          0  \n",
       "2  0.075005     0.184192          0.00        0.000            0.0          0  \n",
       "3  0.000000     0.183198         30.09       47.495           63.0          0  \n",
       "4  0.000000     0.171554          0.00        0.000            0.0          0  "
      ]
     },
     "execution_count": 84,
     "metadata": {},
     "output_type": "execute_result"
    }
   ],
   "source": [
    "CustomerDataTemp.head()"
   ]
  },
  {
   "cell_type": "code",
   "execution_count": 85,
   "metadata": {
    "collapsed": false
   },
   "outputs": [],
   "source": [
    "columns = CustomerDataTemp.columns.values.tolist() \n",
    "#columns.remove('month')\n",
    "#columns"
   ]
  },
  {
   "cell_type": "code",
   "execution_count": 86,
   "metadata": {
    "collapsed": false
   },
   "outputs": [
    {
     "data": {
      "text/plain": [
       "'\\nfor i in columns:\\n    print(\"Column: {}\".format(i))\\n    print(CustomerData[i].unique())\\n    print(\"*\"*80)\\n'"
      ]
     },
     "execution_count": 86,
     "metadata": {},
     "output_type": "execute_result"
    }
   ],
   "source": [
    "#CustomerData[columns].apply(lambda x: x.unique(),axis=1)\n",
    "'''\n",
    "for i in columns:\n",
    "    print(\"Column: {}\".format(i))\n",
    "    print(CustomerData[i].unique())\n",
    "    print(\"*\"*80)\n",
    "'''"
   ]
  },
  {
   "cell_type": "code",
   "execution_count": 87,
   "metadata": {
    "collapsed": false
   },
   "outputs": [],
   "source": [
    "#print (columns)\n",
    "#a= CustomerData.groupby('patner type')\n",
    "#a.corr()\n",
    "#a.head()"
   ]
  },
  {
   "cell_type": "code",
   "execution_count": 88,
   "metadata": {
    "collapsed": false
   },
   "outputs": [
    {
     "name": "stdout",
     "output_type": "stream",
     "text": [
      "              GroupBy         GroupBy Value  Corr b/w Discount n List-Margin\n",
      "0                 LOB                    LI                         0.314219\n",
      "1                 LOB         Uncategorized                         0.486983\n",
      "2                 LOB  PrefeSmalled Account                         1.000000\n",
      "3                 LOB                   CSB                         0.388722\n",
      "4         patner type                Direct                         0.218392\n",
      "5         patner type                     D                         0.559990\n",
      "6         patner type                     V                         1.000000\n",
      "7   product category             XYZ Others                         1.000000\n",
      "8   product category          Client Others                         0.210744\n",
      "9   product category                 XYZ 22                         0.191605\n",
      "10  product category                 XYZ 11                         0.549675\n",
      "11          Sale type                  APOS                         0.314887\n",
      "12          Sale type                   POS                         1.000000\n",
      "13          deal size                 Small                         0.346961\n",
      "14          deal size                   big                         1.000000\n",
      "15              month              2016-M09                         1.000000\n",
      "16              month              2016-M08                         0.434810\n",
      "17              month              2016-M05                         0.397186\n",
      "18              month              2016-M04                         0.308916\n",
      "19              month              2016-M07                         0.644528\n",
      "20              month              2016-M06                         0.263039\n",
      "21              month              2016-M01                         0.406041\n",
      "22              month              2016-M03                         0.195877\n",
      "23              month              2016-M02                         0.393452\n",
      "24              month              2015-M11                         0.425453\n",
      "25              month              2015-M10                         0.278940\n",
      "26              month              2015-M12                         0.350493\n",
      "27              month              2016-M10                         0.341117\n"
     ]
    }
   ],
   "source": [
    "\n",
    "#plt.matshow(a.corr())\n",
    "#b = a.corr()\n",
    "#b.columns\n",
    "\n",
    "corrInVarGroupByCases = pd.DataFrame(columns=[\"GroupBy\", \"GroupBy Value\", \"Corr b/w Discount n List-Margin\"])\n",
    "    \n",
    "columnsForGroupBy = ['LOB', 'patner type', 'product category ', 'Sale type', 'deal size', 'month']\n",
    "tableIndex=0\n",
    "for oindex,oval in enumerate(columnsForGroupBy):\n",
    "    #f,((ax1,ax2),(ax3,ax4))=plt.subplots(2,2,figsize=(10, 5))\n",
    "    #axis = [ax1, ax2, ax3, ax4]\n",
    "    columns_temp = columns\n",
    "    a= CustomerData.groupby(oval)\n",
    "    for index,val in enumerate(a.groups.keys()):\n",
    "        b=a.get_group(val)\n",
    "        #print(\"*\"*80)\n",
    "        #print (\"Correlation under group: {} and group-value : {}\".format(oval,val))\n",
    "        corrInVarGroupByCases.loc[tableIndex] = [oval,val,b.corr()['Discount']['list margin']]\n",
    "        tableIndex +=1\n",
    "        #b.apply(lambda x: printCorrWithDiscount(x), axis=0)\n",
    "        #axis[index].matshow(a.get_group(val).corr())\n",
    "        #axis[index].set_title(\"{} : {}\".format(oval,val))\n",
    "\n",
    "print (corrInVarGroupByCases)\n",
    "#pd.ExcelWriter(\"GroupByCorrMap.xlsx\",corrInVarGroupByCases)\n",
    "writer = pd.ExcelWriter('GroupByCorrMap.xlsx', engine='xlsxwriter')\n",
    "# Convert the dataframe to an XlsxWriter Excel object.\n",
    "corrInVarGroupByCases.to_excel(writer, sheet_name='Sheet1')\n",
    "\n",
    "# Close the Pandas Excel writer and output the Excel file.\n",
    "writer.save()"
   ]
  },
  {
   "cell_type": "markdown",
   "metadata": {},
   "source": [
    "# Few observations\n",
    "## Best discount categories\n",
    "* LOB : \"PrefeSmalled Account\"\n",
    "* product category: \"XYZ Others\"\n",
    "* Partner Type: \"V\" \n",
    "* Sale Type : \"POS\"\n",
    "* Deal size : \"Big\"\n",
    "* Month : Best : \"September\", second best : \"July\"\n",
    "* ** There might be time-series kind of discount strategy also: like special months september (around Thanks giving), July (Probably US \"School time\" or \"Independence day\" time); But to say it for sure; we need across years of data\n"
   ]
  },
  {
   "cell_type": "code",
   "execution_count": 97,
   "metadata": {
    "collapsed": false
   },
   "outputs": [
    {
     "data": {
      "text/html": [
       "<div>\n",
       "<table border=\"1\" class=\"dataframe\">\n",
       "  <thead>\n",
       "    <tr style=\"text-align: right;\">\n",
       "      <th></th>\n",
       "      <th>month</th>\n",
       "      <th>LOB</th>\n",
       "      <th>patner type</th>\n",
       "      <th>product category</th>\n",
       "      <th>Sale type</th>\n",
       "      <th>deal size</th>\n",
       "      <th>order qty</th>\n",
       "      <th>Discount</th>\n",
       "      <th>list margin</th>\n",
       "      <th>List revenue</th>\n",
       "      <th>cost price</th>\n",
       "      <th>selling price</th>\n",
       "      <th>cmp price</th>\n",
       "    </tr>\n",
       "  </thead>\n",
       "  <tbody>\n",
       "    <tr>\n",
       "      <th>24575</th>\n",
       "      <td>2016-M10</td>\n",
       "      <td>PrefeSmalled Account</td>\n",
       "      <td>Direct</td>\n",
       "      <td>XYZ 22</td>\n",
       "      <td>APOS</td>\n",
       "      <td>Small</td>\n",
       "      <td>2</td>\n",
       "      <td>6.400000</td>\n",
       "      <td>0.500000</td>\n",
       "      <td>323.395</td>\n",
       "      <td>1249.995</td>\n",
       "      <td>1504.045</td>\n",
       "      <td>0</td>\n",
       "    </tr>\n",
       "    <tr>\n",
       "      <th>953</th>\n",
       "      <td>2016-M06</td>\n",
       "      <td>CSB</td>\n",
       "      <td>Direct</td>\n",
       "      <td>XYZ 22</td>\n",
       "      <td>APOS</td>\n",
       "      <td>Small</td>\n",
       "      <td>2</td>\n",
       "      <td>3.857823</td>\n",
       "      <td>0.500000</td>\n",
       "      <td>81.115</td>\n",
       "      <td>424.995</td>\n",
       "      <td>471.265</td>\n",
       "      <td>0</td>\n",
       "    </tr>\n",
       "    <tr>\n",
       "      <th>2457</th>\n",
       "      <td>2016-M07</td>\n",
       "      <td>CSB</td>\n",
       "      <td>Direct</td>\n",
       "      <td>XYZ 11</td>\n",
       "      <td>APOS</td>\n",
       "      <td>Small</td>\n",
       "      <td>4</td>\n",
       "      <td>1.796064</td>\n",
       "      <td>0.842517</td>\n",
       "      <td>64.300</td>\n",
       "      <td>122.495</td>\n",
       "      <td>173.200</td>\n",
       "      <td>0</td>\n",
       "    </tr>\n",
       "    <tr>\n",
       "      <th>38674</th>\n",
       "      <td>2016-M08</td>\n",
       "      <td>Uncategorized</td>\n",
       "      <td>D</td>\n",
       "      <td>XYZ 11</td>\n",
       "      <td>POS</td>\n",
       "      <td>big</td>\n",
       "      <td>1</td>\n",
       "      <td>0.916667</td>\n",
       "      <td>0.750000</td>\n",
       "      <td>24.700</td>\n",
       "      <td>37.495</td>\n",
       "      <td>43.500</td>\n",
       "      <td>0</td>\n",
       "    </tr>\n",
       "    <tr>\n",
       "      <th>38025</th>\n",
       "      <td>2016-M04</td>\n",
       "      <td>Uncategorized</td>\n",
       "      <td>Direct</td>\n",
       "      <td>XYZ Others</td>\n",
       "      <td>APOS</td>\n",
       "      <td>Small</td>\n",
       "      <td>2</td>\n",
       "      <td>0.854450</td>\n",
       "      <td>0.504729</td>\n",
       "      <td>0.000</td>\n",
       "      <td>0.000</td>\n",
       "      <td>0.000</td>\n",
       "      <td>0</td>\n",
       "    </tr>\n",
       "    <tr>\n",
       "      <th>15266</th>\n",
       "      <td>2016-M01</td>\n",
       "      <td>LI</td>\n",
       "      <td>V</td>\n",
       "      <td>XYZ 11</td>\n",
       "      <td>POS</td>\n",
       "      <td>big</td>\n",
       "      <td>1</td>\n",
       "      <td>0.821429</td>\n",
       "      <td>0.857143</td>\n",
       "      <td>36.610</td>\n",
       "      <td>57.495</td>\n",
       "      <td>130.400</td>\n",
       "      <td>0</td>\n",
       "    </tr>\n",
       "    <tr>\n",
       "      <th>37638</th>\n",
       "      <td>2015-M11</td>\n",
       "      <td>Uncategorized</td>\n",
       "      <td>Direct</td>\n",
       "      <td>XYZ 11</td>\n",
       "      <td>APOS</td>\n",
       "      <td>big</td>\n",
       "      <td>2</td>\n",
       "      <td>0.788335</td>\n",
       "      <td>0.224959</td>\n",
       "      <td>64.300</td>\n",
       "      <td>122.495</td>\n",
       "      <td>173.200</td>\n",
       "      <td>0</td>\n",
       "    </tr>\n",
       "    <tr>\n",
       "      <th>15477</th>\n",
       "      <td>2016-M03</td>\n",
       "      <td>LI</td>\n",
       "      <td>Direct</td>\n",
       "      <td>XYZ 11</td>\n",
       "      <td>APOS</td>\n",
       "      <td>Small</td>\n",
       "      <td>3</td>\n",
       "      <td>0.750000</td>\n",
       "      <td>0.750000</td>\n",
       "      <td>30.090</td>\n",
       "      <td>47.495</td>\n",
       "      <td>63.000</td>\n",
       "      <td>0</td>\n",
       "    </tr>\n",
       "    <tr>\n",
       "      <th>4117</th>\n",
       "      <td>2015-M11</td>\n",
       "      <td>CSB</td>\n",
       "      <td>Direct</td>\n",
       "      <td>Client Others</td>\n",
       "      <td>APOS</td>\n",
       "      <td>Small</td>\n",
       "      <td>3</td>\n",
       "      <td>0.749469</td>\n",
       "      <td>0.500000</td>\n",
       "      <td>160.900</td>\n",
       "      <td>529.995</td>\n",
       "      <td>649.500</td>\n",
       "      <td>0</td>\n",
       "    </tr>\n",
       "    <tr>\n",
       "      <th>14789</th>\n",
       "      <td>2016-M03</td>\n",
       "      <td>LI</td>\n",
       "      <td>Direct</td>\n",
       "      <td>XYZ Others</td>\n",
       "      <td>POS</td>\n",
       "      <td>big</td>\n",
       "      <td>1</td>\n",
       "      <td>0.737805</td>\n",
       "      <td>0.506098</td>\n",
       "      <td>198.665</td>\n",
       "      <td>874.995</td>\n",
       "      <td>874.500</td>\n",
       "      <td>0</td>\n",
       "    </tr>\n",
       "  </tbody>\n",
       "</table>\n",
       "</div>"
      ],
      "text/plain": [
       "          month                   LOB patner type product category  Sale type  \\\n",
       "24575  2016-M10  PrefeSmalled Account      Direct            XYZ 22      APOS   \n",
       "953    2016-M06                   CSB      Direct            XYZ 22      APOS   \n",
       "2457   2016-M07                   CSB      Direct            XYZ 11      APOS   \n",
       "38674  2016-M08         Uncategorized           D            XYZ 11       POS   \n",
       "38025  2016-M04         Uncategorized      Direct        XYZ Others      APOS   \n",
       "15266  2016-M01                    LI           V            XYZ 11       POS   \n",
       "37638  2015-M11         Uncategorized      Direct            XYZ 11      APOS   \n",
       "15477  2016-M03                    LI      Direct            XYZ 11      APOS   \n",
       "4117   2015-M11                   CSB      Direct     Client Others      APOS   \n",
       "14789  2016-M03                    LI      Direct        XYZ Others       POS   \n",
       "\n",
       "      deal size  order qty  Discount  list margin  List revenue  cost price   \\\n",
       "24575     Small          2  6.400000     0.500000       323.395     1249.995   \n",
       "953       Small          2  3.857823     0.500000        81.115      424.995   \n",
       "2457      Small          4  1.796064     0.842517        64.300      122.495   \n",
       "38674       big          1  0.916667     0.750000        24.700       37.495   \n",
       "38025     Small          2  0.854450     0.504729         0.000        0.000   \n",
       "15266       big          1  0.821429     0.857143        36.610       57.495   \n",
       "37638       big          2  0.788335     0.224959        64.300      122.495   \n",
       "15477     Small          3  0.750000     0.750000        30.090       47.495   \n",
       "4117      Small          3  0.749469     0.500000       160.900      529.995   \n",
       "14789       big          1  0.737805     0.506098       198.665      874.995   \n",
       "\n",
       "       selling price  cmp price  \n",
       "24575       1504.045          0  \n",
       "953          471.265          0  \n",
       "2457         173.200          0  \n",
       "38674         43.500          0  \n",
       "38025          0.000          0  \n",
       "15266        130.400          0  \n",
       "37638        173.200          0  \n",
       "15477         63.000          0  \n",
       "4117         649.500          0  \n",
       "14789        874.500          0  "
      ]
     },
     "execution_count": 97,
     "metadata": {},
     "output_type": "execute_result"
    }
   ],
   "source": [
    "CustomerDataTemp.sort_values(by=['Discount'],ascending=False).head(10)\n",
    "\n"
   ]
  },
  {
   "cell_type": "code",
   "execution_count": 98,
   "metadata": {
    "collapsed": false
   },
   "outputs": [
    {
     "data": {
      "text/html": [
       "<div>\n",
       "<table border=\"1\" class=\"dataframe\">\n",
       "  <thead>\n",
       "    <tr style=\"text-align: right;\">\n",
       "      <th></th>\n",
       "      <th>month</th>\n",
       "      <th>LOB</th>\n",
       "      <th>patner type</th>\n",
       "      <th>product category</th>\n",
       "      <th>Sale type</th>\n",
       "      <th>deal size</th>\n",
       "      <th>order qty</th>\n",
       "      <th>Discount</th>\n",
       "      <th>list margin</th>\n",
       "      <th>List revenue</th>\n",
       "      <th>cost price</th>\n",
       "      <th>selling price</th>\n",
       "      <th>cmp price</th>\n",
       "    </tr>\n",
       "  </thead>\n",
       "  <tbody>\n",
       "    <tr>\n",
       "      <th>34566</th>\n",
       "      <td>2016-M07</td>\n",
       "      <td>Uncategorized</td>\n",
       "      <td>D</td>\n",
       "      <td>XYZ 11</td>\n",
       "      <td>APOS</td>\n",
       "      <td>big</td>\n",
       "      <td>2</td>\n",
       "      <td>-77.336141</td>\n",
       "      <td>-3.588307</td>\n",
       "      <td>35.555</td>\n",
       "      <td>57.500</td>\n",
       "      <td>77.165</td>\n",
       "      <td>0.0</td>\n",
       "    </tr>\n",
       "    <tr>\n",
       "      <th>27454</th>\n",
       "      <td>2016-M07</td>\n",
       "      <td>PrefeSmalled Account</td>\n",
       "      <td>Direct</td>\n",
       "      <td>XYZ Others</td>\n",
       "      <td>APOS</td>\n",
       "      <td>big</td>\n",
       "      <td>5</td>\n",
       "      <td>-19.865204</td>\n",
       "      <td>0.403716</td>\n",
       "      <td>94.185</td>\n",
       "      <td>499.995</td>\n",
       "      <td>0.000</td>\n",
       "      <td>0.0</td>\n",
       "    </tr>\n",
       "    <tr>\n",
       "      <th>35961</th>\n",
       "      <td>2016-M03</td>\n",
       "      <td>Uncategorized</td>\n",
       "      <td>D</td>\n",
       "      <td>XYZ 11</td>\n",
       "      <td>POS</td>\n",
       "      <td>big</td>\n",
       "      <td>5</td>\n",
       "      <td>-10.915917</td>\n",
       "      <td>0.165309</td>\n",
       "      <td>0.000</td>\n",
       "      <td>0.000</td>\n",
       "      <td>0.000</td>\n",
       "      <td>0.0</td>\n",
       "    </tr>\n",
       "    <tr>\n",
       "      <th>15864</th>\n",
       "      <td>2015-M10</td>\n",
       "      <td>PrefeSmalled Account</td>\n",
       "      <td>V</td>\n",
       "      <td>XYZ Others</td>\n",
       "      <td>POS</td>\n",
       "      <td>big</td>\n",
       "      <td>1</td>\n",
       "      <td>-4.800000</td>\n",
       "      <td>0.201290</td>\n",
       "      <td>0.000</td>\n",
       "      <td>0.000</td>\n",
       "      <td>0.000</td>\n",
       "      <td>0.0</td>\n",
       "    </tr>\n",
       "    <tr>\n",
       "      <th>13461</th>\n",
       "      <td>2016-M06</td>\n",
       "      <td>LI</td>\n",
       "      <td>Direct</td>\n",
       "      <td>Client Others</td>\n",
       "      <td>POS</td>\n",
       "      <td>Small</td>\n",
       "      <td>1</td>\n",
       "      <td>-3.019996</td>\n",
       "      <td>0.249127</td>\n",
       "      <td>0.000</td>\n",
       "      <td>0.000</td>\n",
       "      <td>0.000</td>\n",
       "      <td>0.0</td>\n",
       "    </tr>\n",
       "    <tr>\n",
       "      <th>33241</th>\n",
       "      <td>2016-M06</td>\n",
       "      <td>Uncategorized</td>\n",
       "      <td>Direct</td>\n",
       "      <td>XYZ Others</td>\n",
       "      <td>APOS</td>\n",
       "      <td>Small</td>\n",
       "      <td>5</td>\n",
       "      <td>-2.729376</td>\n",
       "      <td>0.500000</td>\n",
       "      <td>0.000</td>\n",
       "      <td>0.000</td>\n",
       "      <td>0.000</td>\n",
       "      <td>0.0</td>\n",
       "    </tr>\n",
       "    <tr>\n",
       "      <th>11322</th>\n",
       "      <td>2016-M03</td>\n",
       "      <td>LI</td>\n",
       "      <td>Direct</td>\n",
       "      <td>XYZ 11</td>\n",
       "      <td>POS</td>\n",
       "      <td>big</td>\n",
       "      <td>1</td>\n",
       "      <td>-2.699969</td>\n",
       "      <td>0.174218</td>\n",
       "      <td>64.300</td>\n",
       "      <td>122.495</td>\n",
       "      <td>173.200</td>\n",
       "      <td>0.0</td>\n",
       "    </tr>\n",
       "    <tr>\n",
       "      <th>36940</th>\n",
       "      <td>2016-M09</td>\n",
       "      <td>Uncategorized</td>\n",
       "      <td>V</td>\n",
       "      <td>XYZ Others</td>\n",
       "      <td>POS</td>\n",
       "      <td>big</td>\n",
       "      <td>4</td>\n",
       "      <td>-2.031432</td>\n",
       "      <td>0.450484</td>\n",
       "      <td>11.600</td>\n",
       "      <td>90.000</td>\n",
       "      <td>101.250</td>\n",
       "      <td>0.5</td>\n",
       "    </tr>\n",
       "    <tr>\n",
       "      <th>9259</th>\n",
       "      <td>2016-M03</td>\n",
       "      <td>LI</td>\n",
       "      <td>Direct</td>\n",
       "      <td>XYZ 22</td>\n",
       "      <td>POS</td>\n",
       "      <td>big</td>\n",
       "      <td>1</td>\n",
       "      <td>-1.749969</td>\n",
       "      <td>0.326324</td>\n",
       "      <td>41.585</td>\n",
       "      <td>114.995</td>\n",
       "      <td>149.520</td>\n",
       "      <td>0.0</td>\n",
       "    </tr>\n",
       "    <tr>\n",
       "      <th>30632</th>\n",
       "      <td>2015-M12</td>\n",
       "      <td>PrefeSmalled Account</td>\n",
       "      <td>Direct</td>\n",
       "      <td>Client Others</td>\n",
       "      <td>APOS</td>\n",
       "      <td>Small</td>\n",
       "      <td>2</td>\n",
       "      <td>-1.553741</td>\n",
       "      <td>0.429582</td>\n",
       "      <td>20.810</td>\n",
       "      <td>36.495</td>\n",
       "      <td>20.000</td>\n",
       "      <td>0.0</td>\n",
       "    </tr>\n",
       "  </tbody>\n",
       "</table>\n",
       "</div>"
      ],
      "text/plain": [
       "          month                   LOB patner type product category  Sale type  \\\n",
       "34566  2016-M07         Uncategorized           D            XYZ 11      APOS   \n",
       "27454  2016-M07  PrefeSmalled Account      Direct        XYZ Others      APOS   \n",
       "35961  2016-M03         Uncategorized           D            XYZ 11       POS   \n",
       "15864  2015-M10  PrefeSmalled Account           V        XYZ Others       POS   \n",
       "13461  2016-M06                    LI      Direct     Client Others       POS   \n",
       "33241  2016-M06         Uncategorized      Direct        XYZ Others      APOS   \n",
       "11322  2016-M03                    LI      Direct            XYZ 11       POS   \n",
       "36940  2016-M09         Uncategorized           V        XYZ Others       POS   \n",
       "9259   2016-M03                    LI      Direct            XYZ 22       POS   \n",
       "30632  2015-M12  PrefeSmalled Account      Direct     Client Others      APOS   \n",
       "\n",
       "      deal size  order qty   Discount  list margin  List revenue  cost price   \\\n",
       "34566       big          2 -77.336141    -3.588307        35.555       57.500   \n",
       "27454       big          5 -19.865204     0.403716        94.185      499.995   \n",
       "35961       big          5 -10.915917     0.165309         0.000        0.000   \n",
       "15864       big          1  -4.800000     0.201290         0.000        0.000   \n",
       "13461     Small          1  -3.019996     0.249127         0.000        0.000   \n",
       "33241     Small          5  -2.729376     0.500000         0.000        0.000   \n",
       "11322       big          1  -2.699969     0.174218        64.300      122.495   \n",
       "36940       big          4  -2.031432     0.450484        11.600       90.000   \n",
       "9259        big          1  -1.749969     0.326324        41.585      114.995   \n",
       "30632     Small          2  -1.553741     0.429582        20.810       36.495   \n",
       "\n",
       "       selling price  cmp price  \n",
       "34566         77.165        0.0  \n",
       "27454          0.000        0.0  \n",
       "35961          0.000        0.0  \n",
       "15864          0.000        0.0  \n",
       "13461          0.000        0.0  \n",
       "33241          0.000        0.0  \n",
       "11322        173.200        0.0  \n",
       "36940        101.250        0.5  \n",
       "9259         149.520        0.0  \n",
       "30632         20.000        0.0  "
      ]
     },
     "execution_count": 98,
     "metadata": {},
     "output_type": "execute_result"
    }
   ],
   "source": [
    "CustomerDataTemp.sort_values(by=['Discount'],ascending=True).head(10)"
   ]
  },
  {
   "cell_type": "code",
   "execution_count": 99,
   "metadata": {
    "collapsed": false
   },
   "outputs": [],
   "source": [
    "def normalize_features(feature_matrix):\n",
    "    norms = np.linalg.norm(feature_matrix, axis=0)\n",
    "    normalized_features = feature_matrix/norms\n",
    "    return (normalized_features,norms)"
   ]
  },
  {
   "cell_type": "code",
   "execution_count": 104,
   "metadata": {
    "collapsed": false
   },
   "outputs": [
    {
     "name": "stderr",
     "output_type": "stream",
     "text": [
      "C:\\Users\\Dikshit\\Anaconda4\\lib\\site-packages\\ipykernel\\__main__.py:10: SettingWithCopyWarning: \n",
      "A value is trying to be set on a copy of a slice from a DataFrame.\n",
      "Try using .loc[row_indexer,col_indexer] = value instead\n",
      "\n",
      "See the caveats in the documentation: http://pandas.pydata.org/pandas-docs/stable/indexing.html#indexing-view-versus-copy\n",
      "C:\\Users\\Dikshit\\Anaconda4\\lib\\site-packages\\ipykernel\\__main__.py:11: SettingWithCopyWarning: \n",
      "A value is trying to be set on a copy of a slice from a DataFrame.\n",
      "Try using .loc[row_indexer,col_indexer] = value instead\n",
      "\n",
      "See the caveats in the documentation: http://pandas.pydata.org/pandas-docs/stable/indexing.html#indexing-view-versus-copy\n",
      "C:\\Users\\Dikshit\\Anaconda4\\lib\\site-packages\\ipykernel\\__main__.py:12: SettingWithCopyWarning: \n",
      "A value is trying to be set on a copy of a slice from a DataFrame.\n",
      "Try using .loc[row_indexer,col_indexer] = value instead\n",
      "\n",
      "See the caveats in the documentation: http://pandas.pydata.org/pandas-docs/stable/indexing.html#indexing-view-versus-copy\n",
      "C:\\Users\\Dikshit\\Anaconda4\\lib\\site-packages\\ipykernel\\__main__.py:13: SettingWithCopyWarning: \n",
      "A value is trying to be set on a copy of a slice from a DataFrame.\n",
      "Try using .loc[row_indexer,col_indexer] = value instead\n",
      "\n",
      "See the caveats in the documentation: http://pandas.pydata.org/pandas-docs/stable/indexing.html#indexing-view-versus-copy\n",
      "C:\\Users\\Dikshit\\Anaconda4\\lib\\site-packages\\ipykernel\\__main__.py:14: SettingWithCopyWarning: \n",
      "A value is trying to be set on a copy of a slice from a DataFrame.\n",
      "Try using .loc[row_indexer,col_indexer] = value instead\n",
      "\n",
      "See the caveats in the documentation: http://pandas.pydata.org/pandas-docs/stable/indexing.html#indexing-view-versus-copy\n",
      "C:\\Users\\Dikshit\\Anaconda4\\lib\\site-packages\\ipykernel\\__main__.py:15: SettingWithCopyWarning: \n",
      "A value is trying to be set on a copy of a slice from a DataFrame.\n",
      "Try using .loc[row_indexer,col_indexer] = value instead\n",
      "\n",
      "See the caveats in the documentation: http://pandas.pydata.org/pandas-docs/stable/indexing.html#indexing-view-versus-copy\n"
     ]
    }
   ],
   "source": [
    "# Let's do some categorization encoding : It may be not be most appropriate step, but let's just try\n",
    "columns = CustomerDataTemp.columns.values.tolist()\n",
    "columns.remove('Discount')\n",
    "\n",
    "# Separate out Output : Discount\n",
    "Discount = CustomerDataTemp['Discount']\n",
    "CustomerDataTempEncoded = CustomerDataTemp[columns]\n",
    "\n",
    "# Let's encode the factors\n",
    "CustomerDataTempEncoded['month'] = pd.factorize(CustomerDataTempEncoded['month'])[0]\n",
    "CustomerDataTempEncoded['patner type'] = pd.factorize(CustomerDataTempEncoded['patner type'])[0]\n",
    "CustomerDataTempEncoded['LOB'] = pd.factorize(CustomerDataTempEncoded['LOB'])[0]\n",
    "CustomerDataTempEncoded['Sale type'] = pd.factorize(CustomerDataTempEncoded['Sale type'])[0]\n",
    "CustomerDataTempEncoded['deal size'] = pd.factorize(CustomerDataTempEncoded['deal size'])[0]\n",
    "CustomerDataTempEncoded['product category '] = pd.factorize(CustomerDataTempEncoded['product category '])[0]\n",
    "\n"
   ]
  },
  {
   "cell_type": "code",
   "execution_count": 114,
   "metadata": {
    "collapsed": false
   },
   "outputs": [
    {
     "data": {
      "text/plain": [
       "[u'CSB', u'LI', u'PrefeSmalled Account', u'Uncategorized']"
      ]
     },
     "execution_count": 114,
     "metadata": {},
     "output_type": "execute_result"
    }
   ],
   "source": [
    "pd.factorize(CustomerDataTemp['LOB'])[1].values.tolist()"
   ]
  },
  {
   "cell_type": "code",
   "execution_count": 161,
   "metadata": {
    "collapsed": false
   },
   "outputs": [
    {
     "data": {
      "image/png": "[encoded data removed]",
      "text/plain": [
       "<matplotlib.figure.Figure at 0xac76390>"
      ]
     },
     "metadata": {},
     "output_type": "display_data"
    }
   ],
   "source": [
    "#columnsForGroupBy = ['LOB', 'patner type', 'product category ', 'Sale type', 'deal size', 'month']\n",
    "f,((ax1,ax2),(ax3,ax4), (ax5,ax6))=plt.subplots(3,2,figsize=(10, 10))\n",
    "axis = [ax1, ax2, ax3, ax4,ax5,ax6]\n",
    "for oindex,oval in enumerate(columnsForGroupBy):\n",
    "    axis[oindex].plot(CustomerDataTempEncoded[oval],Discount,alpha=.6)\n",
    "    axis[oindex].set_title(\"{} vs Discount\".format(oval))\n",
    "    axis[oindex].set_xlabel(oval)\n",
    "    axis[oindex].set_ylabel(\"Discount\")\n",
    "    #axis[oindex].legend(pd.factorize(CustomerDataTemp[oval])[1].values.tolist())\n",
    "    #columns_temp = columns\n",
    "    ##a= CustomerData.groupby(oval)\n",
    "    '''\n",
    "    for index,val in enumerate(a.groups.keys()):\n",
    "        b=a.get_group(val)\n",
    "        #print(\"*\"*80)\n",
    "        #print (\"Correlation under group: {} and group-value : {}\".format(oval,val))\n",
    "        corrInVarGroupByCases.loc[tableIndex] = [oval,val,b.corr()['Discount']['list margin']]\n",
    "        tableIndex +=1\n",
    "        #b.apply(lambda x: printCorrWithDiscount(x), axis=0)\n",
    "        #axis[index].matshow(a.get_group(val).corr())\n",
    "        #axis[index].set_title(\"{} : {}\".format(oval,val))\n",
    "    '''\n",
    "plt.tight_layout()\n",
    "plt.savefig('CategoryVsDiscount.png', dpi=300)\n",
    "    #print (corrInVarGroupByCases)"
   ]
  },
  {
   "cell_type": "markdown",
   "metadata": {
    "collapsed": false
   },
   "source": [
    "# Let's try Lasso to confirm same : which feature effects Discount most"
   ]
  },
  {
   "cell_type": "code",
   "execution_count": 117,
   "metadata": {
    "collapsed": false
   },
   "outputs": [
    {
     "data": {
      "text/html": [
       "<div>\n",
       "<table border=\"1\" class=\"dataframe\">\n",
       "  <thead>\n",
       "    <tr style=\"text-align: right;\">\n",
       "      <th></th>\n",
       "      <th>month</th>\n",
       "      <th>LOB</th>\n",
       "      <th>patner type</th>\n",
       "      <th>product category</th>\n",
       "      <th>Sale type</th>\n",
       "      <th>deal size</th>\n",
       "      <th>order qty</th>\n",
       "      <th>list margin</th>\n",
       "      <th>List revenue</th>\n",
       "      <th>cost price</th>\n",
       "      <th>selling price</th>\n",
       "      <th>cmp price</th>\n",
       "    </tr>\n",
       "  </thead>\n",
       "  <tbody>\n",
       "    <tr>\n",
       "      <th>0</th>\n",
       "      <td>0</td>\n",
       "      <td>0</td>\n",
       "      <td>0</td>\n",
       "      <td>0</td>\n",
       "      <td>0</td>\n",
       "      <td>0</td>\n",
       "      <td>1</td>\n",
       "      <td>0.285679</td>\n",
       "      <td>0.00</td>\n",
       "      <td>0.000</td>\n",
       "      <td>0.0</td>\n",
       "      <td>0</td>\n",
       "    </tr>\n",
       "    <tr>\n",
       "      <th>1</th>\n",
       "      <td>0</td>\n",
       "      <td>0</td>\n",
       "      <td>0</td>\n",
       "      <td>0</td>\n",
       "      <td>0</td>\n",
       "      <td>0</td>\n",
       "      <td>1</td>\n",
       "      <td>0.186930</td>\n",
       "      <td>56.04</td>\n",
       "      <td>102.495</td>\n",
       "      <td>173.2</td>\n",
       "      <td>0</td>\n",
       "    </tr>\n",
       "    <tr>\n",
       "      <th>2</th>\n",
       "      <td>0</td>\n",
       "      <td>0</td>\n",
       "      <td>0</td>\n",
       "      <td>0</td>\n",
       "      <td>0</td>\n",
       "      <td>0</td>\n",
       "      <td>1</td>\n",
       "      <td>0.184192</td>\n",
       "      <td>0.00</td>\n",
       "      <td>0.000</td>\n",
       "      <td>0.0</td>\n",
       "      <td>0</td>\n",
       "    </tr>\n",
       "    <tr>\n",
       "      <th>3</th>\n",
       "      <td>0</td>\n",
       "      <td>0</td>\n",
       "      <td>0</td>\n",
       "      <td>0</td>\n",
       "      <td>1</td>\n",
       "      <td>0</td>\n",
       "      <td>1</td>\n",
       "      <td>0.183198</td>\n",
       "      <td>30.09</td>\n",
       "      <td>47.495</td>\n",
       "      <td>63.0</td>\n",
       "      <td>0</td>\n",
       "    </tr>\n",
       "    <tr>\n",
       "      <th>4</th>\n",
       "      <td>0</td>\n",
       "      <td>0</td>\n",
       "      <td>0</td>\n",
       "      <td>0</td>\n",
       "      <td>1</td>\n",
       "      <td>0</td>\n",
       "      <td>1</td>\n",
       "      <td>0.171554</td>\n",
       "      <td>0.00</td>\n",
       "      <td>0.000</td>\n",
       "      <td>0.0</td>\n",
       "      <td>0</td>\n",
       "    </tr>\n",
       "  </tbody>\n",
       "</table>\n",
       "</div>"
      ],
      "text/plain": [
       "   month  LOB  patner type  product category   Sale type  deal size  \\\n",
       "0      0    0            0                  0          0          0   \n",
       "1      0    0            0                  0          0          0   \n",
       "2      0    0            0                  0          0          0   \n",
       "3      0    0            0                  0          1          0   \n",
       "4      0    0            0                  0          1          0   \n",
       "\n",
       "   order qty  list margin  List revenue  cost price   selling price  cmp price  \n",
       "0          1     0.285679          0.00        0.000            0.0          0  \n",
       "1          1     0.186930         56.04      102.495          173.2          0  \n",
       "2          1     0.184192          0.00        0.000            0.0          0  \n",
       "3          1     0.183198         30.09       47.495           63.0          0  \n",
       "4          1     0.171554          0.00        0.000            0.0          0  "
      ]
     },
     "execution_count": 117,
     "metadata": {},
     "output_type": "execute_result"
    }
   ],
   "source": [
    "CustomerDataTempEncoded.head(5)"
   ]
  },
  {
   "cell_type": "code",
   "execution_count": 123,
   "metadata": {
    "collapsed": false
   },
   "outputs": [
    {
     "data": {
      "text/plain": [
       "Lasso(alpha=0.1, copy_X=True, fit_intercept=False, max_iter=1000,\n",
       "   normalize=False, positive=False, precompute=False, random_state=None,\n",
       "   selection='cyclic', tol=0.0001, warm_start=False)"
      ]
     },
     "execution_count": 123,
     "metadata": {},
     "output_type": "execute_result"
    }
   ],
   "source": [
    "from sklearn import linear_model\n",
    "clf = linear_model.Lasso(alpha=0.1,fit_intercept=False)\n",
    "clf.fit(CustomerDataTempEncoded,Discount)"
   ]
  },
  {
   "cell_type": "code",
   "execution_count": 124,
   "metadata": {
    "collapsed": false
   },
   "outputs": [
    {
     "data": {
      "text/plain": [
       "[0.012845809525630004,\n",
       " 0.0,\n",
       " 0.0,\n",
       " 0.0,\n",
       " 0.0,\n",
       " 0.0,\n",
       " 0.00024659266272817937,\n",
       " 0.0,\n",
       " 0.0,\n",
       " 0.00014799913807999777,\n",
       " 0.0,\n",
       " 0.0]"
      ]
     },
     "execution_count": 124,
     "metadata": {},
     "output_type": "execute_result"
    }
   ],
   "source": [
    "clf.coef_.tolist()"
   ]
  },
  {
   "cell_type": "code",
   "execution_count": 130,
   "metadata": {
    "collapsed": false
   },
   "outputs": [
    {
     "name": "stdout",
     "output_type": "stream",
     "text": [
      "Index([u'month', u'LOB', u'patner type', u'product category ', u'Sale type',\n",
      "       u'deal size', u'order qty', u'list margin', u'List revenue',\n",
      "       u'cost price ', u'selling price', u'cmp price'],\n",
      "      dtype='object')\n",
      "['month', 'LOB', 'patner type', 'product category ', 'Sale type', 'deal size', 'order qty', 'list margin', 'List revenue', 'cost price ', 'selling price', 'cmp price', 'alpha']\n",
      "Empty DataFrame\n",
      "Columns: [month, LOB, patner type, product category , Sale type, deal size, order qty, list margin, List revenue, cost price , selling price, cmp price, alpha]\n",
      "Index: []\n"
     ]
    }
   ],
   "source": [
    "# Let's try different values of alpha\n",
    "#print (CustomerDataTempEncoded.columns)\n",
    "columnsAlphaTable = ['month', 'LOB', 'patner type', 'product category ', 'Sale type',\n",
    "                     'deal size', 'order qty', 'list margin', 'List revenue',\n",
    "                     'cost price ', 'selling price', 'cmp price', 'alpha']\n",
    "#print (columnsAlphaTable)\n",
    "saveAlphaVsCoeff = pd.DataFrame(columns=columnsAlphaTable)\n",
    "#print (saveAlphaVsCoeff)\n",
    "alphas = np.logspace(-20,2,30)\n",
    "for index,alpha in enumerate(alphas):\n",
    "    clf = linear_model.Lasso(alpha=alpha,fit_intercept=False)\n",
    "    clf.fit(CustomerDataTempEncoded,Discount)  \n",
    "    _coefList = clf.coef_.tolist()\n",
    "    #print(_coefList)\n",
    "    _coefList.append(alpha)\n",
    "    #print (_coefList)\n",
    "    saveAlphaVsCoeff.loc[index] = _coefList"
   ]
  },
  {
   "cell_type": "markdown",
   "metadata": {},
   "source": []
  },
  {
   "cell_type": "code",
   "execution_count": 170,
   "metadata": {
    "collapsed": false
   },
   "outputs": [
    {
     "data": {
      "text/html": [
       "<div>\n",
       "<table border=\"1\" class=\"dataframe\">\n",
       "  <thead>\n",
       "    <tr style=\"text-align: right;\">\n",
       "      <th></th>\n",
       "      <th>month</th>\n",
       "      <th>LOB</th>\n",
       "      <th>patner type</th>\n",
       "      <th>product category</th>\n",
       "      <th>Sale type</th>\n",
       "      <th>deal size</th>\n",
       "      <th>order qty</th>\n",
       "      <th>list margin</th>\n",
       "      <th>List revenue</th>\n",
       "      <th>cost price</th>\n",
       "      <th>selling price</th>\n",
       "      <th>cmp price</th>\n",
       "      <th>alpha</th>\n",
       "    </tr>\n",
       "  </thead>\n",
       "  <tbody>\n",
       "    <tr>\n",
       "      <th>0</th>\n",
       "      <td>-0.006695</td>\n",
       "      <td>-0.019834</td>\n",
       "      <td>-0.040546</td>\n",
       "      <td>-0.045596</td>\n",
       "      <td>0.001120</td>\n",
       "      <td>-0.001087</td>\n",
       "      <td>-0.000710</td>\n",
       "      <td>1.124676</td>\n",
       "      <td>0.000421</td>\n",
       "      <td>-0.000095</td>\n",
       "      <td>-4.323978e-06</td>\n",
       "      <td>-0.042812</td>\n",
       "      <td>1.000000e-20</td>\n",
       "    </tr>\n",
       "    <tr>\n",
       "      <th>1</th>\n",
       "      <td>-0.006695</td>\n",
       "      <td>-0.019834</td>\n",
       "      <td>-0.040546</td>\n",
       "      <td>-0.045596</td>\n",
       "      <td>0.001120</td>\n",
       "      <td>-0.001087</td>\n",
       "      <td>-0.000710</td>\n",
       "      <td>1.124676</td>\n",
       "      <td>0.000421</td>\n",
       "      <td>-0.000095</td>\n",
       "      <td>-4.323978e-06</td>\n",
       "      <td>-0.042812</td>\n",
       "      <td>5.736153e-20</td>\n",
       "    </tr>\n",
       "    <tr>\n",
       "      <th>2</th>\n",
       "      <td>-0.006695</td>\n",
       "      <td>-0.019834</td>\n",
       "      <td>-0.040546</td>\n",
       "      <td>-0.045596</td>\n",
       "      <td>0.001120</td>\n",
       "      <td>-0.001087</td>\n",
       "      <td>-0.000710</td>\n",
       "      <td>1.124676</td>\n",
       "      <td>0.000421</td>\n",
       "      <td>-0.000095</td>\n",
       "      <td>-4.323978e-06</td>\n",
       "      <td>-0.042812</td>\n",
       "      <td>3.290345e-19</td>\n",
       "    </tr>\n",
       "    <tr>\n",
       "      <th>3</th>\n",
       "      <td>-0.006695</td>\n",
       "      <td>-0.019834</td>\n",
       "      <td>-0.040546</td>\n",
       "      <td>-0.045596</td>\n",
       "      <td>0.001120</td>\n",
       "      <td>-0.001087</td>\n",
       "      <td>-0.000710</td>\n",
       "      <td>1.124676</td>\n",
       "      <td>0.000421</td>\n",
       "      <td>-0.000095</td>\n",
       "      <td>-4.323978e-06</td>\n",
       "      <td>-0.042812</td>\n",
       "      <td>1.887392e-18</td>\n",
       "    </tr>\n",
       "    <tr>\n",
       "      <th>4</th>\n",
       "      <td>-0.006695</td>\n",
       "      <td>-0.019834</td>\n",
       "      <td>-0.040546</td>\n",
       "      <td>-0.045596</td>\n",
       "      <td>0.001120</td>\n",
       "      <td>-0.001087</td>\n",
       "      <td>-0.000710</td>\n",
       "      <td>1.124676</td>\n",
       "      <td>0.000421</td>\n",
       "      <td>-0.000095</td>\n",
       "      <td>-4.323978e-06</td>\n",
       "      <td>-0.042812</td>\n",
       "      <td>1.082637e-17</td>\n",
       "    </tr>\n",
       "    <tr>\n",
       "      <th>5</th>\n",
       "      <td>-0.006695</td>\n",
       "      <td>-0.019834</td>\n",
       "      <td>-0.040546</td>\n",
       "      <td>-0.045596</td>\n",
       "      <td>0.001120</td>\n",
       "      <td>-0.001087</td>\n",
       "      <td>-0.000710</td>\n",
       "      <td>1.124676</td>\n",
       "      <td>0.000421</td>\n",
       "      <td>-0.000095</td>\n",
       "      <td>-4.323978e-06</td>\n",
       "      <td>-0.042812</td>\n",
       "      <td>6.210169e-17</td>\n",
       "    </tr>\n",
       "    <tr>\n",
       "      <th>6</th>\n",
       "      <td>-0.006695</td>\n",
       "      <td>-0.019834</td>\n",
       "      <td>-0.040546</td>\n",
       "      <td>-0.045596</td>\n",
       "      <td>0.001120</td>\n",
       "      <td>-0.001087</td>\n",
       "      <td>-0.000710</td>\n",
       "      <td>1.124676</td>\n",
       "      <td>0.000421</td>\n",
       "      <td>-0.000095</td>\n",
       "      <td>-4.323978e-06</td>\n",
       "      <td>-0.042812</td>\n",
       "      <td>3.562248e-16</td>\n",
       "    </tr>\n",
       "    <tr>\n",
       "      <th>7</th>\n",
       "      <td>-0.006695</td>\n",
       "      <td>-0.019834</td>\n",
       "      <td>-0.040546</td>\n",
       "      <td>-0.045596</td>\n",
       "      <td>0.001120</td>\n",
       "      <td>-0.001087</td>\n",
       "      <td>-0.000710</td>\n",
       "      <td>1.124676</td>\n",
       "      <td>0.000421</td>\n",
       "      <td>-0.000095</td>\n",
       "      <td>-4.323978e-06</td>\n",
       "      <td>-0.042812</td>\n",
       "      <td>2.043360e-15</td>\n",
       "    </tr>\n",
       "    <tr>\n",
       "      <th>8</th>\n",
       "      <td>-0.006695</td>\n",
       "      <td>-0.019834</td>\n",
       "      <td>-0.040546</td>\n",
       "      <td>-0.045596</td>\n",
       "      <td>0.001120</td>\n",
       "      <td>-0.001087</td>\n",
       "      <td>-0.000710</td>\n",
       "      <td>1.124676</td>\n",
       "      <td>0.000421</td>\n",
       "      <td>-0.000095</td>\n",
       "      <td>-4.323978e-06</td>\n",
       "      <td>-0.042812</td>\n",
       "      <td>1.172102e-14</td>\n",
       "    </tr>\n",
       "    <tr>\n",
       "      <th>9</th>\n",
       "      <td>-0.006695</td>\n",
       "      <td>-0.019834</td>\n",
       "      <td>-0.040546</td>\n",
       "      <td>-0.045596</td>\n",
       "      <td>0.001120</td>\n",
       "      <td>-0.001087</td>\n",
       "      <td>-0.000710</td>\n",
       "      <td>1.124676</td>\n",
       "      <td>0.000421</td>\n",
       "      <td>-0.000095</td>\n",
       "      <td>-4.323978e-06</td>\n",
       "      <td>-0.042812</td>\n",
       "      <td>6.723358e-14</td>\n",
       "    </tr>\n",
       "    <tr>\n",
       "      <th>10</th>\n",
       "      <td>-0.006695</td>\n",
       "      <td>-0.019834</td>\n",
       "      <td>-0.040546</td>\n",
       "      <td>-0.045596</td>\n",
       "      <td>0.001120</td>\n",
       "      <td>-0.001087</td>\n",
       "      <td>-0.000710</td>\n",
       "      <td>1.124676</td>\n",
       "      <td>0.000421</td>\n",
       "      <td>-0.000095</td>\n",
       "      <td>-4.323978e-06</td>\n",
       "      <td>-0.042812</td>\n",
       "      <td>3.856620e-13</td>\n",
       "    </tr>\n",
       "    <tr>\n",
       "      <th>11</th>\n",
       "      <td>-0.006695</td>\n",
       "      <td>-0.019834</td>\n",
       "      <td>-0.040546</td>\n",
       "      <td>-0.045596</td>\n",
       "      <td>0.001120</td>\n",
       "      <td>-0.001087</td>\n",
       "      <td>-0.000710</td>\n",
       "      <td>1.124676</td>\n",
       "      <td>0.000421</td>\n",
       "      <td>-0.000095</td>\n",
       "      <td>-4.323978e-06</td>\n",
       "      <td>-0.042812</td>\n",
       "      <td>2.212216e-12</td>\n",
       "    </tr>\n",
       "    <tr>\n",
       "      <th>12</th>\n",
       "      <td>-0.006695</td>\n",
       "      <td>-0.019834</td>\n",
       "      <td>-0.040546</td>\n",
       "      <td>-0.045596</td>\n",
       "      <td>0.001120</td>\n",
       "      <td>-0.001087</td>\n",
       "      <td>-0.000710</td>\n",
       "      <td>1.124676</td>\n",
       "      <td>0.000421</td>\n",
       "      <td>-0.000095</td>\n",
       "      <td>-4.323978e-06</td>\n",
       "      <td>-0.042812</td>\n",
       "      <td>1.268961e-11</td>\n",
       "    </tr>\n",
       "    <tr>\n",
       "      <th>13</th>\n",
       "      <td>-0.006695</td>\n",
       "      <td>-0.019834</td>\n",
       "      <td>-0.040546</td>\n",
       "      <td>-0.045596</td>\n",
       "      <td>0.001120</td>\n",
       "      <td>-0.001087</td>\n",
       "      <td>-0.000710</td>\n",
       "      <td>1.124676</td>\n",
       "      <td>0.000421</td>\n",
       "      <td>-0.000095</td>\n",
       "      <td>-4.323978e-06</td>\n",
       "      <td>-0.042812</td>\n",
       "      <td>7.278954e-11</td>\n",
       "    </tr>\n",
       "    <tr>\n",
       "      <th>14</th>\n",
       "      <td>-0.006695</td>\n",
       "      <td>-0.019834</td>\n",
       "      <td>-0.040546</td>\n",
       "      <td>-0.045596</td>\n",
       "      <td>0.001120</td>\n",
       "      <td>-0.001087</td>\n",
       "      <td>-0.000710</td>\n",
       "      <td>1.124676</td>\n",
       "      <td>0.000421</td>\n",
       "      <td>-0.000095</td>\n",
       "      <td>-4.323976e-06</td>\n",
       "      <td>-0.042812</td>\n",
       "      <td>4.175319e-10</td>\n",
       "    </tr>\n",
       "    <tr>\n",
       "      <th>15</th>\n",
       "      <td>-0.006695</td>\n",
       "      <td>-0.019834</td>\n",
       "      <td>-0.040546</td>\n",
       "      <td>-0.045596</td>\n",
       "      <td>0.001120</td>\n",
       "      <td>-0.001087</td>\n",
       "      <td>-0.000710</td>\n",
       "      <td>1.124675</td>\n",
       "      <td>0.000421</td>\n",
       "      <td>-0.000095</td>\n",
       "      <td>-4.323969e-06</td>\n",
       "      <td>-0.042812</td>\n",
       "      <td>2.395027e-09</td>\n",
       "    </tr>\n",
       "    <tr>\n",
       "      <th>16</th>\n",
       "      <td>-0.006695</td>\n",
       "      <td>-0.019834</td>\n",
       "      <td>-0.040546</td>\n",
       "      <td>-0.045596</td>\n",
       "      <td>0.001120</td>\n",
       "      <td>-0.001086</td>\n",
       "      <td>-0.000710</td>\n",
       "      <td>1.124674</td>\n",
       "      <td>0.000421</td>\n",
       "      <td>-0.000095</td>\n",
       "      <td>-4.323929e-06</td>\n",
       "      <td>-0.042812</td>\n",
       "      <td>1.373824e-08</td>\n",
       "    </tr>\n",
       "    <tr>\n",
       "      <th>17</th>\n",
       "      <td>-0.006695</td>\n",
       "      <td>-0.019833</td>\n",
       "      <td>-0.040545</td>\n",
       "      <td>-0.045595</td>\n",
       "      <td>0.001119</td>\n",
       "      <td>-0.001086</td>\n",
       "      <td>-0.000710</td>\n",
       "      <td>1.124666</td>\n",
       "      <td>0.000421</td>\n",
       "      <td>-0.000095</td>\n",
       "      <td>-4.323699e-06</td>\n",
       "      <td>-0.042810</td>\n",
       "      <td>7.880463e-08</td>\n",
       "    </tr>\n",
       "    <tr>\n",
       "      <th>18</th>\n",
       "      <td>-0.006695</td>\n",
       "      <td>-0.019832</td>\n",
       "      <td>-0.040543</td>\n",
       "      <td>-0.045592</td>\n",
       "      <td>0.001117</td>\n",
       "      <td>-0.001081</td>\n",
       "      <td>-0.000710</td>\n",
       "      <td>1.124621</td>\n",
       "      <td>0.000421</td>\n",
       "      <td>-0.000095</td>\n",
       "      <td>-4.322377e-06</td>\n",
       "      <td>-0.042797</td>\n",
       "      <td>4.520354e-07</td>\n",
       "    </tr>\n",
       "    <tr>\n",
       "      <th>19</th>\n",
       "      <td>-0.006693</td>\n",
       "      <td>-0.019821</td>\n",
       "      <td>-0.040530</td>\n",
       "      <td>-0.045575</td>\n",
       "      <td>0.001102</td>\n",
       "      <td>-0.001056</td>\n",
       "      <td>-0.000710</td>\n",
       "      <td>1.124361</td>\n",
       "      <td>0.000420</td>\n",
       "      <td>-0.000095</td>\n",
       "      <td>-4.314796e-06</td>\n",
       "      <td>-0.042725</td>\n",
       "      <td>2.592944e-06</td>\n",
       "    </tr>\n",
       "    <tr>\n",
       "      <th>20</th>\n",
       "      <td>-0.006681</td>\n",
       "      <td>-0.019758</td>\n",
       "      <td>-0.040458</td>\n",
       "      <td>-0.045475</td>\n",
       "      <td>0.001018</td>\n",
       "      <td>-0.000909</td>\n",
       "      <td>-0.000709</td>\n",
       "      <td>1.122870</td>\n",
       "      <td>0.000420</td>\n",
       "      <td>-0.000095</td>\n",
       "      <td>-4.272573e-06</td>\n",
       "      <td>-0.042307</td>\n",
       "      <td>1.487352e-05</td>\n",
       "    </tr>\n",
       "    <tr>\n",
       "      <th>21</th>\n",
       "      <td>-0.006616</td>\n",
       "      <td>-0.019400</td>\n",
       "      <td>-0.040039</td>\n",
       "      <td>-0.044902</td>\n",
       "      <td>0.000536</td>\n",
       "      <td>-0.000067</td>\n",
       "      <td>-0.000701</td>\n",
       "      <td>1.114311</td>\n",
       "      <td>0.000418</td>\n",
       "      <td>-0.000095</td>\n",
       "      <td>-4.017160e-06</td>\n",
       "      <td>-0.039922</td>\n",
       "      <td>8.531679e-05</td>\n",
       "    </tr>\n",
       "    <tr>\n",
       "      <th>22</th>\n",
       "      <td>-0.006230</td>\n",
       "      <td>-0.017125</td>\n",
       "      <td>-0.037824</td>\n",
       "      <td>-0.041834</td>\n",
       "      <td>0.000000</td>\n",
       "      <td>0.000000</td>\n",
       "      <td>-0.000665</td>\n",
       "      <td>1.067785</td>\n",
       "      <td>0.000411</td>\n",
       "      <td>-0.000095</td>\n",
       "      <td>-2.666023e-06</td>\n",
       "      <td>-0.026139</td>\n",
       "      <td>4.893901e-04</td>\n",
       "    </tr>\n",
       "    <tr>\n",
       "      <th>23</th>\n",
       "      <td>-0.003940</td>\n",
       "      <td>-0.004106</td>\n",
       "      <td>-0.025262</td>\n",
       "      <td>-0.025869</td>\n",
       "      <td>0.000000</td>\n",
       "      <td>0.000000</td>\n",
       "      <td>-0.000468</td>\n",
       "      <td>0.816644</td>\n",
       "      <td>0.000231</td>\n",
       "      <td>-0.000046</td>\n",
       "      <td>6.601254e-07</td>\n",
       "      <td>-0.000000</td>\n",
       "      <td>2.807216e-03</td>\n",
       "    </tr>\n",
       "    <tr>\n",
       "      <th>24</th>\n",
       "      <td>0.007854</td>\n",
       "      <td>0.030107</td>\n",
       "      <td>0.001834</td>\n",
       "      <td>0.014085</td>\n",
       "      <td>0.000000</td>\n",
       "      <td>0.000000</td>\n",
       "      <td>0.000657</td>\n",
       "      <td>0.000000</td>\n",
       "      <td>-0.000326</td>\n",
       "      <td>0.000167</td>\n",
       "      <td>4.591498e-07</td>\n",
       "      <td>0.000000</td>\n",
       "      <td>1.610262e-02</td>\n",
       "    </tr>\n",
       "    <tr>\n",
       "      <th>25</th>\n",
       "      <td>0.012985</td>\n",
       "      <td>0.000000</td>\n",
       "      <td>0.000000</td>\n",
       "      <td>0.000000</td>\n",
       "      <td>0.000000</td>\n",
       "      <td>0.000000</td>\n",
       "      <td>0.000410</td>\n",
       "      <td>0.000000</td>\n",
       "      <td>0.000000</td>\n",
       "      <td>0.000146</td>\n",
       "      <td>0.000000e+00</td>\n",
       "      <td>0.000000</td>\n",
       "      <td>9.236709e-02</td>\n",
       "    </tr>\n",
       "    <tr>\n",
       "      <th>26</th>\n",
       "      <td>0.001936</td>\n",
       "      <td>0.000000</td>\n",
       "      <td>0.000000</td>\n",
       "      <td>0.000000</td>\n",
       "      <td>0.000000</td>\n",
       "      <td>0.000000</td>\n",
       "      <td>0.000000</td>\n",
       "      <td>0.000000</td>\n",
       "      <td>0.000181</td>\n",
       "      <td>0.000204</td>\n",
       "      <td>3.889423e-06</td>\n",
       "      <td>0.000000</td>\n",
       "      <td>5.298317e-01</td>\n",
       "    </tr>\n",
       "    <tr>\n",
       "      <th>27</th>\n",
       "      <td>0.000000</td>\n",
       "      <td>0.000000</td>\n",
       "      <td>0.000000</td>\n",
       "      <td>0.000000</td>\n",
       "      <td>0.000000</td>\n",
       "      <td>0.000000</td>\n",
       "      <td>0.000000</td>\n",
       "      <td>0.000000</td>\n",
       "      <td>0.000000</td>\n",
       "      <td>0.000225</td>\n",
       "      <td>2.730241e-05</td>\n",
       "      <td>0.000000</td>\n",
       "      <td>3.039195e+00</td>\n",
       "    </tr>\n",
       "    <tr>\n",
       "      <th>28</th>\n",
       "      <td>0.000000</td>\n",
       "      <td>0.000000</td>\n",
       "      <td>0.000000</td>\n",
       "      <td>0.000000</td>\n",
       "      <td>0.000000</td>\n",
       "      <td>0.000000</td>\n",
       "      <td>0.000000</td>\n",
       "      <td>0.000000</td>\n",
       "      <td>0.000000</td>\n",
       "      <td>0.000065</td>\n",
       "      <td>7.085625e-05</td>\n",
       "      <td>0.000000</td>\n",
       "      <td>1.743329e+01</td>\n",
       "    </tr>\n",
       "    <tr>\n",
       "      <th>29</th>\n",
       "      <td>0.000000</td>\n",
       "      <td>0.000000</td>\n",
       "      <td>0.000000</td>\n",
       "      <td>0.000000</td>\n",
       "      <td>0.000000</td>\n",
       "      <td>0.000000</td>\n",
       "      <td>0.000000</td>\n",
       "      <td>0.000000</td>\n",
       "      <td>0.000000</td>\n",
       "      <td>0.000000</td>\n",
       "      <td>0.000000e+00</td>\n",
       "      <td>0.000000</td>\n",
       "      <td>1.000000e+02</td>\n",
       "    </tr>\n",
       "  </tbody>\n",
       "</table>\n",
       "</div>"
      ],
      "text/plain": [
       "       month       LOB  patner type  product category   Sale type  deal size  \\\n",
       "0  -0.006695 -0.019834    -0.040546          -0.045596   0.001120  -0.001087   \n",
       "1  -0.006695 -0.019834    -0.040546          -0.045596   0.001120  -0.001087   \n",
       "2  -0.006695 -0.019834    -0.040546          -0.045596   0.001120  -0.001087   \n",
       "3  -0.006695 -0.019834    -0.040546          -0.045596   0.001120  -0.001087   \n",
       "4  -0.006695 -0.019834    -0.040546          -0.045596   0.001120  -0.001087   \n",
       "5  -0.006695 -0.019834    -0.040546          -0.045596   0.001120  -0.001087   \n",
       "6  -0.006695 -0.019834    -0.040546          -0.045596   0.001120  -0.001087   \n",
       "7  -0.006695 -0.019834    -0.040546          -0.045596   0.001120  -0.001087   \n",
       "8  -0.006695 -0.019834    -0.040546          -0.045596   0.001120  -0.001087   \n",
       "9  -0.006695 -0.019834    -0.040546          -0.045596   0.001120  -0.001087   \n",
       "10 -0.006695 -0.019834    -0.040546          -0.045596   0.001120  -0.001087   \n",
       "11 -0.006695 -0.019834    -0.040546          -0.045596   0.001120  -0.001087   \n",
       "12 -0.006695 -0.019834    -0.040546          -0.045596   0.001120  -0.001087   \n",
       "13 -0.006695 -0.019834    -0.040546          -0.045596   0.001120  -0.001087   \n",
       "14 -0.006695 -0.019834    -0.040546          -0.045596   0.001120  -0.001087   \n",
       "15 -0.006695 -0.019834    -0.040546          -0.045596   0.001120  -0.001087   \n",
       "16 -0.006695 -0.019834    -0.040546          -0.045596   0.001120  -0.001086   \n",
       "17 -0.006695 -0.019833    -0.040545          -0.045595   0.001119  -0.001086   \n",
       "18 -0.006695 -0.019832    -0.040543          -0.045592   0.001117  -0.001081   \n",
       "19 -0.006693 -0.019821    -0.040530          -0.045575   0.001102  -0.001056   \n",
       "20 -0.006681 -0.019758    -0.040458          -0.045475   0.001018  -0.000909   \n",
       "21 -0.006616 -0.019400    -0.040039          -0.044902   0.000536  -0.000067   \n",
       "22 -0.006230 -0.017125    -0.037824          -0.041834   0.000000   0.000000   \n",
       "23 -0.003940 -0.004106    -0.025262          -0.025869   0.000000   0.000000   \n",
       "24  0.007854  0.030107     0.001834           0.014085   0.000000   0.000000   \n",
       "25  0.012985  0.000000     0.000000           0.000000   0.000000   0.000000   \n",
       "26  0.001936  0.000000     0.000000           0.000000   0.000000   0.000000   \n",
       "27  0.000000  0.000000     0.000000           0.000000   0.000000   0.000000   \n",
       "28  0.000000  0.000000     0.000000           0.000000   0.000000   0.000000   \n",
       "29  0.000000  0.000000     0.000000           0.000000   0.000000   0.000000   \n",
       "\n",
       "    order qty  list margin  List revenue  cost price   selling price  \\\n",
       "0   -0.000710     1.124676      0.000421    -0.000095  -4.323978e-06   \n",
       "1   -0.000710     1.124676      0.000421    -0.000095  -4.323978e-06   \n",
       "2   -0.000710     1.124676      0.000421    -0.000095  -4.323978e-06   \n",
       "3   -0.000710     1.124676      0.000421    -0.000095  -4.323978e-06   \n",
       "4   -0.000710     1.124676      0.000421    -0.000095  -4.323978e-06   \n",
       "5   -0.000710     1.124676      0.000421    -0.000095  -4.323978e-06   \n",
       "6   -0.000710     1.124676      0.000421    -0.000095  -4.323978e-06   \n",
       "7   -0.000710     1.124676      0.000421    -0.000095  -4.323978e-06   \n",
       "8   -0.000710     1.124676      0.000421    -0.000095  -4.323978e-06   \n",
       "9   -0.000710     1.124676      0.000421    -0.000095  -4.323978e-06   \n",
       "10  -0.000710     1.124676      0.000421    -0.000095  -4.323978e-06   \n",
       "11  -0.000710     1.124676      0.000421    -0.000095  -4.323978e-06   \n",
       "12  -0.000710     1.124676      0.000421    -0.000095  -4.323978e-06   \n",
       "13  -0.000710     1.124676      0.000421    -0.000095  -4.323978e-06   \n",
       "14  -0.000710     1.124676      0.000421    -0.000095  -4.323976e-06   \n",
       "15  -0.000710     1.124675      0.000421    -0.000095  -4.323969e-06   \n",
       "16  -0.000710     1.124674      0.000421    -0.000095  -4.323929e-06   \n",
       "17  -0.000710     1.124666      0.000421    -0.000095  -4.323699e-06   \n",
       "18  -0.000710     1.124621      0.000421    -0.000095  -4.322377e-06   \n",
       "19  -0.000710     1.124361      0.000420    -0.000095  -4.314796e-06   \n",
       "20  -0.000709     1.122870      0.000420    -0.000095  -4.272573e-06   \n",
       "21  -0.000701     1.114311      0.000418    -0.000095  -4.017160e-06   \n",
       "22  -0.000665     1.067785      0.000411    -0.000095  -2.666023e-06   \n",
       "23  -0.000468     0.816644      0.000231    -0.000046   6.601254e-07   \n",
       "24   0.000657     0.000000     -0.000326     0.000167   4.591498e-07   \n",
       "25   0.000410     0.000000      0.000000     0.000146   0.000000e+00   \n",
       "26   0.000000     0.000000      0.000181     0.000204   3.889423e-06   \n",
       "27   0.000000     0.000000      0.000000     0.000225   2.730241e-05   \n",
       "28   0.000000     0.000000      0.000000     0.000065   7.085625e-05   \n",
       "29   0.000000     0.000000      0.000000     0.000000   0.000000e+00   \n",
       "\n",
       "    cmp price         alpha  \n",
       "0   -0.042812  1.000000e-20  \n",
       "1   -0.042812  5.736153e-20  \n",
       "2   -0.042812  3.290345e-19  \n",
       "3   -0.042812  1.887392e-18  \n",
       "4   -0.042812  1.082637e-17  \n",
       "5   -0.042812  6.210169e-17  \n",
       "6   -0.042812  3.562248e-16  \n",
       "7   -0.042812  2.043360e-15  \n",
       "8   -0.042812  1.172102e-14  \n",
       "9   -0.042812  6.723358e-14  \n",
       "10  -0.042812  3.856620e-13  \n",
       "11  -0.042812  2.212216e-12  \n",
       "12  -0.042812  1.268961e-11  \n",
       "13  -0.042812  7.278954e-11  \n",
       "14  -0.042812  4.175319e-10  \n",
       "15  -0.042812  2.395027e-09  \n",
       "16  -0.042812  1.373824e-08  \n",
       "17  -0.042810  7.880463e-08  \n",
       "18  -0.042797  4.520354e-07  \n",
       "19  -0.042725  2.592944e-06  \n",
       "20  -0.042307  1.487352e-05  \n",
       "21  -0.039922  8.531679e-05  \n",
       "22  -0.026139  4.893901e-04  \n",
       "23  -0.000000  2.807216e-03  \n",
       "24   0.000000  1.610262e-02  \n",
       "25   0.000000  9.236709e-02  \n",
       "26   0.000000  5.298317e-01  \n",
       "27   0.000000  3.039195e+00  \n",
       "28   0.000000  1.743329e+01  \n",
       "29   0.000000  1.000000e+02  "
      ]
     },
     "execution_count": 170,
     "metadata": {},
     "output_type": "execute_result"
    }
   ],
   "source": [
    "\n",
    "writer = pd.ExcelWriter('LassoAlphaVsCoeff.xlsx', engine='xlsxwriter')\n",
    "# Convert the dataframe to an XlsxWriter Excel object.\n",
    "saveAlphaVsCoeff.to_excel(writer, sheet_name='Sheet1')\n",
    "\n",
    "# Close the Pandas Excel writer and output the Excel file.\n",
    "writer.save()\n",
    "saveAlphaVsCoeff"
   ]
  },
  {
   "cell_type": "code",
   "execution_count": 179,
   "metadata": {
    "collapsed": false
   },
   "outputs": [
    {
     "data": {
      "image/png": "[encoded data removed]",
      "text/plain": [
       "<matplotlib.figure.Figure at 0xc685978>"
      ]
     },
     "metadata": {},
     "output_type": "display_data"
    }
   ],
   "source": [
    "#saveAlphaVsCoeff\n",
    "#plt.figure(figsize=(50,50))\n",
    "#print saveAlphaVsCoeff[CustomerDataTempEncoded.columns.values.tolist()].head(5)\n",
    "#print (CustomerDataTempEncoded.columns.values.tolist())\n",
    "'''\n",
    "for val in CustomerDataTempEncoded.columns.values.tolist():\n",
    "    plt.plot(saveAlphaVsCoeff['alpha'],saveAlphaVsCoeff[val],\"--\")\n",
    "    plt.axis([0, 150, -2, 2])\n",
    "    #plt.legend(CustomerDataTempEncoded.columns.values.tolist(),loc=2)\n",
    "    plt.legend(CustomerDataTempEncoded.columns.values.tolist(),\n",
    "           bbox_to_anchor=(0., 1.02, 1., .102), loc=3,\n",
    "           ncol=2, mode=\"expand\", borderaxespad=0.)\n",
    "    plt.ylabel(\"Coeff\")\n",
    "    plt.xlabel(\"alpha\")\n",
    "'''\n",
    "f,((ax1,ax2),(ax3,ax4),(ax5,ax6),(ax7,ax8), (ax9,ax10),(ax11,ax12))=plt.subplots(6,2,figsize=(20, 20))\n",
    "axis = [ax1, ax2, ax3, ax4,ax5,ax6,ax7,ax8,ax9,ax10,ax11,ax12]\n",
    "# filter out list margin non-zeros\n",
    "tmp = saveAlphaVsCoeff[saveAlphaVsCoeff['list margin' ] != 0]\n",
    "\n",
    "for oindex,oval in enumerate(CustomerDataTempEncoded.columns.values.tolist()):\n",
    "    #plt.subplot(val)\n",
    "    #axis[oindex].axis([0, 150, -2, 2])\n",
    "    axis[oindex].plot(tmp['alpha'],tmp[oval],alpha=.6)\n",
    "    #plt.plot(data['x'],data['y'],'.')\n",
    "    axis[oindex].set_title('Plot for alpha: {}'.format(oval))\n",
    "    axis[oindex].set_xlabel('alpha')\n",
    "    axis[oindex].set_ylabel(oval)\n",
    "    \n",
    "plt.tight_layout()\n",
    "plt.savefig('all_Lasso_test_plot.png', dpi=300)"
   ]
  },
  {
   "cell_type": "markdown",
   "metadata": {},
   "source": [
    "# Let's try to see if solution predicts correct\n",
    "#### Let's not filter out features though few of the like 'list revenue', 'cost price', 'selling price', 'cmp price' can be removed as of now.\n",
    "#### Later we will try removing it also "
   ]
  },
  {
   "cell_type": "code",
   "execution_count": 180,
   "metadata": {
    "collapsed": false
   },
   "outputs": [],
   "source": [
    "# Let's normalize all the values\n",
    "featuresToNormalize = ['order qty', 'list margin', 'List revenue', 'cost price ', 'selling price', 'cmp price']\n",
    "featuresToNormalizeAll = featuresToNormalize\n",
    "CustomerDataTempEncodedNormalized = CustomerDataTempEncoded\n",
    "CustomerDataTempEncodedNormalized[featuresToNormalize], featuresNorms = normalize_features(CustomerDataTempEncoded[featuresToNormalize])\n",
    "\n",
    "DiscountNormalized, discNorm = normalize_features(Discount)"
   ]
  },
  {
   "cell_type": "code",
   "execution_count": 181,
   "metadata": {
    "collapsed": false
   },
   "outputs": [],
   "source": [
    "from sklearn.cross_validation import train_test_split\n",
    "X_train, X_test, y_train, y_test = train_test_split(CustomerDataTempEncodedNormalized,\n",
    "                                                    DiscountNormalized, \n",
    "                                                    test_size=0.20, \n",
    "                                                    random_state=42)"
   ]
  },
  {
   "cell_type": "code",
   "execution_count": 182,
   "metadata": {
    "collapsed": false
   },
   "outputs": [
    {
     "data": {
      "text/plain": [
       "'X_train, X_validation, y_train, y_validation = train_test_split(X_train,\\n                                                    y_train, \\n                                                    test_size=0.20, \\n                                                    random_state=42)\\n'"
      ]
     },
     "execution_count": 182,
     "metadata": {},
     "output_type": "execute_result"
    }
   ],
   "source": [
    "'''X_train, X_validation, y_train, y_validation = train_test_split(X_train,\n",
    "                                                    y_train, \n",
    "                                                    test_size=0.20, \n",
    "                                                    random_state=42)\n",
    "'''"
   ]
  },
  {
   "cell_type": "code",
   "execution_count": 183,
   "metadata": {
    "collapsed": false
   },
   "outputs": [
    {
     "name": "stdout",
     "output_type": "stream",
     "text": [
      "0.0124939766823\n"
     ]
    }
   ],
   "source": [
    "from sklearn.neighbors import KNeighborsRegressor\n",
    "neigh = KNeighborsRegressor(n_neighbors=60,weights='distance')\n",
    "neigh.fit(X_train, y_train) \n",
    "predicatedDiscount = neigh.predict(X_test)\n",
    "\n",
    "#print (predicatedDiscount*discountNorm, y_validation*discountNorm)\n",
    "residualSum = sum((predicatedDiscount-y_test)**2)\n",
    "print (residualSum)"
   ]
  },
  {
   "cell_type": "code",
   "execution_count": 270,
   "metadata": {
    "collapsed": false
   },
   "outputs": [
    {
     "data": {
      "text/plain": [
       "GridSearchCV(cv=5, error_score='raise',\n",
       "       estimator=KNeighborsRegressor(algorithm='auto', leaf_size=30, metric='minkowski',\n",
       "          metric_params=None, n_jobs=1, n_neighbors=5, p=2,\n",
       "          weights='uniform'),\n",
       "       fit_params={}, iid=True, n_jobs=1,\n",
       "       param_grid=[{'n_neighbors': [10, 12, 15, 18, 20, 22, 25, 28, 30, 40, 50, 60, 70, 80, 90], 'weights': ['uniform'], 'leaf_size': [10, 20, 30, 40, 50]}],\n",
       "       pre_dispatch='2*n_jobs', refit=True, scoring='r2', verbose=0)"
      ]
     },
     "execution_count": 270,
     "metadata": {},
     "output_type": "execute_result"
    }
   ],
   "source": [
    "from sklearn.metrics import r2_score\n",
    "from sklearn import grid_search\n",
    "# Set the parameters by cross-validation\n",
    "tuned_parameters = [{'weights': ['uniform'], \n",
    "                     'n_neighbors': [10,12,15,18,20,22,25,28,30,40,50,60,70,80,90], \n",
    "                     'leaf_size' : [10,20,30,40,50]}]\n",
    "score = 'r2'\n",
    "clf = grid_search.GridSearchCV(KNeighborsRegressor(), tuned_parameters, cv=5,\n",
    "                   scoring=score)\n",
    "clf.fit(X_train, y_train)\n"
   ]
  },
  {
   "cell_type": "code",
   "execution_count": 285,
   "metadata": {
    "collapsed": false
   },
   "outputs": [
    {
     "name": "stdout",
     "output_type": "stream",
     "text": [
      "Best params :{'n_neighbors': 28, 'weights': 'uniform', 'leaf_size': 30}\n",
      "RSS: 209.970275213\n"
     ]
    }
   ],
   "source": [
    "print(\"Best params :{}\".format(clf.best_params_))\n",
    "predicatedDiscount = clf.predict(X_test)\n",
    "\n",
    "#print (predicatedDiscount*discountNorm, y_validation*discountNorm)\n",
    "residualSum = sum((predicatedDiscount*discNorm-y_test*discNorm)**2)\n",
    "print (\"RSS: {}\".format(residualSum))"
   ]
  },
  {
   "cell_type": "code",
   "execution_count": 184,
   "metadata": {
    "collapsed": false
   },
   "outputs": [],
   "source": [
    "columnsPredTable = CustomerDataTempEncodedNormalized.columns.values.tolist()\n",
    "columnsPredTable.append('Discount')\n",
    "columnsPredTable.append('Predicted Discount')\n"
   ]
  },
  {
   "cell_type": "code",
   "execution_count": 303,
   "metadata": {
    "collapsed": false
   },
   "outputs": [
    {
     "name": "stderr",
     "output_type": "stream",
     "text": [
      "C:\\Users\\Dikshit\\Anaconda4\\lib\\site-packages\\ipykernel\\__main__.py:5: SettingWithCopyWarning: \n",
      "A value is trying to be set on a copy of a slice from a DataFrame.\n",
      "Try using .loc[row_indexer,col_indexer] = value instead\n",
      "\n",
      "See the caveats in the documentation: http://pandas.pydata.org/pandas-docs/stable/indexing.html#indexing-view-versus-copy\n",
      "C:\\Users\\Dikshit\\Anaconda4\\lib\\site-packages\\ipykernel\\__main__.py:6: SettingWithCopyWarning: \n",
      "A value is trying to be set on a copy of a slice from a DataFrame.\n",
      "Try using .loc[row_indexer,col_indexer] = value instead\n",
      "\n",
      "See the caveats in the documentation: http://pandas.pydata.org/pandas-docs/stable/indexing.html#indexing-view-versus-copy\n"
     ]
    },
    {
     "data": {
      "text/html": [
       "<div>\n",
       "<table border=\"1\" class=\"dataframe\">\n",
       "  <thead>\n",
       "    <tr style=\"text-align: right;\">\n",
       "      <th></th>\n",
       "      <th>month</th>\n",
       "      <th>LOB</th>\n",
       "      <th>patner type</th>\n",
       "      <th>product category</th>\n",
       "      <th>Sale type</th>\n",
       "      <th>deal size</th>\n",
       "      <th>order qty</th>\n",
       "      <th>list margin</th>\n",
       "      <th>List revenue</th>\n",
       "      <th>cost price</th>\n",
       "      <th>selling price</th>\n",
       "      <th>cmp price</th>\n",
       "      <th>Discount</th>\n",
       "      <th>Predicted Discount</th>\n",
       "    </tr>\n",
       "  </thead>\n",
       "  <tbody>\n",
       "    <tr>\n",
       "      <th>4352</th>\n",
       "      <td>1</td>\n",
       "      <td>0</td>\n",
       "      <td>2</td>\n",
       "      <td>3</td>\n",
       "      <td>0</td>\n",
       "      <td>1</td>\n",
       "      <td>1</td>\n",
       "      <td>0.266163</td>\n",
       "      <td>56.430</td>\n",
       "      <td>139.995</td>\n",
       "      <td>228.645</td>\n",
       "      <td>0</td>\n",
       "      <td>0.110004</td>\n",
       "      <td>0.071339</td>\n",
       "    </tr>\n",
       "    <tr>\n",
       "      <th>38419</th>\n",
       "      <td>10</td>\n",
       "      <td>3</td>\n",
       "      <td>2</td>\n",
       "      <td>1</td>\n",
       "      <td>0</td>\n",
       "      <td>0</td>\n",
       "      <td>1</td>\n",
       "      <td>0.391347</td>\n",
       "      <td>0.000</td>\n",
       "      <td>0.000</td>\n",
       "      <td>0.000</td>\n",
       "      <td>0</td>\n",
       "      <td>0.199993</td>\n",
       "      <td>0.221370</td>\n",
       "    </tr>\n",
       "    <tr>\n",
       "      <th>38489</th>\n",
       "      <td>11</td>\n",
       "      <td>3</td>\n",
       "      <td>2</td>\n",
       "      <td>1</td>\n",
       "      <td>1</td>\n",
       "      <td>1</td>\n",
       "      <td>1</td>\n",
       "      <td>0.383293</td>\n",
       "      <td>0.000</td>\n",
       "      <td>0.000</td>\n",
       "      <td>0.000</td>\n",
       "      <td>0</td>\n",
       "      <td>0.269447</td>\n",
       "      <td>0.262448</td>\n",
       "    </tr>\n",
       "    <tr>\n",
       "      <th>35831</th>\n",
       "      <td>4</td>\n",
       "      <td>3</td>\n",
       "      <td>0</td>\n",
       "      <td>1</td>\n",
       "      <td>0</td>\n",
       "      <td>1</td>\n",
       "      <td>1</td>\n",
       "      <td>0.351455</td>\n",
       "      <td>0.000</td>\n",
       "      <td>0.000</td>\n",
       "      <td>0.000</td>\n",
       "      <td>0</td>\n",
       "      <td>0.183746</td>\n",
       "      <td>0.221815</td>\n",
       "    </tr>\n",
       "    <tr>\n",
       "      <th>22760</th>\n",
       "      <td>2</td>\n",
       "      <td>2</td>\n",
       "      <td>2</td>\n",
       "      <td>2</td>\n",
       "      <td>0</td>\n",
       "      <td>0</td>\n",
       "      <td>1</td>\n",
       "      <td>0.413881</td>\n",
       "      <td>71.605</td>\n",
       "      <td>294.995</td>\n",
       "      <td>364.500</td>\n",
       "      <td>0</td>\n",
       "      <td>0.000048</td>\n",
       "      <td>0.140235</td>\n",
       "    </tr>\n",
       "  </tbody>\n",
       "</table>\n",
       "</div>"
      ],
      "text/plain": [
       "       month  LOB  patner type  product category   Sale type  deal size  \\\n",
       "4352       1    0            2                  3          0          1   \n",
       "38419     10    3            2                  1          0          0   \n",
       "38489     11    3            2                  1          1          1   \n",
       "35831      4    3            0                  1          0          1   \n",
       "22760      2    2            2                  2          0          0   \n",
       "\n",
       "       order qty  list margin  List revenue  cost price   selling price  \\\n",
       "4352           1     0.266163        56.430      139.995        228.645   \n",
       "38419          1     0.391347         0.000        0.000          0.000   \n",
       "38489          1     0.383293         0.000        0.000          0.000   \n",
       "35831          1     0.351455         0.000        0.000          0.000   \n",
       "22760          1     0.413881        71.605      294.995        364.500   \n",
       "\n",
       "       cmp price  Discount  Predicted Discount  \n",
       "4352           0  0.110004            0.071339  \n",
       "38419          0  0.199993            0.221370  \n",
       "38489          0  0.269447            0.262448  \n",
       "35831          0  0.183746            0.221815  \n",
       "22760          0  0.000048            0.140235  "
      ]
     },
     "execution_count": 303,
     "metadata": {},
     "output_type": "execute_result"
    }
   ],
   "source": [
    "#print (saveAlphaVsCoeff.columns)\n",
    "featuresToNormalize\n",
    "columnsPredDF = pd.DataFrame(columns=columnsPredTable)\n",
    "columnsPredDF = X_test\n",
    "columnsPredDF[featuresToNormalize] = X_test[featuresToNormalize]*featuresNorms\n",
    "columnsPredDF['Discount'] = y_test*discNorm\n",
    "columnsPredDF['Predicted Discount'] = predicatedDiscount*discNorm\n",
    "\n",
    "columnsPredDF.head(5)"
   ]
  },
  {
   "cell_type": "markdown",
   "metadata": {},
   "source": [
    "# Let's remove few features and try"
   ]
  },
  {
   "cell_type": "code",
   "execution_count": 185,
   "metadata": {
    "collapsed": false
   },
   "outputs": [],
   "source": [
    "from sklearn.cross_validation import train_test_split\n",
    "featuresSelected = ['month','LOB','patner type','product category ','Sale type',\n",
    "                    'deal size','order qty','list margin']\n",
    "X_train, X_test, y_train, y_test = train_test_split(CustomerDataTempEncodedNormalized[featuresSelected],\n",
    "                                                    DiscountNormalized, \n",
    "                                                    test_size=0.20, \n",
    "                                                    random_state=42)"
   ]
  },
  {
   "cell_type": "code",
   "execution_count": null,
   "metadata": {
    "collapsed": false
   },
   "outputs": [],
   "source": [
    "print (featuresToNormalize)\n",
    "print (featuresNorms)\n",
    "from sklearn.metrics import r2_score\n",
    "from sklearn import grid_search\n",
    "# Set the parameters by cross-validation\n",
    "tuned_parameters = [{'weights': ['uniform'], \n",
    "                     'n_neighbors': [10,12,15,18,20,22,25,28,30,40,50,60,70,80,90], \n",
    "                     'leaf_size' : [10,20,30,40,50]}]\n",
    "score = 'r2'\n",
    "clf = grid_search.GridSearchCV(KNeighborsRegressor(), tuned_parameters, cv=5,\n",
    "                   scoring=score)\n",
    "clf.fit(X_train, y_train)"
   ]
  },
  {
   "cell_type": "code",
   "execution_count": null,
   "metadata": {
    "collapsed": false
   },
   "outputs": [],
   "source": [
    "print(\"Best params :{}\".format(clf.best_params_))\n",
    "predicatedDiscount = clf.predict(X_test)\n",
    "\n",
    "#print (predicatedDiscount*discountNorm, y_validation*discountNorm)\n",
    "residualSum = sum((predicatedDiscount*discNorm-y_test*discNorm)**2)\n",
    "print (\"RSS: {}\".format(residualSum))"
   ]
  },
  {
   "cell_type": "code",
   "execution_count": null,
   "metadata": {
    "collapsed": false
   },
   "outputs": [],
   "source": [
    "columnsPredTable = CustomerDataTempEncodedNormalized.columns.values.tolist()\n",
    "columnsPredTable.append('Discount (%)')\n",
    "columnsPredTable.append('Predicted Discount (%)')\n",
    "featuresSelected\n",
    "\n",
    "#featuresToNormalize.remove(featuresSelected[-2:])\n",
    "#featuresToNormalize.remove('')\n",
    "columnsPredDF = pd.DataFrame(columns=columnsPredTable)\n",
    "columnsPredDF = X_test\n",
    "columnsPredDF[featuresToNormalize[0:2]] = X_test[featuresToNormalize[0:2]]*featuresNorms[0:2]\n",
    "columnsPredDF['Discount (%)'] = y_test*discNorm*100 \n",
    "columnsPredDF['Predicted Discount (%)'] = predicatedDiscount*discNorm*100\n",
    "\n",
    "columnsPredDF.head(5)"
   ]
  },
  {
   "cell_type": "code",
   "execution_count": 333,
   "metadata": {
    "collapsed": false
   },
   "outputs": [
    {
     "name": "stdout",
     "output_type": "stream",
     "text": [
      "['order qty', 'list margin', 'List revenue', 'cost price ', 'selling price', 'cmp price']\n",
      "['month', 'LOB', 'patner type', 'product category ', 'Sale type', 'deal size', 'order qty', 'list margin']\n"
     ]
    }
   ],
   "source": [
    "print (featuresToNormalizeAll)\n",
    "print (featuresSelected)\n"
   ]
  },
  {
   "cell_type": "code",
   "execution_count": 131,
   "metadata": {
    "collapsed": false,
    "scrolled": true
   },
   "outputs": [
    {
     "name": "stdout",
     "output_type": "stream",
     "text": [
      "count    40188.000000\n",
      "mean         0.154828\n",
      "std          0.107997\n",
      "min         -4.800000\n",
      "25%          0.100003\n",
      "50%          0.140002\n",
      "75%          0.207744\n",
      "max          6.400000\n",
      "Name: Discount, dtype: float64\n"
     ]
    },
    {
     "data": {
      "text/plain": [
       "[<matplotlib.lines.Line2D at 0x7f94fb12e0f0>]"
      ]
     },
     "execution_count": 131,
     "metadata": {},
     "output_type": "execute_result"
    },
    {
     "data": {
      "image/png": "[encoded data removed]",
      "text/plain": [
       "<matplotlib.figure.Figure at 0x7f94fbbe15f8>"
      ]
     },
     "metadata": {},
     "output_type": "display_data"
    }
   ],
   "source": [
    "print (CustomerDataTemp['Discount'].describe())\n",
    "#plt.plot(CustomerDataTemp['Discount'])\n",
    "plt.plot(CustomerDataTemp['Discount'])"
   ]
  },
  {
   "cell_type": "code",
   "execution_count": 134,
   "metadata": {
    "collapsed": false
   },
   "outputs": [
    {
     "data": {
      "text/plain": [
       "<matplotlib.legend.Legend at 0x7f94fb1674e0>"
      ]
     },
     "execution_count": 134,
     "metadata": {},
     "output_type": "execute_result"
    },
    {
     "data": {
      "image/png": "[encoded data removed]",
      "text/plain": [
       "<matplotlib.figure.Figure at 0x7f94fb15ad30>"
      ]
     },
     "metadata": {},
     "output_type": "display_data"
    }
   ],
   "source": []
  },
  {
   "cell_type": "code",
   "execution_count": 151,
   "metadata": {
    "collapsed": false
   },
   "outputs": [
    {
     "data": {
      "image/png": "[encoded data removed]",
      "text/plain": [
       "<matplotlib.figure.Figure at 0x7f94fb252240>"
      ]
     },
     "metadata": {},
     "output_type": "display_data"
    },
    {
     "data": {
      "image/png": "[encoded data removed]",
      "text/plain": [
       "<matplotlib.figure.Figure at 0x7f94fbf98908>"
      ]
     },
     "metadata": {},
     "output_type": "display_data"
    }
   ],
   "source": [
    "plt_legend = []\n",
    "colormap='rgbc'\n",
    "for index,val in enumerate(CustomerDataTemp['product category '].unique()):\n",
    "    plt.plot(CustomerDataTemp[CustomerDataTemp['product category '] == val]['Discount'], color=colormap[index])\n",
    "    plt_legend.append(val)\n",
    "    \n",
    "plt.legend(plt_legend)\n",
    "\n",
    "f,((ax1,ax2),(ax3,ax4))=plt.subplots(2,2,figsize=(20, 10))\n",
    "axis = [ax1, ax2, ax3, ax4]\n",
    "prodCategoryDescribe = pd.DataFrame(columns=['Product Category','min','max','mean','count'])\n",
    "for index,val in enumerate(CustomerDataTemp['product category '].unique()):\n",
    "    #print (index,val)\n",
    "    prodCategory = CustomerDataTemp[CustomerDataTemp['product category '] == val]['Discount']\n",
    "    axis[index].plot(prodCategory, color=colormap[index])\n",
    "    axis[index].set_title(val)\n",
    "    _prodDes = prodCategory.describe()\n",
    "    prodCategoryDescribe.loc[index] = [val,_prodDes['min'], _prodDes['max'],_prodDes['mean'],_prodDes['count']]"
   ]
  },
  {
   "cell_type": "code",
   "execution_count": 152,
   "metadata": {
    "collapsed": false
   },
   "outputs": [
    {
     "data": {
      "text/html": [
       "<div>\n",
       "<table border=\"1\" class=\"dataframe\">\n",
       "  <thead>\n",
       "    <tr style=\"text-align: right;\">\n",
       "      <th></th>\n",
       "      <th>Product Category</th>\n",
       "      <th>min</th>\n",
       "      <th>max</th>\n",
       "      <th>mean</th>\n",
       "      <th>count</th>\n",
       "    </tr>\n",
       "  </thead>\n",
       "  <tbody>\n",
       "    <tr>\n",
       "      <th>0</th>\n",
       "      <td>XYZ 11</td>\n",
       "      <td>-2.699969</td>\n",
       "      <td>1.796064</td>\n",
       "      <td>0.109671</td>\n",
       "      <td>11185.0</td>\n",
       "    </tr>\n",
       "    <tr>\n",
       "      <th>1</th>\n",
       "      <td>XYZ Others</td>\n",
       "      <td>-4.800000</td>\n",
       "      <td>0.854450</td>\n",
       "      <td>0.196056</td>\n",
       "      <td>13406.0</td>\n",
       "    </tr>\n",
       "    <tr>\n",
       "      <th>2</th>\n",
       "      <td>XYZ 22</td>\n",
       "      <td>-1.749969</td>\n",
       "      <td>6.400000</td>\n",
       "      <td>0.162654</td>\n",
       "      <td>9726.0</td>\n",
       "    </tr>\n",
       "    <tr>\n",
       "      <th>3</th>\n",
       "      <td>Client Others</td>\n",
       "      <td>-3.019996</td>\n",
       "      <td>0.749469</td>\n",
       "      <td>0.133754</td>\n",
       "      <td>5871.0</td>\n",
       "    </tr>\n",
       "  </tbody>\n",
       "</table>\n",
       "</div>"
      ],
      "text/plain": [
       "  Product Category       min       max      mean    count\n",
       "0           XYZ 11 -2.699969  1.796064  0.109671  11185.0\n",
       "1       XYZ Others -4.800000  0.854450  0.196056  13406.0\n",
       "2           XYZ 22 -1.749969  6.400000  0.162654   9726.0\n",
       "3    Client Others -3.019996  0.749469  0.133754   5871.0"
      ]
     },
     "execution_count": 152,
     "metadata": {},
     "output_type": "execute_result"
    }
   ],
   "source": [
    "prodCategoryDescribe"
   ]
  },
  {
   "cell_type": "code",
   "execution_count": 85,
   "metadata": {
    "collapsed": false
   },
   "outputs": [
    {
     "name": "stdout",
     "output_type": "stream",
     "text": [
      "          order qty      Discount   list margin  List revenue   cost price   \\\n",
      "count  39346.000000  39346.000000  39346.000000  39346.000000  39346.000000   \n",
      "mean       2.885528      0.152529      0.307098     57.074662    193.240487   \n",
      "std        5.422813      0.083776      0.087967     74.636439    299.410689   \n",
      "min        1.000000     -0.060217     -1.579661      0.000000      0.000000   \n",
      "25%        1.000000      0.100002      0.226201     11.600000     37.495000   \n",
      "50%        1.000000      0.139989      0.331141     41.295000    102.495000   \n",
      "75%        2.000000      0.201038      0.378899     73.220000    242.495000   \n",
      "max      115.000000      0.369323      1.100000    929.525000   4004.995000   \n",
      "\n",
      "       selling price     cmp price  \n",
      "count   39346.000000  39346.000000  \n",
      "mean      213.372959      0.072797  \n",
      "std       340.697913      0.220393  \n",
      "min         0.000000      0.000000  \n",
      "25%         0.000000      0.000000  \n",
      "50%       130.400000      0.000000  \n",
      "75%       267.360000      0.000000  \n",
      "max      4830.210000      1.080000  \n"
     ]
    },
    {
     "data": {
      "text/plain": [
       "[<matplotlib.lines.Line2D at 0x7f94fc03b3c8>]"
      ]
     },
     "execution_count": 85,
     "metadata": {},
     "output_type": "execute_result"
    },
    {
     "data": {
      "image/png": "[encoded data removed]",
      "text/plain": [
       "<matplotlib.figure.Figure at 0x7f94fb156400>"
      ]
     },
     "metadata": {},
     "output_type": "display_data"
    }
   ],
   "source": [
    "print (CustomerDataRemovedMissingAndOL.describe())\n",
    "plt.plot(CustomerDataRemovedMissingAndOL['Discount'])"
   ]
  },
  {
   "cell_type": "code",
   "execution_count": 74,
   "metadata": {
    "collapsed": false
   },
   "outputs": [
    {
     "data": {
      "text/plain": [
       "{'boxes': [<matplotlib.lines.Line2D at 0x7f94fab5c2b0>],\n",
       " 'caps': [<matplotlib.lines.Line2D at 0x7f94fab3bcc0>,\n",
       "  <matplotlib.lines.Line2D at 0x7f94fab3bdd8>],\n",
       " 'fliers': [<matplotlib.lines.Line2D at 0x7f94fb0f9e48>],\n",
       " 'means': [],\n",
       " 'medians': [<matplotlib.lines.Line2D at 0x7f94fb0f9630>],\n",
       " 'whiskers': [<matplotlib.lines.Line2D at 0x7f94fab5cc50>,\n",
       "  <matplotlib.lines.Line2D at 0x7f94fab5cd68>]}"
      ]
     },
     "execution_count": 74,
     "metadata": {},
     "output_type": "execute_result"
    },
    {
     "data": {
      "image/png": "[encoded data removed]",
      "text/plain": [
       "<matplotlib.figure.Figure at 0x7f94fb018ba8>"
      ]
     },
     "metadata": {},
     "output_type": "display_data"
    }
   ],
   "source": [
    "plt.boxplot(CustomerDataRemovedMissingAndOL['Discount'])"
   ]
  },
  {
   "cell_type": "code",
   "execution_count": 75,
   "metadata": {
    "collapsed": true
   },
   "outputs": [],
   "source": [
    "import numpy as np\n",
    "from scipy import cluster\n",
    "from matplotlib import pyplot"
   ]
  },
  {
   "cell_type": "code",
   "execution_count": 84,
   "metadata": {
    "collapsed": false
   },
   "outputs": [
    {
     "name": "stdout",
     "output_type": "stream",
     "text": [
      "        month  LOB patner type product category  Sale type deal size  \\\n",
      "590  2015-M10  CSB           V     Client Others       POS     Small   \n",
      "591  2015-M11  CSB           D     Client Others      APOS     Small   \n",
      "592  2015-M11  CSB           D     Client Others       POS       big   \n",
      "593  2015-M11  CSB           V     Client Others      APOS     Small   \n",
      "594  2015-M12  CSB           V     Client Others      APOS     Small   \n",
      "\n",
      "     order qty  Discount  list margin  List revenue  cost price   \\\n",
      "590          1  0.150030     0.348266          0.00        0.000   \n",
      "591          1 -0.070298     0.311406         53.81      139.995   \n",
      "592          2  0.175311     0.302105         56.43      139.995   \n",
      "593          2 -0.088604     0.300882         53.81      139.995   \n",
      "594          1  0.000012     0.285113         56.43      139.995   \n",
      "\n",
      "     selling price  cmp price  \n",
      "590          0.000        0.0  \n",
      "591        228.645        0.0  \n",
      "592        228.645        0.0  \n",
      "593        228.645        0.0  \n",
      "594        228.645        0.0  \n",
      "      month  LOB patner type product category  Sale type deal size  order qty  \\\n",
      "0  2015-M10  CSB           V            XYZ 11      APOS     Small          1   \n",
      "1  2015-M10  CSB           V            XYZ 11      APOS     Small          1   \n",
      "2  2015-M10  CSB           V            XYZ 11      APOS     Small          1   \n",
      "3  2015-M10  CSB           V            XYZ 11       POS     Small          1   \n",
      "4  2015-M10  CSB           V            XYZ 11       POS     Small          1   \n",
      "\n",
      "   Discount  list margin  List revenue  cost price   selling price  cmp price  \n",
      "0  0.140000     0.285679          0.00        0.000            0.0        0.0  \n",
      "1  0.125005     0.186930         56.04      102.495          173.2        0.0  \n",
      "2  0.075005     0.184192          0.00        0.000            0.0        0.0  \n",
      "3  0.000000     0.183198         30.09       47.495           63.0        0.0  \n",
      "4  0.000000     0.171554          0.00        0.000            0.0        0.0  \n",
      "       month  LOB patner type product category  Sale type deal size  \\\n",
      "17  2015-M10  CSB           V            XYZ 22      APOS     Small   \n",
      "18  2015-M10  CSB           V            XYZ 22       POS     Small   \n",
      "19  2015-M10  CSB           V            XYZ 22      APOS     Small   \n",
      "20  2015-M10  CSB           V            XYZ 22      APOS     Small   \n",
      "21  2015-M10  CSB           V            XYZ 22      APOS     Small   \n",
      "\n",
      "    order qty  Discount  list margin  List revenue  cost price   \\\n",
      "17          2  0.083336     0.301320        58.700      144.995   \n",
      "18          1  0.210007     0.301320        58.700      144.995   \n",
      "19          4  0.124270     0.316172        41.585      114.995   \n",
      "20          1  0.150003     0.384701        61.465      264.995   \n",
      "21          1  0.140006     0.253788         0.000        0.000   \n",
      "\n",
      "    selling price  cmp price  \n",
      "17         164.50        0.0  \n",
      "18         164.50        0.0  \n",
      "19         149.52        0.0  \n",
      "20         289.50        0.0  \n",
      "21           0.00        0.0  \n",
      "       month  LOB patner type product category  Sale type deal size  \\\n",
      "11  2015-M10  CSB           V        XYZ Others      APOS     Small   \n",
      "12  2015-M10  CSB           V        XYZ Others      APOS     Small   \n",
      "13  2015-M10  CSB           V        XYZ Others      APOS     Small   \n",
      "14  2015-M10  CSB           V        XYZ Others      APOS     Small   \n",
      "15  2015-M10  CSB           V        XYZ Others      APOS     Small   \n",
      "\n",
      "    order qty  Discount  list margin  List revenue  cost price   \\\n",
      "11          1  0.100002     0.339599        75.895      249.995   \n",
      "12          1  0.125008     0.378899         0.000        0.000   \n",
      "13          1  0.125002     0.423715         0.000        0.000   \n",
      "14          1  0.125004     0.417634         0.000        0.000   \n",
      "15          1  0.100005     0.372473         0.000        0.000   \n",
      "\n",
      "    selling price  cmp price  \n",
      "11          249.5       0.94  \n",
      "12            0.0       0.00  \n",
      "13            0.0       0.00  \n",
      "14            0.0       0.00  \n",
      "15            0.0       0.00  \n"
     ]
    },
    {
     "name": "stderr",
     "output_type": "stream",
     "text": [
      "/home/tivo/anaconda3/lib/python3.5/site-packages/matplotlib/axes/_axes.py:519: UserWarning: No labelled objects found. Use label='...' kwarg on individual plots.\n",
      "  warnings.warn(\"No labelled objects found. \"\n"
     ]
    },
    {
     "data": {
      "image/png": "[encoded data removed]",
      "text/plain": [
       "<matplotlib.figure.Figure at 0x7f94fb222160>"
      ]
     },
     "metadata": {},
     "output_type": "display_data"
    }
   ],
   "source": [
    "\n",
    "groups = CustomerDataTemp.groupby('product category ')\n",
    "\n",
    "# Plot\n",
    "fig, ax = plt.subplots()\n",
    "#print (groups.head())\n",
    "ax.margins(0.05) # Optional, just adds 5% padding to the autoscaling\n",
    "for name, group in groups:\n",
    "    print (group.head(5))\n",
    "    #ax.plot(group['patner type'], group['Discount'], marker='o', linestyle='', ms=12, label=name)\n",
    "ax.legend()\n",
    "\n",
    "plt.show()\n",
    "#plt.scatter(CustomerDataTemp['Discount'])"
   ]
  },
  {
   "cell_type": "code",
   "execution_count": null,
   "metadata": {
    "collapsed": true
   },
   "outputs": [],
   "source": []
  }
 ],
 "metadata": {
  "kernelspec": {
   "display_name": "Python 2",
   "language": "python",
   "name": "python2"
  },
  "language_info": {
   "codemirror_mode": {
    "name": "ipython",
    "version": 2
   },
   "file_extension": ".py",
   "mimetype": "text/x-python",
   "name": "python",
   "nbconvert_exporter": "python",
   "pygments_lexer": "ipython2",
   "version": "2.7.11"
  }
 },
 "nbformat": 4,
 "nbformat_minor": 0
}
