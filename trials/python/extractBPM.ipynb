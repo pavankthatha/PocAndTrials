{
 "cells": [
  {
   "cell_type": "code",
   "execution_count": null,
   "metadata": {
    "collapsed": true
   },
   "outputs": [],
   "source": [
    "FileName: /home/tivo/Desktop/songs/wav/JDSC.wav \n",
    "nsamps: 11556864\n",
    "fs: 44100\n",
    "shape tmdata: (11556864, 2) tmprate: 44100\n",
    "shape samps: 11556864"
   ]
  },
  {
   "cell_type": "code",
   "execution_count": 363,
   "metadata": {
    "collapsed": false
   },
   "outputs": [],
   "source": [
    "import wave, array, math, time, argparse, sys\n",
    "import numpy as np, pywt\n",
    "from scipy import signal\n",
    "import pdb\n",
    "import matplotlib.pyplot as plt\n",
    "import pandas as pd\n",
    "from scipy.io import wavfile \n",
    "\n",
    "def read_wav(filename):\n",
    "    return wavfile.read(filename)\n",
    "\n",
    "'''\n",
    "    #open file, get metadata for audio\n",
    "    try:\n",
    "        wf = wave.open(filename,'rb')\n",
    "    except IOError as e:\n",
    "        print (e)\n",
    "        return\n",
    "\n",
    "    # typ = choose_type( wf.getsampwidth() ) #TODO: implement choose_type\n",
    "    nsamps = wf.getnframes();\n",
    "    assert(nsamps > 0);\n",
    "    print (\"nsamps: {}\".format(nsamps))\n",
    "    \n",
    "    fs = wf.getframerate()\n",
    "    assert(fs > 0)\n",
    "    print (\"fs: {}\".format(fs))\n",
    "    \n",
    "    tmprate, tmpdata = wavfile.read(filename)\n",
    "    print(\"shape tmdata: {} tmprate: {}\".format(tmpdata.shape,tmprate))\n",
    "''' \n",
    "\n",
    "    \n",
    "'''    \n",
    "    # read entire file and make into an array\n",
    "    samps = list(array.array('i',wf.readframes(nsamps)))\n",
    "    #print 'Read', nsamps,'samples from', filename\n",
    "    try:\n",
    "        assert(nsamps == len(samps))\n",
    "    except AssertionError as e:\n",
    "        print  (nsamps, \"not equal to\", len(samps))\n",
    "    print (\"shape samps: {}\".format(len(samps)))\n",
    "    return samps, fs\n",
    "''' \n",
    "\n",
    "def read_wav_mono(filename):\n",
    "\n",
    "    #open file, get metadata for audio\n",
    "    try:\n",
    "        wf = wave.open(filename,'rb')\n",
    "    except IOError as e:\n",
    "        print (e)\n",
    "        return\n",
    "\n",
    "    # typ = choose_type( wf.getsampwidth() ) #TODO: implement choose_type\n",
    "    nsamps = wf.getnframes();\n",
    "    assert(nsamps > 0);\n",
    "    #print (\"nsamps: {}\".format(nsamps))\n",
    "    \n",
    "    fs = wf.getframerate()\n",
    "    assert(fs > 0)\n",
    "    #print (\"fs: {}\".format(fs))\n",
    "    \n",
    "    tmprate, tmpdata = wavfile.read(filename)\n",
    "    #print(\"shape tmdata: {} tmprate: {}\".format(tmpdata.shape,tmprate))\n",
    "       \n",
    "    # read entire file and make into an array\n",
    "    samps = list(array.array('i',wf.readframes(nsamps)))\n",
    "    #print 'Read', nsamps,'samples from', filename\n",
    "    try:\n",
    "        assert(nsamps == len(samps))\n",
    "    except AssertionError as e:\n",
    "        print  (nsamps, \"not equal to\", len(samps))\n",
    "    #print (\"shape samps: {}\".format(len(samps)))\n",
    "    return samps, fs\n",
    "\n",
    "\n",
    "    #sampsarray = np.zeroes(tmpdata.shape)\n",
    "    #for i in tmpdata.shape[1]:\n",
    "    #amps = list(array.array('i',wf.readframes(nsamps)))\n",
    "    #sampsarray = np.column_stack(tmpdata[0],tmpdata[1])\n",
    "    \n",
    "    \n",
    "\n",
    "def ab_adjuster(value, granualityRoundOff):\n",
    "    #granualityRoundOff means : if granualityRoundOff is 5, then 12.4 would be rounded to 10, \n",
    "    # 12.6 would be rounded to 15\n",
    "    quotient,remainder = divmod(value,granualityRoundOff)\n",
    "    #remainder = value%granualityRoundOff\n",
    "    #print (quotient)\n",
    "    if ( float(remainder) < float(granualityRoundOff)/2):\n",
    "        #print(quotient*granualityRoundOff)\n",
    "        return quotient*granualityRoundOff\n",
    "    else:\n",
    "        #print((quotient+1)*granualityRoundOff)\n",
    "        return ((quotient+1)*granualityRoundOff)\n",
    "\n",
    "\n",
    "# print an error when no data can be found\n",
    "def no_audio_data():\n",
    "    print (\"No audio data for sample, skipping...\")\n",
    "    return None, None\n",
    "    \n",
    "# simple peak detection\n",
    "def peak_detect(data):\n",
    "    max_val = numpy.amax(abs(data)) \n",
    "    peak_ndx = numpy.where(data==max_val)\n",
    "    if len(peak_ndx[0]) == 0: #if nothing found then the max must be negative\n",
    "        peak_ndx = numpy.where(data==-max_val)\n",
    "    return peak_ndx\n",
    "\n",
    "def my_print(toprint):\n",
    "    printEnable = True\n",
    "    if (printEnable):\n",
    "        print(toprint)\n",
    "def bpm_detector(data,fs):\n",
    "    #print(\"\")\n",
    "    #print (\"+\"*80)\n",
    "    cA = [] \n",
    "    cD = []\n",
    "    correl = []\n",
    "    cD_sum = []\n",
    "    levels = 4\n",
    "    max_decimation = 2**(levels-1);\n",
    "    min_ndx = 60./ 220 * (fs/max_decimation)\n",
    "    max_ndx = 60./ 40 * (fs/max_decimation)\n",
    "    \n",
    "    #print(\"type(Data): {} shape(Data): {}\".format(type(data),len(data)))\n",
    "    #data = data.tolist()\n",
    "    for loop in range(0,levels):\n",
    "        cD = []\n",
    "        # 1) DWT\n",
    "        if loop == 0:\n",
    "            [cA,cD] = pywt.dwt(data,'db4');\n",
    "            #cA : approximation coeff\n",
    "            #cD : Detailed Coeff\n",
    "            cD_minlen = len(cD)/max_decimation+1;\n",
    "            cD_sum = numpy.zeros(cD_minlen);\n",
    "        else:\n",
    "            [cA,cD] = pywt.dwt(cA,'db4');\n",
    "        \n",
    "        #print(\"cA : {}, cD: {}\".format(cA,cD))\n",
    "        \n",
    "        #print (\"DWT : type(cA) : {} type(cD): {} len(cA) {}, len(cD) {}\".format(type(cA), type(cD), cA.shape, cD.shape))\n",
    "        # 2) Filter\n",
    "        cD = signal.lfilter([0.01],[1 -0.99],cD);\n",
    "        #print(\"Filtered cD\")\n",
    "        #print(cD)\n",
    "\n",
    "        # 4) Subtractargs.filename out the mean.\n",
    "\n",
    "        # 5) Decimate for reconstruction later.\n",
    "        cD = abs(cD[::(2**(levels-loop-1))]);\n",
    "        #print(\"Cd raise to level-inverse{}\",format(cD))\n",
    "        #print(\"cD shape: {}\".format(cD.shape))\n",
    "        cD = cD - numpy.mean(cD);\n",
    "        #print(\"cD - mean(cD)\")\n",
    "        #print(cD)\n",
    "        # 6) Recombine the signal before ACF\n",
    "        #    essentially, each level I concatenate \n",
    "        #    the detail coefs (i.e. the HPF values)\n",
    "        #    to the beginning of the array\n",
    "        cD_sum = cD[0:cD_minlen] + cD_sum;\n",
    "        #print (\"cD_sum\")\n",
    "        #print(cD_sum)\n",
    "    \n",
    "    #print (\"Loop over\")\n",
    "    if [b for b in cA if b != 0.0] == []:\n",
    "        return no_audio_data()\n",
    "    # adding in the approximate data as well...    \n",
    "    cA = signal.lfilter([0.01],[1 -0.99],cA);\n",
    "    cA = abs(cA);\n",
    "    cA = cA - numpy.mean(cA);\n",
    "    #print(\"cA - mean(cA){}\".format(cA))\n",
    "    \n",
    "    #print (\"Filtered cA{}\".format(cA))\n",
    "    cD_sum = cA[0:cD_minlen] + cD_sum;\n",
    "    #print (\"cD_sum_with-approx-cA\")\n",
    "    #print(cD_sum)\n",
    "    \n",
    "    # ACF\n",
    "    correl = numpy.correlate(cD_sum,cD_sum,'full') \n",
    "    #print(\"sizeof(cD_sum_with-approx-cA){}, sizeof(ACF){}\".format(len(cD_sum),len(correl)))\n",
    "    #print ('ACF on cD_sum_with-approx-cA')\n",
    "    #print (correl)\n",
    "    \n",
    "    midpoint = len(correl) / 2\n",
    "    correl_midpoint_tmp = correl[midpoint:]\n",
    "    #print ('correl_midpoint_tmp')\n",
    "    #print (correl_midpoint_tmp)\n",
    "    #print (\"min_ndx{} max_ndx{}\".format(min_ndx,max_ndx))\n",
    "    peak_ndx = peak_detect(correl_midpoint_tmp[min_ndx:max_ndx]);\n",
    "    if len(peak_ndx) > 1:\n",
    "        return no_audio_data()\n",
    "    \n",
    "    #print ('peak_ndx')\n",
    "    #print (peak_ndx)\n",
    "    peak_ndx_adjusted = peak_ndx[0]+min_ndx;\n",
    "    #print ('peak_ndx_adjusted,max_decimation')\n",
    "    #print (peak_ndx_adjusted,max_decimation)\n",
    "    bpm = 60./ peak_ndx_adjusted * (fs/max_decimation)\n",
    "    #print (bpm)\n",
    "    return bpm,correl\n",
    "    \n",
    "    \n"
   ]
  },
  {
   "cell_type": "code",
   "execution_count": 364,
   "metadata": {
    "collapsed": false
   },
   "outputs": [],
   "source": [
    "import pywt\n",
    "#bpm_detector(range(1,10),5)\n",
    "#(cA, cD) = pywt.dwt([1, 2, 3, 4, 5, 6], 'db1')"
   ]
  },
  {
   "cell_type": "code",
   "execution_count": 365,
   "metadata": {
    "collapsed": false,
    "scrolled": true
   },
   "outputs": [],
   "source": [
    "bpmsDF = pd.DataFrame(columns=['audioFile','bpms'])\n",
    "\n",
    "def extractBPMtoDF(filename,audioWindowinSec):\n",
    "    #filename = \"/home/tivo/Desktop/songs/wav/AYTH.wav\"\n",
    "    #window = 5\n",
    "    window = audioWindowinSec\n",
    "    global bpmsDF\n",
    "    \n",
    "    fs,samps = read_wav(filename)\n",
    "    \n",
    "    data = []\n",
    "    correl=[]\n",
    "    bpm = 0\n",
    "    n=0;\n",
    "    nsamps = samps.shape[0]\n",
    "    #print(\"samp shape: {}, row: {}, col: {}\".format(samps.shape,samps.shape[0],samps.shape[1]))\n",
    "    window_samps = int(window*fs)         \n",
    "    samps_ndx = 0;  #first sample in window_ndx \n",
    "    max_window_ndx = nsamps / window_samps;\n",
    "    bpms = numpy.zeros(max_window_ndx)\n",
    "    adjusted_bpms = []\n",
    "\n",
    "    #print (\"fs {}, nsamps {}, window_samps {},max_window_ndx {}, int(max_window_ndx) {}\"\\\n",
    "    #       .format(fs, nsamps, window_samps,max_window_ndx, int(max_window_ndx)))\n",
    "    #iterate through all windows\n",
    "    for channelIdx in range(0,samps.shape[1]):\n",
    "        print()\n",
    "        sampList = list(samps[:,channelIdx])\n",
    "        for window_ndx in range(0,int(max_window_ndx)):\n",
    "\n",
    "            #get a new set of samples\n",
    "            #print n,\":\",len(bpms),\":\",max_window_ndx,\":\",fs,\":\",nsamps,\":\",samps_ndx\n",
    "            #print(\"channelIdx: {}\",format(channelIdx))\n",
    "            print(len(sampList))\n",
    "            #data = list(samps[channelIdx:,].tolist()[samps_ndx:samps_ndx+window_samps])\n",
    "            data = sampList[samps_ndx:samps_ndx+window_samps]\n",
    "            #print(\"type(Data): {}\".format(type(data)))\n",
    "            print(\"Data-size: {}\".format(len(data)))\n",
    "            if not ((len(data) % window_samps) == 0):\n",
    "                print(\"Skipping channelIdx :{}\".format(channelIdx))\n",
    "                continue\n",
    "                #raise AssertionError( str(len(data) ) ) \n",
    "\n",
    "            bpm, correl_temp = bpm_detector(data,fs)\n",
    "\n",
    "            if bpm == None:\n",
    "                continue\n",
    "\n",
    "            adjusted_bpm = ab_adjuster(bpm,5) # 5 second is round off granuality\n",
    "            bpms[window_ndx] = bpm\n",
    "            adjusted_bpms.append(str(int(adjusted_bpm)))\n",
    "            correl = correl_temp\n",
    "\n",
    "            #iterate at the end of the loop\n",
    "            samps_ndx = samps_ndx+window_samps;\n",
    "            n=n+1; #counter for debug...\n",
    "\n",
    "        bpmsDF = bpmsDF.append(pd.DataFrame({'audioFile': filename,'bpms': ' '.join(adjusted_bpms)}, index=[0]))\n",
    "        bpm = numpy.median(bpms)\n",
    "        #print ('Completed.  Estimated Beats Per Minute:', bpm)\n",
    "\n",
    "        n = range(0,len(correl))\n",
    "        plt.plot(n,abs(correl)); \n",
    "        plt.show(False); #plot non-blocking\n",
    "        time.sleep(10);\n",
    "        plt.close();\n",
    "\n",
    "\n",
    "def extractBPMtoDFExisting(filename,audioWindowinSec):\n",
    "    #filename = \"/home/tivo/Desktop/songs/wav/AYTH.wav\"\n",
    "    #window = 5\n",
    "    window = audioWindowinSec\n",
    "    global bpmsDF\n",
    "    \n",
    "    samps,fs = read_wav_mono(filename)\n",
    "    \n",
    "    data = []\n",
    "    correl=[]\n",
    "    bpm = 0\n",
    "    n=0;\n",
    "    nsamps = len(samps)\n",
    "    window_samps = int(window*fs)         \n",
    "    samps_ndx = 0;  #first sample in window_ndx \n",
    "    max_window_ndx = nsamps / window_samps;\n",
    "    bpms = numpy.zeros(max_window_ndx)\n",
    "    adjusted_bpms = []\n",
    "\n",
    "    #print (\"fs {}, nsamps {}, window_samps {},max_window_ndx {}, int(max_window_ndx) {}\"\\\n",
    "    #       .format(fs, nsamps, window_samps,max_window_ndx, int(max_window_ndx)))\n",
    "    #iterate through all windows\n",
    "    for window_ndx in range(0,int(max_window_ndx)):\n",
    "\n",
    "        #get a new set of samples\n",
    "        #print n,\":\",len(bpms),\":\",max_window_ndx,\":\",fs,\":\",nsamps,\":\",samps_ndx\n",
    "        data = samps[samps_ndx:samps_ndx+window_samps]\n",
    "        #print(\"type(Data): {}\".format(type(data)))\n",
    "        #print(\"Data-size: {}\".format(len(data)))\n",
    "        if not ((len(data) % window_samps) == 0):\n",
    "            raise AssertionError( str(len(data) ) ) \n",
    "        \n",
    "        bpm, correl_temp = bpm_detector(data,fs)\n",
    "\n",
    "        if bpm == None:\n",
    "            continue\n",
    "        \n",
    "        adjusted_bpm = ab_adjuster(bpm,5) # 5 second is round off granuality\n",
    "        bpms[window_ndx] = bpm\n",
    "        adjusted_bpms.append(str(int(adjusted_bpm)))\n",
    "        correl = correl_temp\n",
    "        \n",
    "        #iterate at the end of the loop\n",
    "        samps_ndx = samps_ndx+window_samps;\n",
    "        n=n+1; #counter for debug...\n",
    "\n",
    "    bpmsDF = bpmsDF.append(pd.DataFrame({'audioFile': filename,'bpms': ' '.join(adjusted_bpms)}, index=[0]))\n",
    "    bpm = numpy.median(bpms)\n",
    "    #print ('Completed.  Estimated Beats Per Minute:', bpm)\n",
    "    \n",
    "    n = range(0,len(correl))\n",
    "    plt.plot(n,abs(correl)); \n",
    "    plt.show(False); #plot non-blocking\n",
    "    time.sleep(10);\n",
    "    plt.close();\n"
   ]
  },
  {
   "cell_type": "code",
   "execution_count": 366,
   "metadata": {
    "collapsed": true
   },
   "outputs": [],
   "source": [
    "import os\n",
    "from pydub import AudioSegment\n",
    "from os.path import basename\n",
    "import argparse\n",
    "\n",
    "\n",
    "def mp3ToWav(mp3dir,filename):\n",
    "    mp3FilePath = \"\".join([mp3dir, \"/\",filename])\n",
    "    sound = AudioSegment.from_mp3(mp3FilePath)\n",
    "    mp3FileName = basename(mp3FilePath)\n",
    "\n",
    "    mp3FileNameWithoutExt = os.path.splitext(mp3FileName)[0]\n",
    "    wavFilePath = \"\".join([mp3dir,\"/\",mp3FileNameWithoutExt,'.wav'])\n",
    "    sound.export(wavFilePath, format=\"wav\")\n",
    "    return wavFilePath\n"
   ]
  },
  {
   "cell_type": "code",
   "execution_count": 367,
   "metadata": {
    "collapsed": false
   },
   "outputs": [
    {
     "data": {
      "text/html": [
       "<div>\n",
       "<table border=\"1\" class=\"dataframe\">\n",
       "  <thead>\n",
       "    <tr style=\"text-align: right;\">\n",
       "      <th></th>\n",
       "      <th>audioFile</th>\n",
       "      <th>bpms</th>\n",
       "    </tr>\n",
       "  </thead>\n",
       "  <tbody>\n",
       "  </tbody>\n",
       "</table>\n",
       "</div>"
      ],
      "text/plain": [
       "Empty DataFrame\n",
       "Columns: [audioFile, bpms]\n",
       "Index: []"
      ]
     },
     "execution_count": 367,
     "metadata": {},
     "output_type": "execute_result"
    }
   ],
   "source": [
    "bpmsDF"
   ]
  },
  {
   "cell_type": "code",
   "execution_count": null,
   "metadata": {
    "collapsed": false
   },
   "outputs": [
    {
     "name": "stdout",
     "output_type": "stream",
     "text": [
      "FileName: /home/tivo/Desktop/songs/wav/test/01 - Fitoo.wav \n"
     ]
    },
    {
     "name": "stderr",
     "output_type": "stream",
     "text": [
      "/home/tivo/anaconda3/lib/python3.5/site-packages/ipykernel/__main__.py:85: VisibleDeprecationWarning: using a non-integer number instead of an integer will result in an error in the future\n",
      "/home/tivo/anaconda3/lib/python3.5/site-packages/ipykernel/__main__.py:138: VisibleDeprecationWarning: using a non-integer number instead of an integer will result in an error in the future\n",
      "/home/tivo/anaconda3/lib/python3.5/site-packages/ipykernel/__main__.py:163: VisibleDeprecationWarning: using a non-integer number instead of an integer will result in an error in the future\n",
      "/home/tivo/anaconda3/lib/python3.5/site-packages/ipykernel/__main__.py:177: VisibleDeprecationWarning: using a non-integer number instead of an integer will result in an error in the future\n",
      "/home/tivo/anaconda3/lib/python3.5/site-packages/ipykernel/__main__.py:188: VisibleDeprecationWarning: using a non-integer number instead of an integer will result in an error in the future\n",
      "/home/tivo/anaconda3/lib/python3.5/site-packages/ipykernel/__main__.py:192: VisibleDeprecationWarning: using a non-integer number instead of an integer will result in an error in the future\n",
      "/home/tivo/anaconda3/lib/python3.5/site-packages/ipykernel/__main__.py:103: FutureWarning: comparison to `None` will result in an elementwise object comparison in the future.\n"
     ]
    },
    {
     "name": "stdout",
     "output_type": "stream",
     "text": [
      "FileName: /home/tivo/Desktop/songs/wav/test/01 - Fitoo.wav \n"
     ]
    },
    {
     "name": "stderr",
     "output_type": "stream",
     "text": [
      "/home/tivo/anaconda3/lib/python3.5/site-packages/ipykernel/__main__.py:85: VisibleDeprecationWarning: using a non-integer number instead of an integer will result in an error in the future\n",
      "/home/tivo/anaconda3/lib/python3.5/site-packages/ipykernel/__main__.py:138: VisibleDeprecationWarning: using a non-integer number instead of an integer will result in an error in the future\n",
      "/home/tivo/anaconda3/lib/python3.5/site-packages/ipykernel/__main__.py:163: VisibleDeprecationWarning: using a non-integer number instead of an integer will result in an error in the future\n",
      "/home/tivo/anaconda3/lib/python3.5/site-packages/ipykernel/__main__.py:177: VisibleDeprecationWarning: using a non-integer number instead of an integer will result in an error in the future\n",
      "/home/tivo/anaconda3/lib/python3.5/site-packages/ipykernel/__main__.py:188: VisibleDeprecationWarning: using a non-integer number instead of an integer will result in an error in the future\n",
      "/home/tivo/anaconda3/lib/python3.5/site-packages/ipykernel/__main__.py:192: VisibleDeprecationWarning: using a non-integer number instead of an integer will result in an error in the future\n",
      "/home/tivo/anaconda3/lib/python3.5/site-packages/ipykernel/__main__.py:103: FutureWarning: comparison to `None` will result in an elementwise object comparison in the future.\n"
     ]
    },
    {
     "name": "stdout",
     "output_type": "stream",
     "text": [
      "FileName: /home/tivo/Desktop/songs/wav/test/01 - Fitoo.wav \n"
     ]
    },
    {
     "name": "stderr",
     "output_type": "stream",
     "text": [
      "/home/tivo/anaconda3/lib/python3.5/site-packages/ipykernel/__main__.py:85: VisibleDeprecationWarning: using a non-integer number instead of an integer will result in an error in the future\n",
      "/home/tivo/anaconda3/lib/python3.5/site-packages/ipykernel/__main__.py:138: VisibleDeprecationWarning: using a non-integer number instead of an integer will result in an error in the future\n",
      "/home/tivo/anaconda3/lib/python3.5/site-packages/ipykernel/__main__.py:163: VisibleDeprecationWarning: using a non-integer number instead of an integer will result in an error in the future\n",
      "/home/tivo/anaconda3/lib/python3.5/site-packages/ipykernel/__main__.py:177: VisibleDeprecationWarning: using a non-integer number instead of an integer will result in an error in the future\n",
      "/home/tivo/anaconda3/lib/python3.5/site-packages/ipykernel/__main__.py:188: VisibleDeprecationWarning: using a non-integer number instead of an integer will result in an error in the future\n",
      "/home/tivo/anaconda3/lib/python3.5/site-packages/ipykernel/__main__.py:192: VisibleDeprecationWarning: using a non-integer number instead of an integer will result in an error in the future\n",
      "/home/tivo/anaconda3/lib/python3.5/site-packages/ipykernel/__main__.py:103: FutureWarning: comparison to `None` will result in an elementwise object comparison in the future.\n"
     ]
    },
    {
     "name": "stdout",
     "output_type": "stream",
     "text": [
      "FileName: /home/tivo/Desktop/songs/wav/test/01 - Fitoo.wav \n"
     ]
    },
    {
     "name": "stderr",
     "output_type": "stream",
     "text": [
      "/home/tivo/anaconda3/lib/python3.5/site-packages/ipykernel/__main__.py:85: VisibleDeprecationWarning: using a non-integer number instead of an integer will result in an error in the future\n",
      "/home/tivo/anaconda3/lib/python3.5/site-packages/ipykernel/__main__.py:138: VisibleDeprecationWarning: using a non-integer number instead of an integer will result in an error in the future\n",
      "/home/tivo/anaconda3/lib/python3.5/site-packages/ipykernel/__main__.py:163: VisibleDeprecationWarning: using a non-integer number instead of an integer will result in an error in the future\n",
      "/home/tivo/anaconda3/lib/python3.5/site-packages/ipykernel/__main__.py:177: VisibleDeprecationWarning: using a non-integer number instead of an integer will result in an error in the future\n",
      "/home/tivo/anaconda3/lib/python3.5/site-packages/ipykernel/__main__.py:188: VisibleDeprecationWarning: using a non-integer number instead of an integer will result in an error in the future\n",
      "/home/tivo/anaconda3/lib/python3.5/site-packages/ipykernel/__main__.py:192: VisibleDeprecationWarning: using a non-integer number instead of an integer will result in an error in the future\n",
      "/home/tivo/anaconda3/lib/python3.5/site-packages/ipykernel/__main__.py:103: FutureWarning: comparison to `None` will result in an elementwise object comparison in the future.\n"
     ]
    },
    {
     "name": "stdout",
     "output_type": "stream",
     "text": [
      "FileName: /home/tivo/Desktop/songs/wav/test/01 - Fitoo.wav \n"
     ]
    },
    {
     "name": "stderr",
     "output_type": "stream",
     "text": [
      "/home/tivo/anaconda3/lib/python3.5/site-packages/ipykernel/__main__.py:85: VisibleDeprecationWarning: using a non-integer number instead of an integer will result in an error in the future\n",
      "/home/tivo/anaconda3/lib/python3.5/site-packages/ipykernel/__main__.py:138: VisibleDeprecationWarning: using a non-integer number instead of an integer will result in an error in the future\n",
      "/home/tivo/anaconda3/lib/python3.5/site-packages/ipykernel/__main__.py:163: VisibleDeprecationWarning: using a non-integer number instead of an integer will result in an error in the future\n",
      "/home/tivo/anaconda3/lib/python3.5/site-packages/ipykernel/__main__.py:177: VisibleDeprecationWarning: using a non-integer number instead of an integer will result in an error in the future\n",
      "/home/tivo/anaconda3/lib/python3.5/site-packages/ipykernel/__main__.py:188: VisibleDeprecationWarning: using a non-integer number instead of an integer will result in an error in the future\n",
      "/home/tivo/anaconda3/lib/python3.5/site-packages/ipykernel/__main__.py:192: VisibleDeprecationWarning: using a non-integer number instead of an integer will result in an error in the future\n",
      "/home/tivo/anaconda3/lib/python3.5/site-packages/ipykernel/__main__.py:103: FutureWarning: comparison to `None` will result in an elementwise object comparison in the future.\n"
     ]
    }
   ],
   "source": [
    "import os\n",
    "from os.path import basename\n",
    "import argparse\n",
    "\n",
    "'''\n",
    "parser = argparse.ArgumentParser(description='Process mp3dir and convert all files in dir to wav')\n",
    "parser.add_argument('--mp3dir', required=True,\n",
    "                   help='mp3Dir directory absolute path where all mp3 for BPM are kept')\n",
    "parser.add_argument('--csvFilePath', required=True,\n",
    "                   help='wavFileName(column1),bpms(column2) space seprated would be saved here')\n",
    "\n",
    "\n",
    "args = parser.parse_args()\n",
    "wavDir = args.wavdir\n",
    "csvFilePath = args.csvFilePath\n",
    "'''\n",
    "#wavDir = '/home/tivo/Desktop/songs/wav/test'\n",
    "mp3Dir = '/home/tivo/Desktop/songs/mp3'\n",
    "csvFilePath = '/home/tivo/Desktop/bpms.csv'\n",
    "\n",
    "\n",
    "for filename in os.listdir(mp3Dir):\n",
    "    #print (wavDir, filename)\n",
    "    #mp3FilePath = \"\".join([mp3Dir, \"/\",filename])\n",
    "    waveFilePath = mp3ToWav(mp3Dir,filename)\n",
    "    print(\"FileName: {} \".format(wavFilePath))\n",
    "    extractBPMtoDFExisting(wavFilePath,10)\n",
    "    #Remove wavFile after use\n",
    "    os.remove(waveFilePath)\n",
    "    #print(\"==\"*80)\n",
    "    #extractBPMtoDF(wavFilePath,10)\n",
    "\n",
    "bpmsDF.to_csv(csvFilePath)\n"
   ]
  },
  {
   "cell_type": "code",
   "execution_count": 369,
   "metadata": {
    "collapsed": true
   },
   "outputs": [],
   "source": [
    "#import scipy as sc\n",
    "import pandas as pnd\n",
    "\n",
    "from nltk.tokenize import RegexpTokenizer\n",
    "from stop_words import get_stop_words\n",
    "from nltk.stem.porter import PorterStemmer\n",
    "\n"
   ]
  },
  {
   "cell_type": "code",
   "execution_count": 370,
   "metadata": {
    "collapsed": true
   },
   "outputs": [],
   "source": [
    "#inits\n",
    "tokenizer = RegexpTokenizer(r'\\w+')\n",
    "p_stemmer = PorterStemmer()"
   ]
  },
  {
   "cell_type": "code",
   "execution_count": 371,
   "metadata": {
    "collapsed": true
   },
   "outputs": [],
   "source": [
    "from sklearn.feature_extraction.text import CountVectorizer\n",
    "\n",
    "wCModel = CountVectorizer(min_df=1,tokenizer=None,stop_words=\"english\")\n",
    "\n",
    "#print people['text'][13]\n",
    "X = wCModel.fit_transform(bpmsDF['bpms'])"
   ]
  },
  {
   "cell_type": "code",
   "execution_count": 372,
   "metadata": {
    "collapsed": false
   },
   "outputs": [
    {
     "data": {
      "text/plain": [
       "<2x12 sparse matrix of type '<class 'numpy.int64'>'\n",
       "\twith 24 stored elements in Compressed Sparse Row format>"
      ]
     },
     "execution_count": 372,
     "metadata": {},
     "output_type": "execute_result"
    }
   ],
   "source": [
    "X"
   ]
  },
  {
   "cell_type": "code",
   "execution_count": 373,
   "metadata": {
    "collapsed": false
   },
   "outputs": [
    {
     "data": {
      "text/plain": [
       "array([[1, 4, 2, 4, 1, 2, 1, 2, 1, 1, 8, 1],\n",
       "       [1, 4, 2, 4, 1, 2, 1, 2, 1, 1, 8, 1]], dtype=int64)"
      ]
     },
     "execution_count": 373,
     "metadata": {},
     "output_type": "execute_result"
    }
   ],
   "source": [
    "X.A"
   ]
  },
  {
   "cell_type": "code",
   "execution_count": 374,
   "metadata": {
    "collapsed": false
   },
   "outputs": [
    {
     "data": {
      "text/plain": [
       "['140', '160', '210', '215', '220', '40', '50', '55', '65', '75', '80', '85']"
      ]
     },
     "execution_count": 374,
     "metadata": {},
     "output_type": "execute_result"
    }
   ],
   "source": [
    "wCModel.get_feature_names()"
   ]
  },
  {
   "cell_type": "code",
   "execution_count": null,
   "metadata": {
    "collapsed": true
   },
   "outputs": [],
   "source": []
  }
 ],
 "metadata": {
  "anaconda-cloud": {},
  "kernelspec": {
   "display_name": "Python [Root]",
   "language": "python",
   "name": "Python [Root]"
  },
  "language_info": {
   "codemirror_mode": {
    "name": "ipython",
    "version": 3
   },
   "file_extension": ".py",
   "mimetype": "text/x-python",
   "name": "python",
   "nbconvert_exporter": "python",
   "pygments_lexer": "ipython3",
   "version": "3.5.2"
  }
 },
 "nbformat": 4,
 "nbformat_minor": 0
}
