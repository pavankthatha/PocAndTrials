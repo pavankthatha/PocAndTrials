{
 "cells": [
  {
   "cell_type": "raw",
   "metadata": {},
   "source": [
    "# coding: utf-8\n",
    "\n",
    "# In[218]:\n",
    "\n",
    "import wave, array, math, time, argparse, sys\n",
    "import numpy, pywt\n",
    "from scipy import signal\n",
    "import pdb\n",
    "import matplotlib.pyplot as plt\n",
    "import pandas as pd\n",
    "from scipy.io import wavfile \n",
    "from pydub import AudioSegment\n",
    "import pywt\n",
    "\n",
    "import pandas as pnd\n",
    "from nltk.tokenize import RegexpTokenizer\n",
    "from stop_words import get_stop_words\n",
    "from nltk.stem.porter import PorterStemmer\n",
    "from sklearn.feature_extraction.text import CountVectorizer\n",
    "\n",
    "import os\n",
    "from os.path import basename\n",
    "import argparse\n",
    "\n",
    "from sklearn.metrics.pairwise import linear_kernel,cosine_similarity\n",
    "from mutagen.mp3 import MP3\n",
    "from mutagen.easyid3 import EasyID3\n",
    "import mutagen.id3\n",
    "import requests\n",
    "import magic\n",
    "\n",
    "\n",
    "\n",
    "\n",
    "class bpmExtractor():\n",
    "    \n",
    "    def __init__(self):\n",
    "        self.bpmsDF = pd.DataFrame(columns=['audioFile','bpms','title','genre','composer','album'])\n",
    "        #pass\n",
    "    \n",
    "    def read_wav(self,filename):\n",
    "        return wavfile.read(filename)\n",
    "\n",
    "    def read_wav_mono(self,filename):\n",
    "\n",
    "        #open file, get metadata for audio\n",
    "        try:\n",
    "            wf = wave.open(filename,'rb')\n",
    "        except IOError as e:\n",
    "            print (e)\n",
    "            return\n",
    "\n",
    "        # typ = choose_type( wf.getsampwidth() ) #TODO: implement choose_type\n",
    "        nsamps = wf.getnframes();\n",
    "        assert(nsamps > 0);\n",
    "        #print (\"nsamps: {}\".format(nsamps))\n",
    "\n",
    "        fs = wf.getframerate()\n",
    "        assert(fs > 0)\n",
    "        #print (\"fs: {}\".format(fs))\n",
    "\n",
    "        #tmprate, tmpdata = wavfile.read(filename)\n",
    "        #print(\"shape tmdata: {} tmprate: {}\".format(tmpdata.shape,tmprate))\n",
    "\n",
    "        # read entire file and make into an array\n",
    "        samps = list(array.array('i',wf.readframes(nsamps)))\n",
    "        #print ('Read', nsamps,'samples from', filename)\n",
    "        try:\n",
    "            assert(nsamps == len(samps))\n",
    "        except AssertionError as e:\n",
    "            print  (nsamps, \"not equal to\", len(samps))\n",
    "        #print (\"shape samps: {}\".format(len(samps)))\n",
    "        return samps, fs\n",
    "\n",
    "\n",
    "    def ab_adjuster(self,value, granualityRoundOff):\n",
    "        #granualityRoundOff means : if granualityRoundOff is 5, then 12.4 would be rounded to 10, \n",
    "        # 12.6 would be rounded to 15\n",
    "        quotient,remainder = divmod(value,granualityRoundOff)\n",
    "        #remainder = value%granualityRoundOff\n",
    "        #print (quotient)\n",
    "        if ( float(remainder) < float(granualityRoundOff)/2):\n",
    "            #print(quotient*granualityRoundOff)\n",
    "            return quotient*granualityRoundOff\n",
    "        else:\n",
    "            #print((quotient+1)*granualityRoundOff)\n",
    "            return ((quotient+1)*granualityRoundOff)\n",
    "\n",
    "\n",
    "    # print an error when no data can be found\n",
    "    def no_audio_data(self):\n",
    "        print (\"No audio data for sample, skipping...\")\n",
    "        return None, None\n",
    "\n",
    "    # simple peak detection\n",
    "    def peak_detect(self,data):\n",
    "        max_val = numpy.amax(abs(data)) \n",
    "        peak_ndx = numpy.where(data==max_val)\n",
    "        if len(peak_ndx[0]) == 0: #if nothing found then the max must be negative\n",
    "            peak_ndx = numpy.where(data==-max_val)\n",
    "        return peak_ndx\n",
    "\n",
    "   \n",
    "    \n",
    "    def bpm_detector(self,data,fs):\n",
    "        #print(\"\")\n",
    "        #print (\"+\"*80)\n",
    "        cA = [] \n",
    "        cD = []\n",
    "        correl = []\n",
    "        cD_sum = []\n",
    "        levels = 4\n",
    "        max_decimation = 2**(levels-1);\n",
    "        min_ndx = 60./ 220 * (fs/max_decimation)\n",
    "        max_ndx = 60./ 40 * (fs/max_decimation)\n",
    "\n",
    "        #print(\"type(Data): {} shape(Data): {}\".format(type(data),len(data)))\n",
    "        #data = data.tolist()\n",
    "        for loop in range(0,levels):\n",
    "            cD = []\n",
    "            # 1) DWT\n",
    "            if loop == 0:\n",
    "                [cA,cD] = pywt.dwt(data,'db4');\n",
    "                #cA : approximation coeff\n",
    "                #cD : Detailed Coeff\n",
    "                cD_minlen = len(cD)/max_decimation+1;\n",
    "                cD_sum = numpy.zeros(cD_minlen);\n",
    "            else:\n",
    "                [cA,cD] = pywt.dwt(cA,'db4');\n",
    "\n",
    "            #print(\"cA : {}, cD: {}\".format(cA,cD))\n",
    "\n",
    "            #print (\"DWT : type(cA) : {} type(cD): {} len(cA) {}, len(cD) {}\".format(type(cA), type(cD), cA.shape, cD.shape))\n",
    "            # 2) Filter\n",
    "            cD = signal.lfilter([0.01],[1 -0.99],cD);\n",
    "            #print(\"Filtered cD\")\n",
    "            #print(cD)\n",
    "\n",
    "            # 4) Subtractargs.filename out the mean.\n",
    "\n",
    "            # 5) Decimate for reconstruction later.\n",
    "            cD = abs(cD[::(2**(levels-loop-1))]);\n",
    "            #print(\"Cd raise to level-inverse{}\",format(cD))\n",
    "            #print(\"cD shape: {}\".format(cD.shape))\n",
    "            cD = cD - numpy.mean(cD);\n",
    "            #print(\"cD - mean(cD)\")\n",
    "            #print(cD)\n",
    "            # 6) Recombine the signal before ACF\n",
    "            #    essentially, each level I concatenate \n",
    "            #    the detail coefs (i.e. the HPF values)\n",
    "            #    to the beginning of the array\n",
    "            cD_sum = cD[0:cD_minlen] + cD_sum;\n",
    "            #print (\"cD_sum\")\n",
    "            #print(cD_sum)\n",
    "\n",
    "        #print (\"Loop over\")\n",
    "        if [b for b in cA if b != 0.0] == []:\n",
    "            return no_audio_data()\n",
    "        # adding in the approximate data as well...    \n",
    "        cA = signal.lfilter([0.01],[1 -0.99],cA);\n",
    "        cA = abs(cA);\n",
    "        cA = cA - numpy.mean(cA);\n",
    "        #print(\"cA - mean(cA){}\".format(cA))\n",
    "\n",
    "        #print (\"Filtered cA{}\".format(cA))\n",
    "        cD_sum = cA[0:cD_minlen] + cD_sum;\n",
    "        #print (\"cD_sum_with-approx-cA\")\n",
    "        #print(cD_sum)\n",
    "\n",
    "        # ACF\n",
    "        correl = numpy.correlate(cD_sum,cD_sum,'full') \n",
    "        #print(\"sizeof(cD_sum_with-approx-cA){}, sizeof(ACF){}\".format(len(cD_sum),len(correl)))\n",
    "        #print ('ACF on cD_sum_with-approx-cA')\n",
    "        #print (correl)\n",
    "\n",
    "        midpoint = len(correl) / 2\n",
    "        correl_midpoint_tmp = correl[midpoint:]\n",
    "        #print ('correl_midpoint_tmp')\n",
    "        #print (correl_midpoint_tmp)\n",
    "        #print (\"min_ndx{} max_ndx{}\".format(min_ndx,max_ndx))\n",
    "        peak_ndx = self.peak_detect(correl_midpoint_tmp[min_ndx:max_ndx]);\n",
    "        if len(peak_ndx) > 1:\n",
    "            return no_audio_data()\n",
    "\n",
    "        #print ('peak_ndx')\n",
    "        #print (peak_ndx)\n",
    "        peak_ndx_adjusted = peak_ndx[0]+min_ndx;\n",
    "        #print ('peak_ndx_adjusted,max_decimation')\n",
    "        #print (peak_ndx_adjusted,max_decimation)\n",
    "        bpm = 60./ peak_ndx_adjusted * (fs/max_decimation)\n",
    "        #print (bpm)\n",
    "        return bpm,correl\n",
    "\n",
    "\n",
    "    def mp3ToWav(self,mp3dir,filename):\n",
    "        mp3FilePath = \"\".join([mp3dir, \"/\",filename])\n",
    "        if os.path.exists(mp3FilePath) :#and self.isMp3Valid(mp3FilePath):\n",
    "            audioMime = magic.from_file(mp3FilePath,mime=True)\n",
    "            print(audioMime)\n",
    "            if 'application/octet-stream' not in audioMime and 'audio/mpeg' not in audioMime:\n",
    "                print(\"Skipping {}\".format(audioMime))\n",
    "                return None,mp3FilePath\n",
    "                    \n",
    "            sound = AudioSegment.from_mp3(mp3FilePath)\n",
    "            mp3FileName = basename(mp3FilePath)\n",
    "\n",
    "            mp3FileNameWithoutExt = os.path.splitext(mp3FileName)[0]\n",
    "            wavFilePath = \"\".join([mp3dir,\"/\",mp3FileNameWithoutExt,'.wav'])\n",
    "            #print (wavFilePath)\n",
    "            sound.export(wavFilePath, format=\"wav\")\n",
    "            return (wavFilePath,mp3FilePath)\n",
    "            \n",
    "        return None,mp3FilePath\n",
    "    \n",
    "\n",
    "    def extractBPMtoDF(self,filename,mp3filePath,audioWindowinSec):\n",
    "        #filename = \"/home/tivo/Desktop/songs/wav/AYTH.wav\"\n",
    "        #window = 5\n",
    "        window = audioWindowinSec\n",
    "        #global bpmsDF\n",
    "\n",
    "        fs,samps = self.read_wav(filename)\n",
    "\n",
    "        data = []\n",
    "        correl=[]\n",
    "        bpm = 0\n",
    "        n=0;\n",
    "        nsamps = samps.shape[0]\n",
    "        #print(\"samp shape: {}, row: {}, col: {}\".format(samps.shape,samps.shape[0],samps.shape[1]))\n",
    "        window_samps = int(window*fs)         \n",
    "        samps_ndx = 0;  #first sample in window_ndx \n",
    "        max_window_ndx = nsamps / window_samps;\n",
    "        bpms = numpy.zeros(max_window_ndx)\n",
    "        adjusted_bpms = []\n",
    "\n",
    "        #print (\"fs {}, nsamps {}, window_samps {},max_window_ndx {}, int(max_window_ndx) {}\"\\\n",
    "        #       .format(fs, nsamps, window_samps,max_window_ndx, int(max_window_ndx)))\n",
    "        #iterate through all windows\n",
    "        for channelIdx in range(0,samps.shape[1]):\n",
    "            print()\n",
    "            sampList = list(samps[:,channelIdx])\n",
    "            for window_ndx in range(0,int(max_window_ndx)):\n",
    "\n",
    "                #get a new set of samples\n",
    "                #print n,\":\",len(bpms),\":\",max_window_ndx,\":\",fs,\":\",nsamps,\":\",samps_ndx\n",
    "                #print(\"channelIdx: {}\",format(channelIdx))\n",
    "                print(len(sampList))\n",
    "                #data = list(samps[channelIdx:,].tolist()[samps_ndx:samps_ndx+window_samps])\n",
    "                data = sampList[samps_ndx:samps_ndx+window_samps]\n",
    "                #print(\"type(Data): {}\".format(type(data)))\n",
    "                print(\"Data-size: {}\".format(len(data)))\n",
    "                if not ((len(data) % window_samps) == 0):\n",
    "                    print(\"Skipping channelIdx :{}\".format(channelIdx))\n",
    "                    continue\n",
    "                    #raise AssertionError( str(len(data) ) ) \n",
    "\n",
    "                bpm, correl_temp = self.bpm_detector(data,fs)\n",
    "\n",
    "                if bpm is None:\n",
    "                    continue\n",
    "\n",
    "                adjusted_bpm = self.ab_adjuster(bpm,5) # 5 second is round off granuality\n",
    "                bpms[window_ndx] = bpm\n",
    "                adjusted_bpms.append(str(int(adjusted_bpm)))\n",
    "                correl = correl_temp\n",
    "\n",
    "                #iterate at the end of the loop\n",
    "                samps_ndx = samps_ndx+window_samps;\n",
    "                n=n+1; #counter for debug...\n",
    "            \n",
    "            mp3H = Mp3Header(filename)\n",
    "            self.bpmsDF = self.bpmsDF.append(pd.DataFrame({'audioFile': filename,'bpms': ' '.join(adjusted_bpms),\n",
    "                                                'title': mp3H.getTitle(),'genre': mp3H.getGenre(),\n",
    "                                                'composer': mp3H.getComposer(),'album': mp3H.getAlbum()}, index=[0]))\n",
    "            bpm = numpy.median(bpms)\n",
    "            #print ('Completed.  Estimated Beats Per Minute:', bpm)\n",
    "\n",
    "#n = range(0,len(correl))\n",
    "#plt.plot(n,abs(correl)); \n",
    "#plt.show(False); #plot non-blocking\n",
    "#time.sleep(10);\n",
    "#plt.close();\n",
    "\n",
    "\n",
    "    def extractBPMtoDFExisting(self,filename,mp3filePath,audioWindowinSec,bpmGranuality):\n",
    "        #filename = \"/home/tivo/Desktop/songs/wav/AYTH.wav\"\n",
    "        #window = 5\n",
    "        window = audioWindowinSec\n",
    "        #global bpmsDF\n",
    "\n",
    "        samps,fs = self.read_wav_mono(filename)\n",
    "\n",
    "        data = []\n",
    "        correl=[]\n",
    "        bpm = 0\n",
    "        n=0;\n",
    "        nsamps = len(samps)\n",
    "        window_samps = int(window*fs)         \n",
    "        samps_ndx = 0;  #first sample in window_ndx \n",
    "        max_window_ndx = nsamps / window_samps;\n",
    "        bpms = numpy.zeros(max_window_ndx)\n",
    "        adjusted_bpms = []\n",
    "\n",
    "        #print (\"fs {}, nsamps {}, window_samps {},max_window_ndx {}, int(max_window_ndx) {}\"\\\n",
    "        #       .format(fs, nsamps, window_samps,max_window_ndx, int(max_window_ndx)))\n",
    "        #iterate through all windows\n",
    "        for window_ndx in range(0,int(max_window_ndx)):\n",
    "\n",
    "            #get a new set of samples\n",
    "            #print n,\":\",len(bpms),\":\",max_window_ndx,\":\",fs,\":\",nsamps,\":\",samps_ndx\n",
    "            data = samps[samps_ndx:samps_ndx+window_samps]\n",
    "            #print(\"type(Data): {}\".format(type(data)))\n",
    "            #print(\"Data-size: {}\".format(len(data)))\n",
    "            if not ((len(data) % window_samps) == 0):\n",
    "                raise AssertionError( str(len(data) ) ) \n",
    "\n",
    "            bpm, correl_temp = self.bpm_detector(data,fs)\n",
    "\n",
    "            if bpm is None:\n",
    "                continue\n",
    "\n",
    "            adjusted_bpm = self.ab_adjuster(bpm,bpmGranuality) # 5 second is round off granuality\n",
    "            bpms[window_ndx] = bpm\n",
    "            adjusted_bpms.append(str(int(adjusted_bpm)))\n",
    "            correl = correl_temp\n",
    "\n",
    "            #iterate at the end of the loop\n",
    "            samps_ndx = samps_ndx+window_samps;\n",
    "            n=n+1; #counter for debug...\n",
    "\n",
    "        mp3H = Mp3Header(mp3FilePath)\n",
    "        self.bpmsDF = self.bpmsDF.append(pd.DataFrame({'audioFile': mp3FilePath,'bpms': ' '.join(adjusted_bpms),\n",
    "                                                'title': mp3H.getTitle(),'genre': mp3H.getGenre(),\n",
    "                                                'composer': mp3H.getComposer(),'album': mp3H.getAlbum()}, index=[0]))\n",
    "        bpm = numpy.median(bpms)\n",
    "        #print ('Completed.  Estimated Beats Per Minute:', bpm)\n",
    "\n",
    "#n = range(0,len(correl))\n",
    "#        plt.plot(n,abs(correl)); \n",
    "#        plt.show(False); #plot non-blocking\n",
    "#        time.sleep(10);\n",
    "#        plt.close();\n",
    "#\n",
    "class similarSongs():\n",
    "    def __init__(self,dataset):\n",
    "        tokenizer = RegexpTokenizer(r'\\w+')\n",
    "        p_stemmer = PorterStemmer()\n",
    "        self.wCModel = CountVectorizer(min_df=1,tokenizer=None,stop_words=\"english\")\n",
    "        self.dataset = dataset\n",
    "\n",
    "    def fit_transform(self,datasetFeatureCol):\n",
    "        print (self.dataset[datasetFeatureCol].head(5))\n",
    "        self.inX = self.wCModel.fit_transform(self.dataset[datasetFeatureCol])\n",
    "        self.datasetFeatureCol = datasetFeatureCol\n",
    "\n",
    "    def findKSimilarSongs(self,song,k):\n",
    "        songIndex = self.dataset[self.dataset['audioFile'] == song].index.tolist()[0]\n",
    "        print (songIndex)\n",
    "        cosine_similarities = cosine_similarity(self.inX.A, self.inX.A[songIndex], dense_output=True).flatten()\n",
    "        #print (cosine_similarities)\n",
    "\n",
    "        #related_docs_indices = cosine_similarities.argsort()[:-5:-1]\n",
    "        related_docs_indices = cosine_similarities.argsort()[:-k-1:-1]\n",
    "        return (related_docs_indices[1:])\n",
    "\n",
    "class Mp3Header():\n",
    "    def __init__(self, mp3FilePath):\n",
    "        f = open(mp3FilePath, \"rb\")\n",
    "        self.mp3file = MP3(mp3FilePath, ID3=EasyID3)\n",
    "        self.fileStatus = True\n",
    "        #print (str(f.read(3).decode(\"utf-8\")))\n",
    "        #if f.read(3).decode(\"utf-8\") == \"ID3\":\n",
    "        #    print(\"1\")\n",
    "        #    self.mp3file = MP3(mp3FilePath, ID3=EasyID3)\n",
    "        #    self.fileStatus = True\n",
    "        #else:\n",
    "        #    print(0)\n",
    "        #    self.fileStatus = False\n",
    "        \n",
    "    def getGenre(self):\n",
    "        if self.fileStatus == True:\n",
    "            return self.mp3file.get(\"genre\")\n",
    "        else:\n",
    "            return \"\"\n",
    "  \n",
    "    def getAlbum(self):\n",
    "        if self.fileStatus == True:\n",
    "            return self.mp3file.get(\"album\")\n",
    "        else:\n",
    "            return \"\"\n",
    "\n",
    "    def getArtist(self):\n",
    "        if self.fileStatus == True:\n",
    "            return self.mp3file.get(\"artist\")\n",
    "        else:\n",
    "            return \"\"\n",
    "\n",
    "    def getComposer(self):\n",
    "        if self.fileStatus == True:\n",
    "            return self.mp3file.get(\"composer\")\n",
    "        else:\n",
    "            return \"\"\n",
    "    \n",
    "    def getTitle(self):\n",
    "        if self.fileStatus == True:\n",
    "            return self.mp3file.get(\"title\")\n",
    "        else:\n",
    "            return \"\"\n",
    "\n",
    "\n",
    "print (__name__)\n"
   ]
  },
  {
   "cell_type": "code",
   "execution_count": 15,
   "metadata": {
    "collapsed": false,
    "scrolled": true
   },
   "outputs": [
    {
     "data": {
      "text/plain": [
       "\"\\n    parser = argparse.ArgumentParser(description='Process mp3dir and convert all files in dir to wav')\\n    parser.add_argument('-m', '--mp3dir',\\n                       help='mp3Dir directory absolute path where all mp3 for BPM are kept')\\n    parser.add_argument('-c','--csvFilePath', required=True,\\n                       help='mp3FileName(column1),bpms(column2) space seprated would be saved here')\\n    parser.add_argument('--regenerateCSV',\\n                       help='mp3FileName(column1),bpms(column2) space seprated would be saved here')\\n    parser.add_argument('-s', '--songToSearch',\\n                       help='Song for which you need recommendations')\\n\\n    args = parser.parse_args()\\n    csvFilePath = args.csvFilePath\\n    songToSearch = args.songToSearch\\n    regenerateCSV = args.regenerateCSV\\n    mp3Dir = args.mp3dir\\n\""
      ]
     },
     "execution_count": 15,
     "metadata": {},
     "output_type": "execute_result"
    }
   ],
   "source": [
    "'''\n",
    "    parser = argparse.ArgumentParser(description='Process mp3dir and convert all files in dir to wav')\n",
    "    parser.add_argument('-m', '--mp3dir',\n",
    "                       help='mp3Dir directory absolute path where all mp3 for BPM are kept')\n",
    "    parser.add_argument('-c','--csvFilePath', required=True,\n",
    "                       help='mp3FileName(column1),bpms(column2) space seprated would be saved here')\n",
    "    parser.add_argument('--regenerateCSV',\n",
    "                       help='mp3FileName(column1),bpms(column2) space seprated would be saved here')\n",
    "    parser.add_argument('-s', '--songToSearch',\n",
    "                       help='Song for which you need recommendations')\n",
    "\n",
    "    args = parser.parse_args()\n",
    "    csvFilePath = args.csvFilePath\n",
    "    songToSearch = args.songToSearch\n",
    "    regenerateCSV = args.regenerateCSV\n",
    "    mp3Dir = args.mp3dir\n",
    "'''\n"
   ]
  },
  {
   "cell_type": "code",
   "execution_count": 16,
   "metadata": {
    "collapsed": false,
    "scrolled": true
   },
   "outputs": [
    {
     "name": "stdout",
     "output_type": "stream",
     "text": [
      "audio/mpeg\n",
      "FileName: /home/tivo/Desktop/songs/mp3/WGNF.wav \n"
     ]
    },
    {
     "name": "stderr",
     "output_type": "stream",
     "text": [
      "/home/tivo/anaconda3/lib/python3.5/site-packages/ipykernel/__main__.py:301: VisibleDeprecationWarning: using a non-integer number instead of an integer will result in an error in the future\n",
      "/home/tivo/anaconda3/lib/python3.5/site-packages/ipykernel/__main__.py:127: VisibleDeprecationWarning: using a non-integer number instead of an integer will result in an error in the future\n",
      "/home/tivo/anaconda3/lib/python3.5/site-packages/ipykernel/__main__.py:152: VisibleDeprecationWarning: using a non-integer number instead of an integer will result in an error in the future\n",
      "/home/tivo/anaconda3/lib/python3.5/site-packages/ipykernel/__main__.py:166: VisibleDeprecationWarning: using a non-integer number instead of an integer will result in an error in the future\n",
      "/home/tivo/anaconda3/lib/python3.5/site-packages/ipykernel/__main__.py:177: VisibleDeprecationWarning: using a non-integer number instead of an integer will result in an error in the future\n",
      "/home/tivo/anaconda3/lib/python3.5/site-packages/ipykernel/__main__.py:181: VisibleDeprecationWarning: using a non-integer number instead of an integer will result in an error in the future\n"
     ]
    },
    {
     "name": "stdout",
     "output_type": "stream",
     "text": [
      "application/octet-stream\n",
      "FileName: /home/tivo/Desktop/songs/mp3/CPGC.wav \n"
     ]
    },
    {
     "name": "stderr",
     "output_type": "stream",
     "text": [
      "/home/tivo/anaconda3/lib/python3.5/site-packages/ipykernel/__main__.py:301: VisibleDeprecationWarning: using a non-integer number instead of an integer will result in an error in the future\n",
      "/home/tivo/anaconda3/lib/python3.5/site-packages/ipykernel/__main__.py:127: VisibleDeprecationWarning: using a non-integer number instead of an integer will result in an error in the future\n",
      "/home/tivo/anaconda3/lib/python3.5/site-packages/ipykernel/__main__.py:152: VisibleDeprecationWarning: using a non-integer number instead of an integer will result in an error in the future\n",
      "/home/tivo/anaconda3/lib/python3.5/site-packages/ipykernel/__main__.py:166: VisibleDeprecationWarning: using a non-integer number instead of an integer will result in an error in the future\n",
      "/home/tivo/anaconda3/lib/python3.5/site-packages/ipykernel/__main__.py:177: VisibleDeprecationWarning: using a non-integer number instead of an integer will result in an error in the future\n",
      "/home/tivo/anaconda3/lib/python3.5/site-packages/ipykernel/__main__.py:181: VisibleDeprecationWarning: using a non-integer number instead of an integer will result in an error in the future\n"
     ]
    },
    {
     "name": "stdout",
     "output_type": "stream",
     "text": [
      "application/octet-stream\n",
      "FileName: /home/tivo/Desktop/songs/mp3/XYKV.wav \n"
     ]
    },
    {
     "name": "stderr",
     "output_type": "stream",
     "text": [
      "/home/tivo/anaconda3/lib/python3.5/site-packages/ipykernel/__main__.py:301: VisibleDeprecationWarning: using a non-integer number instead of an integer will result in an error in the future\n",
      "/home/tivo/anaconda3/lib/python3.5/site-packages/ipykernel/__main__.py:127: VisibleDeprecationWarning: using a non-integer number instead of an integer will result in an error in the future\n",
      "/home/tivo/anaconda3/lib/python3.5/site-packages/ipykernel/__main__.py:152: VisibleDeprecationWarning: using a non-integer number instead of an integer will result in an error in the future\n",
      "/home/tivo/anaconda3/lib/python3.5/site-packages/ipykernel/__main__.py:166: VisibleDeprecationWarning: using a non-integer number instead of an integer will result in an error in the future\n",
      "/home/tivo/anaconda3/lib/python3.5/site-packages/ipykernel/__main__.py:177: VisibleDeprecationWarning: using a non-integer number instead of an integer will result in an error in the future\n",
      "/home/tivo/anaconda3/lib/python3.5/site-packages/ipykernel/__main__.py:181: VisibleDeprecationWarning: using a non-integer number instead of an integer will result in an error in the future\n"
     ]
    },
    {
     "name": "stdout",
     "output_type": "stream",
     "text": [
      "application/octet-stream\n",
      "FileName: /home/tivo/Desktop/songs/mp3/HOYV.wav \n"
     ]
    },
    {
     "name": "stderr",
     "output_type": "stream",
     "text": [
      "/home/tivo/anaconda3/lib/python3.5/site-packages/ipykernel/__main__.py:301: VisibleDeprecationWarning: using a non-integer number instead of an integer will result in an error in the future\n",
      "/home/tivo/anaconda3/lib/python3.5/site-packages/ipykernel/__main__.py:127: VisibleDeprecationWarning: using a non-integer number instead of an integer will result in an error in the future\n",
      "/home/tivo/anaconda3/lib/python3.5/site-packages/ipykernel/__main__.py:152: VisibleDeprecationWarning: using a non-integer number instead of an integer will result in an error in the future\n",
      "/home/tivo/anaconda3/lib/python3.5/site-packages/ipykernel/__main__.py:166: VisibleDeprecationWarning: using a non-integer number instead of an integer will result in an error in the future\n",
      "/home/tivo/anaconda3/lib/python3.5/site-packages/ipykernel/__main__.py:177: VisibleDeprecationWarning: using a non-integer number instead of an integer will result in an error in the future\n",
      "/home/tivo/anaconda3/lib/python3.5/site-packages/ipykernel/__main__.py:181: VisibleDeprecationWarning: using a non-integer number instead of an integer will result in an error in the future\n"
     ]
    },
    {
     "name": "stdout",
     "output_type": "stream",
     "text": [
      "application/octet-stream\n",
      "FileName: /home/tivo/Desktop/songs/mp3/FSHM.wav \n"
     ]
    },
    {
     "name": "stderr",
     "output_type": "stream",
     "text": [
      "/home/tivo/anaconda3/lib/python3.5/site-packages/ipykernel/__main__.py:301: VisibleDeprecationWarning: using a non-integer number instead of an integer will result in an error in the future\n",
      "/home/tivo/anaconda3/lib/python3.5/site-packages/ipykernel/__main__.py:127: VisibleDeprecationWarning: using a non-integer number instead of an integer will result in an error in the future\n",
      "/home/tivo/anaconda3/lib/python3.5/site-packages/ipykernel/__main__.py:152: VisibleDeprecationWarning: using a non-integer number instead of an integer will result in an error in the future\n",
      "/home/tivo/anaconda3/lib/python3.5/site-packages/ipykernel/__main__.py:166: VisibleDeprecationWarning: using a non-integer number instead of an integer will result in an error in the future\n",
      "/home/tivo/anaconda3/lib/python3.5/site-packages/ipykernel/__main__.py:177: VisibleDeprecationWarning: using a non-integer number instead of an integer will result in an error in the future\n",
      "/home/tivo/anaconda3/lib/python3.5/site-packages/ipykernel/__main__.py:181: VisibleDeprecationWarning: using a non-integer number instead of an integer will result in an error in the future\n"
     ]
    },
    {
     "name": "stdout",
     "output_type": "stream",
     "text": [
      "audio/mpeg\n",
      "FileName: /home/tivo/Desktop/songs/mp3/AGMX.wav \n"
     ]
    },
    {
     "name": "stderr",
     "output_type": "stream",
     "text": [
      "/home/tivo/anaconda3/lib/python3.5/site-packages/ipykernel/__main__.py:301: VisibleDeprecationWarning: using a non-integer number instead of an integer will result in an error in the future\n",
      "/home/tivo/anaconda3/lib/python3.5/site-packages/ipykernel/__main__.py:127: VisibleDeprecationWarning: using a non-integer number instead of an integer will result in an error in the future\n",
      "/home/tivo/anaconda3/lib/python3.5/site-packages/ipykernel/__main__.py:152: VisibleDeprecationWarning: using a non-integer number instead of an integer will result in an error in the future\n",
      "/home/tivo/anaconda3/lib/python3.5/site-packages/ipykernel/__main__.py:166: VisibleDeprecationWarning: using a non-integer number instead of an integer will result in an error in the future\n",
      "/home/tivo/anaconda3/lib/python3.5/site-packages/ipykernel/__main__.py:177: VisibleDeprecationWarning: using a non-integer number instead of an integer will result in an error in the future\n",
      "/home/tivo/anaconda3/lib/python3.5/site-packages/ipykernel/__main__.py:181: VisibleDeprecationWarning: using a non-integer number instead of an integer will result in an error in the future\n"
     ]
    },
    {
     "name": "stdout",
     "output_type": "stream",
     "text": [
      "application/octet-stream\n",
      "FileName: /home/tivo/Desktop/songs/mp3/EIET.wav \n"
     ]
    },
    {
     "name": "stderr",
     "output_type": "stream",
     "text": [
      "/home/tivo/anaconda3/lib/python3.5/site-packages/ipykernel/__main__.py:301: VisibleDeprecationWarning: using a non-integer number instead of an integer will result in an error in the future\n",
      "/home/tivo/anaconda3/lib/python3.5/site-packages/ipykernel/__main__.py:127: VisibleDeprecationWarning: using a non-integer number instead of an integer will result in an error in the future\n",
      "/home/tivo/anaconda3/lib/python3.5/site-packages/ipykernel/__main__.py:152: VisibleDeprecationWarning: using a non-integer number instead of an integer will result in an error in the future\n",
      "/home/tivo/anaconda3/lib/python3.5/site-packages/ipykernel/__main__.py:166: VisibleDeprecationWarning: using a non-integer number instead of an integer will result in an error in the future\n",
      "/home/tivo/anaconda3/lib/python3.5/site-packages/ipykernel/__main__.py:177: VisibleDeprecationWarning: using a non-integer number instead of an integer will result in an error in the future\n",
      "/home/tivo/anaconda3/lib/python3.5/site-packages/ipykernel/__main__.py:181: VisibleDeprecationWarning: using a non-integer number instead of an integer will result in an error in the future\n"
     ]
    },
    {
     "name": "stdout",
     "output_type": "stream",
     "text": [
      "application/octet-stream\n",
      "FileName: /home/tivo/Desktop/songs/mp3/NBMI.wav \n"
     ]
    },
    {
     "name": "stderr",
     "output_type": "stream",
     "text": [
      "/home/tivo/anaconda3/lib/python3.5/site-packages/ipykernel/__main__.py:301: VisibleDeprecationWarning: using a non-integer number instead of an integer will result in an error in the future\n",
      "/home/tivo/anaconda3/lib/python3.5/site-packages/ipykernel/__main__.py:127: VisibleDeprecationWarning: using a non-integer number instead of an integer will result in an error in the future\n",
      "/home/tivo/anaconda3/lib/python3.5/site-packages/ipykernel/__main__.py:152: VisibleDeprecationWarning: using a non-integer number instead of an integer will result in an error in the future\n",
      "/home/tivo/anaconda3/lib/python3.5/site-packages/ipykernel/__main__.py:166: VisibleDeprecationWarning: using a non-integer number instead of an integer will result in an error in the future\n",
      "/home/tivo/anaconda3/lib/python3.5/site-packages/ipykernel/__main__.py:177: VisibleDeprecationWarning: using a non-integer number instead of an integer will result in an error in the future\n",
      "/home/tivo/anaconda3/lib/python3.5/site-packages/ipykernel/__main__.py:181: VisibleDeprecationWarning: using a non-integer number instead of an integer will result in an error in the future\n"
     ]
    },
    {
     "name": "stdout",
     "output_type": "stream",
     "text": [
      "application/octet-stream\n",
      "FileName: /home/tivo/Desktop/songs/mp3/LTGM.wav \n"
     ]
    },
    {
     "name": "stderr",
     "output_type": "stream",
     "text": [
      "/home/tivo/anaconda3/lib/python3.5/site-packages/ipykernel/__main__.py:301: VisibleDeprecationWarning: using a non-integer number instead of an integer will result in an error in the future\n",
      "/home/tivo/anaconda3/lib/python3.5/site-packages/ipykernel/__main__.py:127: VisibleDeprecationWarning: using a non-integer number instead of an integer will result in an error in the future\n",
      "/home/tivo/anaconda3/lib/python3.5/site-packages/ipykernel/__main__.py:152: VisibleDeprecationWarning: using a non-integer number instead of an integer will result in an error in the future\n",
      "/home/tivo/anaconda3/lib/python3.5/site-packages/ipykernel/__main__.py:166: VisibleDeprecationWarning: using a non-integer number instead of an integer will result in an error in the future\n",
      "/home/tivo/anaconda3/lib/python3.5/site-packages/ipykernel/__main__.py:177: VisibleDeprecationWarning: using a non-integer number instead of an integer will result in an error in the future\n",
      "/home/tivo/anaconda3/lib/python3.5/site-packages/ipykernel/__main__.py:181: VisibleDeprecationWarning: using a non-integer number instead of an integer will result in an error in the future\n"
     ]
    },
    {
     "name": "stdout",
     "output_type": "stream",
     "text": [
      "audio/mpeg\n",
      "FileName: /home/tivo/Desktop/songs/mp3/QLDF.wav \n"
     ]
    },
    {
     "name": "stderr",
     "output_type": "stream",
     "text": [
      "/home/tivo/anaconda3/lib/python3.5/site-packages/ipykernel/__main__.py:301: VisibleDeprecationWarning: using a non-integer number instead of an integer will result in an error in the future\n",
      "/home/tivo/anaconda3/lib/python3.5/site-packages/ipykernel/__main__.py:127: VisibleDeprecationWarning: using a non-integer number instead of an integer will result in an error in the future\n",
      "/home/tivo/anaconda3/lib/python3.5/site-packages/ipykernel/__main__.py:152: VisibleDeprecationWarning: using a non-integer number instead of an integer will result in an error in the future\n",
      "/home/tivo/anaconda3/lib/python3.5/site-packages/ipykernel/__main__.py:166: VisibleDeprecationWarning: using a non-integer number instead of an integer will result in an error in the future\n",
      "/home/tivo/anaconda3/lib/python3.5/site-packages/ipykernel/__main__.py:177: VisibleDeprecationWarning: using a non-integer number instead of an integer will result in an error in the future\n",
      "/home/tivo/anaconda3/lib/python3.5/site-packages/ipykernel/__main__.py:181: VisibleDeprecationWarning: using a non-integer number instead of an integer will result in an error in the future\n"
     ]
    },
    {
     "name": "stdout",
     "output_type": "stream",
     "text": [
      "application/octet-stream\n",
      "FileName: /home/tivo/Desktop/songs/mp3/AYTH.wav \n"
     ]
    },
    {
     "name": "stderr",
     "output_type": "stream",
     "text": [
      "/home/tivo/anaconda3/lib/python3.5/site-packages/ipykernel/__main__.py:301: VisibleDeprecationWarning: using a non-integer number instead of an integer will result in an error in the future\n",
      "/home/tivo/anaconda3/lib/python3.5/site-packages/ipykernel/__main__.py:127: VisibleDeprecationWarning: using a non-integer number instead of an integer will result in an error in the future\n",
      "/home/tivo/anaconda3/lib/python3.5/site-packages/ipykernel/__main__.py:152: VisibleDeprecationWarning: using a non-integer number instead of an integer will result in an error in the future\n",
      "/home/tivo/anaconda3/lib/python3.5/site-packages/ipykernel/__main__.py:166: VisibleDeprecationWarning: using a non-integer number instead of an integer will result in an error in the future\n",
      "/home/tivo/anaconda3/lib/python3.5/site-packages/ipykernel/__main__.py:177: VisibleDeprecationWarning: using a non-integer number instead of an integer will result in an error in the future\n",
      "/home/tivo/anaconda3/lib/python3.5/site-packages/ipykernel/__main__.py:181: VisibleDeprecationWarning: using a non-integer number instead of an integer will result in an error in the future\n"
     ]
    },
    {
     "name": "stdout",
     "output_type": "stream",
     "text": [
      "audio/mpeg\n",
      "FileName: /home/tivo/Desktop/songs/mp3/NVPG.wav \n"
     ]
    },
    {
     "name": "stderr",
     "output_type": "stream",
     "text": [
      "/home/tivo/anaconda3/lib/python3.5/site-packages/ipykernel/__main__.py:301: VisibleDeprecationWarning: using a non-integer number instead of an integer will result in an error in the future\n",
      "/home/tivo/anaconda3/lib/python3.5/site-packages/ipykernel/__main__.py:127: VisibleDeprecationWarning: using a non-integer number instead of an integer will result in an error in the future\n",
      "/home/tivo/anaconda3/lib/python3.5/site-packages/ipykernel/__main__.py:152: VisibleDeprecationWarning: using a non-integer number instead of an integer will result in an error in the future\n",
      "/home/tivo/anaconda3/lib/python3.5/site-packages/ipykernel/__main__.py:166: VisibleDeprecationWarning: using a non-integer number instead of an integer will result in an error in the future\n",
      "/home/tivo/anaconda3/lib/python3.5/site-packages/ipykernel/__main__.py:177: VisibleDeprecationWarning: using a non-integer number instead of an integer will result in an error in the future\n",
      "/home/tivo/anaconda3/lib/python3.5/site-packages/ipykernel/__main__.py:181: VisibleDeprecationWarning: using a non-integer number instead of an integer will result in an error in the future\n"
     ]
    },
    {
     "name": "stdout",
     "output_type": "stream",
     "text": [
      "application/octet-stream\n",
      "FileName: /home/tivo/Desktop/songs/mp3/EEQY.wav \n"
     ]
    },
    {
     "name": "stderr",
     "output_type": "stream",
     "text": [
      "/home/tivo/anaconda3/lib/python3.5/site-packages/ipykernel/__main__.py:301: VisibleDeprecationWarning: using a non-integer number instead of an integer will result in an error in the future\n",
      "/home/tivo/anaconda3/lib/python3.5/site-packages/ipykernel/__main__.py:127: VisibleDeprecationWarning: using a non-integer number instead of an integer will result in an error in the future\n",
      "/home/tivo/anaconda3/lib/python3.5/site-packages/ipykernel/__main__.py:152: VisibleDeprecationWarning: using a non-integer number instead of an integer will result in an error in the future\n",
      "/home/tivo/anaconda3/lib/python3.5/site-packages/ipykernel/__main__.py:166: VisibleDeprecationWarning: using a non-integer number instead of an integer will result in an error in the future\n",
      "/home/tivo/anaconda3/lib/python3.5/site-packages/ipykernel/__main__.py:177: VisibleDeprecationWarning: using a non-integer number instead of an integer will result in an error in the future\n",
      "/home/tivo/anaconda3/lib/python3.5/site-packages/ipykernel/__main__.py:181: VisibleDeprecationWarning: using a non-integer number instead of an integer will result in an error in the future\n"
     ]
    },
    {
     "name": "stdout",
     "output_type": "stream",
     "text": [
      "application/octet-stream\n",
      "FileName: /home/tivo/Desktop/songs/mp3/LLAZ.wav \n"
     ]
    },
    {
     "name": "stderr",
     "output_type": "stream",
     "text": [
      "/home/tivo/anaconda3/lib/python3.5/site-packages/ipykernel/__main__.py:301: VisibleDeprecationWarning: using a non-integer number instead of an integer will result in an error in the future\n",
      "/home/tivo/anaconda3/lib/python3.5/site-packages/ipykernel/__main__.py:127: VisibleDeprecationWarning: using a non-integer number instead of an integer will result in an error in the future\n",
      "/home/tivo/anaconda3/lib/python3.5/site-packages/ipykernel/__main__.py:152: VisibleDeprecationWarning: using a non-integer number instead of an integer will result in an error in the future\n",
      "/home/tivo/anaconda3/lib/python3.5/site-packages/ipykernel/__main__.py:166: VisibleDeprecationWarning: using a non-integer number instead of an integer will result in an error in the future\n",
      "/home/tivo/anaconda3/lib/python3.5/site-packages/ipykernel/__main__.py:177: VisibleDeprecationWarning: using a non-integer number instead of an integer will result in an error in the future\n",
      "/home/tivo/anaconda3/lib/python3.5/site-packages/ipykernel/__main__.py:181: VisibleDeprecationWarning: using a non-integer number instead of an integer will result in an error in the future\n"
     ]
    },
    {
     "name": "stdout",
     "output_type": "stream",
     "text": [
      "application/octet-stream\n",
      "FileName: /home/tivo/Desktop/songs/mp3/ZVRI.wav \n"
     ]
    },
    {
     "name": "stderr",
     "output_type": "stream",
     "text": [
      "/home/tivo/anaconda3/lib/python3.5/site-packages/ipykernel/__main__.py:301: VisibleDeprecationWarning: using a non-integer number instead of an integer will result in an error in the future\n",
      "/home/tivo/anaconda3/lib/python3.5/site-packages/ipykernel/__main__.py:127: VisibleDeprecationWarning: using a non-integer number instead of an integer will result in an error in the future\n",
      "/home/tivo/anaconda3/lib/python3.5/site-packages/ipykernel/__main__.py:152: VisibleDeprecationWarning: using a non-integer number instead of an integer will result in an error in the future\n",
      "/home/tivo/anaconda3/lib/python3.5/site-packages/ipykernel/__main__.py:166: VisibleDeprecationWarning: using a non-integer number instead of an integer will result in an error in the future\n",
      "/home/tivo/anaconda3/lib/python3.5/site-packages/ipykernel/__main__.py:177: VisibleDeprecationWarning: using a non-integer number instead of an integer will result in an error in the future\n",
      "/home/tivo/anaconda3/lib/python3.5/site-packages/ipykernel/__main__.py:181: VisibleDeprecationWarning: using a non-integer number instead of an integer will result in an error in the future\n"
     ]
    },
    {
     "name": "stdout",
     "output_type": "stream",
     "text": [
      "audio/mpeg\n",
      "FileName: /home/tivo/Desktop/songs/mp3/SLQA.wav \n"
     ]
    },
    {
     "name": "stderr",
     "output_type": "stream",
     "text": [
      "/home/tivo/anaconda3/lib/python3.5/site-packages/ipykernel/__main__.py:301: VisibleDeprecationWarning: using a non-integer number instead of an integer will result in an error in the future\n",
      "/home/tivo/anaconda3/lib/python3.5/site-packages/ipykernel/__main__.py:127: VisibleDeprecationWarning: using a non-integer number instead of an integer will result in an error in the future\n",
      "/home/tivo/anaconda3/lib/python3.5/site-packages/ipykernel/__main__.py:152: VisibleDeprecationWarning: using a non-integer number instead of an integer will result in an error in the future\n",
      "/home/tivo/anaconda3/lib/python3.5/site-packages/ipykernel/__main__.py:166: VisibleDeprecationWarning: using a non-integer number instead of an integer will result in an error in the future\n",
      "/home/tivo/anaconda3/lib/python3.5/site-packages/ipykernel/__main__.py:177: VisibleDeprecationWarning: using a non-integer number instead of an integer will result in an error in the future\n",
      "/home/tivo/anaconda3/lib/python3.5/site-packages/ipykernel/__main__.py:181: VisibleDeprecationWarning: using a non-integer number instead of an integer will result in an error in the future\n"
     ]
    },
    {
     "name": "stdout",
     "output_type": "stream",
     "text": [
      "audio/mpeg\n",
      "FileName: /home/tivo/Desktop/songs/mp3/VIQG.wav \n"
     ]
    },
    {
     "name": "stderr",
     "output_type": "stream",
     "text": [
      "/home/tivo/anaconda3/lib/python3.5/site-packages/ipykernel/__main__.py:301: VisibleDeprecationWarning: using a non-integer number instead of an integer will result in an error in the future\n",
      "/home/tivo/anaconda3/lib/python3.5/site-packages/ipykernel/__main__.py:127: VisibleDeprecationWarning: using a non-integer number instead of an integer will result in an error in the future\n",
      "/home/tivo/anaconda3/lib/python3.5/site-packages/ipykernel/__main__.py:152: VisibleDeprecationWarning: using a non-integer number instead of an integer will result in an error in the future\n",
      "/home/tivo/anaconda3/lib/python3.5/site-packages/ipykernel/__main__.py:166: VisibleDeprecationWarning: using a non-integer number instead of an integer will result in an error in the future\n",
      "/home/tivo/anaconda3/lib/python3.5/site-packages/ipykernel/__main__.py:177: VisibleDeprecationWarning: using a non-integer number instead of an integer will result in an error in the future\n",
      "/home/tivo/anaconda3/lib/python3.5/site-packages/ipykernel/__main__.py:181: VisibleDeprecationWarning: using a non-integer number instead of an integer will result in an error in the future\n"
     ]
    },
    {
     "name": "stdout",
     "output_type": "stream",
     "text": [
      "audio/mpeg\n",
      "FileName: /home/tivo/Desktop/songs/mp3/VSLP.wav \n"
     ]
    },
    {
     "name": "stderr",
     "output_type": "stream",
     "text": [
      "/home/tivo/anaconda3/lib/python3.5/site-packages/ipykernel/__main__.py:301: VisibleDeprecationWarning: using a non-integer number instead of an integer will result in an error in the future\n",
      "/home/tivo/anaconda3/lib/python3.5/site-packages/ipykernel/__main__.py:127: VisibleDeprecationWarning: using a non-integer number instead of an integer will result in an error in the future\n",
      "/home/tivo/anaconda3/lib/python3.5/site-packages/ipykernel/__main__.py:152: VisibleDeprecationWarning: using a non-integer number instead of an integer will result in an error in the future\n",
      "/home/tivo/anaconda3/lib/python3.5/site-packages/ipykernel/__main__.py:166: VisibleDeprecationWarning: using a non-integer number instead of an integer will result in an error in the future\n",
      "/home/tivo/anaconda3/lib/python3.5/site-packages/ipykernel/__main__.py:177: VisibleDeprecationWarning: using a non-integer number instead of an integer will result in an error in the future\n",
      "/home/tivo/anaconda3/lib/python3.5/site-packages/ipykernel/__main__.py:181: VisibleDeprecationWarning: using a non-integer number instead of an integer will result in an error in the future\n"
     ]
    },
    {
     "name": "stdout",
     "output_type": "stream",
     "text": [
      "application/octet-stream\n",
      "FileName: /home/tivo/Desktop/songs/mp3/OJMY.wav \n"
     ]
    },
    {
     "name": "stderr",
     "output_type": "stream",
     "text": [
      "/home/tivo/anaconda3/lib/python3.5/site-packages/ipykernel/__main__.py:301: VisibleDeprecationWarning: using a non-integer number instead of an integer will result in an error in the future\n",
      "/home/tivo/anaconda3/lib/python3.5/site-packages/ipykernel/__main__.py:127: VisibleDeprecationWarning: using a non-integer number instead of an integer will result in an error in the future\n",
      "/home/tivo/anaconda3/lib/python3.5/site-packages/ipykernel/__main__.py:152: VisibleDeprecationWarning: using a non-integer number instead of an integer will result in an error in the future\n",
      "/home/tivo/anaconda3/lib/python3.5/site-packages/ipykernel/__main__.py:166: VisibleDeprecationWarning: using a non-integer number instead of an integer will result in an error in the future\n",
      "/home/tivo/anaconda3/lib/python3.5/site-packages/ipykernel/__main__.py:177: VisibleDeprecationWarning: using a non-integer number instead of an integer will result in an error in the future\n",
      "/home/tivo/anaconda3/lib/python3.5/site-packages/ipykernel/__main__.py:181: VisibleDeprecationWarning: using a non-integer number instead of an integer will result in an error in the future\n"
     ]
    },
    {
     "name": "stdout",
     "output_type": "stream",
     "text": [
      "application/octet-stream\n",
      "FileName: /home/tivo/Desktop/songs/mp3/UPJY.wav \n"
     ]
    },
    {
     "name": "stderr",
     "output_type": "stream",
     "text": [
      "/home/tivo/anaconda3/lib/python3.5/site-packages/ipykernel/__main__.py:301: VisibleDeprecationWarning: using a non-integer number instead of an integer will result in an error in the future\n",
      "/home/tivo/anaconda3/lib/python3.5/site-packages/ipykernel/__main__.py:127: VisibleDeprecationWarning: using a non-integer number instead of an integer will result in an error in the future\n",
      "/home/tivo/anaconda3/lib/python3.5/site-packages/ipykernel/__main__.py:152: VisibleDeprecationWarning: using a non-integer number instead of an integer will result in an error in the future\n",
      "/home/tivo/anaconda3/lib/python3.5/site-packages/ipykernel/__main__.py:166: VisibleDeprecationWarning: using a non-integer number instead of an integer will result in an error in the future\n",
      "/home/tivo/anaconda3/lib/python3.5/site-packages/ipykernel/__main__.py:177: VisibleDeprecationWarning: using a non-integer number instead of an integer will result in an error in the future\n",
      "/home/tivo/anaconda3/lib/python3.5/site-packages/ipykernel/__main__.py:181: VisibleDeprecationWarning: using a non-integer number instead of an integer will result in an error in the future\n"
     ]
    },
    {
     "name": "stdout",
     "output_type": "stream",
     "text": [
      "application/octet-stream\n",
      "FileName: /home/tivo/Desktop/songs/mp3/VKZQ.wav \n"
     ]
    },
    {
     "name": "stderr",
     "output_type": "stream",
     "text": [
      "/home/tivo/anaconda3/lib/python3.5/site-packages/ipykernel/__main__.py:301: VisibleDeprecationWarning: using a non-integer number instead of an integer will result in an error in the future\n",
      "/home/tivo/anaconda3/lib/python3.5/site-packages/ipykernel/__main__.py:127: VisibleDeprecationWarning: using a non-integer number instead of an integer will result in an error in the future\n",
      "/home/tivo/anaconda3/lib/python3.5/site-packages/ipykernel/__main__.py:152: VisibleDeprecationWarning: using a non-integer number instead of an integer will result in an error in the future\n",
      "/home/tivo/anaconda3/lib/python3.5/site-packages/ipykernel/__main__.py:166: VisibleDeprecationWarning: using a non-integer number instead of an integer will result in an error in the future\n",
      "/home/tivo/anaconda3/lib/python3.5/site-packages/ipykernel/__main__.py:177: VisibleDeprecationWarning: using a non-integer number instead of an integer will result in an error in the future\n",
      "/home/tivo/anaconda3/lib/python3.5/site-packages/ipykernel/__main__.py:181: VisibleDeprecationWarning: using a non-integer number instead of an integer will result in an error in the future\n"
     ]
    },
    {
     "name": "stdout",
     "output_type": "stream",
     "text": [
      "audio/mpeg\n",
      "FileName: /home/tivo/Desktop/songs/mp3/JIQS.wav \n"
     ]
    },
    {
     "name": "stderr",
     "output_type": "stream",
     "text": [
      "/home/tivo/anaconda3/lib/python3.5/site-packages/ipykernel/__main__.py:301: VisibleDeprecationWarning: using a non-integer number instead of an integer will result in an error in the future\n",
      "/home/tivo/anaconda3/lib/python3.5/site-packages/ipykernel/__main__.py:127: VisibleDeprecationWarning: using a non-integer number instead of an integer will result in an error in the future\n",
      "/home/tivo/anaconda3/lib/python3.5/site-packages/ipykernel/__main__.py:152: VisibleDeprecationWarning: using a non-integer number instead of an integer will result in an error in the future\n",
      "/home/tivo/anaconda3/lib/python3.5/site-packages/ipykernel/__main__.py:166: VisibleDeprecationWarning: using a non-integer number instead of an integer will result in an error in the future\n",
      "/home/tivo/anaconda3/lib/python3.5/site-packages/ipykernel/__main__.py:177: VisibleDeprecationWarning: using a non-integer number instead of an integer will result in an error in the future\n",
      "/home/tivo/anaconda3/lib/python3.5/site-packages/ipykernel/__main__.py:181: VisibleDeprecationWarning: using a non-integer number instead of an integer will result in an error in the future\n"
     ]
    },
    {
     "name": "stdout",
     "output_type": "stream",
     "text": [
      "audio/mpeg\n",
      "FileName: /home/tivo/Desktop/songs/mp3/FNZS.wav \n"
     ]
    },
    {
     "name": "stderr",
     "output_type": "stream",
     "text": [
      "/home/tivo/anaconda3/lib/python3.5/site-packages/ipykernel/__main__.py:301: VisibleDeprecationWarning: using a non-integer number instead of an integer will result in an error in the future\n",
      "/home/tivo/anaconda3/lib/python3.5/site-packages/ipykernel/__main__.py:127: VisibleDeprecationWarning: using a non-integer number instead of an integer will result in an error in the future\n",
      "/home/tivo/anaconda3/lib/python3.5/site-packages/ipykernel/__main__.py:152: VisibleDeprecationWarning: using a non-integer number instead of an integer will result in an error in the future\n",
      "/home/tivo/anaconda3/lib/python3.5/site-packages/ipykernel/__main__.py:166: VisibleDeprecationWarning: using a non-integer number instead of an integer will result in an error in the future\n",
      "/home/tivo/anaconda3/lib/python3.5/site-packages/ipykernel/__main__.py:177: VisibleDeprecationWarning: using a non-integer number instead of an integer will result in an error in the future\n",
      "/home/tivo/anaconda3/lib/python3.5/site-packages/ipykernel/__main__.py:181: VisibleDeprecationWarning: using a non-integer number instead of an integer will result in an error in the future\n"
     ]
    },
    {
     "name": "stdout",
     "output_type": "stream",
     "text": [
      "audio/mpeg\n",
      "FileName: /home/tivo/Desktop/songs/mp3/KUEV.wav \n"
     ]
    },
    {
     "name": "stderr",
     "output_type": "stream",
     "text": [
      "/home/tivo/anaconda3/lib/python3.5/site-packages/ipykernel/__main__.py:301: VisibleDeprecationWarning: using a non-integer number instead of an integer will result in an error in the future\n",
      "/home/tivo/anaconda3/lib/python3.5/site-packages/ipykernel/__main__.py:127: VisibleDeprecationWarning: using a non-integer number instead of an integer will result in an error in the future\n",
      "/home/tivo/anaconda3/lib/python3.5/site-packages/ipykernel/__main__.py:152: VisibleDeprecationWarning: using a non-integer number instead of an integer will result in an error in the future\n",
      "/home/tivo/anaconda3/lib/python3.5/site-packages/ipykernel/__main__.py:166: VisibleDeprecationWarning: using a non-integer number instead of an integer will result in an error in the future\n",
      "/home/tivo/anaconda3/lib/python3.5/site-packages/ipykernel/__main__.py:177: VisibleDeprecationWarning: using a non-integer number instead of an integer will result in an error in the future\n",
      "/home/tivo/anaconda3/lib/python3.5/site-packages/ipykernel/__main__.py:181: VisibleDeprecationWarning: using a non-integer number instead of an integer will result in an error in the future\n"
     ]
    },
    {
     "name": "stdout",
     "output_type": "stream",
     "text": [
      "application/octet-stream\n",
      "FileName: /home/tivo/Desktop/songs/mp3/MFKG.wav \n"
     ]
    },
    {
     "name": "stderr",
     "output_type": "stream",
     "text": [
      "/home/tivo/anaconda3/lib/python3.5/site-packages/ipykernel/__main__.py:301: VisibleDeprecationWarning: using a non-integer number instead of an integer will result in an error in the future\n",
      "/home/tivo/anaconda3/lib/python3.5/site-packages/ipykernel/__main__.py:127: VisibleDeprecationWarning: using a non-integer number instead of an integer will result in an error in the future\n",
      "/home/tivo/anaconda3/lib/python3.5/site-packages/ipykernel/__main__.py:152: VisibleDeprecationWarning: using a non-integer number instead of an integer will result in an error in the future\n",
      "/home/tivo/anaconda3/lib/python3.5/site-packages/ipykernel/__main__.py:166: VisibleDeprecationWarning: using a non-integer number instead of an integer will result in an error in the future\n",
      "/home/tivo/anaconda3/lib/python3.5/site-packages/ipykernel/__main__.py:177: VisibleDeprecationWarning: using a non-integer number instead of an integer will result in an error in the future\n",
      "/home/tivo/anaconda3/lib/python3.5/site-packages/ipykernel/__main__.py:181: VisibleDeprecationWarning: using a non-integer number instead of an integer will result in an error in the future\n"
     ]
    },
    {
     "name": "stdout",
     "output_type": "stream",
     "text": [
      "audio/mpeg\n",
      "FileName: /home/tivo/Desktop/songs/mp3/GKQP.wav \n"
     ]
    },
    {
     "name": "stderr",
     "output_type": "stream",
     "text": [
      "/home/tivo/anaconda3/lib/python3.5/site-packages/ipykernel/__main__.py:301: VisibleDeprecationWarning: using a non-integer number instead of an integer will result in an error in the future\n",
      "/home/tivo/anaconda3/lib/python3.5/site-packages/ipykernel/__main__.py:127: VisibleDeprecationWarning: using a non-integer number instead of an integer will result in an error in the future\n",
      "/home/tivo/anaconda3/lib/python3.5/site-packages/ipykernel/__main__.py:152: VisibleDeprecationWarning: using a non-integer number instead of an integer will result in an error in the future\n",
      "/home/tivo/anaconda3/lib/python3.5/site-packages/ipykernel/__main__.py:166: VisibleDeprecationWarning: using a non-integer number instead of an integer will result in an error in the future\n",
      "/home/tivo/anaconda3/lib/python3.5/site-packages/ipykernel/__main__.py:177: VisibleDeprecationWarning: using a non-integer number instead of an integer will result in an error in the future\n",
      "/home/tivo/anaconda3/lib/python3.5/site-packages/ipykernel/__main__.py:181: VisibleDeprecationWarning: using a non-integer number instead of an integer will result in an error in the future\n"
     ]
    },
    {
     "name": "stdout",
     "output_type": "stream",
     "text": [
      "audio/mpeg\n",
      "FileName: /home/tivo/Desktop/songs/mp3/PWML.wav \n"
     ]
    },
    {
     "name": "stderr",
     "output_type": "stream",
     "text": [
      "/home/tivo/anaconda3/lib/python3.5/site-packages/ipykernel/__main__.py:301: VisibleDeprecationWarning: using a non-integer number instead of an integer will result in an error in the future\n",
      "/home/tivo/anaconda3/lib/python3.5/site-packages/ipykernel/__main__.py:127: VisibleDeprecationWarning: using a non-integer number instead of an integer will result in an error in the future\n",
      "/home/tivo/anaconda3/lib/python3.5/site-packages/ipykernel/__main__.py:152: VisibleDeprecationWarning: using a non-integer number instead of an integer will result in an error in the future\n",
      "/home/tivo/anaconda3/lib/python3.5/site-packages/ipykernel/__main__.py:166: VisibleDeprecationWarning: using a non-integer number instead of an integer will result in an error in the future\n",
      "/home/tivo/anaconda3/lib/python3.5/site-packages/ipykernel/__main__.py:177: VisibleDeprecationWarning: using a non-integer number instead of an integer will result in an error in the future\n",
      "/home/tivo/anaconda3/lib/python3.5/site-packages/ipykernel/__main__.py:181: VisibleDeprecationWarning: using a non-integer number instead of an integer will result in an error in the future\n"
     ]
    },
    {
     "name": "stdout",
     "output_type": "stream",
     "text": [
      "application/octet-stream\n",
      "FileName: /home/tivo/Desktop/songs/mp3/BITE.wav \n"
     ]
    },
    {
     "name": "stderr",
     "output_type": "stream",
     "text": [
      "/home/tivo/anaconda3/lib/python3.5/site-packages/ipykernel/__main__.py:301: VisibleDeprecationWarning: using a non-integer number instead of an integer will result in an error in the future\n",
      "/home/tivo/anaconda3/lib/python3.5/site-packages/ipykernel/__main__.py:127: VisibleDeprecationWarning: using a non-integer number instead of an integer will result in an error in the future\n",
      "/home/tivo/anaconda3/lib/python3.5/site-packages/ipykernel/__main__.py:152: VisibleDeprecationWarning: using a non-integer number instead of an integer will result in an error in the future\n",
      "/home/tivo/anaconda3/lib/python3.5/site-packages/ipykernel/__main__.py:166: VisibleDeprecationWarning: using a non-integer number instead of an integer will result in an error in the future\n",
      "/home/tivo/anaconda3/lib/python3.5/site-packages/ipykernel/__main__.py:177: VisibleDeprecationWarning: using a non-integer number instead of an integer will result in an error in the future\n",
      "/home/tivo/anaconda3/lib/python3.5/site-packages/ipykernel/__main__.py:181: VisibleDeprecationWarning: using a non-integer number instead of an integer will result in an error in the future\n"
     ]
    },
    {
     "name": "stdout",
     "output_type": "stream",
     "text": [
      "application/octet-stream\n",
      "FileName: /home/tivo/Desktop/songs/mp3/EOXJ.wav \n"
     ]
    },
    {
     "name": "stderr",
     "output_type": "stream",
     "text": [
      "/home/tivo/anaconda3/lib/python3.5/site-packages/ipykernel/__main__.py:301: VisibleDeprecationWarning: using a non-integer number instead of an integer will result in an error in the future\n",
      "/home/tivo/anaconda3/lib/python3.5/site-packages/ipykernel/__main__.py:127: VisibleDeprecationWarning: using a non-integer number instead of an integer will result in an error in the future\n",
      "/home/tivo/anaconda3/lib/python3.5/site-packages/ipykernel/__main__.py:152: VisibleDeprecationWarning: using a non-integer number instead of an integer will result in an error in the future\n",
      "/home/tivo/anaconda3/lib/python3.5/site-packages/ipykernel/__main__.py:166: VisibleDeprecationWarning: using a non-integer number instead of an integer will result in an error in the future\n",
      "/home/tivo/anaconda3/lib/python3.5/site-packages/ipykernel/__main__.py:177: VisibleDeprecationWarning: using a non-integer number instead of an integer will result in an error in the future\n",
      "/home/tivo/anaconda3/lib/python3.5/site-packages/ipykernel/__main__.py:181: VisibleDeprecationWarning: using a non-integer number instead of an integer will result in an error in the future\n"
     ]
    },
    {
     "name": "stdout",
     "output_type": "stream",
     "text": [
      "application/octet-stream\n",
      "FileName: /home/tivo/Desktop/songs/mp3/ZELD.wav \n"
     ]
    },
    {
     "name": "stderr",
     "output_type": "stream",
     "text": [
      "/home/tivo/anaconda3/lib/python3.5/site-packages/ipykernel/__main__.py:301: VisibleDeprecationWarning: using a non-integer number instead of an integer will result in an error in the future\n",
      "/home/tivo/anaconda3/lib/python3.5/site-packages/ipykernel/__main__.py:127: VisibleDeprecationWarning: using a non-integer number instead of an integer will result in an error in the future\n",
      "/home/tivo/anaconda3/lib/python3.5/site-packages/ipykernel/__main__.py:152: VisibleDeprecationWarning: using a non-integer number instead of an integer will result in an error in the future\n",
      "/home/tivo/anaconda3/lib/python3.5/site-packages/ipykernel/__main__.py:166: VisibleDeprecationWarning: using a non-integer number instead of an integer will result in an error in the future\n",
      "/home/tivo/anaconda3/lib/python3.5/site-packages/ipykernel/__main__.py:177: VisibleDeprecationWarning: using a non-integer number instead of an integer will result in an error in the future\n",
      "/home/tivo/anaconda3/lib/python3.5/site-packages/ipykernel/__main__.py:181: VisibleDeprecationWarning: using a non-integer number instead of an integer will result in an error in the future\n"
     ]
    },
    {
     "name": "stdout",
     "output_type": "stream",
     "text": [
      "application/octet-stream\n",
      "FileName: /home/tivo/Desktop/songs/mp3/EESY.wav \n"
     ]
    },
    {
     "name": "stderr",
     "output_type": "stream",
     "text": [
      "/home/tivo/anaconda3/lib/python3.5/site-packages/ipykernel/__main__.py:301: VisibleDeprecationWarning: using a non-integer number instead of an integer will result in an error in the future\n",
      "/home/tivo/anaconda3/lib/python3.5/site-packages/ipykernel/__main__.py:127: VisibleDeprecationWarning: using a non-integer number instead of an integer will result in an error in the future\n",
      "/home/tivo/anaconda3/lib/python3.5/site-packages/ipykernel/__main__.py:152: VisibleDeprecationWarning: using a non-integer number instead of an integer will result in an error in the future\n",
      "/home/tivo/anaconda3/lib/python3.5/site-packages/ipykernel/__main__.py:166: VisibleDeprecationWarning: using a non-integer number instead of an integer will result in an error in the future\n",
      "/home/tivo/anaconda3/lib/python3.5/site-packages/ipykernel/__main__.py:177: VisibleDeprecationWarning: using a non-integer number instead of an integer will result in an error in the future\n",
      "/home/tivo/anaconda3/lib/python3.5/site-packages/ipykernel/__main__.py:181: VisibleDeprecationWarning: using a non-integer number instead of an integer will result in an error in the future\n"
     ]
    },
    {
     "name": "stdout",
     "output_type": "stream",
     "text": [
      "application/octet-stream\n",
      "FileName: /home/tivo/Desktop/songs/mp3/BVEW.wav \n"
     ]
    },
    {
     "name": "stderr",
     "output_type": "stream",
     "text": [
      "/home/tivo/anaconda3/lib/python3.5/site-packages/ipykernel/__main__.py:301: VisibleDeprecationWarning: using a non-integer number instead of an integer will result in an error in the future\n",
      "/home/tivo/anaconda3/lib/python3.5/site-packages/ipykernel/__main__.py:127: VisibleDeprecationWarning: using a non-integer number instead of an integer will result in an error in the future\n",
      "/home/tivo/anaconda3/lib/python3.5/site-packages/ipykernel/__main__.py:152: VisibleDeprecationWarning: using a non-integer number instead of an integer will result in an error in the future\n",
      "/home/tivo/anaconda3/lib/python3.5/site-packages/ipykernel/__main__.py:166: VisibleDeprecationWarning: using a non-integer number instead of an integer will result in an error in the future\n",
      "/home/tivo/anaconda3/lib/python3.5/site-packages/ipykernel/__main__.py:177: VisibleDeprecationWarning: using a non-integer number instead of an integer will result in an error in the future\n",
      "/home/tivo/anaconda3/lib/python3.5/site-packages/ipykernel/__main__.py:181: VisibleDeprecationWarning: using a non-integer number instead of an integer will result in an error in the future\n"
     ]
    },
    {
     "name": "stdout",
     "output_type": "stream",
     "text": [
      "application/octet-stream\n",
      "FileName: /home/tivo/Desktop/songs/mp3/OKEW.wav \n"
     ]
    },
    {
     "name": "stderr",
     "output_type": "stream",
     "text": [
      "/home/tivo/anaconda3/lib/python3.5/site-packages/ipykernel/__main__.py:301: VisibleDeprecationWarning: using a non-integer number instead of an integer will result in an error in the future\n",
      "/home/tivo/anaconda3/lib/python3.5/site-packages/ipykernel/__main__.py:127: VisibleDeprecationWarning: using a non-integer number instead of an integer will result in an error in the future\n",
      "/home/tivo/anaconda3/lib/python3.5/site-packages/ipykernel/__main__.py:152: VisibleDeprecationWarning: using a non-integer number instead of an integer will result in an error in the future\n",
      "/home/tivo/anaconda3/lib/python3.5/site-packages/ipykernel/__main__.py:166: VisibleDeprecationWarning: using a non-integer number instead of an integer will result in an error in the future\n",
      "/home/tivo/anaconda3/lib/python3.5/site-packages/ipykernel/__main__.py:177: VisibleDeprecationWarning: using a non-integer number instead of an integer will result in an error in the future\n",
      "/home/tivo/anaconda3/lib/python3.5/site-packages/ipykernel/__main__.py:181: VisibleDeprecationWarning: using a non-integer number instead of an integer will result in an error in the future\n"
     ]
    },
    {
     "name": "stdout",
     "output_type": "stream",
     "text": [
      "application/octet-stream\n",
      "FileName: /home/tivo/Desktop/songs/mp3/WOQT.wav \n"
     ]
    },
    {
     "name": "stderr",
     "output_type": "stream",
     "text": [
      "/home/tivo/anaconda3/lib/python3.5/site-packages/ipykernel/__main__.py:301: VisibleDeprecationWarning: using a non-integer number instead of an integer will result in an error in the future\n",
      "/home/tivo/anaconda3/lib/python3.5/site-packages/ipykernel/__main__.py:127: VisibleDeprecationWarning: using a non-integer number instead of an integer will result in an error in the future\n",
      "/home/tivo/anaconda3/lib/python3.5/site-packages/ipykernel/__main__.py:152: VisibleDeprecationWarning: using a non-integer number instead of an integer will result in an error in the future\n",
      "/home/tivo/anaconda3/lib/python3.5/site-packages/ipykernel/__main__.py:166: VisibleDeprecationWarning: using a non-integer number instead of an integer will result in an error in the future\n",
      "/home/tivo/anaconda3/lib/python3.5/site-packages/ipykernel/__main__.py:177: VisibleDeprecationWarning: using a non-integer number instead of an integer will result in an error in the future\n",
      "/home/tivo/anaconda3/lib/python3.5/site-packages/ipykernel/__main__.py:181: VisibleDeprecationWarning: using a non-integer number instead of an integer will result in an error in the future\n"
     ]
    },
    {
     "name": "stdout",
     "output_type": "stream",
     "text": [
      "application/octet-stream\n",
      "FileName: /home/tivo/Desktop/songs/mp3/BPWS.wav \n"
     ]
    },
    {
     "name": "stderr",
     "output_type": "stream",
     "text": [
      "/home/tivo/anaconda3/lib/python3.5/site-packages/ipykernel/__main__.py:301: VisibleDeprecationWarning: using a non-integer number instead of an integer will result in an error in the future\n",
      "/home/tivo/anaconda3/lib/python3.5/site-packages/ipykernel/__main__.py:127: VisibleDeprecationWarning: using a non-integer number instead of an integer will result in an error in the future\n",
      "/home/tivo/anaconda3/lib/python3.5/site-packages/ipykernel/__main__.py:152: VisibleDeprecationWarning: using a non-integer number instead of an integer will result in an error in the future\n",
      "/home/tivo/anaconda3/lib/python3.5/site-packages/ipykernel/__main__.py:166: VisibleDeprecationWarning: using a non-integer number instead of an integer will result in an error in the future\n",
      "/home/tivo/anaconda3/lib/python3.5/site-packages/ipykernel/__main__.py:177: VisibleDeprecationWarning: using a non-integer number instead of an integer will result in an error in the future\n",
      "/home/tivo/anaconda3/lib/python3.5/site-packages/ipykernel/__main__.py:181: VisibleDeprecationWarning: using a non-integer number instead of an integer will result in an error in the future\n"
     ]
    },
    {
     "name": "stdout",
     "output_type": "stream",
     "text": [
      "application/octet-stream\n",
      "FileName: /home/tivo/Desktop/songs/mp3/ZEDD.wav \n"
     ]
    },
    {
     "name": "stderr",
     "output_type": "stream",
     "text": [
      "/home/tivo/anaconda3/lib/python3.5/site-packages/ipykernel/__main__.py:301: VisibleDeprecationWarning: using a non-integer number instead of an integer will result in an error in the future\n",
      "/home/tivo/anaconda3/lib/python3.5/site-packages/ipykernel/__main__.py:127: VisibleDeprecationWarning: using a non-integer number instead of an integer will result in an error in the future\n",
      "/home/tivo/anaconda3/lib/python3.5/site-packages/ipykernel/__main__.py:152: VisibleDeprecationWarning: using a non-integer number instead of an integer will result in an error in the future\n",
      "/home/tivo/anaconda3/lib/python3.5/site-packages/ipykernel/__main__.py:166: VisibleDeprecationWarning: using a non-integer number instead of an integer will result in an error in the future\n",
      "/home/tivo/anaconda3/lib/python3.5/site-packages/ipykernel/__main__.py:177: VisibleDeprecationWarning: using a non-integer number instead of an integer will result in an error in the future\n",
      "/home/tivo/anaconda3/lib/python3.5/site-packages/ipykernel/__main__.py:181: VisibleDeprecationWarning: using a non-integer number instead of an integer will result in an error in the future\n"
     ]
    },
    {
     "name": "stdout",
     "output_type": "stream",
     "text": [
      "application/octet-stream\n",
      "FileName: /home/tivo/Desktop/songs/mp3/VNRP.wav \n"
     ]
    },
    {
     "name": "stderr",
     "output_type": "stream",
     "text": [
      "/home/tivo/anaconda3/lib/python3.5/site-packages/ipykernel/__main__.py:301: VisibleDeprecationWarning: using a non-integer number instead of an integer will result in an error in the future\n",
      "/home/tivo/anaconda3/lib/python3.5/site-packages/ipykernel/__main__.py:127: VisibleDeprecationWarning: using a non-integer number instead of an integer will result in an error in the future\n",
      "/home/tivo/anaconda3/lib/python3.5/site-packages/ipykernel/__main__.py:152: VisibleDeprecationWarning: using a non-integer number instead of an integer will result in an error in the future\n",
      "/home/tivo/anaconda3/lib/python3.5/site-packages/ipykernel/__main__.py:166: VisibleDeprecationWarning: using a non-integer number instead of an integer will result in an error in the future\n",
      "/home/tivo/anaconda3/lib/python3.5/site-packages/ipykernel/__main__.py:177: VisibleDeprecationWarning: using a non-integer number instead of an integer will result in an error in the future\n",
      "/home/tivo/anaconda3/lib/python3.5/site-packages/ipykernel/__main__.py:181: VisibleDeprecationWarning: using a non-integer number instead of an integer will result in an error in the future\n"
     ]
    },
    {
     "name": "stdout",
     "output_type": "stream",
     "text": [
      "application/octet-stream\n",
      "FileName: /home/tivo/Desktop/songs/mp3/ITUA.wav \n"
     ]
    },
    {
     "name": "stderr",
     "output_type": "stream",
     "text": [
      "/home/tivo/anaconda3/lib/python3.5/site-packages/ipykernel/__main__.py:301: VisibleDeprecationWarning: using a non-integer number instead of an integer will result in an error in the future\n",
      "/home/tivo/anaconda3/lib/python3.5/site-packages/ipykernel/__main__.py:127: VisibleDeprecationWarning: using a non-integer number instead of an integer will result in an error in the future\n",
      "/home/tivo/anaconda3/lib/python3.5/site-packages/ipykernel/__main__.py:152: VisibleDeprecationWarning: using a non-integer number instead of an integer will result in an error in the future\n",
      "/home/tivo/anaconda3/lib/python3.5/site-packages/ipykernel/__main__.py:166: VisibleDeprecationWarning: using a non-integer number instead of an integer will result in an error in the future\n",
      "/home/tivo/anaconda3/lib/python3.5/site-packages/ipykernel/__main__.py:177: VisibleDeprecationWarning: using a non-integer number instead of an integer will result in an error in the future\n",
      "/home/tivo/anaconda3/lib/python3.5/site-packages/ipykernel/__main__.py:181: VisibleDeprecationWarning: using a non-integer number instead of an integer will result in an error in the future\n"
     ]
    },
    {
     "name": "stdout",
     "output_type": "stream",
     "text": [
      "application/octet-stream\n",
      "FileName: /home/tivo/Desktop/songs/mp3/NXVB.wav \n"
     ]
    },
    {
     "name": "stderr",
     "output_type": "stream",
     "text": [
      "/home/tivo/anaconda3/lib/python3.5/site-packages/ipykernel/__main__.py:301: VisibleDeprecationWarning: using a non-integer number instead of an integer will result in an error in the future\n",
      "/home/tivo/anaconda3/lib/python3.5/site-packages/ipykernel/__main__.py:127: VisibleDeprecationWarning: using a non-integer number instead of an integer will result in an error in the future\n",
      "/home/tivo/anaconda3/lib/python3.5/site-packages/ipykernel/__main__.py:152: VisibleDeprecationWarning: using a non-integer number instead of an integer will result in an error in the future\n",
      "/home/tivo/anaconda3/lib/python3.5/site-packages/ipykernel/__main__.py:166: VisibleDeprecationWarning: using a non-integer number instead of an integer will result in an error in the future\n",
      "/home/tivo/anaconda3/lib/python3.5/site-packages/ipykernel/__main__.py:177: VisibleDeprecationWarning: using a non-integer number instead of an integer will result in an error in the future\n",
      "/home/tivo/anaconda3/lib/python3.5/site-packages/ipykernel/__main__.py:181: VisibleDeprecationWarning: using a non-integer number instead of an integer will result in an error in the future\n"
     ]
    },
    {
     "name": "stdout",
     "output_type": "stream",
     "text": [
      "application/octet-stream\n",
      "FileName: /home/tivo/Desktop/songs/mp3/IFLQ.wav \n"
     ]
    },
    {
     "name": "stderr",
     "output_type": "stream",
     "text": [
      "/home/tivo/anaconda3/lib/python3.5/site-packages/ipykernel/__main__.py:301: VisibleDeprecationWarning: using a non-integer number instead of an integer will result in an error in the future\n",
      "/home/tivo/anaconda3/lib/python3.5/site-packages/ipykernel/__main__.py:127: VisibleDeprecationWarning: using a non-integer number instead of an integer will result in an error in the future\n",
      "/home/tivo/anaconda3/lib/python3.5/site-packages/ipykernel/__main__.py:152: VisibleDeprecationWarning: using a non-integer number instead of an integer will result in an error in the future\n",
      "/home/tivo/anaconda3/lib/python3.5/site-packages/ipykernel/__main__.py:166: VisibleDeprecationWarning: using a non-integer number instead of an integer will result in an error in the future\n",
      "/home/tivo/anaconda3/lib/python3.5/site-packages/ipykernel/__main__.py:177: VisibleDeprecationWarning: using a non-integer number instead of an integer will result in an error in the future\n",
      "/home/tivo/anaconda3/lib/python3.5/site-packages/ipykernel/__main__.py:181: VisibleDeprecationWarning: using a non-integer number instead of an integer will result in an error in the future\n"
     ]
    },
    {
     "name": "stdout",
     "output_type": "stream",
     "text": [
      "application/octet-stream\n",
      "FileName: /home/tivo/Desktop/songs/mp3/DAUA.wav \n"
     ]
    },
    {
     "name": "stderr",
     "output_type": "stream",
     "text": [
      "/home/tivo/anaconda3/lib/python3.5/site-packages/ipykernel/__main__.py:301: VisibleDeprecationWarning: using a non-integer number instead of an integer will result in an error in the future\n",
      "/home/tivo/anaconda3/lib/python3.5/site-packages/ipykernel/__main__.py:127: VisibleDeprecationWarning: using a non-integer number instead of an integer will result in an error in the future\n",
      "/home/tivo/anaconda3/lib/python3.5/site-packages/ipykernel/__main__.py:152: VisibleDeprecationWarning: using a non-integer number instead of an integer will result in an error in the future\n",
      "/home/tivo/anaconda3/lib/python3.5/site-packages/ipykernel/__main__.py:166: VisibleDeprecationWarning: using a non-integer number instead of an integer will result in an error in the future\n",
      "/home/tivo/anaconda3/lib/python3.5/site-packages/ipykernel/__main__.py:177: VisibleDeprecationWarning: using a non-integer number instead of an integer will result in an error in the future\n",
      "/home/tivo/anaconda3/lib/python3.5/site-packages/ipykernel/__main__.py:181: VisibleDeprecationWarning: using a non-integer number instead of an integer will result in an error in the future\n"
     ]
    },
    {
     "name": "stdout",
     "output_type": "stream",
     "text": [
      "application/octet-stream\n",
      "FileName: /home/tivo/Desktop/songs/mp3/IOMO.wav \n"
     ]
    },
    {
     "name": "stderr",
     "output_type": "stream",
     "text": [
      "/home/tivo/anaconda3/lib/python3.5/site-packages/ipykernel/__main__.py:301: VisibleDeprecationWarning: using a non-integer number instead of an integer will result in an error in the future\n",
      "/home/tivo/anaconda3/lib/python3.5/site-packages/ipykernel/__main__.py:127: VisibleDeprecationWarning: using a non-integer number instead of an integer will result in an error in the future\n",
      "/home/tivo/anaconda3/lib/python3.5/site-packages/ipykernel/__main__.py:152: VisibleDeprecationWarning: using a non-integer number instead of an integer will result in an error in the future\n",
      "/home/tivo/anaconda3/lib/python3.5/site-packages/ipykernel/__main__.py:166: VisibleDeprecationWarning: using a non-integer number instead of an integer will result in an error in the future\n",
      "/home/tivo/anaconda3/lib/python3.5/site-packages/ipykernel/__main__.py:177: VisibleDeprecationWarning: using a non-integer number instead of an integer will result in an error in the future\n",
      "/home/tivo/anaconda3/lib/python3.5/site-packages/ipykernel/__main__.py:181: VisibleDeprecationWarning: using a non-integer number instead of an integer will result in an error in the future\n"
     ]
    },
    {
     "name": "stdout",
     "output_type": "stream",
     "text": [
      "application/octet-stream\n",
      "FileName: /home/tivo/Desktop/songs/mp3/PLSG.wav \n"
     ]
    },
    {
     "name": "stderr",
     "output_type": "stream",
     "text": [
      "/home/tivo/anaconda3/lib/python3.5/site-packages/ipykernel/__main__.py:301: VisibleDeprecationWarning: using a non-integer number instead of an integer will result in an error in the future\n",
      "/home/tivo/anaconda3/lib/python3.5/site-packages/ipykernel/__main__.py:127: VisibleDeprecationWarning: using a non-integer number instead of an integer will result in an error in the future\n",
      "/home/tivo/anaconda3/lib/python3.5/site-packages/ipykernel/__main__.py:152: VisibleDeprecationWarning: using a non-integer number instead of an integer will result in an error in the future\n",
      "/home/tivo/anaconda3/lib/python3.5/site-packages/ipykernel/__main__.py:166: VisibleDeprecationWarning: using a non-integer number instead of an integer will result in an error in the future\n",
      "/home/tivo/anaconda3/lib/python3.5/site-packages/ipykernel/__main__.py:177: VisibleDeprecationWarning: using a non-integer number instead of an integer will result in an error in the future\n",
      "/home/tivo/anaconda3/lib/python3.5/site-packages/ipykernel/__main__.py:181: VisibleDeprecationWarning: using a non-integer number instead of an integer will result in an error in the future\n"
     ]
    },
    {
     "name": "stdout",
     "output_type": "stream",
     "text": [
      "application/octet-stream\n",
      "FileName: /home/tivo/Desktop/songs/mp3/FEBJ.wav \n"
     ]
    },
    {
     "name": "stderr",
     "output_type": "stream",
     "text": [
      "/home/tivo/anaconda3/lib/python3.5/site-packages/ipykernel/__main__.py:301: VisibleDeprecationWarning: using a non-integer number instead of an integer will result in an error in the future\n",
      "/home/tivo/anaconda3/lib/python3.5/site-packages/ipykernel/__main__.py:127: VisibleDeprecationWarning: using a non-integer number instead of an integer will result in an error in the future\n",
      "/home/tivo/anaconda3/lib/python3.5/site-packages/ipykernel/__main__.py:152: VisibleDeprecationWarning: using a non-integer number instead of an integer will result in an error in the future\n",
      "/home/tivo/anaconda3/lib/python3.5/site-packages/ipykernel/__main__.py:166: VisibleDeprecationWarning: using a non-integer number instead of an integer will result in an error in the future\n",
      "/home/tivo/anaconda3/lib/python3.5/site-packages/ipykernel/__main__.py:177: VisibleDeprecationWarning: using a non-integer number instead of an integer will result in an error in the future\n",
      "/home/tivo/anaconda3/lib/python3.5/site-packages/ipykernel/__main__.py:181: VisibleDeprecationWarning: using a non-integer number instead of an integer will result in an error in the future\n"
     ]
    },
    {
     "name": "stdout",
     "output_type": "stream",
     "text": [
      "application/octet-stream\n",
      "FileName: /home/tivo/Desktop/songs/mp3/GYGY.wav \n"
     ]
    },
    {
     "name": "stderr",
     "output_type": "stream",
     "text": [
      "/home/tivo/anaconda3/lib/python3.5/site-packages/ipykernel/__main__.py:301: VisibleDeprecationWarning: using a non-integer number instead of an integer will result in an error in the future\n",
      "/home/tivo/anaconda3/lib/python3.5/site-packages/ipykernel/__main__.py:127: VisibleDeprecationWarning: using a non-integer number instead of an integer will result in an error in the future\n",
      "/home/tivo/anaconda3/lib/python3.5/site-packages/ipykernel/__main__.py:152: VisibleDeprecationWarning: using a non-integer number instead of an integer will result in an error in the future\n",
      "/home/tivo/anaconda3/lib/python3.5/site-packages/ipykernel/__main__.py:166: VisibleDeprecationWarning: using a non-integer number instead of an integer will result in an error in the future\n",
      "/home/tivo/anaconda3/lib/python3.5/site-packages/ipykernel/__main__.py:177: VisibleDeprecationWarning: using a non-integer number instead of an integer will result in an error in the future\n",
      "/home/tivo/anaconda3/lib/python3.5/site-packages/ipykernel/__main__.py:181: VisibleDeprecationWarning: using a non-integer number instead of an integer will result in an error in the future\n"
     ]
    },
    {
     "name": "stdout",
     "output_type": "stream",
     "text": [
      "application/octet-stream\n",
      "FileName: /home/tivo/Desktop/songs/mp3/AVDU.wav \n"
     ]
    },
    {
     "name": "stderr",
     "output_type": "stream",
     "text": [
      "/home/tivo/anaconda3/lib/python3.5/site-packages/ipykernel/__main__.py:301: VisibleDeprecationWarning: using a non-integer number instead of an integer will result in an error in the future\n",
      "/home/tivo/anaconda3/lib/python3.5/site-packages/ipykernel/__main__.py:127: VisibleDeprecationWarning: using a non-integer number instead of an integer will result in an error in the future\n",
      "/home/tivo/anaconda3/lib/python3.5/site-packages/ipykernel/__main__.py:152: VisibleDeprecationWarning: using a non-integer number instead of an integer will result in an error in the future\n",
      "/home/tivo/anaconda3/lib/python3.5/site-packages/ipykernel/__main__.py:166: VisibleDeprecationWarning: using a non-integer number instead of an integer will result in an error in the future\n",
      "/home/tivo/anaconda3/lib/python3.5/site-packages/ipykernel/__main__.py:177: VisibleDeprecationWarning: using a non-integer number instead of an integer will result in an error in the future\n",
      "/home/tivo/anaconda3/lib/python3.5/site-packages/ipykernel/__main__.py:181: VisibleDeprecationWarning: using a non-integer number instead of an integer will result in an error in the future\n"
     ]
    },
    {
     "name": "stdout",
     "output_type": "stream",
     "text": [
      "audio/mpeg\n",
      "FileName: /home/tivo/Desktop/songs/mp3/LMMM.wav \n"
     ]
    },
    {
     "name": "stderr",
     "output_type": "stream",
     "text": [
      "/home/tivo/anaconda3/lib/python3.5/site-packages/ipykernel/__main__.py:301: VisibleDeprecationWarning: using a non-integer number instead of an integer will result in an error in the future\n",
      "/home/tivo/anaconda3/lib/python3.5/site-packages/ipykernel/__main__.py:127: VisibleDeprecationWarning: using a non-integer number instead of an integer will result in an error in the future\n",
      "/home/tivo/anaconda3/lib/python3.5/site-packages/ipykernel/__main__.py:152: VisibleDeprecationWarning: using a non-integer number instead of an integer will result in an error in the future\n",
      "/home/tivo/anaconda3/lib/python3.5/site-packages/ipykernel/__main__.py:166: VisibleDeprecationWarning: using a non-integer number instead of an integer will result in an error in the future\n",
      "/home/tivo/anaconda3/lib/python3.5/site-packages/ipykernel/__main__.py:177: VisibleDeprecationWarning: using a non-integer number instead of an integer will result in an error in the future\n",
      "/home/tivo/anaconda3/lib/python3.5/site-packages/ipykernel/__main__.py:181: VisibleDeprecationWarning: using a non-integer number instead of an integer will result in an error in the future\n"
     ]
    },
    {
     "name": "stdout",
     "output_type": "stream",
     "text": [
      "audio/mpeg\n",
      "FileName: /home/tivo/Desktop/songs/mp3/WHNB.wav \n"
     ]
    },
    {
     "name": "stderr",
     "output_type": "stream",
     "text": [
      "/home/tivo/anaconda3/lib/python3.5/site-packages/ipykernel/__main__.py:301: VisibleDeprecationWarning: using a non-integer number instead of an integer will result in an error in the future\n",
      "/home/tivo/anaconda3/lib/python3.5/site-packages/ipykernel/__main__.py:127: VisibleDeprecationWarning: using a non-integer number instead of an integer will result in an error in the future\n",
      "/home/tivo/anaconda3/lib/python3.5/site-packages/ipykernel/__main__.py:152: VisibleDeprecationWarning: using a non-integer number instead of an integer will result in an error in the future\n",
      "/home/tivo/anaconda3/lib/python3.5/site-packages/ipykernel/__main__.py:166: VisibleDeprecationWarning: using a non-integer number instead of an integer will result in an error in the future\n",
      "/home/tivo/anaconda3/lib/python3.5/site-packages/ipykernel/__main__.py:177: VisibleDeprecationWarning: using a non-integer number instead of an integer will result in an error in the future\n",
      "/home/tivo/anaconda3/lib/python3.5/site-packages/ipykernel/__main__.py:181: VisibleDeprecationWarning: using a non-integer number instead of an integer will result in an error in the future\n"
     ]
    },
    {
     "name": "stdout",
     "output_type": "stream",
     "text": [
      "application/octet-stream\n",
      "FileName: /home/tivo/Desktop/songs/mp3/GXJJ.wav \n"
     ]
    },
    {
     "name": "stderr",
     "output_type": "stream",
     "text": [
      "/home/tivo/anaconda3/lib/python3.5/site-packages/ipykernel/__main__.py:301: VisibleDeprecationWarning: using a non-integer number instead of an integer will result in an error in the future\n",
      "/home/tivo/anaconda3/lib/python3.5/site-packages/ipykernel/__main__.py:127: VisibleDeprecationWarning: using a non-integer number instead of an integer will result in an error in the future\n",
      "/home/tivo/anaconda3/lib/python3.5/site-packages/ipykernel/__main__.py:152: VisibleDeprecationWarning: using a non-integer number instead of an integer will result in an error in the future\n",
      "/home/tivo/anaconda3/lib/python3.5/site-packages/ipykernel/__main__.py:166: VisibleDeprecationWarning: using a non-integer number instead of an integer will result in an error in the future\n",
      "/home/tivo/anaconda3/lib/python3.5/site-packages/ipykernel/__main__.py:177: VisibleDeprecationWarning: using a non-integer number instead of an integer will result in an error in the future\n",
      "/home/tivo/anaconda3/lib/python3.5/site-packages/ipykernel/__main__.py:181: VisibleDeprecationWarning: using a non-integer number instead of an integer will result in an error in the future\n"
     ]
    },
    {
     "name": "stdout",
     "output_type": "stream",
     "text": [
      "application/octet-stream\n",
      "FileName: /home/tivo/Desktop/songs/mp3/KLDO.wav \n"
     ]
    },
    {
     "name": "stderr",
     "output_type": "stream",
     "text": [
      "/home/tivo/anaconda3/lib/python3.5/site-packages/ipykernel/__main__.py:301: VisibleDeprecationWarning: using a non-integer number instead of an integer will result in an error in the future\n",
      "/home/tivo/anaconda3/lib/python3.5/site-packages/ipykernel/__main__.py:127: VisibleDeprecationWarning: using a non-integer number instead of an integer will result in an error in the future\n",
      "/home/tivo/anaconda3/lib/python3.5/site-packages/ipykernel/__main__.py:152: VisibleDeprecationWarning: using a non-integer number instead of an integer will result in an error in the future\n",
      "/home/tivo/anaconda3/lib/python3.5/site-packages/ipykernel/__main__.py:166: VisibleDeprecationWarning: using a non-integer number instead of an integer will result in an error in the future\n",
      "/home/tivo/anaconda3/lib/python3.5/site-packages/ipykernel/__main__.py:177: VisibleDeprecationWarning: using a non-integer number instead of an integer will result in an error in the future\n",
      "/home/tivo/anaconda3/lib/python3.5/site-packages/ipykernel/__main__.py:181: VisibleDeprecationWarning: using a non-integer number instead of an integer will result in an error in the future\n"
     ]
    },
    {
     "name": "stdout",
     "output_type": "stream",
     "text": [
      "application/octet-stream\n",
      "FileName: /home/tivo/Desktop/songs/mp3/XOIS.wav \n"
     ]
    },
    {
     "name": "stderr",
     "output_type": "stream",
     "text": [
      "/home/tivo/anaconda3/lib/python3.5/site-packages/ipykernel/__main__.py:301: VisibleDeprecationWarning: using a non-integer number instead of an integer will result in an error in the future\n",
      "/home/tivo/anaconda3/lib/python3.5/site-packages/ipykernel/__main__.py:127: VisibleDeprecationWarning: using a non-integer number instead of an integer will result in an error in the future\n",
      "/home/tivo/anaconda3/lib/python3.5/site-packages/ipykernel/__main__.py:152: VisibleDeprecationWarning: using a non-integer number instead of an integer will result in an error in the future\n",
      "/home/tivo/anaconda3/lib/python3.5/site-packages/ipykernel/__main__.py:166: VisibleDeprecationWarning: using a non-integer number instead of an integer will result in an error in the future\n",
      "/home/tivo/anaconda3/lib/python3.5/site-packages/ipykernel/__main__.py:177: VisibleDeprecationWarning: using a non-integer number instead of an integer will result in an error in the future\n",
      "/home/tivo/anaconda3/lib/python3.5/site-packages/ipykernel/__main__.py:181: VisibleDeprecationWarning: using a non-integer number instead of an integer will result in an error in the future\n"
     ]
    },
    {
     "name": "stdout",
     "output_type": "stream",
     "text": [
      "application/octet-stream\n",
      "FileName: /home/tivo/Desktop/songs/mp3/HZXE.wav \n"
     ]
    },
    {
     "name": "stderr",
     "output_type": "stream",
     "text": [
      "/home/tivo/anaconda3/lib/python3.5/site-packages/ipykernel/__main__.py:301: VisibleDeprecationWarning: using a non-integer number instead of an integer will result in an error in the future\n",
      "/home/tivo/anaconda3/lib/python3.5/site-packages/ipykernel/__main__.py:127: VisibleDeprecationWarning: using a non-integer number instead of an integer will result in an error in the future\n",
      "/home/tivo/anaconda3/lib/python3.5/site-packages/ipykernel/__main__.py:152: VisibleDeprecationWarning: using a non-integer number instead of an integer will result in an error in the future\n",
      "/home/tivo/anaconda3/lib/python3.5/site-packages/ipykernel/__main__.py:166: VisibleDeprecationWarning: using a non-integer number instead of an integer will result in an error in the future\n",
      "/home/tivo/anaconda3/lib/python3.5/site-packages/ipykernel/__main__.py:177: VisibleDeprecationWarning: using a non-integer number instead of an integer will result in an error in the future\n",
      "/home/tivo/anaconda3/lib/python3.5/site-packages/ipykernel/__main__.py:181: VisibleDeprecationWarning: using a non-integer number instead of an integer will result in an error in the future\n"
     ]
    },
    {
     "name": "stdout",
     "output_type": "stream",
     "text": [
      "application/octet-stream\n",
      "FileName: /home/tivo/Desktop/songs/mp3/GLFC.wav \n"
     ]
    },
    {
     "name": "stderr",
     "output_type": "stream",
     "text": [
      "/home/tivo/anaconda3/lib/python3.5/site-packages/ipykernel/__main__.py:301: VisibleDeprecationWarning: using a non-integer number instead of an integer will result in an error in the future\n",
      "/home/tivo/anaconda3/lib/python3.5/site-packages/ipykernel/__main__.py:127: VisibleDeprecationWarning: using a non-integer number instead of an integer will result in an error in the future\n",
      "/home/tivo/anaconda3/lib/python3.5/site-packages/ipykernel/__main__.py:152: VisibleDeprecationWarning: using a non-integer number instead of an integer will result in an error in the future\n",
      "/home/tivo/anaconda3/lib/python3.5/site-packages/ipykernel/__main__.py:166: VisibleDeprecationWarning: using a non-integer number instead of an integer will result in an error in the future\n",
      "/home/tivo/anaconda3/lib/python3.5/site-packages/ipykernel/__main__.py:177: VisibleDeprecationWarning: using a non-integer number instead of an integer will result in an error in the future\n",
      "/home/tivo/anaconda3/lib/python3.5/site-packages/ipykernel/__main__.py:181: VisibleDeprecationWarning: using a non-integer number instead of an integer will result in an error in the future\n"
     ]
    },
    {
     "name": "stdout",
     "output_type": "stream",
     "text": [
      "audio/mpeg\n",
      "FileName: /home/tivo/Desktop/songs/mp3/FSUV.wav \n"
     ]
    },
    {
     "name": "stderr",
     "output_type": "stream",
     "text": [
      "/home/tivo/anaconda3/lib/python3.5/site-packages/ipykernel/__main__.py:301: VisibleDeprecationWarning: using a non-integer number instead of an integer will result in an error in the future\n",
      "/home/tivo/anaconda3/lib/python3.5/site-packages/ipykernel/__main__.py:127: VisibleDeprecationWarning: using a non-integer number instead of an integer will result in an error in the future\n",
      "/home/tivo/anaconda3/lib/python3.5/site-packages/ipykernel/__main__.py:152: VisibleDeprecationWarning: using a non-integer number instead of an integer will result in an error in the future\n",
      "/home/tivo/anaconda3/lib/python3.5/site-packages/ipykernel/__main__.py:166: VisibleDeprecationWarning: using a non-integer number instead of an integer will result in an error in the future\n",
      "/home/tivo/anaconda3/lib/python3.5/site-packages/ipykernel/__main__.py:177: VisibleDeprecationWarning: using a non-integer number instead of an integer will result in an error in the future\n",
      "/home/tivo/anaconda3/lib/python3.5/site-packages/ipykernel/__main__.py:181: VisibleDeprecationWarning: using a non-integer number instead of an integer will result in an error in the future\n"
     ]
    },
    {
     "name": "stdout",
     "output_type": "stream",
     "text": [
      "application/octet-stream\n",
      "FileName: /home/tivo/Desktop/songs/mp3/SJWG.wav \n"
     ]
    },
    {
     "name": "stderr",
     "output_type": "stream",
     "text": [
      "/home/tivo/anaconda3/lib/python3.5/site-packages/ipykernel/__main__.py:301: VisibleDeprecationWarning: using a non-integer number instead of an integer will result in an error in the future\n",
      "/home/tivo/anaconda3/lib/python3.5/site-packages/ipykernel/__main__.py:127: VisibleDeprecationWarning: using a non-integer number instead of an integer will result in an error in the future\n",
      "/home/tivo/anaconda3/lib/python3.5/site-packages/ipykernel/__main__.py:152: VisibleDeprecationWarning: using a non-integer number instead of an integer will result in an error in the future\n",
      "/home/tivo/anaconda3/lib/python3.5/site-packages/ipykernel/__main__.py:166: VisibleDeprecationWarning: using a non-integer number instead of an integer will result in an error in the future\n",
      "/home/tivo/anaconda3/lib/python3.5/site-packages/ipykernel/__main__.py:177: VisibleDeprecationWarning: using a non-integer number instead of an integer will result in an error in the future\n",
      "/home/tivo/anaconda3/lib/python3.5/site-packages/ipykernel/__main__.py:181: VisibleDeprecationWarning: using a non-integer number instead of an integer will result in an error in the future\n"
     ]
    },
    {
     "name": "stdout",
     "output_type": "stream",
     "text": [
      "application/octet-stream\n",
      "FileName: /home/tivo/Desktop/songs/mp3/VNYM.wav \n"
     ]
    },
    {
     "name": "stderr",
     "output_type": "stream",
     "text": [
      "/home/tivo/anaconda3/lib/python3.5/site-packages/ipykernel/__main__.py:301: VisibleDeprecationWarning: using a non-integer number instead of an integer will result in an error in the future\n",
      "/home/tivo/anaconda3/lib/python3.5/site-packages/ipykernel/__main__.py:127: VisibleDeprecationWarning: using a non-integer number instead of an integer will result in an error in the future\n",
      "/home/tivo/anaconda3/lib/python3.5/site-packages/ipykernel/__main__.py:152: VisibleDeprecationWarning: using a non-integer number instead of an integer will result in an error in the future\n",
      "/home/tivo/anaconda3/lib/python3.5/site-packages/ipykernel/__main__.py:166: VisibleDeprecationWarning: using a non-integer number instead of an integer will result in an error in the future\n",
      "/home/tivo/anaconda3/lib/python3.5/site-packages/ipykernel/__main__.py:177: VisibleDeprecationWarning: using a non-integer number instead of an integer will result in an error in the future\n",
      "/home/tivo/anaconda3/lib/python3.5/site-packages/ipykernel/__main__.py:181: VisibleDeprecationWarning: using a non-integer number instead of an integer will result in an error in the future\n"
     ]
    },
    {
     "name": "stdout",
     "output_type": "stream",
     "text": [
      "application/octet-stream\n",
      "FileName: /home/tivo/Desktop/songs/mp3/VIDR.wav \n"
     ]
    },
    {
     "name": "stderr",
     "output_type": "stream",
     "text": [
      "/home/tivo/anaconda3/lib/python3.5/site-packages/ipykernel/__main__.py:301: VisibleDeprecationWarning: using a non-integer number instead of an integer will result in an error in the future\n",
      "/home/tivo/anaconda3/lib/python3.5/site-packages/ipykernel/__main__.py:127: VisibleDeprecationWarning: using a non-integer number instead of an integer will result in an error in the future\n",
      "/home/tivo/anaconda3/lib/python3.5/site-packages/ipykernel/__main__.py:152: VisibleDeprecationWarning: using a non-integer number instead of an integer will result in an error in the future\n",
      "/home/tivo/anaconda3/lib/python3.5/site-packages/ipykernel/__main__.py:166: VisibleDeprecationWarning: using a non-integer number instead of an integer will result in an error in the future\n",
      "/home/tivo/anaconda3/lib/python3.5/site-packages/ipykernel/__main__.py:177: VisibleDeprecationWarning: using a non-integer number instead of an integer will result in an error in the future\n",
      "/home/tivo/anaconda3/lib/python3.5/site-packages/ipykernel/__main__.py:181: VisibleDeprecationWarning: using a non-integer number instead of an integer will result in an error in the future\n"
     ]
    },
    {
     "name": "stdout",
     "output_type": "stream",
     "text": [
      "application/octet-stream\n",
      "FileName: /home/tivo/Desktop/songs/mp3/YZMG.wav \n"
     ]
    },
    {
     "name": "stderr",
     "output_type": "stream",
     "text": [
      "/home/tivo/anaconda3/lib/python3.5/site-packages/ipykernel/__main__.py:301: VisibleDeprecationWarning: using a non-integer number instead of an integer will result in an error in the future\n",
      "/home/tivo/anaconda3/lib/python3.5/site-packages/ipykernel/__main__.py:127: VisibleDeprecationWarning: using a non-integer number instead of an integer will result in an error in the future\n",
      "/home/tivo/anaconda3/lib/python3.5/site-packages/ipykernel/__main__.py:152: VisibleDeprecationWarning: using a non-integer number instead of an integer will result in an error in the future\n",
      "/home/tivo/anaconda3/lib/python3.5/site-packages/ipykernel/__main__.py:166: VisibleDeprecationWarning: using a non-integer number instead of an integer will result in an error in the future\n",
      "/home/tivo/anaconda3/lib/python3.5/site-packages/ipykernel/__main__.py:177: VisibleDeprecationWarning: using a non-integer number instead of an integer will result in an error in the future\n",
      "/home/tivo/anaconda3/lib/python3.5/site-packages/ipykernel/__main__.py:181: VisibleDeprecationWarning: using a non-integer number instead of an integer will result in an error in the future\n"
     ]
    },
    {
     "name": "stdout",
     "output_type": "stream",
     "text": [
      "application/octet-stream\n",
      "FileName: /home/tivo/Desktop/songs/mp3/JDSC.wav \n"
     ]
    },
    {
     "name": "stderr",
     "output_type": "stream",
     "text": [
      "/home/tivo/anaconda3/lib/python3.5/site-packages/ipykernel/__main__.py:301: VisibleDeprecationWarning: using a non-integer number instead of an integer will result in an error in the future\n",
      "/home/tivo/anaconda3/lib/python3.5/site-packages/ipykernel/__main__.py:127: VisibleDeprecationWarning: using a non-integer number instead of an integer will result in an error in the future\n",
      "/home/tivo/anaconda3/lib/python3.5/site-packages/ipykernel/__main__.py:152: VisibleDeprecationWarning: using a non-integer number instead of an integer will result in an error in the future\n",
      "/home/tivo/anaconda3/lib/python3.5/site-packages/ipykernel/__main__.py:166: VisibleDeprecationWarning: using a non-integer number instead of an integer will result in an error in the future\n",
      "/home/tivo/anaconda3/lib/python3.5/site-packages/ipykernel/__main__.py:177: VisibleDeprecationWarning: using a non-integer number instead of an integer will result in an error in the future\n",
      "/home/tivo/anaconda3/lib/python3.5/site-packages/ipykernel/__main__.py:181: VisibleDeprecationWarning: using a non-integer number instead of an integer will result in an error in the future\n"
     ]
    },
    {
     "name": "stdout",
     "output_type": "stream",
     "text": [
      "application/octet-stream\n",
      "FileName: /home/tivo/Desktop/songs/mp3/ZWMS.wav \n"
     ]
    },
    {
     "name": "stderr",
     "output_type": "stream",
     "text": [
      "/home/tivo/anaconda3/lib/python3.5/site-packages/ipykernel/__main__.py:301: VisibleDeprecationWarning: using a non-integer number instead of an integer will result in an error in the future\n",
      "/home/tivo/anaconda3/lib/python3.5/site-packages/ipykernel/__main__.py:127: VisibleDeprecationWarning: using a non-integer number instead of an integer will result in an error in the future\n",
      "/home/tivo/anaconda3/lib/python3.5/site-packages/ipykernel/__main__.py:152: VisibleDeprecationWarning: using a non-integer number instead of an integer will result in an error in the future\n",
      "/home/tivo/anaconda3/lib/python3.5/site-packages/ipykernel/__main__.py:166: VisibleDeprecationWarning: using a non-integer number instead of an integer will result in an error in the future\n",
      "/home/tivo/anaconda3/lib/python3.5/site-packages/ipykernel/__main__.py:177: VisibleDeprecationWarning: using a non-integer number instead of an integer will result in an error in the future\n",
      "/home/tivo/anaconda3/lib/python3.5/site-packages/ipykernel/__main__.py:181: VisibleDeprecationWarning: using a non-integer number instead of an integer will result in an error in the future\n"
     ]
    },
    {
     "name": "stdout",
     "output_type": "stream",
     "text": [
      "application/octet-stream\n",
      "FileName: /home/tivo/Desktop/songs/mp3/QDJR.wav \n"
     ]
    },
    {
     "name": "stderr",
     "output_type": "stream",
     "text": [
      "/home/tivo/anaconda3/lib/python3.5/site-packages/ipykernel/__main__.py:301: VisibleDeprecationWarning: using a non-integer number instead of an integer will result in an error in the future\n",
      "/home/tivo/anaconda3/lib/python3.5/site-packages/ipykernel/__main__.py:127: VisibleDeprecationWarning: using a non-integer number instead of an integer will result in an error in the future\n",
      "/home/tivo/anaconda3/lib/python3.5/site-packages/ipykernel/__main__.py:152: VisibleDeprecationWarning: using a non-integer number instead of an integer will result in an error in the future\n",
      "/home/tivo/anaconda3/lib/python3.5/site-packages/ipykernel/__main__.py:166: VisibleDeprecationWarning: using a non-integer number instead of an integer will result in an error in the future\n",
      "/home/tivo/anaconda3/lib/python3.5/site-packages/ipykernel/__main__.py:177: VisibleDeprecationWarning: using a non-integer number instead of an integer will result in an error in the future\n",
      "/home/tivo/anaconda3/lib/python3.5/site-packages/ipykernel/__main__.py:181: VisibleDeprecationWarning: using a non-integer number instead of an integer will result in an error in the future\n"
     ]
    },
    {
     "name": "stdout",
     "output_type": "stream",
     "text": [
      "audio/mpeg\n",
      "FileName: /home/tivo/Desktop/songs/mp3/BLSS.wav \n"
     ]
    },
    {
     "name": "stderr",
     "output_type": "stream",
     "text": [
      "/home/tivo/anaconda3/lib/python3.5/site-packages/ipykernel/__main__.py:301: VisibleDeprecationWarning: using a non-integer number instead of an integer will result in an error in the future\n",
      "/home/tivo/anaconda3/lib/python3.5/site-packages/ipykernel/__main__.py:127: VisibleDeprecationWarning: using a non-integer number instead of an integer will result in an error in the future\n",
      "/home/tivo/anaconda3/lib/python3.5/site-packages/ipykernel/__main__.py:152: VisibleDeprecationWarning: using a non-integer number instead of an integer will result in an error in the future\n",
      "/home/tivo/anaconda3/lib/python3.5/site-packages/ipykernel/__main__.py:166: VisibleDeprecationWarning: using a non-integer number instead of an integer will result in an error in the future\n",
      "/home/tivo/anaconda3/lib/python3.5/site-packages/ipykernel/__main__.py:177: VisibleDeprecationWarning: using a non-integer number instead of an integer will result in an error in the future\n",
      "/home/tivo/anaconda3/lib/python3.5/site-packages/ipykernel/__main__.py:181: VisibleDeprecationWarning: using a non-integer number instead of an integer will result in an error in the future\n"
     ]
    },
    {
     "name": "stdout",
     "output_type": "stream",
     "text": [
      "audio/mpeg\n",
      "FileName: /home/tivo/Desktop/songs/mp3/WHWD.wav \n"
     ]
    },
    {
     "name": "stderr",
     "output_type": "stream",
     "text": [
      "/home/tivo/anaconda3/lib/python3.5/site-packages/ipykernel/__main__.py:301: VisibleDeprecationWarning: using a non-integer number instead of an integer will result in an error in the future\n",
      "/home/tivo/anaconda3/lib/python3.5/site-packages/ipykernel/__main__.py:127: VisibleDeprecationWarning: using a non-integer number instead of an integer will result in an error in the future\n",
      "/home/tivo/anaconda3/lib/python3.5/site-packages/ipykernel/__main__.py:152: VisibleDeprecationWarning: using a non-integer number instead of an integer will result in an error in the future\n",
      "/home/tivo/anaconda3/lib/python3.5/site-packages/ipykernel/__main__.py:166: VisibleDeprecationWarning: using a non-integer number instead of an integer will result in an error in the future\n",
      "/home/tivo/anaconda3/lib/python3.5/site-packages/ipykernel/__main__.py:177: VisibleDeprecationWarning: using a non-integer number instead of an integer will result in an error in the future\n",
      "/home/tivo/anaconda3/lib/python3.5/site-packages/ipykernel/__main__.py:181: VisibleDeprecationWarning: using a non-integer number instead of an integer will result in an error in the future\n"
     ]
    },
    {
     "name": "stdout",
     "output_type": "stream",
     "text": [
      "application/octet-stream\n",
      "FileName: /home/tivo/Desktop/songs/mp3/RJLZ.wav \n"
     ]
    },
    {
     "name": "stderr",
     "output_type": "stream",
     "text": [
      "/home/tivo/anaconda3/lib/python3.5/site-packages/ipykernel/__main__.py:301: VisibleDeprecationWarning: using a non-integer number instead of an integer will result in an error in the future\n",
      "/home/tivo/anaconda3/lib/python3.5/site-packages/ipykernel/__main__.py:127: VisibleDeprecationWarning: using a non-integer number instead of an integer will result in an error in the future\n",
      "/home/tivo/anaconda3/lib/python3.5/site-packages/ipykernel/__main__.py:152: VisibleDeprecationWarning: using a non-integer number instead of an integer will result in an error in the future\n",
      "/home/tivo/anaconda3/lib/python3.5/site-packages/ipykernel/__main__.py:166: VisibleDeprecationWarning: using a non-integer number instead of an integer will result in an error in the future\n",
      "/home/tivo/anaconda3/lib/python3.5/site-packages/ipykernel/__main__.py:177: VisibleDeprecationWarning: using a non-integer number instead of an integer will result in an error in the future\n",
      "/home/tivo/anaconda3/lib/python3.5/site-packages/ipykernel/__main__.py:181: VisibleDeprecationWarning: using a non-integer number instead of an integer will result in an error in the future\n"
     ]
    },
    {
     "name": "stdout",
     "output_type": "stream",
     "text": [
      "application/octet-stream\n",
      "FileName: /home/tivo/Desktop/songs/mp3/TVTT.wav \n"
     ]
    },
    {
     "name": "stderr",
     "output_type": "stream",
     "text": [
      "/home/tivo/anaconda3/lib/python3.5/site-packages/ipykernel/__main__.py:301: VisibleDeprecationWarning: using a non-integer number instead of an integer will result in an error in the future\n",
      "/home/tivo/anaconda3/lib/python3.5/site-packages/ipykernel/__main__.py:127: VisibleDeprecationWarning: using a non-integer number instead of an integer will result in an error in the future\n",
      "/home/tivo/anaconda3/lib/python3.5/site-packages/ipykernel/__main__.py:152: VisibleDeprecationWarning: using a non-integer number instead of an integer will result in an error in the future\n",
      "/home/tivo/anaconda3/lib/python3.5/site-packages/ipykernel/__main__.py:166: VisibleDeprecationWarning: using a non-integer number instead of an integer will result in an error in the future\n",
      "/home/tivo/anaconda3/lib/python3.5/site-packages/ipykernel/__main__.py:177: VisibleDeprecationWarning: using a non-integer number instead of an integer will result in an error in the future\n",
      "/home/tivo/anaconda3/lib/python3.5/site-packages/ipykernel/__main__.py:181: VisibleDeprecationWarning: using a non-integer number instead of an integer will result in an error in the future\n"
     ]
    },
    {
     "name": "stdout",
     "output_type": "stream",
     "text": [
      "audio/mpeg\n",
      "FileName: /home/tivo/Desktop/songs/mp3/HNHI.wav \n"
     ]
    },
    {
     "name": "stderr",
     "output_type": "stream",
     "text": [
      "/home/tivo/anaconda3/lib/python3.5/site-packages/ipykernel/__main__.py:301: VisibleDeprecationWarning: using a non-integer number instead of an integer will result in an error in the future\n",
      "/home/tivo/anaconda3/lib/python3.5/site-packages/ipykernel/__main__.py:127: VisibleDeprecationWarning: using a non-integer number instead of an integer will result in an error in the future\n",
      "/home/tivo/anaconda3/lib/python3.5/site-packages/ipykernel/__main__.py:152: VisibleDeprecationWarning: using a non-integer number instead of an integer will result in an error in the future\n",
      "/home/tivo/anaconda3/lib/python3.5/site-packages/ipykernel/__main__.py:166: VisibleDeprecationWarning: using a non-integer number instead of an integer will result in an error in the future\n",
      "/home/tivo/anaconda3/lib/python3.5/site-packages/ipykernel/__main__.py:177: VisibleDeprecationWarning: using a non-integer number instead of an integer will result in an error in the future\n",
      "/home/tivo/anaconda3/lib/python3.5/site-packages/ipykernel/__main__.py:181: VisibleDeprecationWarning: using a non-integer number instead of an integer will result in an error in the future\n"
     ]
    },
    {
     "name": "stdout",
     "output_type": "stream",
     "text": [
      "application/octet-stream\n",
      "FileName: /home/tivo/Desktop/songs/mp3/ONSW.wav \n"
     ]
    },
    {
     "name": "stderr",
     "output_type": "stream",
     "text": [
      "/home/tivo/anaconda3/lib/python3.5/site-packages/ipykernel/__main__.py:301: VisibleDeprecationWarning: using a non-integer number instead of an integer will result in an error in the future\n",
      "/home/tivo/anaconda3/lib/python3.5/site-packages/ipykernel/__main__.py:127: VisibleDeprecationWarning: using a non-integer number instead of an integer will result in an error in the future\n",
      "/home/tivo/anaconda3/lib/python3.5/site-packages/ipykernel/__main__.py:152: VisibleDeprecationWarning: using a non-integer number instead of an integer will result in an error in the future\n",
      "/home/tivo/anaconda3/lib/python3.5/site-packages/ipykernel/__main__.py:166: VisibleDeprecationWarning: using a non-integer number instead of an integer will result in an error in the future\n",
      "/home/tivo/anaconda3/lib/python3.5/site-packages/ipykernel/__main__.py:177: VisibleDeprecationWarning: using a non-integer number instead of an integer will result in an error in the future\n",
      "/home/tivo/anaconda3/lib/python3.5/site-packages/ipykernel/__main__.py:181: VisibleDeprecationWarning: using a non-integer number instead of an integer will result in an error in the future\n"
     ]
    },
    {
     "name": "stdout",
     "output_type": "stream",
     "text": [
      "application/octet-stream\n",
      "FileName: /home/tivo/Desktop/songs/mp3/LEJR.wav \n"
     ]
    },
    {
     "name": "stderr",
     "output_type": "stream",
     "text": [
      "/home/tivo/anaconda3/lib/python3.5/site-packages/ipykernel/__main__.py:301: VisibleDeprecationWarning: using a non-integer number instead of an integer will result in an error in the future\n",
      "/home/tivo/anaconda3/lib/python3.5/site-packages/ipykernel/__main__.py:127: VisibleDeprecationWarning: using a non-integer number instead of an integer will result in an error in the future\n",
      "/home/tivo/anaconda3/lib/python3.5/site-packages/ipykernel/__main__.py:152: VisibleDeprecationWarning: using a non-integer number instead of an integer will result in an error in the future\n",
      "/home/tivo/anaconda3/lib/python3.5/site-packages/ipykernel/__main__.py:166: VisibleDeprecationWarning: using a non-integer number instead of an integer will result in an error in the future\n",
      "/home/tivo/anaconda3/lib/python3.5/site-packages/ipykernel/__main__.py:177: VisibleDeprecationWarning: using a non-integer number instead of an integer will result in an error in the future\n",
      "/home/tivo/anaconda3/lib/python3.5/site-packages/ipykernel/__main__.py:181: VisibleDeprecationWarning: using a non-integer number instead of an integer will result in an error in the future\n"
     ]
    },
    {
     "name": "stdout",
     "output_type": "stream",
     "text": [
      "application/octet-stream\n",
      "FileName: /home/tivo/Desktop/songs/mp3/EEMJ.wav \n"
     ]
    },
    {
     "name": "stderr",
     "output_type": "stream",
     "text": [
      "/home/tivo/anaconda3/lib/python3.5/site-packages/ipykernel/__main__.py:301: VisibleDeprecationWarning: using a non-integer number instead of an integer will result in an error in the future\n",
      "/home/tivo/anaconda3/lib/python3.5/site-packages/ipykernel/__main__.py:127: VisibleDeprecationWarning: using a non-integer number instead of an integer will result in an error in the future\n",
      "/home/tivo/anaconda3/lib/python3.5/site-packages/ipykernel/__main__.py:152: VisibleDeprecationWarning: using a non-integer number instead of an integer will result in an error in the future\n",
      "/home/tivo/anaconda3/lib/python3.5/site-packages/ipykernel/__main__.py:166: VisibleDeprecationWarning: using a non-integer number instead of an integer will result in an error in the future\n",
      "/home/tivo/anaconda3/lib/python3.5/site-packages/ipykernel/__main__.py:177: VisibleDeprecationWarning: using a non-integer number instead of an integer will result in an error in the future\n",
      "/home/tivo/anaconda3/lib/python3.5/site-packages/ipykernel/__main__.py:181: VisibleDeprecationWarning: using a non-integer number instead of an integer will result in an error in the future\n"
     ]
    },
    {
     "name": "stdout",
     "output_type": "stream",
     "text": [
      "application/octet-stream\n",
      "FileName: /home/tivo/Desktop/songs/mp3/EXOB.wav \n"
     ]
    },
    {
     "name": "stderr",
     "output_type": "stream",
     "text": [
      "/home/tivo/anaconda3/lib/python3.5/site-packages/ipykernel/__main__.py:301: VisibleDeprecationWarning: using a non-integer number instead of an integer will result in an error in the future\n",
      "/home/tivo/anaconda3/lib/python3.5/site-packages/ipykernel/__main__.py:127: VisibleDeprecationWarning: using a non-integer number instead of an integer will result in an error in the future\n",
      "/home/tivo/anaconda3/lib/python3.5/site-packages/ipykernel/__main__.py:152: VisibleDeprecationWarning: using a non-integer number instead of an integer will result in an error in the future\n",
      "/home/tivo/anaconda3/lib/python3.5/site-packages/ipykernel/__main__.py:166: VisibleDeprecationWarning: using a non-integer number instead of an integer will result in an error in the future\n",
      "/home/tivo/anaconda3/lib/python3.5/site-packages/ipykernel/__main__.py:177: VisibleDeprecationWarning: using a non-integer number instead of an integer will result in an error in the future\n",
      "/home/tivo/anaconda3/lib/python3.5/site-packages/ipykernel/__main__.py:181: VisibleDeprecationWarning: using a non-integer number instead of an integer will result in an error in the future\n"
     ]
    },
    {
     "name": "stdout",
     "output_type": "stream",
     "text": [
      "audio/mpeg\n",
      "FileName: /home/tivo/Desktop/songs/mp3/NZGK.wav \n"
     ]
    },
    {
     "name": "stderr",
     "output_type": "stream",
     "text": [
      "/home/tivo/anaconda3/lib/python3.5/site-packages/ipykernel/__main__.py:301: VisibleDeprecationWarning: using a non-integer number instead of an integer will result in an error in the future\n",
      "/home/tivo/anaconda3/lib/python3.5/site-packages/ipykernel/__main__.py:127: VisibleDeprecationWarning: using a non-integer number instead of an integer will result in an error in the future\n",
      "/home/tivo/anaconda3/lib/python3.5/site-packages/ipykernel/__main__.py:152: VisibleDeprecationWarning: using a non-integer number instead of an integer will result in an error in the future\n",
      "/home/tivo/anaconda3/lib/python3.5/site-packages/ipykernel/__main__.py:166: VisibleDeprecationWarning: using a non-integer number instead of an integer will result in an error in the future\n",
      "/home/tivo/anaconda3/lib/python3.5/site-packages/ipykernel/__main__.py:177: VisibleDeprecationWarning: using a non-integer number instead of an integer will result in an error in the future\n",
      "/home/tivo/anaconda3/lib/python3.5/site-packages/ipykernel/__main__.py:181: VisibleDeprecationWarning: using a non-integer number instead of an integer will result in an error in the future\n"
     ]
    },
    {
     "name": "stdout",
     "output_type": "stream",
     "text": [
      "application/octet-stream\n",
      "FileName: /home/tivo/Desktop/songs/mp3/VYMH.wav \n"
     ]
    },
    {
     "name": "stderr",
     "output_type": "stream",
     "text": [
      "/home/tivo/anaconda3/lib/python3.5/site-packages/ipykernel/__main__.py:301: VisibleDeprecationWarning: using a non-integer number instead of an integer will result in an error in the future\n",
      "/home/tivo/anaconda3/lib/python3.5/site-packages/ipykernel/__main__.py:127: VisibleDeprecationWarning: using a non-integer number instead of an integer will result in an error in the future\n",
      "/home/tivo/anaconda3/lib/python3.5/site-packages/ipykernel/__main__.py:152: VisibleDeprecationWarning: using a non-integer number instead of an integer will result in an error in the future\n",
      "/home/tivo/anaconda3/lib/python3.5/site-packages/ipykernel/__main__.py:166: VisibleDeprecationWarning: using a non-integer number instead of an integer will result in an error in the future\n",
      "/home/tivo/anaconda3/lib/python3.5/site-packages/ipykernel/__main__.py:177: VisibleDeprecationWarning: using a non-integer number instead of an integer will result in an error in the future\n",
      "/home/tivo/anaconda3/lib/python3.5/site-packages/ipykernel/__main__.py:181: VisibleDeprecationWarning: using a non-integer number instead of an integer will result in an error in the future\n"
     ]
    },
    {
     "name": "stdout",
     "output_type": "stream",
     "text": [
      "audio/mpeg\n",
      "FileName: /home/tivo/Desktop/songs/mp3/UOAK.wav \n"
     ]
    },
    {
     "name": "stderr",
     "output_type": "stream",
     "text": [
      "/home/tivo/anaconda3/lib/python3.5/site-packages/ipykernel/__main__.py:301: VisibleDeprecationWarning: using a non-integer number instead of an integer will result in an error in the future\n",
      "/home/tivo/anaconda3/lib/python3.5/site-packages/ipykernel/__main__.py:127: VisibleDeprecationWarning: using a non-integer number instead of an integer will result in an error in the future\n",
      "/home/tivo/anaconda3/lib/python3.5/site-packages/ipykernel/__main__.py:152: VisibleDeprecationWarning: using a non-integer number instead of an integer will result in an error in the future\n",
      "/home/tivo/anaconda3/lib/python3.5/site-packages/ipykernel/__main__.py:166: VisibleDeprecationWarning: using a non-integer number instead of an integer will result in an error in the future\n",
      "/home/tivo/anaconda3/lib/python3.5/site-packages/ipykernel/__main__.py:177: VisibleDeprecationWarning: using a non-integer number instead of an integer will result in an error in the future\n",
      "/home/tivo/anaconda3/lib/python3.5/site-packages/ipykernel/__main__.py:181: VisibleDeprecationWarning: using a non-integer number instead of an integer will result in an error in the future\n"
     ]
    },
    {
     "name": "stdout",
     "output_type": "stream",
     "text": [
      "application/octet-stream\n",
      "FileName: /home/tivo/Desktop/songs/mp3/ODKA.wav \n"
     ]
    },
    {
     "name": "stderr",
     "output_type": "stream",
     "text": [
      "/home/tivo/anaconda3/lib/python3.5/site-packages/ipykernel/__main__.py:301: VisibleDeprecationWarning: using a non-integer number instead of an integer will result in an error in the future\n",
      "/home/tivo/anaconda3/lib/python3.5/site-packages/ipykernel/__main__.py:127: VisibleDeprecationWarning: using a non-integer number instead of an integer will result in an error in the future\n",
      "/home/tivo/anaconda3/lib/python3.5/site-packages/ipykernel/__main__.py:152: VisibleDeprecationWarning: using a non-integer number instead of an integer will result in an error in the future\n",
      "/home/tivo/anaconda3/lib/python3.5/site-packages/ipykernel/__main__.py:166: VisibleDeprecationWarning: using a non-integer number instead of an integer will result in an error in the future\n",
      "/home/tivo/anaconda3/lib/python3.5/site-packages/ipykernel/__main__.py:177: VisibleDeprecationWarning: using a non-integer number instead of an integer will result in an error in the future\n",
      "/home/tivo/anaconda3/lib/python3.5/site-packages/ipykernel/__main__.py:181: VisibleDeprecationWarning: using a non-integer number instead of an integer will result in an error in the future\n"
     ]
    },
    {
     "name": "stdout",
     "output_type": "stream",
     "text": [
      "application/octet-stream\n",
      "FileName: /home/tivo/Desktop/songs/mp3/LSEX.wav \n"
     ]
    },
    {
     "name": "stderr",
     "output_type": "stream",
     "text": [
      "/home/tivo/anaconda3/lib/python3.5/site-packages/ipykernel/__main__.py:301: VisibleDeprecationWarning: using a non-integer number instead of an integer will result in an error in the future\n",
      "/home/tivo/anaconda3/lib/python3.5/site-packages/ipykernel/__main__.py:127: VisibleDeprecationWarning: using a non-integer number instead of an integer will result in an error in the future\n",
      "/home/tivo/anaconda3/lib/python3.5/site-packages/ipykernel/__main__.py:152: VisibleDeprecationWarning: using a non-integer number instead of an integer will result in an error in the future\n",
      "/home/tivo/anaconda3/lib/python3.5/site-packages/ipykernel/__main__.py:166: VisibleDeprecationWarning: using a non-integer number instead of an integer will result in an error in the future\n",
      "/home/tivo/anaconda3/lib/python3.5/site-packages/ipykernel/__main__.py:177: VisibleDeprecationWarning: using a non-integer number instead of an integer will result in an error in the future\n",
      "/home/tivo/anaconda3/lib/python3.5/site-packages/ipykernel/__main__.py:181: VisibleDeprecationWarning: using a non-integer number instead of an integer will result in an error in the future\n"
     ]
    },
    {
     "name": "stdout",
     "output_type": "stream",
     "text": [
      "application/octet-stream\n",
      "FileName: /home/tivo/Desktop/songs/mp3/ZUAP.wav \n"
     ]
    },
    {
     "name": "stderr",
     "output_type": "stream",
     "text": [
      "/home/tivo/anaconda3/lib/python3.5/site-packages/ipykernel/__main__.py:301: VisibleDeprecationWarning: using a non-integer number instead of an integer will result in an error in the future\n",
      "/home/tivo/anaconda3/lib/python3.5/site-packages/ipykernel/__main__.py:127: VisibleDeprecationWarning: using a non-integer number instead of an integer will result in an error in the future\n",
      "/home/tivo/anaconda3/lib/python3.5/site-packages/ipykernel/__main__.py:152: VisibleDeprecationWarning: using a non-integer number instead of an integer will result in an error in the future\n",
      "/home/tivo/anaconda3/lib/python3.5/site-packages/ipykernel/__main__.py:166: VisibleDeprecationWarning: using a non-integer number instead of an integer will result in an error in the future\n",
      "/home/tivo/anaconda3/lib/python3.5/site-packages/ipykernel/__main__.py:177: VisibleDeprecationWarning: using a non-integer number instead of an integer will result in an error in the future\n",
      "/home/tivo/anaconda3/lib/python3.5/site-packages/ipykernel/__main__.py:181: VisibleDeprecationWarning: using a non-integer number instead of an integer will result in an error in the future\n"
     ]
    },
    {
     "name": "stdout",
     "output_type": "stream",
     "text": [
      "application/octet-stream\n",
      "FileName: /home/tivo/Desktop/songs/mp3/KAAA.wav \n"
     ]
    },
    {
     "name": "stderr",
     "output_type": "stream",
     "text": [
      "/home/tivo/anaconda3/lib/python3.5/site-packages/ipykernel/__main__.py:301: VisibleDeprecationWarning: using a non-integer number instead of an integer will result in an error in the future\n",
      "/home/tivo/anaconda3/lib/python3.5/site-packages/ipykernel/__main__.py:127: VisibleDeprecationWarning: using a non-integer number instead of an integer will result in an error in the future\n",
      "/home/tivo/anaconda3/lib/python3.5/site-packages/ipykernel/__main__.py:152: VisibleDeprecationWarning: using a non-integer number instead of an integer will result in an error in the future\n",
      "/home/tivo/anaconda3/lib/python3.5/site-packages/ipykernel/__main__.py:166: VisibleDeprecationWarning: using a non-integer number instead of an integer will result in an error in the future\n",
      "/home/tivo/anaconda3/lib/python3.5/site-packages/ipykernel/__main__.py:177: VisibleDeprecationWarning: using a non-integer number instead of an integer will result in an error in the future\n",
      "/home/tivo/anaconda3/lib/python3.5/site-packages/ipykernel/__main__.py:181: VisibleDeprecationWarning: using a non-integer number instead of an integer will result in an error in the future\n"
     ]
    },
    {
     "name": "stdout",
     "output_type": "stream",
     "text": [
      "application/octet-stream\n",
      "FileName: /home/tivo/Desktop/songs/mp3/HXMH.wav \n"
     ]
    },
    {
     "name": "stderr",
     "output_type": "stream",
     "text": [
      "/home/tivo/anaconda3/lib/python3.5/site-packages/ipykernel/__main__.py:301: VisibleDeprecationWarning: using a non-integer number instead of an integer will result in an error in the future\n",
      "/home/tivo/anaconda3/lib/python3.5/site-packages/ipykernel/__main__.py:127: VisibleDeprecationWarning: using a non-integer number instead of an integer will result in an error in the future\n",
      "/home/tivo/anaconda3/lib/python3.5/site-packages/ipykernel/__main__.py:152: VisibleDeprecationWarning: using a non-integer number instead of an integer will result in an error in the future\n",
      "/home/tivo/anaconda3/lib/python3.5/site-packages/ipykernel/__main__.py:166: VisibleDeprecationWarning: using a non-integer number instead of an integer will result in an error in the future\n",
      "/home/tivo/anaconda3/lib/python3.5/site-packages/ipykernel/__main__.py:177: VisibleDeprecationWarning: using a non-integer number instead of an integer will result in an error in the future\n",
      "/home/tivo/anaconda3/lib/python3.5/site-packages/ipykernel/__main__.py:181: VisibleDeprecationWarning: using a non-integer number instead of an integer will result in an error in the future\n"
     ]
    },
    {
     "name": "stdout",
     "output_type": "stream",
     "text": [
      "application/octet-stream\n",
      "FileName: /home/tivo/Desktop/songs/mp3/FPSU.wav \n"
     ]
    },
    {
     "name": "stderr",
     "output_type": "stream",
     "text": [
      "/home/tivo/anaconda3/lib/python3.5/site-packages/ipykernel/__main__.py:301: VisibleDeprecationWarning: using a non-integer number instead of an integer will result in an error in the future\n",
      "/home/tivo/anaconda3/lib/python3.5/site-packages/ipykernel/__main__.py:127: VisibleDeprecationWarning: using a non-integer number instead of an integer will result in an error in the future\n",
      "/home/tivo/anaconda3/lib/python3.5/site-packages/ipykernel/__main__.py:152: VisibleDeprecationWarning: using a non-integer number instead of an integer will result in an error in the future\n",
      "/home/tivo/anaconda3/lib/python3.5/site-packages/ipykernel/__main__.py:166: VisibleDeprecationWarning: using a non-integer number instead of an integer will result in an error in the future\n",
      "/home/tivo/anaconda3/lib/python3.5/site-packages/ipykernel/__main__.py:177: VisibleDeprecationWarning: using a non-integer number instead of an integer will result in an error in the future\n",
      "/home/tivo/anaconda3/lib/python3.5/site-packages/ipykernel/__main__.py:181: VisibleDeprecationWarning: using a non-integer number instead of an integer will result in an error in the future\n"
     ]
    },
    {
     "name": "stdout",
     "output_type": "stream",
     "text": [
      "application/octet-stream\n",
      "FileName: /home/tivo/Desktop/songs/mp3/QYIX.wav \n"
     ]
    },
    {
     "name": "stderr",
     "output_type": "stream",
     "text": [
      "/home/tivo/anaconda3/lib/python3.5/site-packages/ipykernel/__main__.py:301: VisibleDeprecationWarning: using a non-integer number instead of an integer will result in an error in the future\n",
      "/home/tivo/anaconda3/lib/python3.5/site-packages/ipykernel/__main__.py:127: VisibleDeprecationWarning: using a non-integer number instead of an integer will result in an error in the future\n",
      "/home/tivo/anaconda3/lib/python3.5/site-packages/ipykernel/__main__.py:152: VisibleDeprecationWarning: using a non-integer number instead of an integer will result in an error in the future\n",
      "/home/tivo/anaconda3/lib/python3.5/site-packages/ipykernel/__main__.py:166: VisibleDeprecationWarning: using a non-integer number instead of an integer will result in an error in the future\n",
      "/home/tivo/anaconda3/lib/python3.5/site-packages/ipykernel/__main__.py:177: VisibleDeprecationWarning: using a non-integer number instead of an integer will result in an error in the future\n",
      "/home/tivo/anaconda3/lib/python3.5/site-packages/ipykernel/__main__.py:181: VisibleDeprecationWarning: using a non-integer number instead of an integer will result in an error in the future\n"
     ]
    },
    {
     "name": "stdout",
     "output_type": "stream",
     "text": [
      "application/octet-stream\n",
      "FileName: /home/tivo/Desktop/songs/mp3/RJCR.wav \n"
     ]
    },
    {
     "name": "stderr",
     "output_type": "stream",
     "text": [
      "/home/tivo/anaconda3/lib/python3.5/site-packages/ipykernel/__main__.py:301: VisibleDeprecationWarning: using a non-integer number instead of an integer will result in an error in the future\n",
      "/home/tivo/anaconda3/lib/python3.5/site-packages/ipykernel/__main__.py:127: VisibleDeprecationWarning: using a non-integer number instead of an integer will result in an error in the future\n",
      "/home/tivo/anaconda3/lib/python3.5/site-packages/ipykernel/__main__.py:152: VisibleDeprecationWarning: using a non-integer number instead of an integer will result in an error in the future\n",
      "/home/tivo/anaconda3/lib/python3.5/site-packages/ipykernel/__main__.py:166: VisibleDeprecationWarning: using a non-integer number instead of an integer will result in an error in the future\n",
      "/home/tivo/anaconda3/lib/python3.5/site-packages/ipykernel/__main__.py:177: VisibleDeprecationWarning: using a non-integer number instead of an integer will result in an error in the future\n",
      "/home/tivo/anaconda3/lib/python3.5/site-packages/ipykernel/__main__.py:181: VisibleDeprecationWarning: using a non-integer number instead of an integer will result in an error in the future\n"
     ]
    },
    {
     "name": "stdout",
     "output_type": "stream",
     "text": [
      "application/octet-stream\n",
      "FileName: /home/tivo/Desktop/songs/mp3/PSZA.wav \n"
     ]
    },
    {
     "name": "stderr",
     "output_type": "stream",
     "text": [
      "/home/tivo/anaconda3/lib/python3.5/site-packages/ipykernel/__main__.py:301: VisibleDeprecationWarning: using a non-integer number instead of an integer will result in an error in the future\n",
      "/home/tivo/anaconda3/lib/python3.5/site-packages/ipykernel/__main__.py:127: VisibleDeprecationWarning: using a non-integer number instead of an integer will result in an error in the future\n",
      "/home/tivo/anaconda3/lib/python3.5/site-packages/ipykernel/__main__.py:152: VisibleDeprecationWarning: using a non-integer number instead of an integer will result in an error in the future\n",
      "/home/tivo/anaconda3/lib/python3.5/site-packages/ipykernel/__main__.py:166: VisibleDeprecationWarning: using a non-integer number instead of an integer will result in an error in the future\n",
      "/home/tivo/anaconda3/lib/python3.5/site-packages/ipykernel/__main__.py:177: VisibleDeprecationWarning: using a non-integer number instead of an integer will result in an error in the future\n",
      "/home/tivo/anaconda3/lib/python3.5/site-packages/ipykernel/__main__.py:181: VisibleDeprecationWarning: using a non-integer number instead of an integer will result in an error in the future\n"
     ]
    },
    {
     "name": "stdout",
     "output_type": "stream",
     "text": [
      "audio/mpeg\n",
      "FileName: /home/tivo/Desktop/songs/mp3/IPIU.wav \n"
     ]
    },
    {
     "name": "stderr",
     "output_type": "stream",
     "text": [
      "/home/tivo/anaconda3/lib/python3.5/site-packages/ipykernel/__main__.py:301: VisibleDeprecationWarning: using a non-integer number instead of an integer will result in an error in the future\n",
      "/home/tivo/anaconda3/lib/python3.5/site-packages/ipykernel/__main__.py:127: VisibleDeprecationWarning: using a non-integer number instead of an integer will result in an error in the future\n",
      "/home/tivo/anaconda3/lib/python3.5/site-packages/ipykernel/__main__.py:152: VisibleDeprecationWarning: using a non-integer number instead of an integer will result in an error in the future\n",
      "/home/tivo/anaconda3/lib/python3.5/site-packages/ipykernel/__main__.py:166: VisibleDeprecationWarning: using a non-integer number instead of an integer will result in an error in the future\n",
      "/home/tivo/anaconda3/lib/python3.5/site-packages/ipykernel/__main__.py:177: VisibleDeprecationWarning: using a non-integer number instead of an integer will result in an error in the future\n",
      "/home/tivo/anaconda3/lib/python3.5/site-packages/ipykernel/__main__.py:181: VisibleDeprecationWarning: using a non-integer number instead of an integer will result in an error in the future\n"
     ]
    },
    {
     "name": "stdout",
     "output_type": "stream",
     "text": [
      "application/octet-stream\n",
      "FileName: /home/tivo/Desktop/songs/mp3/WIXQ.wav \n"
     ]
    },
    {
     "name": "stderr",
     "output_type": "stream",
     "text": [
      "/home/tivo/anaconda3/lib/python3.5/site-packages/ipykernel/__main__.py:301: VisibleDeprecationWarning: using a non-integer number instead of an integer will result in an error in the future\n",
      "/home/tivo/anaconda3/lib/python3.5/site-packages/ipykernel/__main__.py:127: VisibleDeprecationWarning: using a non-integer number instead of an integer will result in an error in the future\n",
      "/home/tivo/anaconda3/lib/python3.5/site-packages/ipykernel/__main__.py:152: VisibleDeprecationWarning: using a non-integer number instead of an integer will result in an error in the future\n",
      "/home/tivo/anaconda3/lib/python3.5/site-packages/ipykernel/__main__.py:166: VisibleDeprecationWarning: using a non-integer number instead of an integer will result in an error in the future\n",
      "/home/tivo/anaconda3/lib/python3.5/site-packages/ipykernel/__main__.py:177: VisibleDeprecationWarning: using a non-integer number instead of an integer will result in an error in the future\n",
      "/home/tivo/anaconda3/lib/python3.5/site-packages/ipykernel/__main__.py:181: VisibleDeprecationWarning: using a non-integer number instead of an integer will result in an error in the future\n"
     ]
    },
    {
     "name": "stdout",
     "output_type": "stream",
     "text": [
      "audio/mpeg\n",
      "FileName: /home/tivo/Desktop/songs/mp3/BSWH.wav \n"
     ]
    },
    {
     "name": "stderr",
     "output_type": "stream",
     "text": [
      "/home/tivo/anaconda3/lib/python3.5/site-packages/ipykernel/__main__.py:301: VisibleDeprecationWarning: using a non-integer number instead of an integer will result in an error in the future\n",
      "/home/tivo/anaconda3/lib/python3.5/site-packages/ipykernel/__main__.py:127: VisibleDeprecationWarning: using a non-integer number instead of an integer will result in an error in the future\n",
      "/home/tivo/anaconda3/lib/python3.5/site-packages/ipykernel/__main__.py:152: VisibleDeprecationWarning: using a non-integer number instead of an integer will result in an error in the future\n",
      "/home/tivo/anaconda3/lib/python3.5/site-packages/ipykernel/__main__.py:166: VisibleDeprecationWarning: using a non-integer number instead of an integer will result in an error in the future\n",
      "/home/tivo/anaconda3/lib/python3.5/site-packages/ipykernel/__main__.py:177: VisibleDeprecationWarning: using a non-integer number instead of an integer will result in an error in the future\n",
      "/home/tivo/anaconda3/lib/python3.5/site-packages/ipykernel/__main__.py:181: VisibleDeprecationWarning: using a non-integer number instead of an integer will result in an error in the future\n"
     ]
    },
    {
     "name": "stdout",
     "output_type": "stream",
     "text": [
      "application/octet-stream\n",
      "FileName: /home/tivo/Desktop/songs/mp3/EEFQ.wav \n"
     ]
    },
    {
     "name": "stderr",
     "output_type": "stream",
     "text": [
      "/home/tivo/anaconda3/lib/python3.5/site-packages/ipykernel/__main__.py:301: VisibleDeprecationWarning: using a non-integer number instead of an integer will result in an error in the future\n",
      "/home/tivo/anaconda3/lib/python3.5/site-packages/ipykernel/__main__.py:127: VisibleDeprecationWarning: using a non-integer number instead of an integer will result in an error in the future\n",
      "/home/tivo/anaconda3/lib/python3.5/site-packages/ipykernel/__main__.py:152: VisibleDeprecationWarning: using a non-integer number instead of an integer will result in an error in the future\n",
      "/home/tivo/anaconda3/lib/python3.5/site-packages/ipykernel/__main__.py:166: VisibleDeprecationWarning: using a non-integer number instead of an integer will result in an error in the future\n",
      "/home/tivo/anaconda3/lib/python3.5/site-packages/ipykernel/__main__.py:177: VisibleDeprecationWarning: using a non-integer number instead of an integer will result in an error in the future\n",
      "/home/tivo/anaconda3/lib/python3.5/site-packages/ipykernel/__main__.py:181: VisibleDeprecationWarning: using a non-integer number instead of an integer will result in an error in the future\n"
     ]
    },
    {
     "name": "stdout",
     "output_type": "stream",
     "text": [
      "audio/mpeg\n",
      "FileName: /home/tivo/Desktop/songs/mp3/LMCB.wav \n"
     ]
    },
    {
     "name": "stderr",
     "output_type": "stream",
     "text": [
      "/home/tivo/anaconda3/lib/python3.5/site-packages/ipykernel/__main__.py:301: VisibleDeprecationWarning: using a non-integer number instead of an integer will result in an error in the future\n",
      "/home/tivo/anaconda3/lib/python3.5/site-packages/ipykernel/__main__.py:127: VisibleDeprecationWarning: using a non-integer number instead of an integer will result in an error in the future\n",
      "/home/tivo/anaconda3/lib/python3.5/site-packages/ipykernel/__main__.py:152: VisibleDeprecationWarning: using a non-integer number instead of an integer will result in an error in the future\n",
      "/home/tivo/anaconda3/lib/python3.5/site-packages/ipykernel/__main__.py:166: VisibleDeprecationWarning: using a non-integer number instead of an integer will result in an error in the future\n",
      "/home/tivo/anaconda3/lib/python3.5/site-packages/ipykernel/__main__.py:177: VisibleDeprecationWarning: using a non-integer number instead of an integer will result in an error in the future\n",
      "/home/tivo/anaconda3/lib/python3.5/site-packages/ipykernel/__main__.py:181: VisibleDeprecationWarning: using a non-integer number instead of an integer will result in an error in the future\n"
     ]
    },
    {
     "name": "stdout",
     "output_type": "stream",
     "text": [
      "application/octet-stream\n",
      "FileName: /home/tivo/Desktop/songs/mp3/KMDU.wav \n"
     ]
    },
    {
     "name": "stderr",
     "output_type": "stream",
     "text": [
      "/home/tivo/anaconda3/lib/python3.5/site-packages/ipykernel/__main__.py:301: VisibleDeprecationWarning: using a non-integer number instead of an integer will result in an error in the future\n",
      "/home/tivo/anaconda3/lib/python3.5/site-packages/ipykernel/__main__.py:127: VisibleDeprecationWarning: using a non-integer number instead of an integer will result in an error in the future\n",
      "/home/tivo/anaconda3/lib/python3.5/site-packages/ipykernel/__main__.py:152: VisibleDeprecationWarning: using a non-integer number instead of an integer will result in an error in the future\n",
      "/home/tivo/anaconda3/lib/python3.5/site-packages/ipykernel/__main__.py:166: VisibleDeprecationWarning: using a non-integer number instead of an integer will result in an error in the future\n",
      "/home/tivo/anaconda3/lib/python3.5/site-packages/ipykernel/__main__.py:177: VisibleDeprecationWarning: using a non-integer number instead of an integer will result in an error in the future\n",
      "/home/tivo/anaconda3/lib/python3.5/site-packages/ipykernel/__main__.py:181: VisibleDeprecationWarning: using a non-integer number instead of an integer will result in an error in the future\n"
     ]
    },
    {
     "name": "stdout",
     "output_type": "stream",
     "text": [
      "audio/mpeg\n",
      "FileName: /home/tivo/Desktop/songs/mp3/UOMZ.wav \n"
     ]
    },
    {
     "name": "stderr",
     "output_type": "stream",
     "text": [
      "/home/tivo/anaconda3/lib/python3.5/site-packages/ipykernel/__main__.py:301: VisibleDeprecationWarning: using a non-integer number instead of an integer will result in an error in the future\n",
      "/home/tivo/anaconda3/lib/python3.5/site-packages/ipykernel/__main__.py:127: VisibleDeprecationWarning: using a non-integer number instead of an integer will result in an error in the future\n",
      "/home/tivo/anaconda3/lib/python3.5/site-packages/ipykernel/__main__.py:152: VisibleDeprecationWarning: using a non-integer number instead of an integer will result in an error in the future\n",
      "/home/tivo/anaconda3/lib/python3.5/site-packages/ipykernel/__main__.py:166: VisibleDeprecationWarning: using a non-integer number instead of an integer will result in an error in the future\n",
      "/home/tivo/anaconda3/lib/python3.5/site-packages/ipykernel/__main__.py:177: VisibleDeprecationWarning: using a non-integer number instead of an integer will result in an error in the future\n",
      "/home/tivo/anaconda3/lib/python3.5/site-packages/ipykernel/__main__.py:181: VisibleDeprecationWarning: using a non-integer number instead of an integer will result in an error in the future\n"
     ]
    },
    {
     "name": "stdout",
     "output_type": "stream",
     "text": [
      "audio/mpeg\n",
      "FileName: /home/tivo/Desktop/songs/mp3/VRTP.wav \n"
     ]
    },
    {
     "name": "stderr",
     "output_type": "stream",
     "text": [
      "/home/tivo/anaconda3/lib/python3.5/site-packages/ipykernel/__main__.py:301: VisibleDeprecationWarning: using a non-integer number instead of an integer will result in an error in the future\n",
      "/home/tivo/anaconda3/lib/python3.5/site-packages/ipykernel/__main__.py:127: VisibleDeprecationWarning: using a non-integer number instead of an integer will result in an error in the future\n",
      "/home/tivo/anaconda3/lib/python3.5/site-packages/ipykernel/__main__.py:152: VisibleDeprecationWarning: using a non-integer number instead of an integer will result in an error in the future\n",
      "/home/tivo/anaconda3/lib/python3.5/site-packages/ipykernel/__main__.py:166: VisibleDeprecationWarning: using a non-integer number instead of an integer will result in an error in the future\n",
      "/home/tivo/anaconda3/lib/python3.5/site-packages/ipykernel/__main__.py:177: VisibleDeprecationWarning: using a non-integer number instead of an integer will result in an error in the future\n",
      "/home/tivo/anaconda3/lib/python3.5/site-packages/ipykernel/__main__.py:181: VisibleDeprecationWarning: using a non-integer number instead of an integer will result in an error in the future\n"
     ]
    },
    {
     "name": "stdout",
     "output_type": "stream",
     "text": [
      "application/octet-stream\n",
      "FileName: /home/tivo/Desktop/songs/mp3/HMRN.wav \n"
     ]
    },
    {
     "name": "stderr",
     "output_type": "stream",
     "text": [
      "/home/tivo/anaconda3/lib/python3.5/site-packages/ipykernel/__main__.py:301: VisibleDeprecationWarning: using a non-integer number instead of an integer will result in an error in the future\n",
      "/home/tivo/anaconda3/lib/python3.5/site-packages/ipykernel/__main__.py:127: VisibleDeprecationWarning: using a non-integer number instead of an integer will result in an error in the future\n",
      "/home/tivo/anaconda3/lib/python3.5/site-packages/ipykernel/__main__.py:152: VisibleDeprecationWarning: using a non-integer number instead of an integer will result in an error in the future\n",
      "/home/tivo/anaconda3/lib/python3.5/site-packages/ipykernel/__main__.py:166: VisibleDeprecationWarning: using a non-integer number instead of an integer will result in an error in the future\n",
      "/home/tivo/anaconda3/lib/python3.5/site-packages/ipykernel/__main__.py:177: VisibleDeprecationWarning: using a non-integer number instead of an integer will result in an error in the future\n",
      "/home/tivo/anaconda3/lib/python3.5/site-packages/ipykernel/__main__.py:181: VisibleDeprecationWarning: using a non-integer number instead of an integer will result in an error in the future\n"
     ]
    },
    {
     "name": "stdout",
     "output_type": "stream",
     "text": [
      "audio/mpeg\n",
      "FileName: /home/tivo/Desktop/songs/mp3/YAFD.wav \n"
     ]
    },
    {
     "name": "stderr",
     "output_type": "stream",
     "text": [
      "/home/tivo/anaconda3/lib/python3.5/site-packages/ipykernel/__main__.py:301: VisibleDeprecationWarning: using a non-integer number instead of an integer will result in an error in the future\n",
      "/home/tivo/anaconda3/lib/python3.5/site-packages/ipykernel/__main__.py:127: VisibleDeprecationWarning: using a non-integer number instead of an integer will result in an error in the future\n",
      "/home/tivo/anaconda3/lib/python3.5/site-packages/ipykernel/__main__.py:152: VisibleDeprecationWarning: using a non-integer number instead of an integer will result in an error in the future\n",
      "/home/tivo/anaconda3/lib/python3.5/site-packages/ipykernel/__main__.py:166: VisibleDeprecationWarning: using a non-integer number instead of an integer will result in an error in the future\n",
      "/home/tivo/anaconda3/lib/python3.5/site-packages/ipykernel/__main__.py:177: VisibleDeprecationWarning: using a non-integer number instead of an integer will result in an error in the future\n",
      "/home/tivo/anaconda3/lib/python3.5/site-packages/ipykernel/__main__.py:181: VisibleDeprecationWarning: using a non-integer number instead of an integer will result in an error in the future\n"
     ]
    },
    {
     "name": "stdout",
     "output_type": "stream",
     "text": [
      "application/octet-stream\n",
      "FileName: /home/tivo/Desktop/songs/mp3/WLYE.wav \n"
     ]
    },
    {
     "name": "stderr",
     "output_type": "stream",
     "text": [
      "/home/tivo/anaconda3/lib/python3.5/site-packages/ipykernel/__main__.py:301: VisibleDeprecationWarning: using a non-integer number instead of an integer will result in an error in the future\n",
      "/home/tivo/anaconda3/lib/python3.5/site-packages/ipykernel/__main__.py:127: VisibleDeprecationWarning: using a non-integer number instead of an integer will result in an error in the future\n",
      "/home/tivo/anaconda3/lib/python3.5/site-packages/ipykernel/__main__.py:152: VisibleDeprecationWarning: using a non-integer number instead of an integer will result in an error in the future\n",
      "/home/tivo/anaconda3/lib/python3.5/site-packages/ipykernel/__main__.py:166: VisibleDeprecationWarning: using a non-integer number instead of an integer will result in an error in the future\n",
      "/home/tivo/anaconda3/lib/python3.5/site-packages/ipykernel/__main__.py:177: VisibleDeprecationWarning: using a non-integer number instead of an integer will result in an error in the future\n",
      "/home/tivo/anaconda3/lib/python3.5/site-packages/ipykernel/__main__.py:181: VisibleDeprecationWarning: using a non-integer number instead of an integer will result in an error in the future\n"
     ]
    },
    {
     "name": "stdout",
     "output_type": "stream",
     "text": [
      "application/octet-stream\n",
      "FileName: /home/tivo/Desktop/songs/mp3/BMFP.wav \n"
     ]
    },
    {
     "name": "stderr",
     "output_type": "stream",
     "text": [
      "/home/tivo/anaconda3/lib/python3.5/site-packages/ipykernel/__main__.py:301: VisibleDeprecationWarning: using a non-integer number instead of an integer will result in an error in the future\n",
      "/home/tivo/anaconda3/lib/python3.5/site-packages/ipykernel/__main__.py:127: VisibleDeprecationWarning: using a non-integer number instead of an integer will result in an error in the future\n",
      "/home/tivo/anaconda3/lib/python3.5/site-packages/ipykernel/__main__.py:152: VisibleDeprecationWarning: using a non-integer number instead of an integer will result in an error in the future\n",
      "/home/tivo/anaconda3/lib/python3.5/site-packages/ipykernel/__main__.py:166: VisibleDeprecationWarning: using a non-integer number instead of an integer will result in an error in the future\n",
      "/home/tivo/anaconda3/lib/python3.5/site-packages/ipykernel/__main__.py:177: VisibleDeprecationWarning: using a non-integer number instead of an integer will result in an error in the future\n",
      "/home/tivo/anaconda3/lib/python3.5/site-packages/ipykernel/__main__.py:181: VisibleDeprecationWarning: using a non-integer number instead of an integer will result in an error in the future\n"
     ]
    },
    {
     "name": "stdout",
     "output_type": "stream",
     "text": [
      "application/octet-stream\n",
      "FileName: /home/tivo/Desktop/songs/mp3/DVCK.wav \n"
     ]
    },
    {
     "name": "stderr",
     "output_type": "stream",
     "text": [
      "/home/tivo/anaconda3/lib/python3.5/site-packages/ipykernel/__main__.py:301: VisibleDeprecationWarning: using a non-integer number instead of an integer will result in an error in the future\n",
      "/home/tivo/anaconda3/lib/python3.5/site-packages/ipykernel/__main__.py:127: VisibleDeprecationWarning: using a non-integer number instead of an integer will result in an error in the future\n",
      "/home/tivo/anaconda3/lib/python3.5/site-packages/ipykernel/__main__.py:152: VisibleDeprecationWarning: using a non-integer number instead of an integer will result in an error in the future\n",
      "/home/tivo/anaconda3/lib/python3.5/site-packages/ipykernel/__main__.py:166: VisibleDeprecationWarning: using a non-integer number instead of an integer will result in an error in the future\n",
      "/home/tivo/anaconda3/lib/python3.5/site-packages/ipykernel/__main__.py:177: VisibleDeprecationWarning: using a non-integer number instead of an integer will result in an error in the future\n",
      "/home/tivo/anaconda3/lib/python3.5/site-packages/ipykernel/__main__.py:181: VisibleDeprecationWarning: using a non-integer number instead of an integer will result in an error in the future\n"
     ]
    },
    {
     "name": "stdout",
     "output_type": "stream",
     "text": [
      "application/octet-stream\n",
      "FileName: /home/tivo/Desktop/songs/mp3/14 - Mohab.wav \n"
     ]
    },
    {
     "name": "stderr",
     "output_type": "stream",
     "text": [
      "/home/tivo/anaconda3/lib/python3.5/site-packages/ipykernel/__main__.py:301: VisibleDeprecationWarning: using a non-integer number instead of an integer will result in an error in the future\n",
      "/home/tivo/anaconda3/lib/python3.5/site-packages/ipykernel/__main__.py:127: VisibleDeprecationWarning: using a non-integer number instead of an integer will result in an error in the future\n",
      "/home/tivo/anaconda3/lib/python3.5/site-packages/ipykernel/__main__.py:152: VisibleDeprecationWarning: using a non-integer number instead of an integer will result in an error in the future\n",
      "/home/tivo/anaconda3/lib/python3.5/site-packages/ipykernel/__main__.py:166: VisibleDeprecationWarning: using a non-integer number instead of an integer will result in an error in the future\n",
      "/home/tivo/anaconda3/lib/python3.5/site-packages/ipykernel/__main__.py:177: VisibleDeprecationWarning: using a non-integer number instead of an integer will result in an error in the future\n",
      "/home/tivo/anaconda3/lib/python3.5/site-packages/ipykernel/__main__.py:181: VisibleDeprecationWarning: using a non-integer number instead of an integer will result in an error in the future\n"
     ]
    },
    {
     "name": "stdout",
     "output_type": "stream",
     "text": [
      "application/octet-stream\n",
      "FileName: /home/tivo/Desktop/songs/mp3/GDLU.wav \n"
     ]
    },
    {
     "name": "stderr",
     "output_type": "stream",
     "text": [
      "/home/tivo/anaconda3/lib/python3.5/site-packages/ipykernel/__main__.py:301: VisibleDeprecationWarning: using a non-integer number instead of an integer will result in an error in the future\n",
      "/home/tivo/anaconda3/lib/python3.5/site-packages/ipykernel/__main__.py:127: VisibleDeprecationWarning: using a non-integer number instead of an integer will result in an error in the future\n",
      "/home/tivo/anaconda3/lib/python3.5/site-packages/ipykernel/__main__.py:152: VisibleDeprecationWarning: using a non-integer number instead of an integer will result in an error in the future\n",
      "/home/tivo/anaconda3/lib/python3.5/site-packages/ipykernel/__main__.py:166: VisibleDeprecationWarning: using a non-integer number instead of an integer will result in an error in the future\n",
      "/home/tivo/anaconda3/lib/python3.5/site-packages/ipykernel/__main__.py:177: VisibleDeprecationWarning: using a non-integer number instead of an integer will result in an error in the future\n",
      "/home/tivo/anaconda3/lib/python3.5/site-packages/ipykernel/__main__.py:181: VisibleDeprecationWarning: using a non-integer number instead of an integer will result in an error in the future\n"
     ]
    },
    {
     "name": "stdout",
     "output_type": "stream",
     "text": [
      "audio/mpeg\n",
      "FileName: /home/tivo/Desktop/songs/mp3/CZGP.wav \n"
     ]
    },
    {
     "name": "stderr",
     "output_type": "stream",
     "text": [
      "/home/tivo/anaconda3/lib/python3.5/site-packages/ipykernel/__main__.py:301: VisibleDeprecationWarning: using a non-integer number instead of an integer will result in an error in the future\n",
      "/home/tivo/anaconda3/lib/python3.5/site-packages/ipykernel/__main__.py:127: VisibleDeprecationWarning: using a non-integer number instead of an integer will result in an error in the future\n",
      "/home/tivo/anaconda3/lib/python3.5/site-packages/ipykernel/__main__.py:152: VisibleDeprecationWarning: using a non-integer number instead of an integer will result in an error in the future\n",
      "/home/tivo/anaconda3/lib/python3.5/site-packages/ipykernel/__main__.py:166: VisibleDeprecationWarning: using a non-integer number instead of an integer will result in an error in the future\n",
      "/home/tivo/anaconda3/lib/python3.5/site-packages/ipykernel/__main__.py:177: VisibleDeprecationWarning: using a non-integer number instead of an integer will result in an error in the future\n",
      "/home/tivo/anaconda3/lib/python3.5/site-packages/ipykernel/__main__.py:181: VisibleDeprecationWarning: using a non-integer number instead of an integer will result in an error in the future\n"
     ]
    },
    {
     "name": "stdout",
     "output_type": "stream",
     "text": [
      "application/octet-stream\n",
      "FileName: /home/tivo/Desktop/songs/mp3/BIDL.wav \n"
     ]
    },
    {
     "name": "stderr",
     "output_type": "stream",
     "text": [
      "/home/tivo/anaconda3/lib/python3.5/site-packages/ipykernel/__main__.py:301: VisibleDeprecationWarning: using a non-integer number instead of an integer will result in an error in the future\n",
      "/home/tivo/anaconda3/lib/python3.5/site-packages/ipykernel/__main__.py:127: VisibleDeprecationWarning: using a non-integer number instead of an integer will result in an error in the future\n",
      "/home/tivo/anaconda3/lib/python3.5/site-packages/ipykernel/__main__.py:152: VisibleDeprecationWarning: using a non-integer number instead of an integer will result in an error in the future\n",
      "/home/tivo/anaconda3/lib/python3.5/site-packages/ipykernel/__main__.py:166: VisibleDeprecationWarning: using a non-integer number instead of an integer will result in an error in the future\n",
      "/home/tivo/anaconda3/lib/python3.5/site-packages/ipykernel/__main__.py:177: VisibleDeprecationWarning: using a non-integer number instead of an integer will result in an error in the future\n",
      "/home/tivo/anaconda3/lib/python3.5/site-packages/ipykernel/__main__.py:181: VisibleDeprecationWarning: using a non-integer number instead of an integer will result in an error in the future\n"
     ]
    },
    {
     "name": "stdout",
     "output_type": "stream",
     "text": [
      "application/octet-stream\n",
      "FileName: /home/tivo/Desktop/songs/mp3/OTKU.wav \n"
     ]
    },
    {
     "name": "stderr",
     "output_type": "stream",
     "text": [
      "/home/tivo/anaconda3/lib/python3.5/site-packages/ipykernel/__main__.py:301: VisibleDeprecationWarning: using a non-integer number instead of an integer will result in an error in the future\n",
      "/home/tivo/anaconda3/lib/python3.5/site-packages/ipykernel/__main__.py:127: VisibleDeprecationWarning: using a non-integer number instead of an integer will result in an error in the future\n",
      "/home/tivo/anaconda3/lib/python3.5/site-packages/ipykernel/__main__.py:152: VisibleDeprecationWarning: using a non-integer number instead of an integer will result in an error in the future\n",
      "/home/tivo/anaconda3/lib/python3.5/site-packages/ipykernel/__main__.py:166: VisibleDeprecationWarning: using a non-integer number instead of an integer will result in an error in the future\n",
      "/home/tivo/anaconda3/lib/python3.5/site-packages/ipykernel/__main__.py:177: VisibleDeprecationWarning: using a non-integer number instead of an integer will result in an error in the future\n",
      "/home/tivo/anaconda3/lib/python3.5/site-packages/ipykernel/__main__.py:181: VisibleDeprecationWarning: using a non-integer number instead of an integer will result in an error in the future\n"
     ]
    },
    {
     "name": "stdout",
     "output_type": "stream",
     "text": [
      "application/octet-stream\n",
      "FileName: /home/tivo/Desktop/songs/mp3/LVGA.wav \n"
     ]
    },
    {
     "name": "stderr",
     "output_type": "stream",
     "text": [
      "/home/tivo/anaconda3/lib/python3.5/site-packages/ipykernel/__main__.py:301: VisibleDeprecationWarning: using a non-integer number instead of an integer will result in an error in the future\n",
      "/home/tivo/anaconda3/lib/python3.5/site-packages/ipykernel/__main__.py:127: VisibleDeprecationWarning: using a non-integer number instead of an integer will result in an error in the future\n",
      "/home/tivo/anaconda3/lib/python3.5/site-packages/ipykernel/__main__.py:152: VisibleDeprecationWarning: using a non-integer number instead of an integer will result in an error in the future\n",
      "/home/tivo/anaconda3/lib/python3.5/site-packages/ipykernel/__main__.py:166: VisibleDeprecationWarning: using a non-integer number instead of an integer will result in an error in the future\n",
      "/home/tivo/anaconda3/lib/python3.5/site-packages/ipykernel/__main__.py:177: VisibleDeprecationWarning: using a non-integer number instead of an integer will result in an error in the future\n",
      "/home/tivo/anaconda3/lib/python3.5/site-packages/ipykernel/__main__.py:181: VisibleDeprecationWarning: using a non-integer number instead of an integer will result in an error in the future\n"
     ]
    },
    {
     "name": "stdout",
     "output_type": "stream",
     "text": [
      "application/octet-stream\n",
      "FileName: /home/tivo/Desktop/songs/mp3/UEQY.wav \n"
     ]
    },
    {
     "name": "stderr",
     "output_type": "stream",
     "text": [
      "/home/tivo/anaconda3/lib/python3.5/site-packages/ipykernel/__main__.py:301: VisibleDeprecationWarning: using a non-integer number instead of an integer will result in an error in the future\n",
      "/home/tivo/anaconda3/lib/python3.5/site-packages/ipykernel/__main__.py:127: VisibleDeprecationWarning: using a non-integer number instead of an integer will result in an error in the future\n",
      "/home/tivo/anaconda3/lib/python3.5/site-packages/ipykernel/__main__.py:152: VisibleDeprecationWarning: using a non-integer number instead of an integer will result in an error in the future\n",
      "/home/tivo/anaconda3/lib/python3.5/site-packages/ipykernel/__main__.py:166: VisibleDeprecationWarning: using a non-integer number instead of an integer will result in an error in the future\n",
      "/home/tivo/anaconda3/lib/python3.5/site-packages/ipykernel/__main__.py:177: VisibleDeprecationWarning: using a non-integer number instead of an integer will result in an error in the future\n",
      "/home/tivo/anaconda3/lib/python3.5/site-packages/ipykernel/__main__.py:181: VisibleDeprecationWarning: using a non-integer number instead of an integer will result in an error in the future\n"
     ]
    },
    {
     "name": "stdout",
     "output_type": "stream",
     "text": [
      "application/octet-stream\n",
      "FileName: /home/tivo/Desktop/songs/mp3/DLZF.wav \n"
     ]
    },
    {
     "name": "stderr",
     "output_type": "stream",
     "text": [
      "/home/tivo/anaconda3/lib/python3.5/site-packages/ipykernel/__main__.py:301: VisibleDeprecationWarning: using a non-integer number instead of an integer will result in an error in the future\n",
      "/home/tivo/anaconda3/lib/python3.5/site-packages/ipykernel/__main__.py:127: VisibleDeprecationWarning: using a non-integer number instead of an integer will result in an error in the future\n",
      "/home/tivo/anaconda3/lib/python3.5/site-packages/ipykernel/__main__.py:152: VisibleDeprecationWarning: using a non-integer number instead of an integer will result in an error in the future\n",
      "/home/tivo/anaconda3/lib/python3.5/site-packages/ipykernel/__main__.py:166: VisibleDeprecationWarning: using a non-integer number instead of an integer will result in an error in the future\n",
      "/home/tivo/anaconda3/lib/python3.5/site-packages/ipykernel/__main__.py:177: VisibleDeprecationWarning: using a non-integer number instead of an integer will result in an error in the future\n",
      "/home/tivo/anaconda3/lib/python3.5/site-packages/ipykernel/__main__.py:181: VisibleDeprecationWarning: using a non-integer number instead of an integer will result in an error in the future\n"
     ]
    },
    {
     "name": "stdout",
     "output_type": "stream",
     "text": [
      "audio/mpeg\n",
      "FileName: /home/tivo/Desktop/songs/mp3/CVCY.wav \n"
     ]
    },
    {
     "name": "stderr",
     "output_type": "stream",
     "text": [
      "/home/tivo/anaconda3/lib/python3.5/site-packages/ipykernel/__main__.py:301: VisibleDeprecationWarning: using a non-integer number instead of an integer will result in an error in the future\n",
      "/home/tivo/anaconda3/lib/python3.5/site-packages/ipykernel/__main__.py:127: VisibleDeprecationWarning: using a non-integer number instead of an integer will result in an error in the future\n",
      "/home/tivo/anaconda3/lib/python3.5/site-packages/ipykernel/__main__.py:152: VisibleDeprecationWarning: using a non-integer number instead of an integer will result in an error in the future\n",
      "/home/tivo/anaconda3/lib/python3.5/site-packages/ipykernel/__main__.py:166: VisibleDeprecationWarning: using a non-integer number instead of an integer will result in an error in the future\n",
      "/home/tivo/anaconda3/lib/python3.5/site-packages/ipykernel/__main__.py:177: VisibleDeprecationWarning: using a non-integer number instead of an integer will result in an error in the future\n",
      "/home/tivo/anaconda3/lib/python3.5/site-packages/ipykernel/__main__.py:181: VisibleDeprecationWarning: using a non-integer number instead of an integer will result in an error in the future\n"
     ]
    },
    {
     "name": "stdout",
     "output_type": "stream",
     "text": [
      "application/octet-stream\n",
      "FileName: /home/tivo/Desktop/songs/mp3/QZUG.wav \n"
     ]
    },
    {
     "name": "stderr",
     "output_type": "stream",
     "text": [
      "/home/tivo/anaconda3/lib/python3.5/site-packages/ipykernel/__main__.py:301: VisibleDeprecationWarning: using a non-integer number instead of an integer will result in an error in the future\n",
      "/home/tivo/anaconda3/lib/python3.5/site-packages/ipykernel/__main__.py:127: VisibleDeprecationWarning: using a non-integer number instead of an integer will result in an error in the future\n",
      "/home/tivo/anaconda3/lib/python3.5/site-packages/ipykernel/__main__.py:152: VisibleDeprecationWarning: using a non-integer number instead of an integer will result in an error in the future\n",
      "/home/tivo/anaconda3/lib/python3.5/site-packages/ipykernel/__main__.py:166: VisibleDeprecationWarning: using a non-integer number instead of an integer will result in an error in the future\n",
      "/home/tivo/anaconda3/lib/python3.5/site-packages/ipykernel/__main__.py:177: VisibleDeprecationWarning: using a non-integer number instead of an integer will result in an error in the future\n",
      "/home/tivo/anaconda3/lib/python3.5/site-packages/ipykernel/__main__.py:181: VisibleDeprecationWarning: using a non-integer number instead of an integer will result in an error in the future\n"
     ]
    },
    {
     "name": "stdout",
     "output_type": "stream",
     "text": [
      "application/octet-stream\n",
      "FileName: /home/tivo/Desktop/songs/mp3/QKCQ.wav \n"
     ]
    },
    {
     "name": "stderr",
     "output_type": "stream",
     "text": [
      "/home/tivo/anaconda3/lib/python3.5/site-packages/ipykernel/__main__.py:301: VisibleDeprecationWarning: using a non-integer number instead of an integer will result in an error in the future\n",
      "/home/tivo/anaconda3/lib/python3.5/site-packages/ipykernel/__main__.py:127: VisibleDeprecationWarning: using a non-integer number instead of an integer will result in an error in the future\n",
      "/home/tivo/anaconda3/lib/python3.5/site-packages/ipykernel/__main__.py:152: VisibleDeprecationWarning: using a non-integer number instead of an integer will result in an error in the future\n",
      "/home/tivo/anaconda3/lib/python3.5/site-packages/ipykernel/__main__.py:166: VisibleDeprecationWarning: using a non-integer number instead of an integer will result in an error in the future\n",
      "/home/tivo/anaconda3/lib/python3.5/site-packages/ipykernel/__main__.py:177: VisibleDeprecationWarning: using a non-integer number instead of an integer will result in an error in the future\n",
      "/home/tivo/anaconda3/lib/python3.5/site-packages/ipykernel/__main__.py:181: VisibleDeprecationWarning: using a non-integer number instead of an integer will result in an error in the future\n"
     ]
    },
    {
     "name": "stdout",
     "output_type": "stream",
     "text": [
      "application/octet-stream\n",
      "FileName: /home/tivo/Desktop/songs/mp3/ZFNH.wav \n"
     ]
    },
    {
     "name": "stderr",
     "output_type": "stream",
     "text": [
      "/home/tivo/anaconda3/lib/python3.5/site-packages/ipykernel/__main__.py:301: VisibleDeprecationWarning: using a non-integer number instead of an integer will result in an error in the future\n",
      "/home/tivo/anaconda3/lib/python3.5/site-packages/ipykernel/__main__.py:127: VisibleDeprecationWarning: using a non-integer number instead of an integer will result in an error in the future\n",
      "/home/tivo/anaconda3/lib/python3.5/site-packages/ipykernel/__main__.py:152: VisibleDeprecationWarning: using a non-integer number instead of an integer will result in an error in the future\n",
      "/home/tivo/anaconda3/lib/python3.5/site-packages/ipykernel/__main__.py:166: VisibleDeprecationWarning: using a non-integer number instead of an integer will result in an error in the future\n",
      "/home/tivo/anaconda3/lib/python3.5/site-packages/ipykernel/__main__.py:177: VisibleDeprecationWarning: using a non-integer number instead of an integer will result in an error in the future\n",
      "/home/tivo/anaconda3/lib/python3.5/site-packages/ipykernel/__main__.py:181: VisibleDeprecationWarning: using a non-integer number instead of an integer will result in an error in the future\n"
     ]
    },
    {
     "name": "stdout",
     "output_type": "stream",
     "text": [
      "application/octet-stream\n",
      "FileName: /home/tivo/Desktop/songs/mp3/JPZO.wav \n"
     ]
    },
    {
     "name": "stderr",
     "output_type": "stream",
     "text": [
      "/home/tivo/anaconda3/lib/python3.5/site-packages/ipykernel/__main__.py:301: VisibleDeprecationWarning: using a non-integer number instead of an integer will result in an error in the future\n",
      "/home/tivo/anaconda3/lib/python3.5/site-packages/ipykernel/__main__.py:127: VisibleDeprecationWarning: using a non-integer number instead of an integer will result in an error in the future\n",
      "/home/tivo/anaconda3/lib/python3.5/site-packages/ipykernel/__main__.py:152: VisibleDeprecationWarning: using a non-integer number instead of an integer will result in an error in the future\n",
      "/home/tivo/anaconda3/lib/python3.5/site-packages/ipykernel/__main__.py:166: VisibleDeprecationWarning: using a non-integer number instead of an integer will result in an error in the future\n",
      "/home/tivo/anaconda3/lib/python3.5/site-packages/ipykernel/__main__.py:177: VisibleDeprecationWarning: using a non-integer number instead of an integer will result in an error in the future\n",
      "/home/tivo/anaconda3/lib/python3.5/site-packages/ipykernel/__main__.py:181: VisibleDeprecationWarning: using a non-integer number instead of an integer will result in an error in the future\n"
     ]
    },
    {
     "name": "stdout",
     "output_type": "stream",
     "text": [
      "application/octet-stream\n",
      "FileName: /home/tivo/Desktop/songs/mp3/HMWR.wav \n"
     ]
    },
    {
     "name": "stderr",
     "output_type": "stream",
     "text": [
      "/home/tivo/anaconda3/lib/python3.5/site-packages/ipykernel/__main__.py:301: VisibleDeprecationWarning: using a non-integer number instead of an integer will result in an error in the future\n",
      "/home/tivo/anaconda3/lib/python3.5/site-packages/ipykernel/__main__.py:127: VisibleDeprecationWarning: using a non-integer number instead of an integer will result in an error in the future\n",
      "/home/tivo/anaconda3/lib/python3.5/site-packages/ipykernel/__main__.py:152: VisibleDeprecationWarning: using a non-integer number instead of an integer will result in an error in the future\n",
      "/home/tivo/anaconda3/lib/python3.5/site-packages/ipykernel/__main__.py:166: VisibleDeprecationWarning: using a non-integer number instead of an integer will result in an error in the future\n",
      "/home/tivo/anaconda3/lib/python3.5/site-packages/ipykernel/__main__.py:177: VisibleDeprecationWarning: using a non-integer number instead of an integer will result in an error in the future\n",
      "/home/tivo/anaconda3/lib/python3.5/site-packages/ipykernel/__main__.py:181: VisibleDeprecationWarning: using a non-integer number instead of an integer will result in an error in the future\n"
     ]
    },
    {
     "name": "stdout",
     "output_type": "stream",
     "text": [
      "application/octet-stream\n",
      "FileName: /home/tivo/Desktop/songs/mp3/BLYC.wav \n"
     ]
    },
    {
     "name": "stderr",
     "output_type": "stream",
     "text": [
      "/home/tivo/anaconda3/lib/python3.5/site-packages/ipykernel/__main__.py:301: VisibleDeprecationWarning: using a non-integer number instead of an integer will result in an error in the future\n",
      "/home/tivo/anaconda3/lib/python3.5/site-packages/ipykernel/__main__.py:127: VisibleDeprecationWarning: using a non-integer number instead of an integer will result in an error in the future\n",
      "/home/tivo/anaconda3/lib/python3.5/site-packages/ipykernel/__main__.py:152: VisibleDeprecationWarning: using a non-integer number instead of an integer will result in an error in the future\n",
      "/home/tivo/anaconda3/lib/python3.5/site-packages/ipykernel/__main__.py:166: VisibleDeprecationWarning: using a non-integer number instead of an integer will result in an error in the future\n",
      "/home/tivo/anaconda3/lib/python3.5/site-packages/ipykernel/__main__.py:177: VisibleDeprecationWarning: using a non-integer number instead of an integer will result in an error in the future\n",
      "/home/tivo/anaconda3/lib/python3.5/site-packages/ipykernel/__main__.py:181: VisibleDeprecationWarning: using a non-integer number instead of an integer will result in an error in the future\n"
     ]
    },
    {
     "name": "stdout",
     "output_type": "stream",
     "text": [
      "application/octet-stream\n",
      "FileName: /home/tivo/Desktop/songs/mp3/UKMS.wav \n"
     ]
    },
    {
     "name": "stderr",
     "output_type": "stream",
     "text": [
      "/home/tivo/anaconda3/lib/python3.5/site-packages/ipykernel/__main__.py:301: VisibleDeprecationWarning: using a non-integer number instead of an integer will result in an error in the future\n",
      "/home/tivo/anaconda3/lib/python3.5/site-packages/ipykernel/__main__.py:127: VisibleDeprecationWarning: using a non-integer number instead of an integer will result in an error in the future\n",
      "/home/tivo/anaconda3/lib/python3.5/site-packages/ipykernel/__main__.py:152: VisibleDeprecationWarning: using a non-integer number instead of an integer will result in an error in the future\n",
      "/home/tivo/anaconda3/lib/python3.5/site-packages/ipykernel/__main__.py:166: VisibleDeprecationWarning: using a non-integer number instead of an integer will result in an error in the future\n",
      "/home/tivo/anaconda3/lib/python3.5/site-packages/ipykernel/__main__.py:177: VisibleDeprecationWarning: using a non-integer number instead of an integer will result in an error in the future\n",
      "/home/tivo/anaconda3/lib/python3.5/site-packages/ipykernel/__main__.py:181: VisibleDeprecationWarning: using a non-integer number instead of an integer will result in an error in the future\n"
     ]
    },
    {
     "name": "stdout",
     "output_type": "stream",
     "text": [
      "application/octet-stream\n",
      "FileName: /home/tivo/Desktop/songs/mp3/DRSX.wav \n"
     ]
    },
    {
     "name": "stderr",
     "output_type": "stream",
     "text": [
      "/home/tivo/anaconda3/lib/python3.5/site-packages/ipykernel/__main__.py:301: VisibleDeprecationWarning: using a non-integer number instead of an integer will result in an error in the future\n",
      "/home/tivo/anaconda3/lib/python3.5/site-packages/ipykernel/__main__.py:127: VisibleDeprecationWarning: using a non-integer number instead of an integer will result in an error in the future\n",
      "/home/tivo/anaconda3/lib/python3.5/site-packages/ipykernel/__main__.py:152: VisibleDeprecationWarning: using a non-integer number instead of an integer will result in an error in the future\n",
      "/home/tivo/anaconda3/lib/python3.5/site-packages/ipykernel/__main__.py:166: VisibleDeprecationWarning: using a non-integer number instead of an integer will result in an error in the future\n",
      "/home/tivo/anaconda3/lib/python3.5/site-packages/ipykernel/__main__.py:177: VisibleDeprecationWarning: using a non-integer number instead of an integer will result in an error in the future\n",
      "/home/tivo/anaconda3/lib/python3.5/site-packages/ipykernel/__main__.py:181: VisibleDeprecationWarning: using a non-integer number instead of an integer will result in an error in the future\n"
     ]
    },
    {
     "name": "stdout",
     "output_type": "stream",
     "text": [
      "audio/mpeg\n",
      "FileName: /home/tivo/Desktop/songs/mp3/LQTQ.wav \n"
     ]
    },
    {
     "name": "stderr",
     "output_type": "stream",
     "text": [
      "/home/tivo/anaconda3/lib/python3.5/site-packages/ipykernel/__main__.py:301: VisibleDeprecationWarning: using a non-integer number instead of an integer will result in an error in the future\n",
      "/home/tivo/anaconda3/lib/python3.5/site-packages/ipykernel/__main__.py:127: VisibleDeprecationWarning: using a non-integer number instead of an integer will result in an error in the future\n",
      "/home/tivo/anaconda3/lib/python3.5/site-packages/ipykernel/__main__.py:152: VisibleDeprecationWarning: using a non-integer number instead of an integer will result in an error in the future\n",
      "/home/tivo/anaconda3/lib/python3.5/site-packages/ipykernel/__main__.py:166: VisibleDeprecationWarning: using a non-integer number instead of an integer will result in an error in the future\n",
      "/home/tivo/anaconda3/lib/python3.5/site-packages/ipykernel/__main__.py:177: VisibleDeprecationWarning: using a non-integer number instead of an integer will result in an error in the future\n",
      "/home/tivo/anaconda3/lib/python3.5/site-packages/ipykernel/__main__.py:181: VisibleDeprecationWarning: using a non-integer number instead of an integer will result in an error in the future\n"
     ]
    },
    {
     "name": "stdout",
     "output_type": "stream",
     "text": [
      "audio/mpeg\n",
      "FileName: /home/tivo/Desktop/songs/mp3/UGJT.wav \n"
     ]
    },
    {
     "name": "stderr",
     "output_type": "stream",
     "text": [
      "/home/tivo/anaconda3/lib/python3.5/site-packages/ipykernel/__main__.py:301: VisibleDeprecationWarning: using a non-integer number instead of an integer will result in an error in the future\n",
      "/home/tivo/anaconda3/lib/python3.5/site-packages/ipykernel/__main__.py:127: VisibleDeprecationWarning: using a non-integer number instead of an integer will result in an error in the future\n",
      "/home/tivo/anaconda3/lib/python3.5/site-packages/ipykernel/__main__.py:152: VisibleDeprecationWarning: using a non-integer number instead of an integer will result in an error in the future\n",
      "/home/tivo/anaconda3/lib/python3.5/site-packages/ipykernel/__main__.py:166: VisibleDeprecationWarning: using a non-integer number instead of an integer will result in an error in the future\n",
      "/home/tivo/anaconda3/lib/python3.5/site-packages/ipykernel/__main__.py:177: VisibleDeprecationWarning: using a non-integer number instead of an integer will result in an error in the future\n",
      "/home/tivo/anaconda3/lib/python3.5/site-packages/ipykernel/__main__.py:181: VisibleDeprecationWarning: using a non-integer number instead of an integer will result in an error in the future\n"
     ]
    },
    {
     "name": "stdout",
     "output_type": "stream",
     "text": [
      "application/octet-stream\n",
      "FileName: /home/tivo/Desktop/songs/mp3/DFEJ.wav \n"
     ]
    },
    {
     "name": "stderr",
     "output_type": "stream",
     "text": [
      "/home/tivo/anaconda3/lib/python3.5/site-packages/ipykernel/__main__.py:301: VisibleDeprecationWarning: using a non-integer number instead of an integer will result in an error in the future\n",
      "/home/tivo/anaconda3/lib/python3.5/site-packages/ipykernel/__main__.py:127: VisibleDeprecationWarning: using a non-integer number instead of an integer will result in an error in the future\n",
      "/home/tivo/anaconda3/lib/python3.5/site-packages/ipykernel/__main__.py:152: VisibleDeprecationWarning: using a non-integer number instead of an integer will result in an error in the future\n",
      "/home/tivo/anaconda3/lib/python3.5/site-packages/ipykernel/__main__.py:166: VisibleDeprecationWarning: using a non-integer number instead of an integer will result in an error in the future\n",
      "/home/tivo/anaconda3/lib/python3.5/site-packages/ipykernel/__main__.py:177: VisibleDeprecationWarning: using a non-integer number instead of an integer will result in an error in the future\n",
      "/home/tivo/anaconda3/lib/python3.5/site-packages/ipykernel/__main__.py:181: VisibleDeprecationWarning: using a non-integer number instead of an integer will result in an error in the future\n"
     ]
    },
    {
     "name": "stdout",
     "output_type": "stream",
     "text": [
      "application/octet-stream\n",
      "FileName: /home/tivo/Desktop/songs/mp3/UTXH.wav \n"
     ]
    },
    {
     "name": "stderr",
     "output_type": "stream",
     "text": [
      "/home/tivo/anaconda3/lib/python3.5/site-packages/ipykernel/__main__.py:301: VisibleDeprecationWarning: using a non-integer number instead of an integer will result in an error in the future\n",
      "/home/tivo/anaconda3/lib/python3.5/site-packages/ipykernel/__main__.py:127: VisibleDeprecationWarning: using a non-integer number instead of an integer will result in an error in the future\n",
      "/home/tivo/anaconda3/lib/python3.5/site-packages/ipykernel/__main__.py:152: VisibleDeprecationWarning: using a non-integer number instead of an integer will result in an error in the future\n",
      "/home/tivo/anaconda3/lib/python3.5/site-packages/ipykernel/__main__.py:166: VisibleDeprecationWarning: using a non-integer number instead of an integer will result in an error in the future\n",
      "/home/tivo/anaconda3/lib/python3.5/site-packages/ipykernel/__main__.py:177: VisibleDeprecationWarning: using a non-integer number instead of an integer will result in an error in the future\n",
      "/home/tivo/anaconda3/lib/python3.5/site-packages/ipykernel/__main__.py:181: VisibleDeprecationWarning: using a non-integer number instead of an integer will result in an error in the future\n"
     ]
    },
    {
     "name": "stdout",
     "output_type": "stream",
     "text": [
      "application/octet-stream\n",
      "FileName: /home/tivo/Desktop/songs/mp3/SGXR.wav \n"
     ]
    },
    {
     "name": "stderr",
     "output_type": "stream",
     "text": [
      "/home/tivo/anaconda3/lib/python3.5/site-packages/ipykernel/__main__.py:301: VisibleDeprecationWarning: using a non-integer number instead of an integer will result in an error in the future\n",
      "/home/tivo/anaconda3/lib/python3.5/site-packages/ipykernel/__main__.py:127: VisibleDeprecationWarning: using a non-integer number instead of an integer will result in an error in the future\n",
      "/home/tivo/anaconda3/lib/python3.5/site-packages/ipykernel/__main__.py:152: VisibleDeprecationWarning: using a non-integer number instead of an integer will result in an error in the future\n",
      "/home/tivo/anaconda3/lib/python3.5/site-packages/ipykernel/__main__.py:166: VisibleDeprecationWarning: using a non-integer number instead of an integer will result in an error in the future\n",
      "/home/tivo/anaconda3/lib/python3.5/site-packages/ipykernel/__main__.py:177: VisibleDeprecationWarning: using a non-integer number instead of an integer will result in an error in the future\n",
      "/home/tivo/anaconda3/lib/python3.5/site-packages/ipykernel/__main__.py:181: VisibleDeprecationWarning: using a non-integer number instead of an integer will result in an error in the future\n"
     ]
    },
    {
     "name": "stdout",
     "output_type": "stream",
     "text": [
      "audio/mpeg\n",
      "FileName: /home/tivo/Desktop/songs/mp3/NCCV.wav \n"
     ]
    },
    {
     "name": "stderr",
     "output_type": "stream",
     "text": [
      "/home/tivo/anaconda3/lib/python3.5/site-packages/ipykernel/__main__.py:301: VisibleDeprecationWarning: using a non-integer number instead of an integer will result in an error in the future\n",
      "/home/tivo/anaconda3/lib/python3.5/site-packages/ipykernel/__main__.py:127: VisibleDeprecationWarning: using a non-integer number instead of an integer will result in an error in the future\n",
      "/home/tivo/anaconda3/lib/python3.5/site-packages/ipykernel/__main__.py:152: VisibleDeprecationWarning: using a non-integer number instead of an integer will result in an error in the future\n",
      "/home/tivo/anaconda3/lib/python3.5/site-packages/ipykernel/__main__.py:166: VisibleDeprecationWarning: using a non-integer number instead of an integer will result in an error in the future\n",
      "/home/tivo/anaconda3/lib/python3.5/site-packages/ipykernel/__main__.py:177: VisibleDeprecationWarning: using a non-integer number instead of an integer will result in an error in the future\n",
      "/home/tivo/anaconda3/lib/python3.5/site-packages/ipykernel/__main__.py:181: VisibleDeprecationWarning: using a non-integer number instead of an integer will result in an error in the future\n"
     ]
    },
    {
     "name": "stdout",
     "output_type": "stream",
     "text": [
      "audio/mpeg\n",
      "FileName: /home/tivo/Desktop/songs/mp3/NBYY.wav \n"
     ]
    },
    {
     "name": "stderr",
     "output_type": "stream",
     "text": [
      "/home/tivo/anaconda3/lib/python3.5/site-packages/ipykernel/__main__.py:301: VisibleDeprecationWarning: using a non-integer number instead of an integer will result in an error in the future\n",
      "/home/tivo/anaconda3/lib/python3.5/site-packages/ipykernel/__main__.py:127: VisibleDeprecationWarning: using a non-integer number instead of an integer will result in an error in the future\n",
      "/home/tivo/anaconda3/lib/python3.5/site-packages/ipykernel/__main__.py:152: VisibleDeprecationWarning: using a non-integer number instead of an integer will result in an error in the future\n",
      "/home/tivo/anaconda3/lib/python3.5/site-packages/ipykernel/__main__.py:166: VisibleDeprecationWarning: using a non-integer number instead of an integer will result in an error in the future\n",
      "/home/tivo/anaconda3/lib/python3.5/site-packages/ipykernel/__main__.py:177: VisibleDeprecationWarning: using a non-integer number instead of an integer will result in an error in the future\n",
      "/home/tivo/anaconda3/lib/python3.5/site-packages/ipykernel/__main__.py:181: VisibleDeprecationWarning: using a non-integer number instead of an integer will result in an error in the future\n"
     ]
    },
    {
     "name": "stdout",
     "output_type": "stream",
     "text": [
      "application/octet-stream\n",
      "FileName: /home/tivo/Desktop/songs/mp3/JKSC.wav \n"
     ]
    },
    {
     "name": "stderr",
     "output_type": "stream",
     "text": [
      "/home/tivo/anaconda3/lib/python3.5/site-packages/ipykernel/__main__.py:301: VisibleDeprecationWarning: using a non-integer number instead of an integer will result in an error in the future\n",
      "/home/tivo/anaconda3/lib/python3.5/site-packages/ipykernel/__main__.py:127: VisibleDeprecationWarning: using a non-integer number instead of an integer will result in an error in the future\n",
      "/home/tivo/anaconda3/lib/python3.5/site-packages/ipykernel/__main__.py:152: VisibleDeprecationWarning: using a non-integer number instead of an integer will result in an error in the future\n",
      "/home/tivo/anaconda3/lib/python3.5/site-packages/ipykernel/__main__.py:166: VisibleDeprecationWarning: using a non-integer number instead of an integer will result in an error in the future\n",
      "/home/tivo/anaconda3/lib/python3.5/site-packages/ipykernel/__main__.py:177: VisibleDeprecationWarning: using a non-integer number instead of an integer will result in an error in the future\n",
      "/home/tivo/anaconda3/lib/python3.5/site-packages/ipykernel/__main__.py:181: VisibleDeprecationWarning: using a non-integer number instead of an integer will result in an error in the future\n"
     ]
    },
    {
     "name": "stdout",
     "output_type": "stream",
     "text": [
      "audio/mpeg\n",
      "FileName: /home/tivo/Desktop/songs/mp3/QOSS.wav \n"
     ]
    },
    {
     "name": "stderr",
     "output_type": "stream",
     "text": [
      "/home/tivo/anaconda3/lib/python3.5/site-packages/ipykernel/__main__.py:301: VisibleDeprecationWarning: using a non-integer number instead of an integer will result in an error in the future\n",
      "/home/tivo/anaconda3/lib/python3.5/site-packages/ipykernel/__main__.py:127: VisibleDeprecationWarning: using a non-integer number instead of an integer will result in an error in the future\n",
      "/home/tivo/anaconda3/lib/python3.5/site-packages/ipykernel/__main__.py:152: VisibleDeprecationWarning: using a non-integer number instead of an integer will result in an error in the future\n",
      "/home/tivo/anaconda3/lib/python3.5/site-packages/ipykernel/__main__.py:166: VisibleDeprecationWarning: using a non-integer number instead of an integer will result in an error in the future\n",
      "/home/tivo/anaconda3/lib/python3.5/site-packages/ipykernel/__main__.py:177: VisibleDeprecationWarning: using a non-integer number instead of an integer will result in an error in the future\n",
      "/home/tivo/anaconda3/lib/python3.5/site-packages/ipykernel/__main__.py:181: VisibleDeprecationWarning: using a non-integer number instead of an integer will result in an error in the future\n"
     ]
    },
    {
     "name": "stdout",
     "output_type": "stream",
     "text": [
      "application/octet-stream\n",
      "FileName: /home/tivo/Desktop/songs/mp3/GEXZ.wav \n"
     ]
    },
    {
     "name": "stderr",
     "output_type": "stream",
     "text": [
      "/home/tivo/anaconda3/lib/python3.5/site-packages/ipykernel/__main__.py:301: VisibleDeprecationWarning: using a non-integer number instead of an integer will result in an error in the future\n",
      "/home/tivo/anaconda3/lib/python3.5/site-packages/ipykernel/__main__.py:127: VisibleDeprecationWarning: using a non-integer number instead of an integer will result in an error in the future\n",
      "/home/tivo/anaconda3/lib/python3.5/site-packages/ipykernel/__main__.py:152: VisibleDeprecationWarning: using a non-integer number instead of an integer will result in an error in the future\n",
      "/home/tivo/anaconda3/lib/python3.5/site-packages/ipykernel/__main__.py:166: VisibleDeprecationWarning: using a non-integer number instead of an integer will result in an error in the future\n",
      "/home/tivo/anaconda3/lib/python3.5/site-packages/ipykernel/__main__.py:177: VisibleDeprecationWarning: using a non-integer number instead of an integer will result in an error in the future\n",
      "/home/tivo/anaconda3/lib/python3.5/site-packages/ipykernel/__main__.py:181: VisibleDeprecationWarning: using a non-integer number instead of an integer will result in an error in the future\n"
     ]
    },
    {
     "name": "stdout",
     "output_type": "stream",
     "text": [
      "application/octet-stream\n",
      "FileName: /home/tivo/Desktop/songs/mp3/QKQO.wav \n"
     ]
    },
    {
     "name": "stderr",
     "output_type": "stream",
     "text": [
      "/home/tivo/anaconda3/lib/python3.5/site-packages/ipykernel/__main__.py:301: VisibleDeprecationWarning: using a non-integer number instead of an integer will result in an error in the future\n",
      "/home/tivo/anaconda3/lib/python3.5/site-packages/ipykernel/__main__.py:127: VisibleDeprecationWarning: using a non-integer number instead of an integer will result in an error in the future\n",
      "/home/tivo/anaconda3/lib/python3.5/site-packages/ipykernel/__main__.py:152: VisibleDeprecationWarning: using a non-integer number instead of an integer will result in an error in the future\n",
      "/home/tivo/anaconda3/lib/python3.5/site-packages/ipykernel/__main__.py:166: VisibleDeprecationWarning: using a non-integer number instead of an integer will result in an error in the future\n",
      "/home/tivo/anaconda3/lib/python3.5/site-packages/ipykernel/__main__.py:177: VisibleDeprecationWarning: using a non-integer number instead of an integer will result in an error in the future\n",
      "/home/tivo/anaconda3/lib/python3.5/site-packages/ipykernel/__main__.py:181: VisibleDeprecationWarning: using a non-integer number instead of an integer will result in an error in the future\n"
     ]
    },
    {
     "name": "stdout",
     "output_type": "stream",
     "text": [
      "application/octet-stream\n",
      "FileName: /home/tivo/Desktop/songs/mp3/KPTO.wav \n"
     ]
    },
    {
     "name": "stderr",
     "output_type": "stream",
     "text": [
      "/home/tivo/anaconda3/lib/python3.5/site-packages/ipykernel/__main__.py:301: VisibleDeprecationWarning: using a non-integer number instead of an integer will result in an error in the future\n",
      "/home/tivo/anaconda3/lib/python3.5/site-packages/ipykernel/__main__.py:127: VisibleDeprecationWarning: using a non-integer number instead of an integer will result in an error in the future\n",
      "/home/tivo/anaconda3/lib/python3.5/site-packages/ipykernel/__main__.py:152: VisibleDeprecationWarning: using a non-integer number instead of an integer will result in an error in the future\n",
      "/home/tivo/anaconda3/lib/python3.5/site-packages/ipykernel/__main__.py:166: VisibleDeprecationWarning: using a non-integer number instead of an integer will result in an error in the future\n",
      "/home/tivo/anaconda3/lib/python3.5/site-packages/ipykernel/__main__.py:177: VisibleDeprecationWarning: using a non-integer number instead of an integer will result in an error in the future\n",
      "/home/tivo/anaconda3/lib/python3.5/site-packages/ipykernel/__main__.py:181: VisibleDeprecationWarning: using a non-integer number instead of an integer will result in an error in the future\n"
     ]
    },
    {
     "name": "stdout",
     "output_type": "stream",
     "text": [
      "audio/mpeg\n",
      "FileName: /home/tivo/Desktop/songs/mp3/EEAT.wav \n"
     ]
    },
    {
     "name": "stderr",
     "output_type": "stream",
     "text": [
      "/home/tivo/anaconda3/lib/python3.5/site-packages/ipykernel/__main__.py:301: VisibleDeprecationWarning: using a non-integer number instead of an integer will result in an error in the future\n",
      "/home/tivo/anaconda3/lib/python3.5/site-packages/ipykernel/__main__.py:127: VisibleDeprecationWarning: using a non-integer number instead of an integer will result in an error in the future\n",
      "/home/tivo/anaconda3/lib/python3.5/site-packages/ipykernel/__main__.py:152: VisibleDeprecationWarning: using a non-integer number instead of an integer will result in an error in the future\n",
      "/home/tivo/anaconda3/lib/python3.5/site-packages/ipykernel/__main__.py:166: VisibleDeprecationWarning: using a non-integer number instead of an integer will result in an error in the future\n",
      "/home/tivo/anaconda3/lib/python3.5/site-packages/ipykernel/__main__.py:177: VisibleDeprecationWarning: using a non-integer number instead of an integer will result in an error in the future\n",
      "/home/tivo/anaconda3/lib/python3.5/site-packages/ipykernel/__main__.py:181: VisibleDeprecationWarning: using a non-integer number instead of an integer will result in an error in the future\n"
     ]
    },
    {
     "name": "stdout",
     "output_type": "stream",
     "text": [
      "audio/mpeg\n",
      "FileName: /home/tivo/Desktop/songs/mp3/EUHM.wav \n"
     ]
    },
    {
     "name": "stderr",
     "output_type": "stream",
     "text": [
      "/home/tivo/anaconda3/lib/python3.5/site-packages/ipykernel/__main__.py:301: VisibleDeprecationWarning: using a non-integer number instead of an integer will result in an error in the future\n",
      "/home/tivo/anaconda3/lib/python3.5/site-packages/ipykernel/__main__.py:127: VisibleDeprecationWarning: using a non-integer number instead of an integer will result in an error in the future\n",
      "/home/tivo/anaconda3/lib/python3.5/site-packages/ipykernel/__main__.py:152: VisibleDeprecationWarning: using a non-integer number instead of an integer will result in an error in the future\n",
      "/home/tivo/anaconda3/lib/python3.5/site-packages/ipykernel/__main__.py:166: VisibleDeprecationWarning: using a non-integer number instead of an integer will result in an error in the future\n",
      "/home/tivo/anaconda3/lib/python3.5/site-packages/ipykernel/__main__.py:177: VisibleDeprecationWarning: using a non-integer number instead of an integer will result in an error in the future\n",
      "/home/tivo/anaconda3/lib/python3.5/site-packages/ipykernel/__main__.py:181: VisibleDeprecationWarning: using a non-integer number instead of an integer will result in an error in the future\n"
     ]
    },
    {
     "name": "stdout",
     "output_type": "stream",
     "text": [
      "audio/mpeg\n",
      "FileName: /home/tivo/Desktop/songs/mp3/QHLH.wav \n"
     ]
    },
    {
     "name": "stderr",
     "output_type": "stream",
     "text": [
      "/home/tivo/anaconda3/lib/python3.5/site-packages/ipykernel/__main__.py:301: VisibleDeprecationWarning: using a non-integer number instead of an integer will result in an error in the future\n",
      "/home/tivo/anaconda3/lib/python3.5/site-packages/ipykernel/__main__.py:127: VisibleDeprecationWarning: using a non-integer number instead of an integer will result in an error in the future\n",
      "/home/tivo/anaconda3/lib/python3.5/site-packages/ipykernel/__main__.py:152: VisibleDeprecationWarning: using a non-integer number instead of an integer will result in an error in the future\n",
      "/home/tivo/anaconda3/lib/python3.5/site-packages/ipykernel/__main__.py:166: VisibleDeprecationWarning: using a non-integer number instead of an integer will result in an error in the future\n",
      "/home/tivo/anaconda3/lib/python3.5/site-packages/ipykernel/__main__.py:177: VisibleDeprecationWarning: using a non-integer number instead of an integer will result in an error in the future\n",
      "/home/tivo/anaconda3/lib/python3.5/site-packages/ipykernel/__main__.py:181: VisibleDeprecationWarning: using a non-integer number instead of an integer will result in an error in the future\n"
     ]
    },
    {
     "name": "stdout",
     "output_type": "stream",
     "text": [
      "application/octet-stream\n",
      "FileName: /home/tivo/Desktop/songs/mp3/VFBH.wav \n"
     ]
    },
    {
     "name": "stderr",
     "output_type": "stream",
     "text": [
      "/home/tivo/anaconda3/lib/python3.5/site-packages/ipykernel/__main__.py:301: VisibleDeprecationWarning: using a non-integer number instead of an integer will result in an error in the future\n",
      "/home/tivo/anaconda3/lib/python3.5/site-packages/ipykernel/__main__.py:127: VisibleDeprecationWarning: using a non-integer number instead of an integer will result in an error in the future\n",
      "/home/tivo/anaconda3/lib/python3.5/site-packages/ipykernel/__main__.py:152: VisibleDeprecationWarning: using a non-integer number instead of an integer will result in an error in the future\n",
      "/home/tivo/anaconda3/lib/python3.5/site-packages/ipykernel/__main__.py:166: VisibleDeprecationWarning: using a non-integer number instead of an integer will result in an error in the future\n",
      "/home/tivo/anaconda3/lib/python3.5/site-packages/ipykernel/__main__.py:177: VisibleDeprecationWarning: using a non-integer number instead of an integer will result in an error in the future\n",
      "/home/tivo/anaconda3/lib/python3.5/site-packages/ipykernel/__main__.py:181: VisibleDeprecationWarning: using a non-integer number instead of an integer will result in an error in the future\n"
     ]
    },
    {
     "name": "stdout",
     "output_type": "stream",
     "text": [
      "application/octet-stream\n",
      "FileName: /home/tivo/Desktop/songs/mp3/RGGS.wav \n"
     ]
    },
    {
     "name": "stderr",
     "output_type": "stream",
     "text": [
      "/home/tivo/anaconda3/lib/python3.5/site-packages/ipykernel/__main__.py:301: VisibleDeprecationWarning: using a non-integer number instead of an integer will result in an error in the future\n",
      "/home/tivo/anaconda3/lib/python3.5/site-packages/ipykernel/__main__.py:127: VisibleDeprecationWarning: using a non-integer number instead of an integer will result in an error in the future\n",
      "/home/tivo/anaconda3/lib/python3.5/site-packages/ipykernel/__main__.py:152: VisibleDeprecationWarning: using a non-integer number instead of an integer will result in an error in the future\n",
      "/home/tivo/anaconda3/lib/python3.5/site-packages/ipykernel/__main__.py:166: VisibleDeprecationWarning: using a non-integer number instead of an integer will result in an error in the future\n",
      "/home/tivo/anaconda3/lib/python3.5/site-packages/ipykernel/__main__.py:177: VisibleDeprecationWarning: using a non-integer number instead of an integer will result in an error in the future\n",
      "/home/tivo/anaconda3/lib/python3.5/site-packages/ipykernel/__main__.py:181: VisibleDeprecationWarning: using a non-integer number instead of an integer will result in an error in the future\n"
     ]
    },
    {
     "name": "stdout",
     "output_type": "stream",
     "text": [
      "application/octet-stream\n",
      "FileName: /home/tivo/Desktop/songs/mp3/VKSD.wav \n"
     ]
    },
    {
     "name": "stderr",
     "output_type": "stream",
     "text": [
      "/home/tivo/anaconda3/lib/python3.5/site-packages/ipykernel/__main__.py:301: VisibleDeprecationWarning: using a non-integer number instead of an integer will result in an error in the future\n",
      "/home/tivo/anaconda3/lib/python3.5/site-packages/ipykernel/__main__.py:127: VisibleDeprecationWarning: using a non-integer number instead of an integer will result in an error in the future\n",
      "/home/tivo/anaconda3/lib/python3.5/site-packages/ipykernel/__main__.py:152: VisibleDeprecationWarning: using a non-integer number instead of an integer will result in an error in the future\n",
      "/home/tivo/anaconda3/lib/python3.5/site-packages/ipykernel/__main__.py:166: VisibleDeprecationWarning: using a non-integer number instead of an integer will result in an error in the future\n",
      "/home/tivo/anaconda3/lib/python3.5/site-packages/ipykernel/__main__.py:177: VisibleDeprecationWarning: using a non-integer number instead of an integer will result in an error in the future\n",
      "/home/tivo/anaconda3/lib/python3.5/site-packages/ipykernel/__main__.py:181: VisibleDeprecationWarning: using a non-integer number instead of an integer will result in an error in the future\n"
     ]
    },
    {
     "name": "stdout",
     "output_type": "stream",
     "text": [
      "audio/mpeg\n",
      "FileName: /home/tivo/Desktop/songs/mp3/FICY.wav \n"
     ]
    },
    {
     "name": "stderr",
     "output_type": "stream",
     "text": [
      "/home/tivo/anaconda3/lib/python3.5/site-packages/ipykernel/__main__.py:301: VisibleDeprecationWarning: using a non-integer number instead of an integer will result in an error in the future\n",
      "/home/tivo/anaconda3/lib/python3.5/site-packages/ipykernel/__main__.py:127: VisibleDeprecationWarning: using a non-integer number instead of an integer will result in an error in the future\n",
      "/home/tivo/anaconda3/lib/python3.5/site-packages/ipykernel/__main__.py:152: VisibleDeprecationWarning: using a non-integer number instead of an integer will result in an error in the future\n",
      "/home/tivo/anaconda3/lib/python3.5/site-packages/ipykernel/__main__.py:166: VisibleDeprecationWarning: using a non-integer number instead of an integer will result in an error in the future\n",
      "/home/tivo/anaconda3/lib/python3.5/site-packages/ipykernel/__main__.py:177: VisibleDeprecationWarning: using a non-integer number instead of an integer will result in an error in the future\n",
      "/home/tivo/anaconda3/lib/python3.5/site-packages/ipykernel/__main__.py:181: VisibleDeprecationWarning: using a non-integer number instead of an integer will result in an error in the future\n"
     ]
    },
    {
     "name": "stdout",
     "output_type": "stream",
     "text": [
      "application/octet-stream\n",
      "FileName: /home/tivo/Desktop/songs/mp3/KQFC.wav \n"
     ]
    },
    {
     "name": "stderr",
     "output_type": "stream",
     "text": [
      "/home/tivo/anaconda3/lib/python3.5/site-packages/ipykernel/__main__.py:301: VisibleDeprecationWarning: using a non-integer number instead of an integer will result in an error in the future\n",
      "/home/tivo/anaconda3/lib/python3.5/site-packages/ipykernel/__main__.py:127: VisibleDeprecationWarning: using a non-integer number instead of an integer will result in an error in the future\n",
      "/home/tivo/anaconda3/lib/python3.5/site-packages/ipykernel/__main__.py:152: VisibleDeprecationWarning: using a non-integer number instead of an integer will result in an error in the future\n",
      "/home/tivo/anaconda3/lib/python3.5/site-packages/ipykernel/__main__.py:166: VisibleDeprecationWarning: using a non-integer number instead of an integer will result in an error in the future\n",
      "/home/tivo/anaconda3/lib/python3.5/site-packages/ipykernel/__main__.py:177: VisibleDeprecationWarning: using a non-integer number instead of an integer will result in an error in the future\n",
      "/home/tivo/anaconda3/lib/python3.5/site-packages/ipykernel/__main__.py:181: VisibleDeprecationWarning: using a non-integer number instead of an integer will result in an error in the future\n"
     ]
    },
    {
     "name": "stdout",
     "output_type": "stream",
     "text": [
      "application/octet-stream\n",
      "FileName: /home/tivo/Desktop/songs/mp3/FWIB.wav \n"
     ]
    },
    {
     "name": "stderr",
     "output_type": "stream",
     "text": [
      "/home/tivo/anaconda3/lib/python3.5/site-packages/ipykernel/__main__.py:301: VisibleDeprecationWarning: using a non-integer number instead of an integer will result in an error in the future\n",
      "/home/tivo/anaconda3/lib/python3.5/site-packages/ipykernel/__main__.py:127: VisibleDeprecationWarning: using a non-integer number instead of an integer will result in an error in the future\n",
      "/home/tivo/anaconda3/lib/python3.5/site-packages/ipykernel/__main__.py:152: VisibleDeprecationWarning: using a non-integer number instead of an integer will result in an error in the future\n",
      "/home/tivo/anaconda3/lib/python3.5/site-packages/ipykernel/__main__.py:166: VisibleDeprecationWarning: using a non-integer number instead of an integer will result in an error in the future\n",
      "/home/tivo/anaconda3/lib/python3.5/site-packages/ipykernel/__main__.py:177: VisibleDeprecationWarning: using a non-integer number instead of an integer will result in an error in the future\n",
      "/home/tivo/anaconda3/lib/python3.5/site-packages/ipykernel/__main__.py:181: VisibleDeprecationWarning: using a non-integer number instead of an integer will result in an error in the future\n"
     ]
    },
    {
     "name": "stdout",
     "output_type": "stream",
     "text": [
      "application/octet-stream\n",
      "FileName: /home/tivo/Desktop/songs/mp3/KRZS.wav \n"
     ]
    },
    {
     "name": "stderr",
     "output_type": "stream",
     "text": [
      "/home/tivo/anaconda3/lib/python3.5/site-packages/ipykernel/__main__.py:301: VisibleDeprecationWarning: using a non-integer number instead of an integer will result in an error in the future\n",
      "/home/tivo/anaconda3/lib/python3.5/site-packages/ipykernel/__main__.py:127: VisibleDeprecationWarning: using a non-integer number instead of an integer will result in an error in the future\n",
      "/home/tivo/anaconda3/lib/python3.5/site-packages/ipykernel/__main__.py:152: VisibleDeprecationWarning: using a non-integer number instead of an integer will result in an error in the future\n",
      "/home/tivo/anaconda3/lib/python3.5/site-packages/ipykernel/__main__.py:166: VisibleDeprecationWarning: using a non-integer number instead of an integer will result in an error in the future\n",
      "/home/tivo/anaconda3/lib/python3.5/site-packages/ipykernel/__main__.py:177: VisibleDeprecationWarning: using a non-integer number instead of an integer will result in an error in the future\n",
      "/home/tivo/anaconda3/lib/python3.5/site-packages/ipykernel/__main__.py:181: VisibleDeprecationWarning: using a non-integer number instead of an integer will result in an error in the future\n"
     ]
    },
    {
     "name": "stdout",
     "output_type": "stream",
     "text": [
      "application/octet-stream\n",
      "FileName: /home/tivo/Desktop/songs/mp3/WSFJ.wav \n"
     ]
    },
    {
     "name": "stderr",
     "output_type": "stream",
     "text": [
      "/home/tivo/anaconda3/lib/python3.5/site-packages/ipykernel/__main__.py:301: VisibleDeprecationWarning: using a non-integer number instead of an integer will result in an error in the future\n",
      "/home/tivo/anaconda3/lib/python3.5/site-packages/ipykernel/__main__.py:127: VisibleDeprecationWarning: using a non-integer number instead of an integer will result in an error in the future\n",
      "/home/tivo/anaconda3/lib/python3.5/site-packages/ipykernel/__main__.py:152: VisibleDeprecationWarning: using a non-integer number instead of an integer will result in an error in the future\n",
      "/home/tivo/anaconda3/lib/python3.5/site-packages/ipykernel/__main__.py:166: VisibleDeprecationWarning: using a non-integer number instead of an integer will result in an error in the future\n",
      "/home/tivo/anaconda3/lib/python3.5/site-packages/ipykernel/__main__.py:177: VisibleDeprecationWarning: using a non-integer number instead of an integer will result in an error in the future\n",
      "/home/tivo/anaconda3/lib/python3.5/site-packages/ipykernel/__main__.py:181: VisibleDeprecationWarning: using a non-integer number instead of an integer will result in an error in the future\n"
     ]
    },
    {
     "name": "stdout",
     "output_type": "stream",
     "text": [
      "audio/mpeg\n",
      "FileName: /home/tivo/Desktop/songs/mp3/HXNS.wav \n"
     ]
    },
    {
     "name": "stderr",
     "output_type": "stream",
     "text": [
      "/home/tivo/anaconda3/lib/python3.5/site-packages/ipykernel/__main__.py:301: VisibleDeprecationWarning: using a non-integer number instead of an integer will result in an error in the future\n",
      "/home/tivo/anaconda3/lib/python3.5/site-packages/ipykernel/__main__.py:127: VisibleDeprecationWarning: using a non-integer number instead of an integer will result in an error in the future\n",
      "/home/tivo/anaconda3/lib/python3.5/site-packages/ipykernel/__main__.py:152: VisibleDeprecationWarning: using a non-integer number instead of an integer will result in an error in the future\n",
      "/home/tivo/anaconda3/lib/python3.5/site-packages/ipykernel/__main__.py:166: VisibleDeprecationWarning: using a non-integer number instead of an integer will result in an error in the future\n",
      "/home/tivo/anaconda3/lib/python3.5/site-packages/ipykernel/__main__.py:177: VisibleDeprecationWarning: using a non-integer number instead of an integer will result in an error in the future\n",
      "/home/tivo/anaconda3/lib/python3.5/site-packages/ipykernel/__main__.py:181: VisibleDeprecationWarning: using a non-integer number instead of an integer will result in an error in the future\n"
     ]
    },
    {
     "name": "stdout",
     "output_type": "stream",
     "text": [
      "application/octet-stream\n",
      "FileName: /home/tivo/Desktop/songs/mp3/OCGB.wav \n"
     ]
    },
    {
     "name": "stderr",
     "output_type": "stream",
     "text": [
      "/home/tivo/anaconda3/lib/python3.5/site-packages/ipykernel/__main__.py:301: VisibleDeprecationWarning: using a non-integer number instead of an integer will result in an error in the future\n",
      "/home/tivo/anaconda3/lib/python3.5/site-packages/ipykernel/__main__.py:127: VisibleDeprecationWarning: using a non-integer number instead of an integer will result in an error in the future\n",
      "/home/tivo/anaconda3/lib/python3.5/site-packages/ipykernel/__main__.py:152: VisibleDeprecationWarning: using a non-integer number instead of an integer will result in an error in the future\n",
      "/home/tivo/anaconda3/lib/python3.5/site-packages/ipykernel/__main__.py:166: VisibleDeprecationWarning: using a non-integer number instead of an integer will result in an error in the future\n",
      "/home/tivo/anaconda3/lib/python3.5/site-packages/ipykernel/__main__.py:177: VisibleDeprecationWarning: using a non-integer number instead of an integer will result in an error in the future\n",
      "/home/tivo/anaconda3/lib/python3.5/site-packages/ipykernel/__main__.py:181: VisibleDeprecationWarning: using a non-integer number instead of an integer will result in an error in the future\n"
     ]
    },
    {
     "name": "stdout",
     "output_type": "stream",
     "text": [
      "audio/mpeg\n",
      "FileName: /home/tivo/Desktop/songs/mp3/XKPJ.wav \n"
     ]
    },
    {
     "name": "stderr",
     "output_type": "stream",
     "text": [
      "/home/tivo/anaconda3/lib/python3.5/site-packages/ipykernel/__main__.py:301: VisibleDeprecationWarning: using a non-integer number instead of an integer will result in an error in the future\n",
      "/home/tivo/anaconda3/lib/python3.5/site-packages/ipykernel/__main__.py:127: VisibleDeprecationWarning: using a non-integer number instead of an integer will result in an error in the future\n",
      "/home/tivo/anaconda3/lib/python3.5/site-packages/ipykernel/__main__.py:152: VisibleDeprecationWarning: using a non-integer number instead of an integer will result in an error in the future\n",
      "/home/tivo/anaconda3/lib/python3.5/site-packages/ipykernel/__main__.py:166: VisibleDeprecationWarning: using a non-integer number instead of an integer will result in an error in the future\n",
      "/home/tivo/anaconda3/lib/python3.5/site-packages/ipykernel/__main__.py:177: VisibleDeprecationWarning: using a non-integer number instead of an integer will result in an error in the future\n",
      "/home/tivo/anaconda3/lib/python3.5/site-packages/ipykernel/__main__.py:181: VisibleDeprecationWarning: using a non-integer number instead of an integer will result in an error in the future\n"
     ]
    },
    {
     "name": "stdout",
     "output_type": "stream",
     "text": [
      "audio/mpeg\n",
      "FileName: /home/tivo/Desktop/songs/mp3/IVEY.wav \n"
     ]
    },
    {
     "name": "stderr",
     "output_type": "stream",
     "text": [
      "/home/tivo/anaconda3/lib/python3.5/site-packages/ipykernel/__main__.py:301: VisibleDeprecationWarning: using a non-integer number instead of an integer will result in an error in the future\n",
      "/home/tivo/anaconda3/lib/python3.5/site-packages/ipykernel/__main__.py:127: VisibleDeprecationWarning: using a non-integer number instead of an integer will result in an error in the future\n",
      "/home/tivo/anaconda3/lib/python3.5/site-packages/ipykernel/__main__.py:152: VisibleDeprecationWarning: using a non-integer number instead of an integer will result in an error in the future\n",
      "/home/tivo/anaconda3/lib/python3.5/site-packages/ipykernel/__main__.py:166: VisibleDeprecationWarning: using a non-integer number instead of an integer will result in an error in the future\n",
      "/home/tivo/anaconda3/lib/python3.5/site-packages/ipykernel/__main__.py:177: VisibleDeprecationWarning: using a non-integer number instead of an integer will result in an error in the future\n",
      "/home/tivo/anaconda3/lib/python3.5/site-packages/ipykernel/__main__.py:181: VisibleDeprecationWarning: using a non-integer number instead of an integer will result in an error in the future\n"
     ]
    },
    {
     "name": "stdout",
     "output_type": "stream",
     "text": [
      "application/octet-stream\n",
      "FileName: /home/tivo/Desktop/songs/mp3/JVJO.wav \n"
     ]
    },
    {
     "name": "stderr",
     "output_type": "stream",
     "text": [
      "/home/tivo/anaconda3/lib/python3.5/site-packages/ipykernel/__main__.py:301: VisibleDeprecationWarning: using a non-integer number instead of an integer will result in an error in the future\n",
      "/home/tivo/anaconda3/lib/python3.5/site-packages/ipykernel/__main__.py:127: VisibleDeprecationWarning: using a non-integer number instead of an integer will result in an error in the future\n",
      "/home/tivo/anaconda3/lib/python3.5/site-packages/ipykernel/__main__.py:152: VisibleDeprecationWarning: using a non-integer number instead of an integer will result in an error in the future\n",
      "/home/tivo/anaconda3/lib/python3.5/site-packages/ipykernel/__main__.py:166: VisibleDeprecationWarning: using a non-integer number instead of an integer will result in an error in the future\n",
      "/home/tivo/anaconda3/lib/python3.5/site-packages/ipykernel/__main__.py:177: VisibleDeprecationWarning: using a non-integer number instead of an integer will result in an error in the future\n",
      "/home/tivo/anaconda3/lib/python3.5/site-packages/ipykernel/__main__.py:181: VisibleDeprecationWarning: using a non-integer number instead of an integer will result in an error in the future\n"
     ]
    },
    {
     "name": "stdout",
     "output_type": "stream",
     "text": [
      "application/octet-stream\n",
      "FileName: /home/tivo/Desktop/songs/mp3/YWTL.wav \n"
     ]
    },
    {
     "name": "stderr",
     "output_type": "stream",
     "text": [
      "/home/tivo/anaconda3/lib/python3.5/site-packages/ipykernel/__main__.py:301: VisibleDeprecationWarning: using a non-integer number instead of an integer will result in an error in the future\n",
      "/home/tivo/anaconda3/lib/python3.5/site-packages/ipykernel/__main__.py:127: VisibleDeprecationWarning: using a non-integer number instead of an integer will result in an error in the future\n",
      "/home/tivo/anaconda3/lib/python3.5/site-packages/ipykernel/__main__.py:152: VisibleDeprecationWarning: using a non-integer number instead of an integer will result in an error in the future\n",
      "/home/tivo/anaconda3/lib/python3.5/site-packages/ipykernel/__main__.py:166: VisibleDeprecationWarning: using a non-integer number instead of an integer will result in an error in the future\n",
      "/home/tivo/anaconda3/lib/python3.5/site-packages/ipykernel/__main__.py:177: VisibleDeprecationWarning: using a non-integer number instead of an integer will result in an error in the future\n",
      "/home/tivo/anaconda3/lib/python3.5/site-packages/ipykernel/__main__.py:181: VisibleDeprecationWarning: using a non-integer number instead of an integer will result in an error in the future\n"
     ]
    },
    {
     "name": "stdout",
     "output_type": "stream",
     "text": [
      "application/octet-stream\n",
      "FileName: /home/tivo/Desktop/songs/mp3/ETHT.wav \n"
     ]
    },
    {
     "name": "stderr",
     "output_type": "stream",
     "text": [
      "/home/tivo/anaconda3/lib/python3.5/site-packages/ipykernel/__main__.py:301: VisibleDeprecationWarning: using a non-integer number instead of an integer will result in an error in the future\n",
      "/home/tivo/anaconda3/lib/python3.5/site-packages/ipykernel/__main__.py:127: VisibleDeprecationWarning: using a non-integer number instead of an integer will result in an error in the future\n",
      "/home/tivo/anaconda3/lib/python3.5/site-packages/ipykernel/__main__.py:152: VisibleDeprecationWarning: using a non-integer number instead of an integer will result in an error in the future\n",
      "/home/tivo/anaconda3/lib/python3.5/site-packages/ipykernel/__main__.py:166: VisibleDeprecationWarning: using a non-integer number instead of an integer will result in an error in the future\n",
      "/home/tivo/anaconda3/lib/python3.5/site-packages/ipykernel/__main__.py:177: VisibleDeprecationWarning: using a non-integer number instead of an integer will result in an error in the future\n",
      "/home/tivo/anaconda3/lib/python3.5/site-packages/ipykernel/__main__.py:181: VisibleDeprecationWarning: using a non-integer number instead of an integer will result in an error in the future\n"
     ]
    },
    {
     "name": "stdout",
     "output_type": "stream",
     "text": [
      "application/octet-stream\n",
      "FileName: /home/tivo/Desktop/songs/mp3/YPXJ.wav \n"
     ]
    },
    {
     "name": "stderr",
     "output_type": "stream",
     "text": [
      "/home/tivo/anaconda3/lib/python3.5/site-packages/ipykernel/__main__.py:301: VisibleDeprecationWarning: using a non-integer number instead of an integer will result in an error in the future\n",
      "/home/tivo/anaconda3/lib/python3.5/site-packages/ipykernel/__main__.py:127: VisibleDeprecationWarning: using a non-integer number instead of an integer will result in an error in the future\n",
      "/home/tivo/anaconda3/lib/python3.5/site-packages/ipykernel/__main__.py:152: VisibleDeprecationWarning: using a non-integer number instead of an integer will result in an error in the future\n",
      "/home/tivo/anaconda3/lib/python3.5/site-packages/ipykernel/__main__.py:166: VisibleDeprecationWarning: using a non-integer number instead of an integer will result in an error in the future\n",
      "/home/tivo/anaconda3/lib/python3.5/site-packages/ipykernel/__main__.py:177: VisibleDeprecationWarning: using a non-integer number instead of an integer will result in an error in the future\n",
      "/home/tivo/anaconda3/lib/python3.5/site-packages/ipykernel/__main__.py:181: VisibleDeprecationWarning: using a non-integer number instead of an integer will result in an error in the future\n"
     ]
    },
    {
     "name": "stdout",
     "output_type": "stream",
     "text": [
      "application/octet-stream\n",
      "FileName: /home/tivo/Desktop/songs/mp3/BATP.wav \n"
     ]
    },
    {
     "name": "stderr",
     "output_type": "stream",
     "text": [
      "/home/tivo/anaconda3/lib/python3.5/site-packages/ipykernel/__main__.py:301: VisibleDeprecationWarning: using a non-integer number instead of an integer will result in an error in the future\n",
      "/home/tivo/anaconda3/lib/python3.5/site-packages/ipykernel/__main__.py:127: VisibleDeprecationWarning: using a non-integer number instead of an integer will result in an error in the future\n",
      "/home/tivo/anaconda3/lib/python3.5/site-packages/ipykernel/__main__.py:152: VisibleDeprecationWarning: using a non-integer number instead of an integer will result in an error in the future\n",
      "/home/tivo/anaconda3/lib/python3.5/site-packages/ipykernel/__main__.py:166: VisibleDeprecationWarning: using a non-integer number instead of an integer will result in an error in the future\n",
      "/home/tivo/anaconda3/lib/python3.5/site-packages/ipykernel/__main__.py:177: VisibleDeprecationWarning: using a non-integer number instead of an integer will result in an error in the future\n",
      "/home/tivo/anaconda3/lib/python3.5/site-packages/ipykernel/__main__.py:181: VisibleDeprecationWarning: using a non-integer number instead of an integer will result in an error in the future\n"
     ]
    },
    {
     "name": "stdout",
     "output_type": "stream",
     "text": [
      "application/octet-stream\n",
      "FileName: /home/tivo/Desktop/songs/mp3/USXX.wav \n"
     ]
    },
    {
     "name": "stderr",
     "output_type": "stream",
     "text": [
      "/home/tivo/anaconda3/lib/python3.5/site-packages/ipykernel/__main__.py:301: VisibleDeprecationWarning: using a non-integer number instead of an integer will result in an error in the future\n",
      "/home/tivo/anaconda3/lib/python3.5/site-packages/ipykernel/__main__.py:127: VisibleDeprecationWarning: using a non-integer number instead of an integer will result in an error in the future\n",
      "/home/tivo/anaconda3/lib/python3.5/site-packages/ipykernel/__main__.py:152: VisibleDeprecationWarning: using a non-integer number instead of an integer will result in an error in the future\n",
      "/home/tivo/anaconda3/lib/python3.5/site-packages/ipykernel/__main__.py:166: VisibleDeprecationWarning: using a non-integer number instead of an integer will result in an error in the future\n",
      "/home/tivo/anaconda3/lib/python3.5/site-packages/ipykernel/__main__.py:177: VisibleDeprecationWarning: using a non-integer number instead of an integer will result in an error in the future\n",
      "/home/tivo/anaconda3/lib/python3.5/site-packages/ipykernel/__main__.py:181: VisibleDeprecationWarning: using a non-integer number instead of an integer will result in an error in the future\n"
     ]
    },
    {
     "name": "stdout",
     "output_type": "stream",
     "text": [
      "application/octet-stream\n",
      "FileName: /home/tivo/Desktop/songs/mp3/SDLQ.wav \n"
     ]
    },
    {
     "name": "stderr",
     "output_type": "stream",
     "text": [
      "/home/tivo/anaconda3/lib/python3.5/site-packages/ipykernel/__main__.py:301: VisibleDeprecationWarning: using a non-integer number instead of an integer will result in an error in the future\n",
      "/home/tivo/anaconda3/lib/python3.5/site-packages/ipykernel/__main__.py:127: VisibleDeprecationWarning: using a non-integer number instead of an integer will result in an error in the future\n",
      "/home/tivo/anaconda3/lib/python3.5/site-packages/ipykernel/__main__.py:152: VisibleDeprecationWarning: using a non-integer number instead of an integer will result in an error in the future\n",
      "/home/tivo/anaconda3/lib/python3.5/site-packages/ipykernel/__main__.py:166: VisibleDeprecationWarning: using a non-integer number instead of an integer will result in an error in the future\n",
      "/home/tivo/anaconda3/lib/python3.5/site-packages/ipykernel/__main__.py:177: VisibleDeprecationWarning: using a non-integer number instead of an integer will result in an error in the future\n",
      "/home/tivo/anaconda3/lib/python3.5/site-packages/ipykernel/__main__.py:181: VisibleDeprecationWarning: using a non-integer number instead of an integer will result in an error in the future\n"
     ]
    },
    {
     "name": "stdout",
     "output_type": "stream",
     "text": [
      "application/octet-stream\n",
      "FileName: /home/tivo/Desktop/songs/mp3/IQOU.wav \n"
     ]
    },
    {
     "name": "stderr",
     "output_type": "stream",
     "text": [
      "/home/tivo/anaconda3/lib/python3.5/site-packages/ipykernel/__main__.py:301: VisibleDeprecationWarning: using a non-integer number instead of an integer will result in an error in the future\n",
      "/home/tivo/anaconda3/lib/python3.5/site-packages/ipykernel/__main__.py:127: VisibleDeprecationWarning: using a non-integer number instead of an integer will result in an error in the future\n",
      "/home/tivo/anaconda3/lib/python3.5/site-packages/ipykernel/__main__.py:152: VisibleDeprecationWarning: using a non-integer number instead of an integer will result in an error in the future\n",
      "/home/tivo/anaconda3/lib/python3.5/site-packages/ipykernel/__main__.py:166: VisibleDeprecationWarning: using a non-integer number instead of an integer will result in an error in the future\n",
      "/home/tivo/anaconda3/lib/python3.5/site-packages/ipykernel/__main__.py:177: VisibleDeprecationWarning: using a non-integer number instead of an integer will result in an error in the future\n",
      "/home/tivo/anaconda3/lib/python3.5/site-packages/ipykernel/__main__.py:181: VisibleDeprecationWarning: using a non-integer number instead of an integer will result in an error in the future\n"
     ]
    },
    {
     "name": "stdout",
     "output_type": "stream",
     "text": [
      "application/octet-stream\n",
      "FileName: /home/tivo/Desktop/songs/mp3/FGAW.wav \n"
     ]
    },
    {
     "name": "stderr",
     "output_type": "stream",
     "text": [
      "/home/tivo/anaconda3/lib/python3.5/site-packages/ipykernel/__main__.py:301: VisibleDeprecationWarning: using a non-integer number instead of an integer will result in an error in the future\n",
      "/home/tivo/anaconda3/lib/python3.5/site-packages/ipykernel/__main__.py:127: VisibleDeprecationWarning: using a non-integer number instead of an integer will result in an error in the future\n",
      "/home/tivo/anaconda3/lib/python3.5/site-packages/ipykernel/__main__.py:152: VisibleDeprecationWarning: using a non-integer number instead of an integer will result in an error in the future\n",
      "/home/tivo/anaconda3/lib/python3.5/site-packages/ipykernel/__main__.py:166: VisibleDeprecationWarning: using a non-integer number instead of an integer will result in an error in the future\n",
      "/home/tivo/anaconda3/lib/python3.5/site-packages/ipykernel/__main__.py:177: VisibleDeprecationWarning: using a non-integer number instead of an integer will result in an error in the future\n",
      "/home/tivo/anaconda3/lib/python3.5/site-packages/ipykernel/__main__.py:181: VisibleDeprecationWarning: using a non-integer number instead of an integer will result in an error in the future\n"
     ]
    },
    {
     "name": "stdout",
     "output_type": "stream",
     "text": [
      "application/octet-stream\n",
      "FileName: /home/tivo/Desktop/songs/mp3/NWHA.wav \n"
     ]
    },
    {
     "name": "stderr",
     "output_type": "stream",
     "text": [
      "/home/tivo/anaconda3/lib/python3.5/site-packages/ipykernel/__main__.py:301: VisibleDeprecationWarning: using a non-integer number instead of an integer will result in an error in the future\n",
      "/home/tivo/anaconda3/lib/python3.5/site-packages/ipykernel/__main__.py:127: VisibleDeprecationWarning: using a non-integer number instead of an integer will result in an error in the future\n",
      "/home/tivo/anaconda3/lib/python3.5/site-packages/ipykernel/__main__.py:152: VisibleDeprecationWarning: using a non-integer number instead of an integer will result in an error in the future\n",
      "/home/tivo/anaconda3/lib/python3.5/site-packages/ipykernel/__main__.py:166: VisibleDeprecationWarning: using a non-integer number instead of an integer will result in an error in the future\n",
      "/home/tivo/anaconda3/lib/python3.5/site-packages/ipykernel/__main__.py:177: VisibleDeprecationWarning: using a non-integer number instead of an integer will result in an error in the future\n",
      "/home/tivo/anaconda3/lib/python3.5/site-packages/ipykernel/__main__.py:181: VisibleDeprecationWarning: using a non-integer number instead of an integer will result in an error in the future\n"
     ]
    },
    {
     "name": "stdout",
     "output_type": "stream",
     "text": [
      "audio/mpeg\n",
      "FileName: /home/tivo/Desktop/songs/mp3/RRIQ.wav \n"
     ]
    },
    {
     "name": "stderr",
     "output_type": "stream",
     "text": [
      "/home/tivo/anaconda3/lib/python3.5/site-packages/ipykernel/__main__.py:301: VisibleDeprecationWarning: using a non-integer number instead of an integer will result in an error in the future\n",
      "/home/tivo/anaconda3/lib/python3.5/site-packages/ipykernel/__main__.py:127: VisibleDeprecationWarning: using a non-integer number instead of an integer will result in an error in the future\n",
      "/home/tivo/anaconda3/lib/python3.5/site-packages/ipykernel/__main__.py:152: VisibleDeprecationWarning: using a non-integer number instead of an integer will result in an error in the future\n",
      "/home/tivo/anaconda3/lib/python3.5/site-packages/ipykernel/__main__.py:166: VisibleDeprecationWarning: using a non-integer number instead of an integer will result in an error in the future\n",
      "/home/tivo/anaconda3/lib/python3.5/site-packages/ipykernel/__main__.py:177: VisibleDeprecationWarning: using a non-integer number instead of an integer will result in an error in the future\n",
      "/home/tivo/anaconda3/lib/python3.5/site-packages/ipykernel/__main__.py:181: VisibleDeprecationWarning: using a non-integer number instead of an integer will result in an error in the future\n"
     ]
    },
    {
     "name": "stdout",
     "output_type": "stream",
     "text": [
      "application/octet-stream\n",
      "FileName: /home/tivo/Desktop/songs/mp3/OWPN.wav \n"
     ]
    },
    {
     "name": "stderr",
     "output_type": "stream",
     "text": [
      "/home/tivo/anaconda3/lib/python3.5/site-packages/ipykernel/__main__.py:301: VisibleDeprecationWarning: using a non-integer number instead of an integer will result in an error in the future\n",
      "/home/tivo/anaconda3/lib/python3.5/site-packages/ipykernel/__main__.py:127: VisibleDeprecationWarning: using a non-integer number instead of an integer will result in an error in the future\n",
      "/home/tivo/anaconda3/lib/python3.5/site-packages/ipykernel/__main__.py:152: VisibleDeprecationWarning: using a non-integer number instead of an integer will result in an error in the future\n",
      "/home/tivo/anaconda3/lib/python3.5/site-packages/ipykernel/__main__.py:166: VisibleDeprecationWarning: using a non-integer number instead of an integer will result in an error in the future\n",
      "/home/tivo/anaconda3/lib/python3.5/site-packages/ipykernel/__main__.py:177: VisibleDeprecationWarning: using a non-integer number instead of an integer will result in an error in the future\n",
      "/home/tivo/anaconda3/lib/python3.5/site-packages/ipykernel/__main__.py:181: VisibleDeprecationWarning: using a non-integer number instead of an integer will result in an error in the future\n"
     ]
    },
    {
     "name": "stdout",
     "output_type": "stream",
     "text": [
      "application/octet-stream\n",
      "FileName: /home/tivo/Desktop/songs/mp3/OTLL.wav \n"
     ]
    },
    {
     "name": "stderr",
     "output_type": "stream",
     "text": [
      "/home/tivo/anaconda3/lib/python3.5/site-packages/ipykernel/__main__.py:301: VisibleDeprecationWarning: using a non-integer number instead of an integer will result in an error in the future\n",
      "/home/tivo/anaconda3/lib/python3.5/site-packages/ipykernel/__main__.py:127: VisibleDeprecationWarning: using a non-integer number instead of an integer will result in an error in the future\n",
      "/home/tivo/anaconda3/lib/python3.5/site-packages/ipykernel/__main__.py:152: VisibleDeprecationWarning: using a non-integer number instead of an integer will result in an error in the future\n",
      "/home/tivo/anaconda3/lib/python3.5/site-packages/ipykernel/__main__.py:166: VisibleDeprecationWarning: using a non-integer number instead of an integer will result in an error in the future\n",
      "/home/tivo/anaconda3/lib/python3.5/site-packages/ipykernel/__main__.py:177: VisibleDeprecationWarning: using a non-integer number instead of an integer will result in an error in the future\n",
      "/home/tivo/anaconda3/lib/python3.5/site-packages/ipykernel/__main__.py:181: VisibleDeprecationWarning: using a non-integer number instead of an integer will result in an error in the future\n"
     ]
    },
    {
     "name": "stdout",
     "output_type": "stream",
     "text": [
      "application/octet-stream\n",
      "FileName: /home/tivo/Desktop/songs/mp3/TQTY.wav \n"
     ]
    },
    {
     "name": "stderr",
     "output_type": "stream",
     "text": [
      "/home/tivo/anaconda3/lib/python3.5/site-packages/ipykernel/__main__.py:301: VisibleDeprecationWarning: using a non-integer number instead of an integer will result in an error in the future\n",
      "/home/tivo/anaconda3/lib/python3.5/site-packages/ipykernel/__main__.py:127: VisibleDeprecationWarning: using a non-integer number instead of an integer will result in an error in the future\n",
      "/home/tivo/anaconda3/lib/python3.5/site-packages/ipykernel/__main__.py:152: VisibleDeprecationWarning: using a non-integer number instead of an integer will result in an error in the future\n",
      "/home/tivo/anaconda3/lib/python3.5/site-packages/ipykernel/__main__.py:166: VisibleDeprecationWarning: using a non-integer number instead of an integer will result in an error in the future\n",
      "/home/tivo/anaconda3/lib/python3.5/site-packages/ipykernel/__main__.py:177: VisibleDeprecationWarning: using a non-integer number instead of an integer will result in an error in the future\n",
      "/home/tivo/anaconda3/lib/python3.5/site-packages/ipykernel/__main__.py:181: VisibleDeprecationWarning: using a non-integer number instead of an integer will result in an error in the future\n"
     ]
    },
    {
     "name": "stdout",
     "output_type": "stream",
     "text": [
      "application/octet-stream\n",
      "FileName: /home/tivo/Desktop/songs/mp3/CLMK.wav \n"
     ]
    },
    {
     "name": "stderr",
     "output_type": "stream",
     "text": [
      "/home/tivo/anaconda3/lib/python3.5/site-packages/ipykernel/__main__.py:301: VisibleDeprecationWarning: using a non-integer number instead of an integer will result in an error in the future\n",
      "/home/tivo/anaconda3/lib/python3.5/site-packages/ipykernel/__main__.py:127: VisibleDeprecationWarning: using a non-integer number instead of an integer will result in an error in the future\n",
      "/home/tivo/anaconda3/lib/python3.5/site-packages/ipykernel/__main__.py:152: VisibleDeprecationWarning: using a non-integer number instead of an integer will result in an error in the future\n",
      "/home/tivo/anaconda3/lib/python3.5/site-packages/ipykernel/__main__.py:166: VisibleDeprecationWarning: using a non-integer number instead of an integer will result in an error in the future\n",
      "/home/tivo/anaconda3/lib/python3.5/site-packages/ipykernel/__main__.py:177: VisibleDeprecationWarning: using a non-integer number instead of an integer will result in an error in the future\n",
      "/home/tivo/anaconda3/lib/python3.5/site-packages/ipykernel/__main__.py:181: VisibleDeprecationWarning: using a non-integer number instead of an integer will result in an error in the future\n"
     ]
    },
    {
     "name": "stdout",
     "output_type": "stream",
     "text": [
      "audio/mpeg\n",
      "FileName: /home/tivo/Desktop/songs/mp3/DINA.wav \n"
     ]
    },
    {
     "name": "stderr",
     "output_type": "stream",
     "text": [
      "/home/tivo/anaconda3/lib/python3.5/site-packages/ipykernel/__main__.py:301: VisibleDeprecationWarning: using a non-integer number instead of an integer will result in an error in the future\n",
      "/home/tivo/anaconda3/lib/python3.5/site-packages/ipykernel/__main__.py:127: VisibleDeprecationWarning: using a non-integer number instead of an integer will result in an error in the future\n",
      "/home/tivo/anaconda3/lib/python3.5/site-packages/ipykernel/__main__.py:152: VisibleDeprecationWarning: using a non-integer number instead of an integer will result in an error in the future\n",
      "/home/tivo/anaconda3/lib/python3.5/site-packages/ipykernel/__main__.py:166: VisibleDeprecationWarning: using a non-integer number instead of an integer will result in an error in the future\n",
      "/home/tivo/anaconda3/lib/python3.5/site-packages/ipykernel/__main__.py:177: VisibleDeprecationWarning: using a non-integer number instead of an integer will result in an error in the future\n",
      "/home/tivo/anaconda3/lib/python3.5/site-packages/ipykernel/__main__.py:181: VisibleDeprecationWarning: using a non-integer number instead of an integer will result in an error in the future\n"
     ]
    },
    {
     "name": "stdout",
     "output_type": "stream",
     "text": [
      "audio/mpeg\n",
      "FileName: /home/tivo/Desktop/songs/mp3/BZIG.wav \n"
     ]
    },
    {
     "name": "stderr",
     "output_type": "stream",
     "text": [
      "/home/tivo/anaconda3/lib/python3.5/site-packages/ipykernel/__main__.py:301: VisibleDeprecationWarning: using a non-integer number instead of an integer will result in an error in the future\n",
      "/home/tivo/anaconda3/lib/python3.5/site-packages/ipykernel/__main__.py:127: VisibleDeprecationWarning: using a non-integer number instead of an integer will result in an error in the future\n",
      "/home/tivo/anaconda3/lib/python3.5/site-packages/ipykernel/__main__.py:152: VisibleDeprecationWarning: using a non-integer number instead of an integer will result in an error in the future\n",
      "/home/tivo/anaconda3/lib/python3.5/site-packages/ipykernel/__main__.py:166: VisibleDeprecationWarning: using a non-integer number instead of an integer will result in an error in the future\n",
      "/home/tivo/anaconda3/lib/python3.5/site-packages/ipykernel/__main__.py:177: VisibleDeprecationWarning: using a non-integer number instead of an integer will result in an error in the future\n",
      "/home/tivo/anaconda3/lib/python3.5/site-packages/ipykernel/__main__.py:181: VisibleDeprecationWarning: using a non-integer number instead of an integer will result in an error in the future\n"
     ]
    },
    {
     "name": "stdout",
     "output_type": "stream",
     "text": [
      "application/octet-stream\n",
      "FileName: /home/tivo/Desktop/songs/mp3/BDCK.wav \n"
     ]
    },
    {
     "name": "stderr",
     "output_type": "stream",
     "text": [
      "/home/tivo/anaconda3/lib/python3.5/site-packages/ipykernel/__main__.py:301: VisibleDeprecationWarning: using a non-integer number instead of an integer will result in an error in the future\n",
      "/home/tivo/anaconda3/lib/python3.5/site-packages/ipykernel/__main__.py:127: VisibleDeprecationWarning: using a non-integer number instead of an integer will result in an error in the future\n",
      "/home/tivo/anaconda3/lib/python3.5/site-packages/ipykernel/__main__.py:152: VisibleDeprecationWarning: using a non-integer number instead of an integer will result in an error in the future\n",
      "/home/tivo/anaconda3/lib/python3.5/site-packages/ipykernel/__main__.py:166: VisibleDeprecationWarning: using a non-integer number instead of an integer will result in an error in the future\n",
      "/home/tivo/anaconda3/lib/python3.5/site-packages/ipykernel/__main__.py:177: VisibleDeprecationWarning: using a non-integer number instead of an integer will result in an error in the future\n",
      "/home/tivo/anaconda3/lib/python3.5/site-packages/ipykernel/__main__.py:181: VisibleDeprecationWarning: using a non-integer number instead of an integer will result in an error in the future\n"
     ]
    },
    {
     "name": "stdout",
     "output_type": "stream",
     "text": [
      "application/octet-stream\n",
      "FileName: /home/tivo/Desktop/songs/mp3/WOIQ.wav \n"
     ]
    },
    {
     "name": "stderr",
     "output_type": "stream",
     "text": [
      "/home/tivo/anaconda3/lib/python3.5/site-packages/ipykernel/__main__.py:301: VisibleDeprecationWarning: using a non-integer number instead of an integer will result in an error in the future\n",
      "/home/tivo/anaconda3/lib/python3.5/site-packages/ipykernel/__main__.py:127: VisibleDeprecationWarning: using a non-integer number instead of an integer will result in an error in the future\n",
      "/home/tivo/anaconda3/lib/python3.5/site-packages/ipykernel/__main__.py:152: VisibleDeprecationWarning: using a non-integer number instead of an integer will result in an error in the future\n",
      "/home/tivo/anaconda3/lib/python3.5/site-packages/ipykernel/__main__.py:166: VisibleDeprecationWarning: using a non-integer number instead of an integer will result in an error in the future\n",
      "/home/tivo/anaconda3/lib/python3.5/site-packages/ipykernel/__main__.py:177: VisibleDeprecationWarning: using a non-integer number instead of an integer will result in an error in the future\n",
      "/home/tivo/anaconda3/lib/python3.5/site-packages/ipykernel/__main__.py:181: VisibleDeprecationWarning: using a non-integer number instead of an integer will result in an error in the future\n"
     ]
    },
    {
     "name": "stdout",
     "output_type": "stream",
     "text": [
      "application/octet-stream\n",
      "FileName: /home/tivo/Desktop/songs/mp3/EYVQ.wav \n"
     ]
    },
    {
     "name": "stderr",
     "output_type": "stream",
     "text": [
      "/home/tivo/anaconda3/lib/python3.5/site-packages/ipykernel/__main__.py:301: VisibleDeprecationWarning: using a non-integer number instead of an integer will result in an error in the future\n",
      "/home/tivo/anaconda3/lib/python3.5/site-packages/ipykernel/__main__.py:127: VisibleDeprecationWarning: using a non-integer number instead of an integer will result in an error in the future\n",
      "/home/tivo/anaconda3/lib/python3.5/site-packages/ipykernel/__main__.py:152: VisibleDeprecationWarning: using a non-integer number instead of an integer will result in an error in the future\n",
      "/home/tivo/anaconda3/lib/python3.5/site-packages/ipykernel/__main__.py:166: VisibleDeprecationWarning: using a non-integer number instead of an integer will result in an error in the future\n",
      "/home/tivo/anaconda3/lib/python3.5/site-packages/ipykernel/__main__.py:177: VisibleDeprecationWarning: using a non-integer number instead of an integer will result in an error in the future\n",
      "/home/tivo/anaconda3/lib/python3.5/site-packages/ipykernel/__main__.py:181: VisibleDeprecationWarning: using a non-integer number instead of an integer will result in an error in the future\n"
     ]
    },
    {
     "name": "stdout",
     "output_type": "stream",
     "text": [
      "application/octet-stream\n",
      "FileName: /home/tivo/Desktop/songs/mp3/PSRW.wav \n"
     ]
    },
    {
     "name": "stderr",
     "output_type": "stream",
     "text": [
      "/home/tivo/anaconda3/lib/python3.5/site-packages/ipykernel/__main__.py:301: VisibleDeprecationWarning: using a non-integer number instead of an integer will result in an error in the future\n",
      "/home/tivo/anaconda3/lib/python3.5/site-packages/ipykernel/__main__.py:127: VisibleDeprecationWarning: using a non-integer number instead of an integer will result in an error in the future\n",
      "/home/tivo/anaconda3/lib/python3.5/site-packages/ipykernel/__main__.py:152: VisibleDeprecationWarning: using a non-integer number instead of an integer will result in an error in the future\n",
      "/home/tivo/anaconda3/lib/python3.5/site-packages/ipykernel/__main__.py:166: VisibleDeprecationWarning: using a non-integer number instead of an integer will result in an error in the future\n",
      "/home/tivo/anaconda3/lib/python3.5/site-packages/ipykernel/__main__.py:177: VisibleDeprecationWarning: using a non-integer number instead of an integer will result in an error in the future\n",
      "/home/tivo/anaconda3/lib/python3.5/site-packages/ipykernel/__main__.py:181: VisibleDeprecationWarning: using a non-integer number instead of an integer will result in an error in the future\n"
     ]
    },
    {
     "name": "stdout",
     "output_type": "stream",
     "text": [
      "application/octet-stream\n",
      "FileName: /home/tivo/Desktop/songs/mp3/BHUB.wav \n"
     ]
    },
    {
     "name": "stderr",
     "output_type": "stream",
     "text": [
      "/home/tivo/anaconda3/lib/python3.5/site-packages/ipykernel/__main__.py:301: VisibleDeprecationWarning: using a non-integer number instead of an integer will result in an error in the future\n",
      "/home/tivo/anaconda3/lib/python3.5/site-packages/ipykernel/__main__.py:127: VisibleDeprecationWarning: using a non-integer number instead of an integer will result in an error in the future\n",
      "/home/tivo/anaconda3/lib/python3.5/site-packages/ipykernel/__main__.py:152: VisibleDeprecationWarning: using a non-integer number instead of an integer will result in an error in the future\n",
      "/home/tivo/anaconda3/lib/python3.5/site-packages/ipykernel/__main__.py:166: VisibleDeprecationWarning: using a non-integer number instead of an integer will result in an error in the future\n",
      "/home/tivo/anaconda3/lib/python3.5/site-packages/ipykernel/__main__.py:177: VisibleDeprecationWarning: using a non-integer number instead of an integer will result in an error in the future\n",
      "/home/tivo/anaconda3/lib/python3.5/site-packages/ipykernel/__main__.py:181: VisibleDeprecationWarning: using a non-integer number instead of an integer will result in an error in the future\n"
     ]
    },
    {
     "name": "stdout",
     "output_type": "stream",
     "text": [
      "application/octet-stream\n",
      "FileName: /home/tivo/Desktop/songs/mp3/JSFC.wav \n"
     ]
    },
    {
     "name": "stderr",
     "output_type": "stream",
     "text": [
      "/home/tivo/anaconda3/lib/python3.5/site-packages/ipykernel/__main__.py:301: VisibleDeprecationWarning: using a non-integer number instead of an integer will result in an error in the future\n",
      "/home/tivo/anaconda3/lib/python3.5/site-packages/ipykernel/__main__.py:127: VisibleDeprecationWarning: using a non-integer number instead of an integer will result in an error in the future\n",
      "/home/tivo/anaconda3/lib/python3.5/site-packages/ipykernel/__main__.py:152: VisibleDeprecationWarning: using a non-integer number instead of an integer will result in an error in the future\n",
      "/home/tivo/anaconda3/lib/python3.5/site-packages/ipykernel/__main__.py:166: VisibleDeprecationWarning: using a non-integer number instead of an integer will result in an error in the future\n",
      "/home/tivo/anaconda3/lib/python3.5/site-packages/ipykernel/__main__.py:177: VisibleDeprecationWarning: using a non-integer number instead of an integer will result in an error in the future\n",
      "/home/tivo/anaconda3/lib/python3.5/site-packages/ipykernel/__main__.py:181: VisibleDeprecationWarning: using a non-integer number instead of an integer will result in an error in the future\n"
     ]
    },
    {
     "name": "stdout",
     "output_type": "stream",
     "text": [
      "application/octet-stream\n",
      "FileName: /home/tivo/Desktop/songs/mp3/ZDCO.wav \n"
     ]
    },
    {
     "name": "stderr",
     "output_type": "stream",
     "text": [
      "/home/tivo/anaconda3/lib/python3.5/site-packages/ipykernel/__main__.py:301: VisibleDeprecationWarning: using a non-integer number instead of an integer will result in an error in the future\n",
      "/home/tivo/anaconda3/lib/python3.5/site-packages/ipykernel/__main__.py:127: VisibleDeprecationWarning: using a non-integer number instead of an integer will result in an error in the future\n",
      "/home/tivo/anaconda3/lib/python3.5/site-packages/ipykernel/__main__.py:152: VisibleDeprecationWarning: using a non-integer number instead of an integer will result in an error in the future\n",
      "/home/tivo/anaconda3/lib/python3.5/site-packages/ipykernel/__main__.py:166: VisibleDeprecationWarning: using a non-integer number instead of an integer will result in an error in the future\n",
      "/home/tivo/anaconda3/lib/python3.5/site-packages/ipykernel/__main__.py:177: VisibleDeprecationWarning: using a non-integer number instead of an integer will result in an error in the future\n",
      "/home/tivo/anaconda3/lib/python3.5/site-packages/ipykernel/__main__.py:181: VisibleDeprecationWarning: using a non-integer number instead of an integer will result in an error in the future\n"
     ]
    },
    {
     "name": "stdout",
     "output_type": "stream",
     "text": [
      "application/octet-stream\n",
      "FileName: /home/tivo/Desktop/songs/mp3/XZEZ.wav \n"
     ]
    },
    {
     "name": "stderr",
     "output_type": "stream",
     "text": [
      "/home/tivo/anaconda3/lib/python3.5/site-packages/ipykernel/__main__.py:301: VisibleDeprecationWarning: using a non-integer number instead of an integer will result in an error in the future\n",
      "/home/tivo/anaconda3/lib/python3.5/site-packages/ipykernel/__main__.py:127: VisibleDeprecationWarning: using a non-integer number instead of an integer will result in an error in the future\n",
      "/home/tivo/anaconda3/lib/python3.5/site-packages/ipykernel/__main__.py:152: VisibleDeprecationWarning: using a non-integer number instead of an integer will result in an error in the future\n",
      "/home/tivo/anaconda3/lib/python3.5/site-packages/ipykernel/__main__.py:166: VisibleDeprecationWarning: using a non-integer number instead of an integer will result in an error in the future\n",
      "/home/tivo/anaconda3/lib/python3.5/site-packages/ipykernel/__main__.py:177: VisibleDeprecationWarning: using a non-integer number instead of an integer will result in an error in the future\n",
      "/home/tivo/anaconda3/lib/python3.5/site-packages/ipykernel/__main__.py:181: VisibleDeprecationWarning: using a non-integer number instead of an integer will result in an error in the future\n"
     ]
    },
    {
     "name": "stdout",
     "output_type": "stream",
     "text": [
      "application/octet-stream\n",
      "FileName: /home/tivo/Desktop/songs/mp3/QNMV.wav \n"
     ]
    },
    {
     "name": "stderr",
     "output_type": "stream",
     "text": [
      "/home/tivo/anaconda3/lib/python3.5/site-packages/ipykernel/__main__.py:301: VisibleDeprecationWarning: using a non-integer number instead of an integer will result in an error in the future\n",
      "/home/tivo/anaconda3/lib/python3.5/site-packages/ipykernel/__main__.py:127: VisibleDeprecationWarning: using a non-integer number instead of an integer will result in an error in the future\n",
      "/home/tivo/anaconda3/lib/python3.5/site-packages/ipykernel/__main__.py:152: VisibleDeprecationWarning: using a non-integer number instead of an integer will result in an error in the future\n",
      "/home/tivo/anaconda3/lib/python3.5/site-packages/ipykernel/__main__.py:166: VisibleDeprecationWarning: using a non-integer number instead of an integer will result in an error in the future\n",
      "/home/tivo/anaconda3/lib/python3.5/site-packages/ipykernel/__main__.py:177: VisibleDeprecationWarning: using a non-integer number instead of an integer will result in an error in the future\n",
      "/home/tivo/anaconda3/lib/python3.5/site-packages/ipykernel/__main__.py:181: VisibleDeprecationWarning: using a non-integer number instead of an integer will result in an error in the future\n"
     ]
    },
    {
     "name": "stdout",
     "output_type": "stream",
     "text": [
      "application/octet-stream\n",
      "FileName: /home/tivo/Desktop/songs/mp3/VYOX.wav \n"
     ]
    },
    {
     "name": "stderr",
     "output_type": "stream",
     "text": [
      "/home/tivo/anaconda3/lib/python3.5/site-packages/ipykernel/__main__.py:301: VisibleDeprecationWarning: using a non-integer number instead of an integer will result in an error in the future\n",
      "/home/tivo/anaconda3/lib/python3.5/site-packages/ipykernel/__main__.py:127: VisibleDeprecationWarning: using a non-integer number instead of an integer will result in an error in the future\n",
      "/home/tivo/anaconda3/lib/python3.5/site-packages/ipykernel/__main__.py:152: VisibleDeprecationWarning: using a non-integer number instead of an integer will result in an error in the future\n",
      "/home/tivo/anaconda3/lib/python3.5/site-packages/ipykernel/__main__.py:166: VisibleDeprecationWarning: using a non-integer number instead of an integer will result in an error in the future\n",
      "/home/tivo/anaconda3/lib/python3.5/site-packages/ipykernel/__main__.py:177: VisibleDeprecationWarning: using a non-integer number instead of an integer will result in an error in the future\n",
      "/home/tivo/anaconda3/lib/python3.5/site-packages/ipykernel/__main__.py:181: VisibleDeprecationWarning: using a non-integer number instead of an integer will result in an error in the future\n"
     ]
    },
    {
     "name": "stdout",
     "output_type": "stream",
     "text": [
      "application/octet-stream\n",
      "FileName: /home/tivo/Desktop/songs/mp3/RBLB.wav \n"
     ]
    },
    {
     "name": "stderr",
     "output_type": "stream",
     "text": [
      "/home/tivo/anaconda3/lib/python3.5/site-packages/ipykernel/__main__.py:301: VisibleDeprecationWarning: using a non-integer number instead of an integer will result in an error in the future\n",
      "/home/tivo/anaconda3/lib/python3.5/site-packages/ipykernel/__main__.py:127: VisibleDeprecationWarning: using a non-integer number instead of an integer will result in an error in the future\n",
      "/home/tivo/anaconda3/lib/python3.5/site-packages/ipykernel/__main__.py:152: VisibleDeprecationWarning: using a non-integer number instead of an integer will result in an error in the future\n",
      "/home/tivo/anaconda3/lib/python3.5/site-packages/ipykernel/__main__.py:166: VisibleDeprecationWarning: using a non-integer number instead of an integer will result in an error in the future\n",
      "/home/tivo/anaconda3/lib/python3.5/site-packages/ipykernel/__main__.py:177: VisibleDeprecationWarning: using a non-integer number instead of an integer will result in an error in the future\n",
      "/home/tivo/anaconda3/lib/python3.5/site-packages/ipykernel/__main__.py:181: VisibleDeprecationWarning: using a non-integer number instead of an integer will result in an error in the future\n"
     ]
    },
    {
     "name": "stdout",
     "output_type": "stream",
     "text": [
      "audio/mpeg\n",
      "FileName: /home/tivo/Desktop/songs/mp3/XPGN.wav \n"
     ]
    },
    {
     "name": "stderr",
     "output_type": "stream",
     "text": [
      "/home/tivo/anaconda3/lib/python3.5/site-packages/ipykernel/__main__.py:301: VisibleDeprecationWarning: using a non-integer number instead of an integer will result in an error in the future\n",
      "/home/tivo/anaconda3/lib/python3.5/site-packages/ipykernel/__main__.py:127: VisibleDeprecationWarning: using a non-integer number instead of an integer will result in an error in the future\n",
      "/home/tivo/anaconda3/lib/python3.5/site-packages/ipykernel/__main__.py:152: VisibleDeprecationWarning: using a non-integer number instead of an integer will result in an error in the future\n",
      "/home/tivo/anaconda3/lib/python3.5/site-packages/ipykernel/__main__.py:166: VisibleDeprecationWarning: using a non-integer number instead of an integer will result in an error in the future\n",
      "/home/tivo/anaconda3/lib/python3.5/site-packages/ipykernel/__main__.py:177: VisibleDeprecationWarning: using a non-integer number instead of an integer will result in an error in the future\n",
      "/home/tivo/anaconda3/lib/python3.5/site-packages/ipykernel/__main__.py:181: VisibleDeprecationWarning: using a non-integer number instead of an integer will result in an error in the future\n"
     ]
    },
    {
     "name": "stdout",
     "output_type": "stream",
     "text": [
      "application/octet-stream\n",
      "FileName: /home/tivo/Desktop/songs/mp3/MOCA.wav \n"
     ]
    },
    {
     "name": "stderr",
     "output_type": "stream",
     "text": [
      "/home/tivo/anaconda3/lib/python3.5/site-packages/ipykernel/__main__.py:301: VisibleDeprecationWarning: using a non-integer number instead of an integer will result in an error in the future\n",
      "/home/tivo/anaconda3/lib/python3.5/site-packages/ipykernel/__main__.py:127: VisibleDeprecationWarning: using a non-integer number instead of an integer will result in an error in the future\n",
      "/home/tivo/anaconda3/lib/python3.5/site-packages/ipykernel/__main__.py:152: VisibleDeprecationWarning: using a non-integer number instead of an integer will result in an error in the future\n",
      "/home/tivo/anaconda3/lib/python3.5/site-packages/ipykernel/__main__.py:166: VisibleDeprecationWarning: using a non-integer number instead of an integer will result in an error in the future\n",
      "/home/tivo/anaconda3/lib/python3.5/site-packages/ipykernel/__main__.py:177: VisibleDeprecationWarning: using a non-integer number instead of an integer will result in an error in the future\n",
      "/home/tivo/anaconda3/lib/python3.5/site-packages/ipykernel/__main__.py:181: VisibleDeprecationWarning: using a non-integer number instead of an integer will result in an error in the future\n"
     ]
    },
    {
     "name": "stdout",
     "output_type": "stream",
     "text": [
      "application/octet-stream\n",
      "FileName: /home/tivo/Desktop/songs/mp3/DVXM.wav \n"
     ]
    },
    {
     "name": "stderr",
     "output_type": "stream",
     "text": [
      "/home/tivo/anaconda3/lib/python3.5/site-packages/ipykernel/__main__.py:301: VisibleDeprecationWarning: using a non-integer number instead of an integer will result in an error in the future\n",
      "/home/tivo/anaconda3/lib/python3.5/site-packages/ipykernel/__main__.py:127: VisibleDeprecationWarning: using a non-integer number instead of an integer will result in an error in the future\n",
      "/home/tivo/anaconda3/lib/python3.5/site-packages/ipykernel/__main__.py:152: VisibleDeprecationWarning: using a non-integer number instead of an integer will result in an error in the future\n",
      "/home/tivo/anaconda3/lib/python3.5/site-packages/ipykernel/__main__.py:166: VisibleDeprecationWarning: using a non-integer number instead of an integer will result in an error in the future\n",
      "/home/tivo/anaconda3/lib/python3.5/site-packages/ipykernel/__main__.py:177: VisibleDeprecationWarning: using a non-integer number instead of an integer will result in an error in the future\n",
      "/home/tivo/anaconda3/lib/python3.5/site-packages/ipykernel/__main__.py:181: VisibleDeprecationWarning: using a non-integer number instead of an integer will result in an error in the future\n"
     ]
    },
    {
     "name": "stdout",
     "output_type": "stream",
     "text": [
      "application/octet-stream\n",
      "FileName: /home/tivo/Desktop/songs/mp3/AZVB.wav \n"
     ]
    },
    {
     "name": "stderr",
     "output_type": "stream",
     "text": [
      "/home/tivo/anaconda3/lib/python3.5/site-packages/ipykernel/__main__.py:301: VisibleDeprecationWarning: using a non-integer number instead of an integer will result in an error in the future\n",
      "/home/tivo/anaconda3/lib/python3.5/site-packages/ipykernel/__main__.py:127: VisibleDeprecationWarning: using a non-integer number instead of an integer will result in an error in the future\n",
      "/home/tivo/anaconda3/lib/python3.5/site-packages/ipykernel/__main__.py:152: VisibleDeprecationWarning: using a non-integer number instead of an integer will result in an error in the future\n",
      "/home/tivo/anaconda3/lib/python3.5/site-packages/ipykernel/__main__.py:166: VisibleDeprecationWarning: using a non-integer number instead of an integer will result in an error in the future\n",
      "/home/tivo/anaconda3/lib/python3.5/site-packages/ipykernel/__main__.py:177: VisibleDeprecationWarning: using a non-integer number instead of an integer will result in an error in the future\n",
      "/home/tivo/anaconda3/lib/python3.5/site-packages/ipykernel/__main__.py:181: VisibleDeprecationWarning: using a non-integer number instead of an integer will result in an error in the future\n"
     ]
    },
    {
     "name": "stdout",
     "output_type": "stream",
     "text": [
      "application/octet-stream\n",
      "FileName: /home/tivo/Desktop/songs/mp3/WHBW.wav \n"
     ]
    },
    {
     "name": "stderr",
     "output_type": "stream",
     "text": [
      "/home/tivo/anaconda3/lib/python3.5/site-packages/ipykernel/__main__.py:301: VisibleDeprecationWarning: using a non-integer number instead of an integer will result in an error in the future\n",
      "/home/tivo/anaconda3/lib/python3.5/site-packages/ipykernel/__main__.py:127: VisibleDeprecationWarning: using a non-integer number instead of an integer will result in an error in the future\n",
      "/home/tivo/anaconda3/lib/python3.5/site-packages/ipykernel/__main__.py:152: VisibleDeprecationWarning: using a non-integer number instead of an integer will result in an error in the future\n",
      "/home/tivo/anaconda3/lib/python3.5/site-packages/ipykernel/__main__.py:166: VisibleDeprecationWarning: using a non-integer number instead of an integer will result in an error in the future\n",
      "/home/tivo/anaconda3/lib/python3.5/site-packages/ipykernel/__main__.py:177: VisibleDeprecationWarning: using a non-integer number instead of an integer will result in an error in the future\n",
      "/home/tivo/anaconda3/lib/python3.5/site-packages/ipykernel/__main__.py:181: VisibleDeprecationWarning: using a non-integer number instead of an integer will result in an error in the future\n"
     ]
    },
    {
     "name": "stdout",
     "output_type": "stream",
     "text": [
      "application/octet-stream\n",
      "FileName: /home/tivo/Desktop/songs/mp3/WNPF.wav \n"
     ]
    },
    {
     "name": "stderr",
     "output_type": "stream",
     "text": [
      "/home/tivo/anaconda3/lib/python3.5/site-packages/ipykernel/__main__.py:301: VisibleDeprecationWarning: using a non-integer number instead of an integer will result in an error in the future\n",
      "/home/tivo/anaconda3/lib/python3.5/site-packages/ipykernel/__main__.py:127: VisibleDeprecationWarning: using a non-integer number instead of an integer will result in an error in the future\n",
      "/home/tivo/anaconda3/lib/python3.5/site-packages/ipykernel/__main__.py:152: VisibleDeprecationWarning: using a non-integer number instead of an integer will result in an error in the future\n",
      "/home/tivo/anaconda3/lib/python3.5/site-packages/ipykernel/__main__.py:166: VisibleDeprecationWarning: using a non-integer number instead of an integer will result in an error in the future\n",
      "/home/tivo/anaconda3/lib/python3.5/site-packages/ipykernel/__main__.py:177: VisibleDeprecationWarning: using a non-integer number instead of an integer will result in an error in the future\n",
      "/home/tivo/anaconda3/lib/python3.5/site-packages/ipykernel/__main__.py:181: VisibleDeprecationWarning: using a non-integer number instead of an integer will result in an error in the future\n"
     ]
    },
    {
     "name": "stdout",
     "output_type": "stream",
     "text": [
      "application/octet-stream\n",
      "FileName: /home/tivo/Desktop/songs/mp3/YLDR.wav \n"
     ]
    },
    {
     "name": "stderr",
     "output_type": "stream",
     "text": [
      "/home/tivo/anaconda3/lib/python3.5/site-packages/ipykernel/__main__.py:301: VisibleDeprecationWarning: using a non-integer number instead of an integer will result in an error in the future\n",
      "/home/tivo/anaconda3/lib/python3.5/site-packages/ipykernel/__main__.py:127: VisibleDeprecationWarning: using a non-integer number instead of an integer will result in an error in the future\n",
      "/home/tivo/anaconda3/lib/python3.5/site-packages/ipykernel/__main__.py:152: VisibleDeprecationWarning: using a non-integer number instead of an integer will result in an error in the future\n",
      "/home/tivo/anaconda3/lib/python3.5/site-packages/ipykernel/__main__.py:166: VisibleDeprecationWarning: using a non-integer number instead of an integer will result in an error in the future\n",
      "/home/tivo/anaconda3/lib/python3.5/site-packages/ipykernel/__main__.py:177: VisibleDeprecationWarning: using a non-integer number instead of an integer will result in an error in the future\n",
      "/home/tivo/anaconda3/lib/python3.5/site-packages/ipykernel/__main__.py:181: VisibleDeprecationWarning: using a non-integer number instead of an integer will result in an error in the future\n"
     ]
    },
    {
     "name": "stdout",
     "output_type": "stream",
     "text": [
      "application/octet-stream\n",
      "FileName: /home/tivo/Desktop/songs/mp3/JHEL.wav \n"
     ]
    },
    {
     "name": "stderr",
     "output_type": "stream",
     "text": [
      "/home/tivo/anaconda3/lib/python3.5/site-packages/ipykernel/__main__.py:301: VisibleDeprecationWarning: using a non-integer number instead of an integer will result in an error in the future\n",
      "/home/tivo/anaconda3/lib/python3.5/site-packages/ipykernel/__main__.py:127: VisibleDeprecationWarning: using a non-integer number instead of an integer will result in an error in the future\n",
      "/home/tivo/anaconda3/lib/python3.5/site-packages/ipykernel/__main__.py:152: VisibleDeprecationWarning: using a non-integer number instead of an integer will result in an error in the future\n",
      "/home/tivo/anaconda3/lib/python3.5/site-packages/ipykernel/__main__.py:166: VisibleDeprecationWarning: using a non-integer number instead of an integer will result in an error in the future\n",
      "/home/tivo/anaconda3/lib/python3.5/site-packages/ipykernel/__main__.py:177: VisibleDeprecationWarning: using a non-integer number instead of an integer will result in an error in the future\n",
      "/home/tivo/anaconda3/lib/python3.5/site-packages/ipykernel/__main__.py:181: VisibleDeprecationWarning: using a non-integer number instead of an integer will result in an error in the future\n"
     ]
    },
    {
     "name": "stdout",
     "output_type": "stream",
     "text": [
      "application/octet-stream\n",
      "FileName: /home/tivo/Desktop/songs/mp3/NRCX.wav \n"
     ]
    },
    {
     "name": "stderr",
     "output_type": "stream",
     "text": [
      "/home/tivo/anaconda3/lib/python3.5/site-packages/ipykernel/__main__.py:301: VisibleDeprecationWarning: using a non-integer number instead of an integer will result in an error in the future\n",
      "/home/tivo/anaconda3/lib/python3.5/site-packages/ipykernel/__main__.py:127: VisibleDeprecationWarning: using a non-integer number instead of an integer will result in an error in the future\n",
      "/home/tivo/anaconda3/lib/python3.5/site-packages/ipykernel/__main__.py:152: VisibleDeprecationWarning: using a non-integer number instead of an integer will result in an error in the future\n",
      "/home/tivo/anaconda3/lib/python3.5/site-packages/ipykernel/__main__.py:166: VisibleDeprecationWarning: using a non-integer number instead of an integer will result in an error in the future\n",
      "/home/tivo/anaconda3/lib/python3.5/site-packages/ipykernel/__main__.py:177: VisibleDeprecationWarning: using a non-integer number instead of an integer will result in an error in the future\n",
      "/home/tivo/anaconda3/lib/python3.5/site-packages/ipykernel/__main__.py:181: VisibleDeprecationWarning: using a non-integer number instead of an integer will result in an error in the future\n"
     ]
    },
    {
     "name": "stdout",
     "output_type": "stream",
     "text": [
      "application/octet-stream\n",
      "FileName: /home/tivo/Desktop/songs/mp3/QWOC.wav \n"
     ]
    },
    {
     "name": "stderr",
     "output_type": "stream",
     "text": [
      "/home/tivo/anaconda3/lib/python3.5/site-packages/ipykernel/__main__.py:301: VisibleDeprecationWarning: using a non-integer number instead of an integer will result in an error in the future\n",
      "/home/tivo/anaconda3/lib/python3.5/site-packages/ipykernel/__main__.py:127: VisibleDeprecationWarning: using a non-integer number instead of an integer will result in an error in the future\n",
      "/home/tivo/anaconda3/lib/python3.5/site-packages/ipykernel/__main__.py:152: VisibleDeprecationWarning: using a non-integer number instead of an integer will result in an error in the future\n",
      "/home/tivo/anaconda3/lib/python3.5/site-packages/ipykernel/__main__.py:166: VisibleDeprecationWarning: using a non-integer number instead of an integer will result in an error in the future\n",
      "/home/tivo/anaconda3/lib/python3.5/site-packages/ipykernel/__main__.py:177: VisibleDeprecationWarning: using a non-integer number instead of an integer will result in an error in the future\n",
      "/home/tivo/anaconda3/lib/python3.5/site-packages/ipykernel/__main__.py:181: VisibleDeprecationWarning: using a non-integer number instead of an integer will result in an error in the future\n"
     ]
    },
    {
     "name": "stdout",
     "output_type": "stream",
     "text": [
      "application/octet-stream\n",
      "FileName: /home/tivo/Desktop/songs/mp3/IMWP.wav \n"
     ]
    },
    {
     "name": "stderr",
     "output_type": "stream",
     "text": [
      "/home/tivo/anaconda3/lib/python3.5/site-packages/ipykernel/__main__.py:301: VisibleDeprecationWarning: using a non-integer number instead of an integer will result in an error in the future\n",
      "/home/tivo/anaconda3/lib/python3.5/site-packages/ipykernel/__main__.py:127: VisibleDeprecationWarning: using a non-integer number instead of an integer will result in an error in the future\n",
      "/home/tivo/anaconda3/lib/python3.5/site-packages/ipykernel/__main__.py:152: VisibleDeprecationWarning: using a non-integer number instead of an integer will result in an error in the future\n",
      "/home/tivo/anaconda3/lib/python3.5/site-packages/ipykernel/__main__.py:166: VisibleDeprecationWarning: using a non-integer number instead of an integer will result in an error in the future\n",
      "/home/tivo/anaconda3/lib/python3.5/site-packages/ipykernel/__main__.py:177: VisibleDeprecationWarning: using a non-integer number instead of an integer will result in an error in the future\n",
      "/home/tivo/anaconda3/lib/python3.5/site-packages/ipykernel/__main__.py:181: VisibleDeprecationWarning: using a non-integer number instead of an integer will result in an error in the future\n"
     ]
    },
    {
     "name": "stdout",
     "output_type": "stream",
     "text": [
      "application/octet-stream\n",
      "FileName: /home/tivo/Desktop/songs/mp3/NQWO.wav \n"
     ]
    },
    {
     "name": "stderr",
     "output_type": "stream",
     "text": [
      "/home/tivo/anaconda3/lib/python3.5/site-packages/ipykernel/__main__.py:301: VisibleDeprecationWarning: using a non-integer number instead of an integer will result in an error in the future\n",
      "/home/tivo/anaconda3/lib/python3.5/site-packages/ipykernel/__main__.py:127: VisibleDeprecationWarning: using a non-integer number instead of an integer will result in an error in the future\n",
      "/home/tivo/anaconda3/lib/python3.5/site-packages/ipykernel/__main__.py:152: VisibleDeprecationWarning: using a non-integer number instead of an integer will result in an error in the future\n",
      "/home/tivo/anaconda3/lib/python3.5/site-packages/ipykernel/__main__.py:166: VisibleDeprecationWarning: using a non-integer number instead of an integer will result in an error in the future\n",
      "/home/tivo/anaconda3/lib/python3.5/site-packages/ipykernel/__main__.py:177: VisibleDeprecationWarning: using a non-integer number instead of an integer will result in an error in the future\n",
      "/home/tivo/anaconda3/lib/python3.5/site-packages/ipykernel/__main__.py:181: VisibleDeprecationWarning: using a non-integer number instead of an integer will result in an error in the future\n"
     ]
    },
    {
     "name": "stdout",
     "output_type": "stream",
     "text": [
      "application/octet-stream\n",
      "FileName: /home/tivo/Desktop/songs/mp3/TIFR.wav \n"
     ]
    },
    {
     "name": "stderr",
     "output_type": "stream",
     "text": [
      "/home/tivo/anaconda3/lib/python3.5/site-packages/ipykernel/__main__.py:301: VisibleDeprecationWarning: using a non-integer number instead of an integer will result in an error in the future\n",
      "/home/tivo/anaconda3/lib/python3.5/site-packages/ipykernel/__main__.py:127: VisibleDeprecationWarning: using a non-integer number instead of an integer will result in an error in the future\n",
      "/home/tivo/anaconda3/lib/python3.5/site-packages/ipykernel/__main__.py:152: VisibleDeprecationWarning: using a non-integer number instead of an integer will result in an error in the future\n",
      "/home/tivo/anaconda3/lib/python3.5/site-packages/ipykernel/__main__.py:166: VisibleDeprecationWarning: using a non-integer number instead of an integer will result in an error in the future\n",
      "/home/tivo/anaconda3/lib/python3.5/site-packages/ipykernel/__main__.py:177: VisibleDeprecationWarning: using a non-integer number instead of an integer will result in an error in the future\n",
      "/home/tivo/anaconda3/lib/python3.5/site-packages/ipykernel/__main__.py:181: VisibleDeprecationWarning: using a non-integer number instead of an integer will result in an error in the future\n"
     ]
    },
    {
     "name": "stdout",
     "output_type": "stream",
     "text": [
      "application/octet-stream\n",
      "FileName: /home/tivo/Desktop/songs/mp3/LQXV.wav \n"
     ]
    },
    {
     "name": "stderr",
     "output_type": "stream",
     "text": [
      "/home/tivo/anaconda3/lib/python3.5/site-packages/ipykernel/__main__.py:301: VisibleDeprecationWarning: using a non-integer number instead of an integer will result in an error in the future\n",
      "/home/tivo/anaconda3/lib/python3.5/site-packages/ipykernel/__main__.py:127: VisibleDeprecationWarning: using a non-integer number instead of an integer will result in an error in the future\n",
      "/home/tivo/anaconda3/lib/python3.5/site-packages/ipykernel/__main__.py:152: VisibleDeprecationWarning: using a non-integer number instead of an integer will result in an error in the future\n",
      "/home/tivo/anaconda3/lib/python3.5/site-packages/ipykernel/__main__.py:166: VisibleDeprecationWarning: using a non-integer number instead of an integer will result in an error in the future\n",
      "/home/tivo/anaconda3/lib/python3.5/site-packages/ipykernel/__main__.py:177: VisibleDeprecationWarning: using a non-integer number instead of an integer will result in an error in the future\n",
      "/home/tivo/anaconda3/lib/python3.5/site-packages/ipykernel/__main__.py:181: VisibleDeprecationWarning: using a non-integer number instead of an integer will result in an error in the future\n"
     ]
    },
    {
     "name": "stdout",
     "output_type": "stream",
     "text": [
      "application/octet-stream\n",
      "FileName: /home/tivo/Desktop/songs/mp3/GMBG.wav \n"
     ]
    },
    {
     "name": "stderr",
     "output_type": "stream",
     "text": [
      "/home/tivo/anaconda3/lib/python3.5/site-packages/ipykernel/__main__.py:301: VisibleDeprecationWarning: using a non-integer number instead of an integer will result in an error in the future\n",
      "/home/tivo/anaconda3/lib/python3.5/site-packages/ipykernel/__main__.py:127: VisibleDeprecationWarning: using a non-integer number instead of an integer will result in an error in the future\n",
      "/home/tivo/anaconda3/lib/python3.5/site-packages/ipykernel/__main__.py:152: VisibleDeprecationWarning: using a non-integer number instead of an integer will result in an error in the future\n",
      "/home/tivo/anaconda3/lib/python3.5/site-packages/ipykernel/__main__.py:166: VisibleDeprecationWarning: using a non-integer number instead of an integer will result in an error in the future\n",
      "/home/tivo/anaconda3/lib/python3.5/site-packages/ipykernel/__main__.py:177: VisibleDeprecationWarning: using a non-integer number instead of an integer will result in an error in the future\n",
      "/home/tivo/anaconda3/lib/python3.5/site-packages/ipykernel/__main__.py:181: VisibleDeprecationWarning: using a non-integer number instead of an integer will result in an error in the future\n"
     ]
    },
    {
     "name": "stdout",
     "output_type": "stream",
     "text": [
      "application/octet-stream\n",
      "FileName: /home/tivo/Desktop/songs/mp3/TRSQ.wav \n"
     ]
    },
    {
     "name": "stderr",
     "output_type": "stream",
     "text": [
      "/home/tivo/anaconda3/lib/python3.5/site-packages/ipykernel/__main__.py:301: VisibleDeprecationWarning: using a non-integer number instead of an integer will result in an error in the future\n",
      "/home/tivo/anaconda3/lib/python3.5/site-packages/ipykernel/__main__.py:127: VisibleDeprecationWarning: using a non-integer number instead of an integer will result in an error in the future\n",
      "/home/tivo/anaconda3/lib/python3.5/site-packages/ipykernel/__main__.py:152: VisibleDeprecationWarning: using a non-integer number instead of an integer will result in an error in the future\n",
      "/home/tivo/anaconda3/lib/python3.5/site-packages/ipykernel/__main__.py:166: VisibleDeprecationWarning: using a non-integer number instead of an integer will result in an error in the future\n",
      "/home/tivo/anaconda3/lib/python3.5/site-packages/ipykernel/__main__.py:177: VisibleDeprecationWarning: using a non-integer number instead of an integer will result in an error in the future\n",
      "/home/tivo/anaconda3/lib/python3.5/site-packages/ipykernel/__main__.py:181: VisibleDeprecationWarning: using a non-integer number instead of an integer will result in an error in the future\n"
     ]
    },
    {
     "name": "stdout",
     "output_type": "stream",
     "text": [
      "audio/mpeg\n",
      "FileName: /home/tivo/Desktop/songs/mp3/YZAH.wav \n"
     ]
    },
    {
     "name": "stderr",
     "output_type": "stream",
     "text": [
      "/home/tivo/anaconda3/lib/python3.5/site-packages/ipykernel/__main__.py:301: VisibleDeprecationWarning: using a non-integer number instead of an integer will result in an error in the future\n",
      "/home/tivo/anaconda3/lib/python3.5/site-packages/ipykernel/__main__.py:127: VisibleDeprecationWarning: using a non-integer number instead of an integer will result in an error in the future\n",
      "/home/tivo/anaconda3/lib/python3.5/site-packages/ipykernel/__main__.py:152: VisibleDeprecationWarning: using a non-integer number instead of an integer will result in an error in the future\n",
      "/home/tivo/anaconda3/lib/python3.5/site-packages/ipykernel/__main__.py:166: VisibleDeprecationWarning: using a non-integer number instead of an integer will result in an error in the future\n",
      "/home/tivo/anaconda3/lib/python3.5/site-packages/ipykernel/__main__.py:177: VisibleDeprecationWarning: using a non-integer number instead of an integer will result in an error in the future\n",
      "/home/tivo/anaconda3/lib/python3.5/site-packages/ipykernel/__main__.py:181: VisibleDeprecationWarning: using a non-integer number instead of an integer will result in an error in the future\n"
     ]
    },
    {
     "name": "stdout",
     "output_type": "stream",
     "text": [
      "application/octet-stream\n",
      "FileName: /home/tivo/Desktop/songs/mp3/ADJU.wav \n"
     ]
    },
    {
     "name": "stderr",
     "output_type": "stream",
     "text": [
      "/home/tivo/anaconda3/lib/python3.5/site-packages/ipykernel/__main__.py:301: VisibleDeprecationWarning: using a non-integer number instead of an integer will result in an error in the future\n",
      "/home/tivo/anaconda3/lib/python3.5/site-packages/ipykernel/__main__.py:127: VisibleDeprecationWarning: using a non-integer number instead of an integer will result in an error in the future\n",
      "/home/tivo/anaconda3/lib/python3.5/site-packages/ipykernel/__main__.py:152: VisibleDeprecationWarning: using a non-integer number instead of an integer will result in an error in the future\n",
      "/home/tivo/anaconda3/lib/python3.5/site-packages/ipykernel/__main__.py:166: VisibleDeprecationWarning: using a non-integer number instead of an integer will result in an error in the future\n",
      "/home/tivo/anaconda3/lib/python3.5/site-packages/ipykernel/__main__.py:177: VisibleDeprecationWarning: using a non-integer number instead of an integer will result in an error in the future\n",
      "/home/tivo/anaconda3/lib/python3.5/site-packages/ipykernel/__main__.py:181: VisibleDeprecationWarning: using a non-integer number instead of an integer will result in an error in the future\n"
     ]
    },
    {
     "name": "stdout",
     "output_type": "stream",
     "text": [
      "application/octet-stream\n",
      "FileName: /home/tivo/Desktop/songs/mp3/TGUS.wav \n"
     ]
    },
    {
     "name": "stderr",
     "output_type": "stream",
     "text": [
      "/home/tivo/anaconda3/lib/python3.5/site-packages/ipykernel/__main__.py:301: VisibleDeprecationWarning: using a non-integer number instead of an integer will result in an error in the future\n",
      "/home/tivo/anaconda3/lib/python3.5/site-packages/ipykernel/__main__.py:127: VisibleDeprecationWarning: using a non-integer number instead of an integer will result in an error in the future\n",
      "/home/tivo/anaconda3/lib/python3.5/site-packages/ipykernel/__main__.py:152: VisibleDeprecationWarning: using a non-integer number instead of an integer will result in an error in the future\n",
      "/home/tivo/anaconda3/lib/python3.5/site-packages/ipykernel/__main__.py:166: VisibleDeprecationWarning: using a non-integer number instead of an integer will result in an error in the future\n",
      "/home/tivo/anaconda3/lib/python3.5/site-packages/ipykernel/__main__.py:177: VisibleDeprecationWarning: using a non-integer number instead of an integer will result in an error in the future\n",
      "/home/tivo/anaconda3/lib/python3.5/site-packages/ipykernel/__main__.py:181: VisibleDeprecationWarning: using a non-integer number instead of an integer will result in an error in the future\n"
     ]
    },
    {
     "name": "stdout",
     "output_type": "stream",
     "text": [
      "application/octet-stream\n",
      "FileName: /home/tivo/Desktop/songs/mp3/OHZT.wav \n"
     ]
    },
    {
     "name": "stderr",
     "output_type": "stream",
     "text": [
      "/home/tivo/anaconda3/lib/python3.5/site-packages/ipykernel/__main__.py:301: VisibleDeprecationWarning: using a non-integer number instead of an integer will result in an error in the future\n",
      "/home/tivo/anaconda3/lib/python3.5/site-packages/ipykernel/__main__.py:127: VisibleDeprecationWarning: using a non-integer number instead of an integer will result in an error in the future\n",
      "/home/tivo/anaconda3/lib/python3.5/site-packages/ipykernel/__main__.py:152: VisibleDeprecationWarning: using a non-integer number instead of an integer will result in an error in the future\n",
      "/home/tivo/anaconda3/lib/python3.5/site-packages/ipykernel/__main__.py:166: VisibleDeprecationWarning: using a non-integer number instead of an integer will result in an error in the future\n",
      "/home/tivo/anaconda3/lib/python3.5/site-packages/ipykernel/__main__.py:177: VisibleDeprecationWarning: using a non-integer number instead of an integer will result in an error in the future\n",
      "/home/tivo/anaconda3/lib/python3.5/site-packages/ipykernel/__main__.py:181: VisibleDeprecationWarning: using a non-integer number instead of an integer will result in an error in the future\n"
     ]
    },
    {
     "name": "stdout",
     "output_type": "stream",
     "text": [
      "application/octet-stream\n",
      "FileName: /home/tivo/Desktop/songs/mp3/PIZP.wav \n"
     ]
    },
    {
     "name": "stderr",
     "output_type": "stream",
     "text": [
      "/home/tivo/anaconda3/lib/python3.5/site-packages/ipykernel/__main__.py:301: VisibleDeprecationWarning: using a non-integer number instead of an integer will result in an error in the future\n",
      "/home/tivo/anaconda3/lib/python3.5/site-packages/ipykernel/__main__.py:127: VisibleDeprecationWarning: using a non-integer number instead of an integer will result in an error in the future\n",
      "/home/tivo/anaconda3/lib/python3.5/site-packages/ipykernel/__main__.py:152: VisibleDeprecationWarning: using a non-integer number instead of an integer will result in an error in the future\n",
      "/home/tivo/anaconda3/lib/python3.5/site-packages/ipykernel/__main__.py:166: VisibleDeprecationWarning: using a non-integer number instead of an integer will result in an error in the future\n",
      "/home/tivo/anaconda3/lib/python3.5/site-packages/ipykernel/__main__.py:177: VisibleDeprecationWarning: using a non-integer number instead of an integer will result in an error in the future\n",
      "/home/tivo/anaconda3/lib/python3.5/site-packages/ipykernel/__main__.py:181: VisibleDeprecationWarning: using a non-integer number instead of an integer will result in an error in the future\n"
     ]
    },
    {
     "name": "stdout",
     "output_type": "stream",
     "text": [
      "audio/mpeg\n",
      "FileName: /home/tivo/Desktop/songs/mp3/KLHK.wav \n"
     ]
    },
    {
     "name": "stderr",
     "output_type": "stream",
     "text": [
      "/home/tivo/anaconda3/lib/python3.5/site-packages/ipykernel/__main__.py:301: VisibleDeprecationWarning: using a non-integer number instead of an integer will result in an error in the future\n",
      "/home/tivo/anaconda3/lib/python3.5/site-packages/ipykernel/__main__.py:127: VisibleDeprecationWarning: using a non-integer number instead of an integer will result in an error in the future\n",
      "/home/tivo/anaconda3/lib/python3.5/site-packages/ipykernel/__main__.py:152: VisibleDeprecationWarning: using a non-integer number instead of an integer will result in an error in the future\n",
      "/home/tivo/anaconda3/lib/python3.5/site-packages/ipykernel/__main__.py:166: VisibleDeprecationWarning: using a non-integer number instead of an integer will result in an error in the future\n",
      "/home/tivo/anaconda3/lib/python3.5/site-packages/ipykernel/__main__.py:177: VisibleDeprecationWarning: using a non-integer number instead of an integer will result in an error in the future\n",
      "/home/tivo/anaconda3/lib/python3.5/site-packages/ipykernel/__main__.py:181: VisibleDeprecationWarning: using a non-integer number instead of an integer will result in an error in the future\n"
     ]
    },
    {
     "name": "stdout",
     "output_type": "stream",
     "text": [
      "application/octet-stream\n",
      "FileName: /home/tivo/Desktop/songs/mp3/YYDH.wav \n"
     ]
    },
    {
     "name": "stderr",
     "output_type": "stream",
     "text": [
      "/home/tivo/anaconda3/lib/python3.5/site-packages/ipykernel/__main__.py:301: VisibleDeprecationWarning: using a non-integer number instead of an integer will result in an error in the future\n",
      "/home/tivo/anaconda3/lib/python3.5/site-packages/ipykernel/__main__.py:127: VisibleDeprecationWarning: using a non-integer number instead of an integer will result in an error in the future\n",
      "/home/tivo/anaconda3/lib/python3.5/site-packages/ipykernel/__main__.py:152: VisibleDeprecationWarning: using a non-integer number instead of an integer will result in an error in the future\n",
      "/home/tivo/anaconda3/lib/python3.5/site-packages/ipykernel/__main__.py:166: VisibleDeprecationWarning: using a non-integer number instead of an integer will result in an error in the future\n",
      "/home/tivo/anaconda3/lib/python3.5/site-packages/ipykernel/__main__.py:177: VisibleDeprecationWarning: using a non-integer number instead of an integer will result in an error in the future\n",
      "/home/tivo/anaconda3/lib/python3.5/site-packages/ipykernel/__main__.py:181: VisibleDeprecationWarning: using a non-integer number instead of an integer will result in an error in the future\n"
     ]
    },
    {
     "name": "stdout",
     "output_type": "stream",
     "text": [
      "application/octet-stream\n",
      "FileName: /home/tivo/Desktop/songs/mp3/QUXM.wav \n"
     ]
    },
    {
     "name": "stderr",
     "output_type": "stream",
     "text": [
      "/home/tivo/anaconda3/lib/python3.5/site-packages/ipykernel/__main__.py:301: VisibleDeprecationWarning: using a non-integer number instead of an integer will result in an error in the future\n",
      "/home/tivo/anaconda3/lib/python3.5/site-packages/ipykernel/__main__.py:127: VisibleDeprecationWarning: using a non-integer number instead of an integer will result in an error in the future\n",
      "/home/tivo/anaconda3/lib/python3.5/site-packages/ipykernel/__main__.py:152: VisibleDeprecationWarning: using a non-integer number instead of an integer will result in an error in the future\n",
      "/home/tivo/anaconda3/lib/python3.5/site-packages/ipykernel/__main__.py:166: VisibleDeprecationWarning: using a non-integer number instead of an integer will result in an error in the future\n",
      "/home/tivo/anaconda3/lib/python3.5/site-packages/ipykernel/__main__.py:177: VisibleDeprecationWarning: using a non-integer number instead of an integer will result in an error in the future\n",
      "/home/tivo/anaconda3/lib/python3.5/site-packages/ipykernel/__main__.py:181: VisibleDeprecationWarning: using a non-integer number instead of an integer will result in an error in the future\n"
     ]
    },
    {
     "name": "stdout",
     "output_type": "stream",
     "text": [
      "application/octet-stream\n",
      "FileName: /home/tivo/Desktop/songs/mp3/UOMP.wav \n"
     ]
    },
    {
     "name": "stderr",
     "output_type": "stream",
     "text": [
      "/home/tivo/anaconda3/lib/python3.5/site-packages/ipykernel/__main__.py:301: VisibleDeprecationWarning: using a non-integer number instead of an integer will result in an error in the future\n",
      "/home/tivo/anaconda3/lib/python3.5/site-packages/ipykernel/__main__.py:127: VisibleDeprecationWarning: using a non-integer number instead of an integer will result in an error in the future\n",
      "/home/tivo/anaconda3/lib/python3.5/site-packages/ipykernel/__main__.py:152: VisibleDeprecationWarning: using a non-integer number instead of an integer will result in an error in the future\n",
      "/home/tivo/anaconda3/lib/python3.5/site-packages/ipykernel/__main__.py:166: VisibleDeprecationWarning: using a non-integer number instead of an integer will result in an error in the future\n",
      "/home/tivo/anaconda3/lib/python3.5/site-packages/ipykernel/__main__.py:177: VisibleDeprecationWarning: using a non-integer number instead of an integer will result in an error in the future\n",
      "/home/tivo/anaconda3/lib/python3.5/site-packages/ipykernel/__main__.py:181: VisibleDeprecationWarning: using a non-integer number instead of an integer will result in an error in the future\n"
     ]
    },
    {
     "name": "stdout",
     "output_type": "stream",
     "text": [
      "application/octet-stream\n",
      "FileName: /home/tivo/Desktop/songs/mp3/QOKQ.wav \n"
     ]
    },
    {
     "name": "stderr",
     "output_type": "stream",
     "text": [
      "/home/tivo/anaconda3/lib/python3.5/site-packages/ipykernel/__main__.py:301: VisibleDeprecationWarning: using a non-integer number instead of an integer will result in an error in the future\n",
      "/home/tivo/anaconda3/lib/python3.5/site-packages/ipykernel/__main__.py:127: VisibleDeprecationWarning: using a non-integer number instead of an integer will result in an error in the future\n",
      "/home/tivo/anaconda3/lib/python3.5/site-packages/ipykernel/__main__.py:152: VisibleDeprecationWarning: using a non-integer number instead of an integer will result in an error in the future\n",
      "/home/tivo/anaconda3/lib/python3.5/site-packages/ipykernel/__main__.py:166: VisibleDeprecationWarning: using a non-integer number instead of an integer will result in an error in the future\n",
      "/home/tivo/anaconda3/lib/python3.5/site-packages/ipykernel/__main__.py:177: VisibleDeprecationWarning: using a non-integer number instead of an integer will result in an error in the future\n",
      "/home/tivo/anaconda3/lib/python3.5/site-packages/ipykernel/__main__.py:181: VisibleDeprecationWarning: using a non-integer number instead of an integer will result in an error in the future\n"
     ]
    },
    {
     "name": "stdout",
     "output_type": "stream",
     "text": [
      "application/octet-stream\n",
      "FileName: /home/tivo/Desktop/songs/mp3/ATTR.wav \n"
     ]
    },
    {
     "name": "stderr",
     "output_type": "stream",
     "text": [
      "/home/tivo/anaconda3/lib/python3.5/site-packages/ipykernel/__main__.py:301: VisibleDeprecationWarning: using a non-integer number instead of an integer will result in an error in the future\n",
      "/home/tivo/anaconda3/lib/python3.5/site-packages/ipykernel/__main__.py:127: VisibleDeprecationWarning: using a non-integer number instead of an integer will result in an error in the future\n",
      "/home/tivo/anaconda3/lib/python3.5/site-packages/ipykernel/__main__.py:152: VisibleDeprecationWarning: using a non-integer number instead of an integer will result in an error in the future\n",
      "/home/tivo/anaconda3/lib/python3.5/site-packages/ipykernel/__main__.py:166: VisibleDeprecationWarning: using a non-integer number instead of an integer will result in an error in the future\n",
      "/home/tivo/anaconda3/lib/python3.5/site-packages/ipykernel/__main__.py:177: VisibleDeprecationWarning: using a non-integer number instead of an integer will result in an error in the future\n",
      "/home/tivo/anaconda3/lib/python3.5/site-packages/ipykernel/__main__.py:181: VisibleDeprecationWarning: using a non-integer number instead of an integer will result in an error in the future\n"
     ]
    },
    {
     "name": "stdout",
     "output_type": "stream",
     "text": [
      "audio/mpeg\n",
      "FileName: /home/tivo/Desktop/songs/mp3/REHR.wav \n"
     ]
    },
    {
     "name": "stderr",
     "output_type": "stream",
     "text": [
      "/home/tivo/anaconda3/lib/python3.5/site-packages/ipykernel/__main__.py:301: VisibleDeprecationWarning: using a non-integer number instead of an integer will result in an error in the future\n",
      "/home/tivo/anaconda3/lib/python3.5/site-packages/ipykernel/__main__.py:127: VisibleDeprecationWarning: using a non-integer number instead of an integer will result in an error in the future\n",
      "/home/tivo/anaconda3/lib/python3.5/site-packages/ipykernel/__main__.py:152: VisibleDeprecationWarning: using a non-integer number instead of an integer will result in an error in the future\n",
      "/home/tivo/anaconda3/lib/python3.5/site-packages/ipykernel/__main__.py:166: VisibleDeprecationWarning: using a non-integer number instead of an integer will result in an error in the future\n",
      "/home/tivo/anaconda3/lib/python3.5/site-packages/ipykernel/__main__.py:177: VisibleDeprecationWarning: using a non-integer number instead of an integer will result in an error in the future\n",
      "/home/tivo/anaconda3/lib/python3.5/site-packages/ipykernel/__main__.py:181: VisibleDeprecationWarning: using a non-integer number instead of an integer will result in an error in the future\n"
     ]
    },
    {
     "name": "stdout",
     "output_type": "stream",
     "text": [
      "application/octet-stream\n",
      "FileName: /home/tivo/Desktop/songs/mp3/01 - Fitoo.wav \n"
     ]
    },
    {
     "name": "stderr",
     "output_type": "stream",
     "text": [
      "/home/tivo/anaconda3/lib/python3.5/site-packages/ipykernel/__main__.py:301: VisibleDeprecationWarning: using a non-integer number instead of an integer will result in an error in the future\n",
      "/home/tivo/anaconda3/lib/python3.5/site-packages/ipykernel/__main__.py:127: VisibleDeprecationWarning: using a non-integer number instead of an integer will result in an error in the future\n",
      "/home/tivo/anaconda3/lib/python3.5/site-packages/ipykernel/__main__.py:152: VisibleDeprecationWarning: using a non-integer number instead of an integer will result in an error in the future\n",
      "/home/tivo/anaconda3/lib/python3.5/site-packages/ipykernel/__main__.py:166: VisibleDeprecationWarning: using a non-integer number instead of an integer will result in an error in the future\n",
      "/home/tivo/anaconda3/lib/python3.5/site-packages/ipykernel/__main__.py:177: VisibleDeprecationWarning: using a non-integer number instead of an integer will result in an error in the future\n",
      "/home/tivo/anaconda3/lib/python3.5/site-packages/ipykernel/__main__.py:181: VisibleDeprecationWarning: using a non-integer number instead of an integer will result in an error in the future\n"
     ]
    },
    {
     "name": "stdout",
     "output_type": "stream",
     "text": [
      "application/octet-stream\n",
      "FileName: /home/tivo/Desktop/songs/mp3/GUUK.wav \n"
     ]
    },
    {
     "name": "stderr",
     "output_type": "stream",
     "text": [
      "/home/tivo/anaconda3/lib/python3.5/site-packages/ipykernel/__main__.py:301: VisibleDeprecationWarning: using a non-integer number instead of an integer will result in an error in the future\n",
      "/home/tivo/anaconda3/lib/python3.5/site-packages/ipykernel/__main__.py:127: VisibleDeprecationWarning: using a non-integer number instead of an integer will result in an error in the future\n",
      "/home/tivo/anaconda3/lib/python3.5/site-packages/ipykernel/__main__.py:152: VisibleDeprecationWarning: using a non-integer number instead of an integer will result in an error in the future\n",
      "/home/tivo/anaconda3/lib/python3.5/site-packages/ipykernel/__main__.py:166: VisibleDeprecationWarning: using a non-integer number instead of an integer will result in an error in the future\n",
      "/home/tivo/anaconda3/lib/python3.5/site-packages/ipykernel/__main__.py:177: VisibleDeprecationWarning: using a non-integer number instead of an integer will result in an error in the future\n",
      "/home/tivo/anaconda3/lib/python3.5/site-packages/ipykernel/__main__.py:181: VisibleDeprecationWarning: using a non-integer number instead of an integer will result in an error in the future\n"
     ]
    },
    {
     "name": "stdout",
     "output_type": "stream",
     "text": [
      "application/octet-stream\n",
      "FileName: /home/tivo/Desktop/songs/mp3/NFUY.wav \n"
     ]
    },
    {
     "name": "stderr",
     "output_type": "stream",
     "text": [
      "/home/tivo/anaconda3/lib/python3.5/site-packages/ipykernel/__main__.py:301: VisibleDeprecationWarning: using a non-integer number instead of an integer will result in an error in the future\n",
      "/home/tivo/anaconda3/lib/python3.5/site-packages/ipykernel/__main__.py:127: VisibleDeprecationWarning: using a non-integer number instead of an integer will result in an error in the future\n",
      "/home/tivo/anaconda3/lib/python3.5/site-packages/ipykernel/__main__.py:152: VisibleDeprecationWarning: using a non-integer number instead of an integer will result in an error in the future\n",
      "/home/tivo/anaconda3/lib/python3.5/site-packages/ipykernel/__main__.py:166: VisibleDeprecationWarning: using a non-integer number instead of an integer will result in an error in the future\n",
      "/home/tivo/anaconda3/lib/python3.5/site-packages/ipykernel/__main__.py:177: VisibleDeprecationWarning: using a non-integer number instead of an integer will result in an error in the future\n",
      "/home/tivo/anaconda3/lib/python3.5/site-packages/ipykernel/__main__.py:181: VisibleDeprecationWarning: using a non-integer number instead of an integer will result in an error in the future\n"
     ]
    },
    {
     "name": "stdout",
     "output_type": "stream",
     "text": [
      "application/octet-stream\n",
      "FileName: /home/tivo/Desktop/songs/mp3/DWDJ.wav \n"
     ]
    },
    {
     "name": "stderr",
     "output_type": "stream",
     "text": [
      "/home/tivo/anaconda3/lib/python3.5/site-packages/ipykernel/__main__.py:301: VisibleDeprecationWarning: using a non-integer number instead of an integer will result in an error in the future\n",
      "/home/tivo/anaconda3/lib/python3.5/site-packages/ipykernel/__main__.py:127: VisibleDeprecationWarning: using a non-integer number instead of an integer will result in an error in the future\n",
      "/home/tivo/anaconda3/lib/python3.5/site-packages/ipykernel/__main__.py:152: VisibleDeprecationWarning: using a non-integer number instead of an integer will result in an error in the future\n",
      "/home/tivo/anaconda3/lib/python3.5/site-packages/ipykernel/__main__.py:166: VisibleDeprecationWarning: using a non-integer number instead of an integer will result in an error in the future\n",
      "/home/tivo/anaconda3/lib/python3.5/site-packages/ipykernel/__main__.py:177: VisibleDeprecationWarning: using a non-integer number instead of an integer will result in an error in the future\n",
      "/home/tivo/anaconda3/lib/python3.5/site-packages/ipykernel/__main__.py:181: VisibleDeprecationWarning: using a non-integer number instead of an integer will result in an error in the future\n"
     ]
    },
    {
     "name": "stdout",
     "output_type": "stream",
     "text": [
      "audio/mpeg\n",
      "FileName: /home/tivo/Desktop/songs/mp3/OBNO.wav \n"
     ]
    },
    {
     "name": "stderr",
     "output_type": "stream",
     "text": [
      "/home/tivo/anaconda3/lib/python3.5/site-packages/ipykernel/__main__.py:301: VisibleDeprecationWarning: using a non-integer number instead of an integer will result in an error in the future\n",
      "/home/tivo/anaconda3/lib/python3.5/site-packages/ipykernel/__main__.py:127: VisibleDeprecationWarning: using a non-integer number instead of an integer will result in an error in the future\n",
      "/home/tivo/anaconda3/lib/python3.5/site-packages/ipykernel/__main__.py:152: VisibleDeprecationWarning: using a non-integer number instead of an integer will result in an error in the future\n",
      "/home/tivo/anaconda3/lib/python3.5/site-packages/ipykernel/__main__.py:166: VisibleDeprecationWarning: using a non-integer number instead of an integer will result in an error in the future\n",
      "/home/tivo/anaconda3/lib/python3.5/site-packages/ipykernel/__main__.py:177: VisibleDeprecationWarning: using a non-integer number instead of an integer will result in an error in the future\n",
      "/home/tivo/anaconda3/lib/python3.5/site-packages/ipykernel/__main__.py:181: VisibleDeprecationWarning: using a non-integer number instead of an integer will result in an error in the future\n"
     ]
    },
    {
     "name": "stdout",
     "output_type": "stream",
     "text": [
      "application/octet-stream\n",
      "FileName: /home/tivo/Desktop/songs/mp3/HSPU.wav \n"
     ]
    },
    {
     "name": "stderr",
     "output_type": "stream",
     "text": [
      "/home/tivo/anaconda3/lib/python3.5/site-packages/ipykernel/__main__.py:301: VisibleDeprecationWarning: using a non-integer number instead of an integer will result in an error in the future\n",
      "/home/tivo/anaconda3/lib/python3.5/site-packages/ipykernel/__main__.py:127: VisibleDeprecationWarning: using a non-integer number instead of an integer will result in an error in the future\n",
      "/home/tivo/anaconda3/lib/python3.5/site-packages/ipykernel/__main__.py:152: VisibleDeprecationWarning: using a non-integer number instead of an integer will result in an error in the future\n",
      "/home/tivo/anaconda3/lib/python3.5/site-packages/ipykernel/__main__.py:166: VisibleDeprecationWarning: using a non-integer number instead of an integer will result in an error in the future\n",
      "/home/tivo/anaconda3/lib/python3.5/site-packages/ipykernel/__main__.py:177: VisibleDeprecationWarning: using a non-integer number instead of an integer will result in an error in the future\n",
      "/home/tivo/anaconda3/lib/python3.5/site-packages/ipykernel/__main__.py:181: VisibleDeprecationWarning: using a non-integer number instead of an integer will result in an error in the future\n"
     ]
    },
    {
     "name": "stdout",
     "output_type": "stream",
     "text": [
      "audio/mpeg\n",
      "FileName: /home/tivo/Desktop/songs/mp3/XTWG.wav \n"
     ]
    },
    {
     "name": "stderr",
     "output_type": "stream",
     "text": [
      "/home/tivo/anaconda3/lib/python3.5/site-packages/ipykernel/__main__.py:301: VisibleDeprecationWarning: using a non-integer number instead of an integer will result in an error in the future\n",
      "/home/tivo/anaconda3/lib/python3.5/site-packages/ipykernel/__main__.py:127: VisibleDeprecationWarning: using a non-integer number instead of an integer will result in an error in the future\n",
      "/home/tivo/anaconda3/lib/python3.5/site-packages/ipykernel/__main__.py:152: VisibleDeprecationWarning: using a non-integer number instead of an integer will result in an error in the future\n",
      "/home/tivo/anaconda3/lib/python3.5/site-packages/ipykernel/__main__.py:166: VisibleDeprecationWarning: using a non-integer number instead of an integer will result in an error in the future\n",
      "/home/tivo/anaconda3/lib/python3.5/site-packages/ipykernel/__main__.py:177: VisibleDeprecationWarning: using a non-integer number instead of an integer will result in an error in the future\n",
      "/home/tivo/anaconda3/lib/python3.5/site-packages/ipykernel/__main__.py:181: VisibleDeprecationWarning: using a non-integer number instead of an integer will result in an error in the future\n"
     ]
    },
    {
     "name": "stdout",
     "output_type": "stream",
     "text": [
      "application/octet-stream\n",
      "FileName: /home/tivo/Desktop/songs/mp3/JVPK.wav \n"
     ]
    },
    {
     "name": "stderr",
     "output_type": "stream",
     "text": [
      "/home/tivo/anaconda3/lib/python3.5/site-packages/ipykernel/__main__.py:301: VisibleDeprecationWarning: using a non-integer number instead of an integer will result in an error in the future\n",
      "/home/tivo/anaconda3/lib/python3.5/site-packages/ipykernel/__main__.py:127: VisibleDeprecationWarning: using a non-integer number instead of an integer will result in an error in the future\n",
      "/home/tivo/anaconda3/lib/python3.5/site-packages/ipykernel/__main__.py:152: VisibleDeprecationWarning: using a non-integer number instead of an integer will result in an error in the future\n",
      "/home/tivo/anaconda3/lib/python3.5/site-packages/ipykernel/__main__.py:166: VisibleDeprecationWarning: using a non-integer number instead of an integer will result in an error in the future\n",
      "/home/tivo/anaconda3/lib/python3.5/site-packages/ipykernel/__main__.py:177: VisibleDeprecationWarning: using a non-integer number instead of an integer will result in an error in the future\n",
      "/home/tivo/anaconda3/lib/python3.5/site-packages/ipykernel/__main__.py:181: VisibleDeprecationWarning: using a non-integer number instead of an integer will result in an error in the future\n"
     ]
    },
    {
     "name": "stdout",
     "output_type": "stream",
     "text": [
      "application/octet-stream\n",
      "FileName: /home/tivo/Desktop/songs/mp3/IEKX.wav \n"
     ]
    },
    {
     "name": "stderr",
     "output_type": "stream",
     "text": [
      "/home/tivo/anaconda3/lib/python3.5/site-packages/ipykernel/__main__.py:301: VisibleDeprecationWarning: using a non-integer number instead of an integer will result in an error in the future\n",
      "/home/tivo/anaconda3/lib/python3.5/site-packages/ipykernel/__main__.py:127: VisibleDeprecationWarning: using a non-integer number instead of an integer will result in an error in the future\n",
      "/home/tivo/anaconda3/lib/python3.5/site-packages/ipykernel/__main__.py:152: VisibleDeprecationWarning: using a non-integer number instead of an integer will result in an error in the future\n",
      "/home/tivo/anaconda3/lib/python3.5/site-packages/ipykernel/__main__.py:166: VisibleDeprecationWarning: using a non-integer number instead of an integer will result in an error in the future\n",
      "/home/tivo/anaconda3/lib/python3.5/site-packages/ipykernel/__main__.py:177: VisibleDeprecationWarning: using a non-integer number instead of an integer will result in an error in the future\n",
      "/home/tivo/anaconda3/lib/python3.5/site-packages/ipykernel/__main__.py:181: VisibleDeprecationWarning: using a non-integer number instead of an integer will result in an error in the future\n"
     ]
    },
    {
     "name": "stdout",
     "output_type": "stream",
     "text": [
      "application/octet-stream\n",
      "FileName: /home/tivo/Desktop/songs/mp3/WPVO.wav \n"
     ]
    },
    {
     "name": "stderr",
     "output_type": "stream",
     "text": [
      "/home/tivo/anaconda3/lib/python3.5/site-packages/ipykernel/__main__.py:301: VisibleDeprecationWarning: using a non-integer number instead of an integer will result in an error in the future\n",
      "/home/tivo/anaconda3/lib/python3.5/site-packages/ipykernel/__main__.py:127: VisibleDeprecationWarning: using a non-integer number instead of an integer will result in an error in the future\n",
      "/home/tivo/anaconda3/lib/python3.5/site-packages/ipykernel/__main__.py:152: VisibleDeprecationWarning: using a non-integer number instead of an integer will result in an error in the future\n",
      "/home/tivo/anaconda3/lib/python3.5/site-packages/ipykernel/__main__.py:166: VisibleDeprecationWarning: using a non-integer number instead of an integer will result in an error in the future\n",
      "/home/tivo/anaconda3/lib/python3.5/site-packages/ipykernel/__main__.py:177: VisibleDeprecationWarning: using a non-integer number instead of an integer will result in an error in the future\n",
      "/home/tivo/anaconda3/lib/python3.5/site-packages/ipykernel/__main__.py:181: VisibleDeprecationWarning: using a non-integer number instead of an integer will result in an error in the future\n"
     ]
    },
    {
     "name": "stdout",
     "output_type": "stream",
     "text": [
      "application/octet-stream\n",
      "FileName: /home/tivo/Desktop/songs/mp3/DMGC.wav \n"
     ]
    },
    {
     "name": "stderr",
     "output_type": "stream",
     "text": [
      "/home/tivo/anaconda3/lib/python3.5/site-packages/ipykernel/__main__.py:301: VisibleDeprecationWarning: using a non-integer number instead of an integer will result in an error in the future\n",
      "/home/tivo/anaconda3/lib/python3.5/site-packages/ipykernel/__main__.py:127: VisibleDeprecationWarning: using a non-integer number instead of an integer will result in an error in the future\n",
      "/home/tivo/anaconda3/lib/python3.5/site-packages/ipykernel/__main__.py:152: VisibleDeprecationWarning: using a non-integer number instead of an integer will result in an error in the future\n",
      "/home/tivo/anaconda3/lib/python3.5/site-packages/ipykernel/__main__.py:166: VisibleDeprecationWarning: using a non-integer number instead of an integer will result in an error in the future\n",
      "/home/tivo/anaconda3/lib/python3.5/site-packages/ipykernel/__main__.py:177: VisibleDeprecationWarning: using a non-integer number instead of an integer will result in an error in the future\n",
      "/home/tivo/anaconda3/lib/python3.5/site-packages/ipykernel/__main__.py:181: VisibleDeprecationWarning: using a non-integer number instead of an integer will result in an error in the future\n"
     ]
    },
    {
     "ename": "KeyboardInterrupt",
     "evalue": "",
     "output_type": "error",
     "traceback": [
      "\u001b[1;31m---------------------------------------------------------------------------\u001b[0m",
      "\u001b[1;31mKeyboardInterrupt\u001b[0m                         Traceback (most recent call last)",
      "\u001b[1;32m<ipython-input-16-5549bf580497>\u001b[0m in \u001b[0;36m<module>\u001b[1;34m()\u001b[0m\n\u001b[0;32m     23\u001b[0m             \u001b[0mprint\u001b[0m\u001b[1;33m(\u001b[0m\u001b[1;34m\"FileName: {} \"\u001b[0m\u001b[1;33m.\u001b[0m\u001b[0mformat\u001b[0m\u001b[1;33m(\u001b[0m\u001b[0mwavFilePath\u001b[0m\u001b[1;33m)\u001b[0m\u001b[1;33m)\u001b[0m\u001b[1;33m\u001b[0m\u001b[0m\n\u001b[0;32m     24\u001b[0m             \u001b[1;32mif\u001b[0m \u001b[0mwavFilePath\u001b[0m \u001b[1;32mis\u001b[0m \u001b[1;32mnot\u001b[0m \u001b[1;32mNone\u001b[0m \u001b[1;32mand\u001b[0m \u001b[0mos\u001b[0m\u001b[1;33m.\u001b[0m\u001b[0mpath\u001b[0m\u001b[1;33m.\u001b[0m\u001b[0mexists\u001b[0m\u001b[1;33m(\u001b[0m\u001b[0mwavFilePath\u001b[0m\u001b[1;33m)\u001b[0m\u001b[1;33m:\u001b[0m\u001b[1;33m\u001b[0m\u001b[0m\n\u001b[1;32m---> 25\u001b[1;33m                 \u001b[0mbpmE\u001b[0m\u001b[1;33m.\u001b[0m\u001b[0mextractBPMtoDFExisting\u001b[0m\u001b[1;33m(\u001b[0m\u001b[0mwavFilePath\u001b[0m\u001b[1;33m,\u001b[0m\u001b[0mmp3FilePath\u001b[0m\u001b[1;33m,\u001b[0m\u001b[1;36m5\u001b[0m\u001b[1;33m,\u001b[0m\u001b[1;36m5\u001b[0m\u001b[1;33m)\u001b[0m\u001b[1;33m\u001b[0m\u001b[0m\n\u001b[0m\u001b[0;32m     26\u001b[0m                 \u001b[1;31m#Remove wavFile after use\u001b[0m\u001b[1;33m\u001b[0m\u001b[1;33m\u001b[0m\u001b[0m\n\u001b[0;32m     27\u001b[0m                 \u001b[0mos\u001b[0m\u001b[1;33m.\u001b[0m\u001b[0mremove\u001b[0m\u001b[1;33m(\u001b[0m\u001b[0mwavFilePath\u001b[0m\u001b[1;33m)\u001b[0m\u001b[1;33m\u001b[0m\u001b[0m\n",
      "\u001b[1;32m<ipython-input-14-67105dd20475>\u001b[0m in \u001b[0;36mextractBPMtoDFExisting\u001b[1;34m(self, filename, mp3filePath, audioWindowinSec, bpmGranuality)\u001b[0m\n\u001b[0;32m    315\u001b[0m                 \u001b[1;32mraise\u001b[0m \u001b[0mAssertionError\u001b[0m\u001b[1;33m(\u001b[0m \u001b[0mstr\u001b[0m\u001b[1;33m(\u001b[0m\u001b[0mlen\u001b[0m\u001b[1;33m(\u001b[0m\u001b[0mdata\u001b[0m\u001b[1;33m)\u001b[0m \u001b[1;33m)\u001b[0m \u001b[1;33m)\u001b[0m\u001b[1;33m\u001b[0m\u001b[0m\n\u001b[0;32m    316\u001b[0m \u001b[1;33m\u001b[0m\u001b[0m\n\u001b[1;32m--> 317\u001b[1;33m             \u001b[0mbpm\u001b[0m\u001b[1;33m,\u001b[0m \u001b[0mcorrel_temp\u001b[0m \u001b[1;33m=\u001b[0m \u001b[0mself\u001b[0m\u001b[1;33m.\u001b[0m\u001b[0mbpm_detector\u001b[0m\u001b[1;33m(\u001b[0m\u001b[0mdata\u001b[0m\u001b[1;33m,\u001b[0m\u001b[0mfs\u001b[0m\u001b[1;33m)\u001b[0m\u001b[1;33m\u001b[0m\u001b[0m\n\u001b[0m\u001b[0;32m    318\u001b[0m \u001b[1;33m\u001b[0m\u001b[0m\n\u001b[0;32m    319\u001b[0m             \u001b[1;32mif\u001b[0m \u001b[0mbpm\u001b[0m \u001b[1;32mis\u001b[0m \u001b[1;32mNone\u001b[0m\u001b[1;33m:\u001b[0m\u001b[1;33m\u001b[0m\u001b[0m\n",
      "\u001b[1;32m<ipython-input-14-67105dd20475>\u001b[0m in \u001b[0;36mbpm_detector\u001b[1;34m(self, data, fs)\u001b[0m\n\u001b[0;32m    169\u001b[0m \u001b[1;33m\u001b[0m\u001b[0m\n\u001b[0;32m    170\u001b[0m         \u001b[1;31m# ACF\u001b[0m\u001b[1;33m\u001b[0m\u001b[1;33m\u001b[0m\u001b[0m\n\u001b[1;32m--> 171\u001b[1;33m         \u001b[0mcorrel\u001b[0m \u001b[1;33m=\u001b[0m \u001b[0mnumpy\u001b[0m\u001b[1;33m.\u001b[0m\u001b[0mcorrelate\u001b[0m\u001b[1;33m(\u001b[0m\u001b[0mcD_sum\u001b[0m\u001b[1;33m,\u001b[0m\u001b[0mcD_sum\u001b[0m\u001b[1;33m,\u001b[0m\u001b[1;34m'full'\u001b[0m\u001b[1;33m)\u001b[0m\u001b[1;33m\u001b[0m\u001b[0m\n\u001b[0m\u001b[0;32m    172\u001b[0m         \u001b[1;31m#print(\"sizeof(cD_sum_with-approx-cA){}, sizeof(ACF){}\".format(len(cD_sum),len(correl)))\u001b[0m\u001b[1;33m\u001b[0m\u001b[1;33m\u001b[0m\u001b[0m\n\u001b[0;32m    173\u001b[0m         \u001b[1;31m#print ('ACF on cD_sum_with-approx-cA')\u001b[0m\u001b[1;33m\u001b[0m\u001b[1;33m\u001b[0m\u001b[0m\n",
      "\u001b[1;32m/home/tivo/anaconda3/lib/python3.5/site-packages/numpy/core/numeric.py\u001b[0m in \u001b[0;36mcorrelate\u001b[1;34m(a, v, mode)\u001b[0m\n\u001b[0;32m    914\u001b[0m     \"\"\"\n\u001b[0;32m    915\u001b[0m     \u001b[0mmode\u001b[0m \u001b[1;33m=\u001b[0m \u001b[0m_mode_from_name\u001b[0m\u001b[1;33m(\u001b[0m\u001b[0mmode\u001b[0m\u001b[1;33m)\u001b[0m\u001b[1;33m\u001b[0m\u001b[0m\n\u001b[1;32m--> 916\u001b[1;33m     \u001b[1;32mreturn\u001b[0m \u001b[0mmultiarray\u001b[0m\u001b[1;33m.\u001b[0m\u001b[0mcorrelate2\u001b[0m\u001b[1;33m(\u001b[0m\u001b[0ma\u001b[0m\u001b[1;33m,\u001b[0m \u001b[0mv\u001b[0m\u001b[1;33m,\u001b[0m \u001b[0mmode\u001b[0m\u001b[1;33m)\u001b[0m\u001b[1;33m\u001b[0m\u001b[0m\n\u001b[0m\u001b[0;32m    917\u001b[0m \u001b[1;33m\u001b[0m\u001b[0m\n\u001b[0;32m    918\u001b[0m \u001b[1;32mdef\u001b[0m \u001b[0mconvolve\u001b[0m\u001b[1;33m(\u001b[0m\u001b[0ma\u001b[0m\u001b[1;33m,\u001b[0m\u001b[0mv\u001b[0m\u001b[1;33m,\u001b[0m\u001b[0mmode\u001b[0m\u001b[1;33m=\u001b[0m\u001b[1;34m'full'\u001b[0m\u001b[1;33m)\u001b[0m\u001b[1;33m:\u001b[0m\u001b[1;33m\u001b[0m\u001b[0m\n",
      "\u001b[1;31mKeyboardInterrupt\u001b[0m: "
     ]
    }
   ],
   "source": [
    "if __name__ == '__main__':\n",
    "    wavDir = '/home/tivo/Desktop/songs/wav/test'\n",
    "    mp3Dir = '/home/tivo/Desktop/songs/mp3'\n",
    "    csvFilePath = '/home/tivo/Desktop/bpms.csv'\n",
    "    regenerateCSV = True\n",
    "    \n",
    "    if (regenerateCSV):\n",
    "        #wavDir = '/home/tivo/Desktop/songs/wav/test'\n",
    "        #mp3Dir = '/home/tivo/Desktop/songs/mp3'\n",
    "        #csvFilePath = '/home/tivo/Desktop/bpms.csv'\n",
    "\n",
    "        if(mp3Dir is None):\n",
    "            print (\"Error: --mp3dir or -m: where all mp3 are kept is required for regenerate case\")\n",
    "            exit()\n",
    "\n",
    "        #mp3Dir = args.mp3dir\n",
    "        bpmE = bpmExtractor()\n",
    "\n",
    "        for filename in os.listdir(mp3Dir):\n",
    "            #print (mp3Dir, filename)\n",
    "            #mp3FilePath = \"\".join([mp3Dir, \"/\",filename])\n",
    "            wavFilePath,mp3FilePath = bpmE.mp3ToWav(mp3Dir,filename)\n",
    "            print(\"FileName: {} \".format(wavFilePath))\n",
    "            if wavFilePath is not None and os.path.exists(wavFilePath):\n",
    "                bpmE.extractBPMtoDFExisting(wavFilePath,mp3FilePath,5,5)\n",
    "                #Remove wavFile after use\n",
    "                os.remove(wavFilePath)\n",
    "            #print(\"==\"*80)\n",
    "            #extractBPMtoDF(wavFilePath,10)\n",
    "\n",
    "        bpmE.bpmsDF.to_csv(csvFilePath)\n",
    "\n",
    "\n",
    "    songToSearch = '/home/tivo/Desktop/songs/mp3/WGNF.mp3'\n",
    "    #bpmsDF = pnd.read_csv('/home/tivo/Desktop/bpms_mono_way.csv')\n",
    "    if(songToSearch is None):\n",
    "        print (\"Error: -s or --songToSearch : aka song for which you need recommendations is required for regenerate case\")\n",
    "        exit()\n",
    "\n",
    "    #songToSearch = args.songToSearch\n",
    "    bpmsSaved = pnd.read_csv(csvFilePath)\n",
    "\n",
    "    sSongsObj = similarSongs(bpmsDF)\n",
    "    sSongsObj.fit_transform('bpms')\n",
    "    #sSongsObj.getGenre('/home/tivo/Desktop/songs/mp3/BITE.mp3')\n",
    "\n",
    "    #songToSearch = '/home/tivo/Desktop/songs/wav/XKPJ.wav'\n",
    "    similarSongList = sSongsObj.findKSimilarSongs(songToSearch, 5)\n",
    "\n",
    "    print (\"Song requested bpm is {}\".format(bpmsDF[bpmsDF['audioFile'] == songToSearch]['bpms']))\n",
    "    for count,j in enumerate(similarSongList):\n",
    "        print(\"Song-{} is: {}\".format(count,bpmsDF.loc[j]['audioFile']))\n",
    "        print(\"\\t bpms is : {}\".format(bpmsDF.loc[j]['bpms']))\n",
    "        print ()\n",
    "\n"
   ]
  },
  {
   "cell_type": "raw",
   "metadata": {},
   "source": [
    "bpmE.bpmsDF"
   ]
  },
  {
   "cell_type": "code",
   "execution_count": null,
   "metadata": {
    "collapsed": false
   },
   "outputs": [],
   "source": [
    "magic.from_file(\"/home/tivo/Desktop/songs/mp3/DVXM.mp3\",mime=True)"
   ]
  },
  {
   "cell_type": "code",
   "execution_count": null,
   "metadata": {
    "collapsed": false
   },
   "outputs": [],
   "source": [
    "magic.from_file(\"/home/tivo/Desktop/songs/mp3/HTJH.m4a\",mime=True)"
   ]
  },
  {
   "cell_type": "code",
   "execution_count": null,
   "metadata": {
    "collapsed": false
   },
   "outputs": [],
   "source": [
    "mp3FilePath = \"/home/tivo/Desktop/songs/mp3/DVXM.mp3\"\n",
    "f = open(mp3FilePath, \"rb\")\n",
    "#print (\"[{}]\".format(str(f.read(3).decode(\"utf-8\"))))\n",
    "if str(f.read(3).decode(\"utf-8\")) == 'ID3':\n",
    "    print(\"1\")\n",
    "    mp3file = MP3(mp3FilePath, ID3=EasyID3)\n",
    "    print (mp3file.get(\"genre\"))"
   ]
  },
  {
   "cell_type": "code",
   "execution_count": null,
   "metadata": {
    "collapsed": false,
    "scrolled": true
   },
   "outputs": [],
   "source": [
    "mp3file = MP3(mp3FilePath, ID3=EasyID3)\n",
    "print (mp3file.get(\"genre\"))"
   ]
  },
  {
   "cell_type": "code",
   "execution_count": null,
   "metadata": {
    "collapsed": false
   },
   "outputs": [],
   "source": [
    "mp3file.pprint()"
   ]
  },
  {
   "cell_type": "code",
   "execution_count": null,
   "metadata": {
    "collapsed": false
   },
   "outputs": [],
   "source": [
    "print (mp3file.get(\"album\"))\n",
    "print (mp3file.get(\"artist\"))\n",
    "print (mp3file.get(\"composer\"))\n",
    "print (mp3file.get(\"title\"))\n",
    "\n"
   ]
  },
  {
   "cell_type": "code",
   "execution_count": 22,
   "metadata": {
    "collapsed": false
   },
   "outputs": [
    {
     "name": "stdout",
     "output_type": "stream",
     "text": [
      "[ 5 14 26 18  9]\n",
      "[ 9 22 42 26 21]\n"
     ]
    }
   ],
   "source": [
    "a = [1,2,3]\n",
    "b = [3,4,5]\n",
    "c = [7,4,9]\n",
    "print (numpy.correlate(a,b,'full'))\n",
    "print (numpy.correlate(a,c,'full'))"
   ]
  },
  {
   "cell_type": "code",
   "execution_count": null,
   "metadata": {
    "collapsed": true
   },
   "outputs": [],
   "source": []
  }
 ],
 "metadata": {
  "kernelspec": {
   "display_name": "Python [Root]",
   "language": "python",
   "name": "Python [Root]"
  },
  "language_info": {
   "codemirror_mode": {
    "name": "ipython",
    "version": 3
   },
   "file_extension": ".py",
   "mimetype": "text/x-python",
   "name": "python",
   "nbconvert_exporter": "python",
   "pygments_lexer": "ipython3",
   "version": "3.5.2"
  }
 },
 "nbformat": 4,
 "nbformat_minor": 0
}
