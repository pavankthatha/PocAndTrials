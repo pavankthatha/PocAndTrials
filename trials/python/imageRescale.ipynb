{
 "cells": [
  {
   "cell_type": "code",
   "execution_count": 50,
   "metadata": {
    "collapsed": true
   },
   "outputs": [],
   "source": [
    "import os\n",
    "import re\n",
    "from PIL import Image\n",
    "from resizeimage import resizeimage"
   ]
  },
  {
   "cell_type": "code",
   "execution_count": 51,
   "metadata": {
    "collapsed": true
   },
   "outputs": [],
   "source": [
    "\n",
    "# Resize image while maintaining aspect ratio\n",
    "def resizeImage(imagePath, resizeFactor, imageName):\n",
    "    with Image.open(imagePath) as img:\n",
    "                #print (img.size[0],img.size[1],resizeFactor)\n",
    "                wsize = int((float(img.size[0]) * float(resizeFactor)))\n",
    "                hsize = int((float(img.size[1]) * float(resizeFactor)))\n",
    "                #print(wsize,hsize)\n",
    "                img = img.resize((wsize, hsize), Image.ANTIALIAS)\n",
    "                saveImagePath1 = 'posImages/'+str(wsize)+'_'+str(hsize)+'_'+str(imageName)\n",
    "                #print (saveImagePath1)\n",
    "                img.save(saveImagePath1)\n"
   ]
  },
  {
   "cell_type": "code",
   "execution_count": 52,
   "metadata": {
    "collapsed": false
   },
   "outputs": [],
   "source": [
    "#TODO : Cleanup code, pass arguments rather\n",
    "\n",
    "pwd = os.getcwd()\n",
    "baseImageDir='git-repos/opencv-haar-classifier-training'\n",
    "f = open('git-repos/opencv-haar-classifier-training/positive_ex.txt', 'r')\n",
    "#positive.txt has image paths to be resized\n",
    "\n",
    "width = 96\n",
    "height = 128\n",
    "\n",
    "#This whole script transforms image to width and height as given above. \n",
    "# (in this some information may be lost, should try various parameters to minimize loss, \n",
    "# but it is essential to have standard scaled images for HOG/Harr training\n",
    "\n",
    "# after Standardization to 'width' and 'height', we can rescale images to 1/2,1/4,1/8 also \n",
    "# (here information is not lost with respect to standarized images)\n",
    "# Different scale image while maintaining aspect ratio can improve predictions in case test-images has smaller faces.\n",
    "\n",
    "for filename in f.readlines():\n",
    "    filename = re.sub('\\n','',filename)\n",
    "    if (filename == \"\" or filename == \" \"):\n",
    "        continue\n",
    "    filePath=pwd + '/' + baseImageDir + '/' + filename\n",
    "    \n",
    "    imageName = os.path.basename(filePath)\n",
    "    with open(filePath, 'r+b'):\n",
    "        with Image.open(filePath) as image:\n",
    "            # This part would cause loss in information, edges would be lost\n",
    "            cover = resizeimage.resize_cover(image, [width,height])\n",
    "            saveImagePath = str('posImages/'+str(width)+'_'+str(height)+'_'+str(imageName))\n",
    "            cover.save(saveImagePath, image.format)\n",
    "            \n",
    "            # Resize to 1/2 size\n",
    "            resizeImage(saveImagePath,0.5,imageName)\n",
    "\n",
    "            #1/4 sized image\n",
    "            resizeImage(saveImagePath,0.25,imageName)\n",
    "            \n",
    "            #1/8 sized image\n",
    "            resizeImage(saveImagePath,0.125,imageName)\n",
    "            \n",
    "            "
   ]
  },
  {
   "cell_type": "code",
   "execution_count": 53,
   "metadata": {
    "collapsed": false
   },
   "outputs": [],
   "source": [
    "#help(Image.open)\n",
    "#help(resizeimage.resize_contain)"
   ]
  },
  {
   "cell_type": "code",
   "execution_count": null,
   "metadata": {
    "collapsed": true
   },
   "outputs": [],
   "source": []
  }
 ],
 "metadata": {
  "kernelspec": {
   "display_name": "Python [Root]",
   "language": "python",
   "name": "Python [Root]"
  },
  "language_info": {
   "codemirror_mode": {
    "name": "ipython",
    "version": 2
   },
   "file_extension": ".py",
   "mimetype": "text/x-python",
   "name": "python",
   "nbconvert_exporter": "python",
   "pygments_lexer": "ipython2",
   "version": "2.7.12"
  }
 },
 "nbformat": 4,
 "nbformat_minor": 0
}
