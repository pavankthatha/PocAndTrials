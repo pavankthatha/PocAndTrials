{
 "cells": [
  {
   "cell_type": "code",
   "execution_count": 119,
   "metadata": {
    "collapsed": false
   },
   "outputs": [],
   "source": [
    "import pandas as pnd\n",
    "\n",
    "from nltk.tokenize import RegexpTokenizer\n",
    "from stop_words import get_stop_words\n",
    "from nltk.stem.porter import PorterStemmer\n",
    "import numpy as np"
   ]
  },
  {
   "cell_type": "code",
   "execution_count": 120,
   "metadata": {
    "collapsed": true
   },
   "outputs": [],
   "source": [
    "#inits\n",
    "tokenizer = RegexpTokenizer(r'\\w+')\n",
    "p_stemmer = PorterStemmer()"
   ]
  },
  {
   "cell_type": "code",
   "execution_count": 121,
   "metadata": {
    "collapsed": false
   },
   "outputs": [
    {
     "name": "stderr",
     "output_type": "stream",
     "text": [
      "//anaconda3/lib/python3.5/site-packages/IPython/core/interactiveshell.py:2723: DtypeWarning: Columns (2,11,12,13,14,15,16,17,18,19,20,21,22,23,24,25,26,27,28,29,30,31,32,33,34,35,36,37,38,39,40,41,42,43,44,45,46,47,48,49,50,51,52,53,54,55,56,57,58,59,60,61,62,63,64,65,66,67,68,69,70,71,72,73,74,75,76,77,78,79,80,81,82,83,84,85,86,87,88,89,90,91,92,93,94,95,96,97,98,99,100,101,102,103,104,105,106,107,108,109,110,111,112,113,114,115,116,117,118,119,120,121,122,123,124,125,126,127,128,129,130,131,132,133,134,135,136,137,138,139,140,141,142,143,144,145,146,147,148,149,150,151,152,153,154,155,156,157,158,159,160,161,162,163,164,165,166,167,168,169,170,171,172,173,174,175,176,177,178,179,180,181,182,183,184,185,186,187,188,189,190,191,192,193,194,195,196,197,198,199,200,201,202,203,204,205,206,207,208,209,210,211,212,213,214,215,216,217,218,219,220,221,222,223,224,225,226,227,228,229,230,231,232,233,234,235,236,237,238,239,240,241,242,243,244,245,246,247,248,249,250,251,252,253,254,255,256,257,258,259,260,261,262,263,264,265,266,267,268,269,270,271,272,273,274,275,276,277,278,279,280,281,282,283,284,285,286,287,288,289,290,291,292,293,294,295,296,297,298,299,300,301,302,303,304,305,306,307,308,309,310,311,312,313,314,315,316,317,318,319,320,321,322,323,324,325,326,327,328,329,330,331,332,333,334,335,336,337,338,339,340,341,342,343,344,345,346,347,348,349,350,351,352,353,354,355,356,357,358,359,360,361,362,363,364,365,366,367,368,369,370,371,372,373,374,375,376,377,378,379,380,381,382,383,384,385,386,387,388,389,390,391,392,393,394,395,396,397,398,399,400,401,402,403,404,405,406,407,408,409,410,411,412,413,414,415,416,417,418,419,420,421,422,423,424,425,426,427,428,429,430,431,432,433,434,435,436,437,438,439,440,441,442,443,444,445,446,447,448,449,450,451,452,453,454,455,456,457,458,459,460,461,462,463,464,465,466,467,468,469,470,471,472,473,474,475,476,477,478,479,480,481,482,483,484,485,486,487,488,489,490,491,492,493,494,495,496,497,498,499,500,501,502,503,504,505,506,507,508,509,510,511,512,513,514,515,516,517,518,519,520,521,522,523,524,525,526,527,528,529,530,531,532,533,534,535,536,537,538,539,540,541,542,543,544,545,546,547,548,549,550,551,552,553,554,555,556,557,558,559,560,561,562,563,564,565,566,567,568,569,570,571,572,573,574,575,576,577,578,579,580,581,582,583,584,585,586,587,588,589,590,591,592,593,594,595,596,597,598,599,600,601,602,603,604,605,606,607,608,609,610,611,612,613,614,615,616,617,618,619,620,621,622,623,624,625,626,627,628,629,630,631,632,633,634,635,636,637,638,639,640,641,642,643,644,645,646,647,648,649,650,651,652,653,654,655,656,657,658,659,660,661,662,663,664,665,666,667,668,669,670,671,672,673,674,675,676,677,678,679,680,681,682,683,684,685,686,687,688,689,690,691,692,693,694,695,696,697,698,699,700,701,702,703,704,705,706,707,708,709,710,711,712,713,714,715,716,717,718,719,720,721,722,723,724,725,726,727,728,729,730,731,732,733,734,735,736,737,738,739,740,741,742,743,744,745,746,747,748,749,750,751,752,753,754,755,756,757,758,759,760,761,762,763,764,765,766,767,768,769,770,771,772,773,774,775,776,777,778,779,780,781,782,783,784,785,786,787,788,789,790,791,792,793,794,795,796,797,798,799,800,801,802,803,804,805,806,807,808,809,810,811,812,813,814,815,816,817,818,819,820,821,822,823,824,825,826,827,828,829,830,831,832,833,834,835,836,837,838,839,840,841,842,843,844,845,846,847,848,849,850,851,852,853,854,855,856,857,858,859,860,861,862,863,864,865,866,867,868,869,870,871,872,873,874,875,876,877,878,879,880,881,882,883,884,885,886,887,888,889,890,891,892,893,894,895,896,897,898,899,900,901,902,903,904,905,906,907,908,909,910,911,912,913,914,915,916,917,918,919,920,921,922,923,924,925,926,927,928,929,930,931,932,933,934,935,936,937,938,939,940,941,942,943,944,945,946,947,948,949,950,951,952,953,954,955,956,957,958,959,960,961,962,963,964,965,966,967,968,969,970,971,972,973,974,975,976,977,978,979,980,981,982,983,984,985,986,987,988,989,990,991,992,993,994,995,996,997,998,999,1000,1001,1002,1003,1004,1005,1006,1007,1008,1009,1010,1011,1012,1013,1014,1015,1016,1017,1018,1019,1020,1021,1022,1023) have mixed types. Specify dtype option on import or set low_memory=False.\n",
      "  interactivity=interactivity, compiler=compiler, result=result)\n"
     ]
    }
   ],
   "source": [
    "automationLogs = pnd.read_csv('//Failure_Analysis.csv')"
   ]
  },
  {
   "cell_type": "code",
   "execution_count": 122,
   "metadata": {
    "collapsed": false
   },
   "outputs": [],
   "source": [
    "#automationLogsFiltered=automationLogs[features]\n",
    "#print(\"shape is {} and count is {}\".format(automationLogsFiltered.shape,automationLogsFiltered.size))\n",
    "#del automationLogs\n",
    "%matplotlib inline \n",
    "import matplotlib\n",
    "matplotlib.style.use('ggplot')\n",
    "df2 = pnd.DataFrame(np.array([pnd.factorize(automationLogs['ERROR'])[0],\n",
    "                              pnd.factorize(automationLogs['Analysis'])[0]]).transpose(),\n",
    "                   columns=['ERROR','Analysis'])\n",
    "#df3 = pnd.df2(np.random.rand(10, 4), columns=['Platform','ERROR'])\n",
    "\n"
   ]
  },
  {
   "cell_type": "code",
   "execution_count": 123,
   "metadata": {
    "collapsed": false
   },
   "outputs": [
    {
     "data": {
      "image/png": "[encoded data removed]",
      "text/plain": [
       "<matplotlib.figure.Figure at 0x7fa9ba618ac8>"
      ]
     },
     "metadata": {},
     "output_type": "display_data"
    }
   ],
   "source": [
    "#print df2\n",
    "#print automationLogs[['ERROR','Analysis']].head(11)\n",
    "#print \"\",df2\n",
    "#print \"\",df2[1]\n",
    "#Mybar = df2[1:200].plot.bar()\n",
    "import matplotlib.pyplot as plt\n",
    "MyHist = df2.plot.hist(stacked=True, bins=700)\n",
    "#plt.savefig(\"graph.png\", dpi=500)"
   ]
  },
  {
   "cell_type": "code",
   "execution_count": 124,
   "metadata": {
    "collapsed": false
   },
   "outputs": [],
   "source": [
    "#import seaborn as sns\n",
    "#sns."
   ]
  },
  {
   "cell_type": "code",
   "execution_count": 125,
   "metadata": {
    "collapsed": false
   },
   "outputs": [
    {
     "name": "stdout",
     "output_type": "stream",
     "text": [
      "shape is (6968, 3) and count is 20904\n"
     ]
    }
   ],
   "source": [
    "feature1=['ERROR']\n",
    "feature2=['Platform']\n",
    "output = ['Analysis']\n",
    "features = feature1 + feature2 + output\n",
    "features\n",
    "\n",
    "automationLogsFiltered=automationLogs[features]\n",
    "print(\"shape is {} and count is {}\".format(automationLogsFiltered.shape,automationLogsFiltered.size))\n",
    "#del automationLogs"
   ]
  },
  {
   "cell_type": "code",
   "execution_count": 126,
   "metadata": {
    "collapsed": false
   },
   "outputs": [],
   "source": [
    "automationLogsFiltered=automationLogsFiltered[pnd.isnull(automationLogsFiltered['ERROR']) == False]\n",
    "automationLogsFiltered=automationLogsFiltered[pnd.isnull(automationLogsFiltered['Platform']) == False]\n",
    "automationLogsFiltered[\"finalFeature\"] = automationLogsFiltered[\"Platform\"].map(str)  + \"::\" + automationLogsFiltered[\"ERROR\"]\n",
    "automationLogsFiltered.reset_index(drop=True,inplace=True)"
   ]
  },
  {
   "cell_type": "code",
   "execution_count": 127,
   "metadata": {
    "collapsed": false
   },
   "outputs": [
    {
     "data": {
      "text/html": [
       "<div>\n",
       "<table border=\"1\" class=\"dataframe\">\n",
       "  <thead>\n",
       "    <tr style=\"text-align: right;\">\n",
       "      <th></th>\n",
       "      <th>ERROR</th>\n",
       "      <th>Platform</th>\n",
       "      <th>Analysis</th>\n",
       "      <th>finalFeature</th>\n",
       "    </tr>\n",
       "  </thead>\n",
       "  <tbody>\n",
       "    <tr>\n",
       "      <th>0</th>\n",
       "      <td>USER_ABORTED: User aborted</td>\n",
       "      <td>Comhem</td>\n",
       "      <td>WARN: Failed to get dynamic hostname!</td>\n",
       "      <td>Comhem::USER_ABORTED: User aborted</td>\n",
       "    </tr>\n",
       "    <tr>\n",
       "      <th>1</th>\n",
       "      <td>0. FAILED - Menu list is incorrect</td>\n",
       "      <td>Comhem</td>\n",
       "      <td>Bug 401935 - Automation:ODC:TC-118009 failed t...</td>\n",
       "      <td>Comhem:: 0. FAILED - Menu list is incorrect</td>\n",
       "    </tr>\n",
       "    <tr>\n",
       "      <th>2</th>\n",
       "      <td>0. FAILED - ****Unable to verify Fleeting Icon...</td>\n",
       "      <td>Comhem</td>\n",
       "      <td>Script has taken screendump after program was ...</td>\n",
       "      <td>Comhem::0. FAILED - ****Unable to verify Fleet...</td>\n",
       "    </tr>\n",
       "    <tr>\n",
       "      <th>3</th>\n",
       "      <td>0. ABORT - Episodic Program Information not de...</td>\n",
       "      <td>Comhem</td>\n",
       "      <td>Bug 401592 - Automation:ODC:TC-109360 and 1093...</td>\n",
       "      <td>Comhem::0. ABORT - Episodic Program Informatio...</td>\n",
       "    </tr>\n",
       "    <tr>\n",
       "      <th>4</th>\n",
       "      <td>0. ABORT - Movie Program Information !defined</td>\n",
       "      <td>Comhem</td>\n",
       "      <td>Bug 401592 - Automation:ODC:TC-109360 and 1093...</td>\n",
       "      <td>Comhem::0. ABORT - Movie Program Information !...</td>\n",
       "    </tr>\n",
       "    <tr>\n",
       "      <th>5</th>\n",
       "      <td>0. ABORT - Could not reach To Do list</td>\n",
       "      <td>Comhem</td>\n",
       "      <td>Bug 401841 - Automation:ODC:environment.xsl an...</td>\n",
       "      <td>Comhem:: 0. ABORT - Could not reach To Do list</td>\n",
       "    </tr>\n",
       "    <tr>\n",
       "      <th>6</th>\n",
       "      <td>0. ABORT - Failed to go to Central screen</td>\n",
       "      <td>Comhem</td>\n",
       "      <td>Changes not pushed to production</td>\n",
       "      <td>Comhem::0. ABORT - Failed to go to Central scr...</td>\n",
       "    </tr>\n",
       "    <tr>\n",
       "      <th>7</th>\n",
       "      <td>0. FAILED - RW speed 1 not verified</td>\n",
       "      <td>Comhem</td>\n",
       "      <td>Reverse key played BONK sound.\\nProbably there...</td>\n",
       "      <td>Comhem::0. FAILED - RW speed 1 not verified</td>\n",
       "    </tr>\n",
       "    <tr>\n",
       "      <th>8</th>\n",
       "      <td>0. FAILED - FW speed 1 not verified</td>\n",
       "      <td>Pace</td>\n",
       "      <td>Bug 393378 - Automation:ODC:Pace Auto-BRAT fai...</td>\n",
       "      <td>Pace::0. FAILED - FW speed 1 not verified</td>\n",
       "    </tr>\n",
       "    <tr>\n",
       "      <th>9</th>\n",
       "      <td>0. FAILED - RW speed 1 not verified</td>\n",
       "      <td>Pace</td>\n",
       "      <td>Bug 393378 - Automation:ODC:Pace Auto-BRAT fai...</td>\n",
       "      <td>Pace::0. FAILED - RW speed 1 not verified</td>\n",
       "    </tr>\n",
       "  </tbody>\n",
       "</table>\n",
       "</div>"
      ],
      "text/plain": [
       "                                               ERROR Platform  \\\n",
       "0                        USER_ABORTED: User aborted    Comhem   \n",
       "1                0. FAILED - Menu list is incorrect    Comhem   \n",
       "2  0. FAILED - ****Unable to verify Fleeting Icon...   Comhem   \n",
       "3  0. ABORT - Episodic Program Information not de...   Comhem   \n",
       "4     0. ABORT - Movie Program Information !defined    Comhem   \n",
       "5             0. ABORT - Could not reach To Do list    Comhem   \n",
       "6         0. ABORT - Failed to go to Central screen    Comhem   \n",
       "7               0. FAILED - RW speed 1 not verified    Comhem   \n",
       "8               0. FAILED - FW speed 1 not verified      Pace   \n",
       "9               0. FAILED - RW speed 1 not verified      Pace   \n",
       "\n",
       "                                            Analysis  \\\n",
       "0              WARN: Failed to get dynamic hostname!   \n",
       "1  Bug 401935 - Automation:ODC:TC-118009 failed t...   \n",
       "2  Script has taken screendump after program was ...   \n",
       "3  Bug 401592 - Automation:ODC:TC-109360 and 1093...   \n",
       "4  Bug 401592 - Automation:ODC:TC-109360 and 1093...   \n",
       "5  Bug 401841 - Automation:ODC:environment.xsl an...   \n",
       "6                   Changes not pushed to production   \n",
       "7  Reverse key played BONK sound.\\nProbably there...   \n",
       "8  Bug 393378 - Automation:ODC:Pace Auto-BRAT fai...   \n",
       "9  Bug 393378 - Automation:ODC:Pace Auto-BRAT fai...   \n",
       "\n",
       "                                        finalFeature  \n",
       "0                Comhem::USER_ABORTED: User aborted   \n",
       "1       Comhem:: 0. FAILED - Menu list is incorrect   \n",
       "2  Comhem::0. FAILED - ****Unable to verify Fleet...  \n",
       "3  Comhem::0. ABORT - Episodic Program Informatio...  \n",
       "4  Comhem::0. ABORT - Movie Program Information !...  \n",
       "5    Comhem:: 0. ABORT - Could not reach To Do list   \n",
       "6  Comhem::0. ABORT - Failed to go to Central scr...  \n",
       "7       Comhem::0. FAILED - RW speed 1 not verified   \n",
       "8         Pace::0. FAILED - FW speed 1 not verified   \n",
       "9         Pace::0. FAILED - RW speed 1 not verified   "
      ]
     },
     "execution_count": 127,
     "metadata": {},
     "output_type": "execute_result"
    }
   ],
   "source": [
    "automationLogsFiltered.head(10)"
   ]
  },
  {
   "cell_type": "code",
   "execution_count": 128,
   "metadata": {
    "collapsed": false
   },
   "outputs": [],
   "source": [
    "#automationLogsRemovedDuplicates.head(30)"
   ]
  },
  {
   "cell_type": "code",
   "execution_count": 129,
   "metadata": {
    "collapsed": false
   },
   "outputs": [
    {
     "name": "stdout",
     "output_type": "stream",
     "text": [
      "Index(['ERROR', 'Platform', 'Analysis', 'finalFeature'], dtype='object')\n",
      "<class 'list'>\n",
      "(0, 4)\n",
      "(6947, 4)\n",
      "uniqueErrors[1:4]['Comhem:: 0. FAILED - Menu list is incorrect ', 'Comhem::0. FAILED - ****Unable to verify Fleeting Icon**** \\xa0'] \n",
      "\n"
     ]
    }
   ],
   "source": [
    "uniqueErrors = automationLogsFiltered['finalFeature'].unique().tolist()\n",
    "\n",
    "print (automationLogsFiltered.columns)\n",
    "automationLogsRemovedDuplicates = pnd.DataFrame(columns=automationLogsFiltered.columns)\n",
    "tempList = []\n",
    "print (type(tempList))\n",
    "print (automationLogsRemovedDuplicates.shape)\n",
    "print (automationLogsFiltered.shape)\n",
    "print (\"uniqueErrors[1:4]{} \\n\".format(uniqueErrors[1:3]))\n",
    "for i in (uniqueErrors):\n",
    "    #print \"UniqueError:{}\\n\".format(i)\n",
    "    #print automationLogsFiltered[automationLogsFiltered['Analysis'].isin(automationLogsFiltered[automationLogsFiltered['ERROR'] == i]['Analysis'].unique())]\n",
    "    #print automationLogsFiltered[automationLogsFiltered['ERROR'] == i]['Analysis'].unique()\n",
    "    AnalysisForUniqueError = automationLogsFiltered[automationLogsFiltered['finalFeature'] == i]['Analysis']\n",
    "    AnalysisForUniqueErrorLastIndexes = AnalysisForUniqueError[automationLogsFiltered['Analysis'] == AnalysisForUniqueError.unique().tolist()[-1]].index.tolist()\n",
    "    tempList = tempList + AnalysisForUniqueErrorLastIndexes\n",
    "    ##uniqueErrorAnalysisPairs = automationLogsFiltered[AnalysisForUniqueErrorLastIndexes]\n",
    "        #uniqueErrorAnalysisPairs = automationLogsFiltered[AnalysisForUniqueError[AnalysisForUniqueError.unique().tolist()[-1]]\n",
    "    #print \"=====ITERATION===\"\n",
    "    #print (AnalysisForUniqueError[automationLogsFiltered['Analysis'] == AnalysisForUniqueError.unique().tolist()[-1]].index.tolist())\n",
    "\n",
    "    #print (uniqueErrorAnalysisPairs)\n",
    "    ##automationLogsRemovedDuplicates = automationLogsRemovedDuplicates.append(uniqueErrorAnalysisPairs)\n",
    "    #print automationLogsRemovedDuplicates\n",
    "#automationLogsRemovedDuplicates = pnd.concat(automationLogsRemovedDuplicates, axis=1) \n",
    "#for i in tempList:\n",
    "#    automationLogsRemovedDuplicates = automationLogsRemovedDuplicates.append(automationLogsFiltered.iloc[i])"
   ]
  },
  {
   "cell_type": "code",
   "execution_count": 130,
   "metadata": {
    "collapsed": false
   },
   "outputs": [
    {
     "name": "stdout",
     "output_type": "stream",
     "text": [
      "[1, 50, 5271, 3147, 3184, 6435, 6463, 6498, 6537, 6557, 6562, 6577, 6595, 6606, 6607, 6635, 6666, 6695, 6709, 6718, 6728]\n",
      "3993\n",
      "3993\n"
     ]
    }
   ],
   "source": [
    "#print len(automationLogsRemovedDuplicates)\n",
    "\n",
    "print (tempList[1:22])\n",
    "lenTempList = len(tempList)\n",
    "print (lenTempList)\n",
    "#print [automationLogsFiltered.iloc[i]  for i in tempList]\n",
    "#for i in tempList[1:10]:\n",
    "    #print pnd.DataFrame(automationLogsFiltered.iloc[i])\n",
    "\n",
    "automationLogsFiltered = automationLogsFiltered.iloc[tempList,]\n",
    "#print type(automationLogsRemovedDuplicates)\n",
    "#automationLogsFiltered.iloc[tempList[1:22],]\n",
    "print (len(automationLogsFiltered))\n",
    "automationLogsFiltered.reset_index(drop=True,inplace=True)"
   ]
  },
  {
   "cell_type": "code",
   "execution_count": 131,
   "metadata": {
    "collapsed": true
   },
   "outputs": [],
   "source": [
    "from sklearn.feature_extraction.text import TfidfVectorizer\n",
    "tfidfModel = TfidfVectorizer(min_df=1,tokenizer=None,ngram_range=(1,4))\n",
    "X = tfidfModel.fit_transform(automationLogsFiltered['finalFeature'])"
   ]
  },
  {
   "cell_type": "code",
   "execution_count": 132,
   "metadata": {
    "collapsed": false
   },
   "outputs": [
    {
     "name": "stdout",
     "output_type": "stream",
     "text": [
      "3993\n",
      "(3993, 7574)\n"
     ]
    }
   ],
   "source": [
    "print (len(automationLogsFiltered))\n",
    "print (X.shape)\n",
    "#print X[5927]"
   ]
  },
  {
   "cell_type": "code",
   "execution_count": 133,
   "metadata": {
    "collapsed": true
   },
   "outputs": [],
   "source": [
    "from sklearn.cross_validation import train_test_split\n",
    "#X_train, X_test, y_train, y_test = train_test_split(X, automationLogsFiltered['Analysis'], test_size=0.20, random_state=42)\n",
    "\n",
    "\n",
    "#X_validation, X_test, y_validation, y_test = train_test_split(X_test, y_test, test_size=0.50, random_state=42)\n",
    "\n",
    "X_train, X_test, y_train, y_test = train_test_split(X, \n",
    "                                                    pnd.factorize(automationLogsFiltered['Analysis'])[0], \n",
    "                                                    test_size=0.20, random_state=42)\n",
    "X_validation, X_test, y_validation, y_test = train_test_split(X_test, y_test, test_size=0.50, random_state=42)"
   ]
  },
  {
   "cell_type": "code",
   "execution_count": 134,
   "metadata": {
    "collapsed": true
   },
   "outputs": [],
   "source": [
    "from sklearn.svm import SVC\n",
    "import numpy as np\n",
    "C_range = np.logspace(0,2,20)"
   ]
  },
  {
   "cell_type": "code",
   "execution_count": 135,
   "metadata": {
    "collapsed": false
   },
   "outputs": [
    {
     "name": "stdout",
     "output_type": "stream",
     "text": [
      "0.679197994987 1.0\n",
      "0.709273182957 1.2742749857\n",
      "0.714285714286 1.62377673919\n",
      "0.721804511278 2.06913808111\n",
      "0.731829573935 2.63665089873\n",
      "0.739348370927 3.35981828628\n",
      "0.744360902256 4.28133239872\n",
      "0.749373433584 5.45559478117\n",
      "0.74686716792 6.95192796178\n",
      "0.74686716792 8.8586679041\n",
      "0.744360902256 11.2883789168\n",
      "0.744360902256 14.3844988829\n",
      "0.74686716792 18.3298071083\n",
      "0.74686716792 23.3572146909\n",
      "0.74686716792 29.7635144163\n",
      "0.74686716792 37.9269019073\n",
      "0.74686716792 48.3293023857\n",
      "0.74686716792 61.5848211066\n",
      "0.74686716792 78.4759970351\n",
      "0.74686716792 100.0\n",
      "BestAccuracy:0.7493734335839599 bestCV5.455594781168519\n"
     ]
    }
   ],
   "source": [
    "from sklearn import svm\n",
    "from sklearn.metrics import (accuracy_score,f1_score)\n",
    "\n",
    "maxAccuracy=0\n",
    "bestCV=0\n",
    "for c in C_range:\n",
    "    clf = svm.SVC(C=c,kernel='linear',decision_function_shape ='ovr' )\n",
    "    clf.fit(X_train, y_train)  \n",
    "    svmPredictions = clf.predict(X_validation)\n",
    "    currentAccuracy = accuracy_score(y_validation,svmPredictions)\n",
    "    if currentAccuracy > maxAccuracy:\n",
    "        maxAccuracy = currentAccuracy\n",
    "        bestCV = c\n",
    "    print (currentAccuracy,c)\n",
    "    #f1_score(y_validation,svmPredictions)\n",
    "print (\"BestAccuracy:{} bestCV{}\".format(maxAccuracy,bestCV))"
   ]
  },
  {
   "cell_type": "code",
   "execution_count": 41,
   "metadata": {
    "collapsed": false
   },
   "outputs": [
    {
     "data": {
      "text/plain": [
       "'\\nfrom sklearn.metrics import accuracy_score\\nfrom sklearn.metrics import f1_score\\nfrom sklearn import grid_search\\n# Set the parameters by cross-validation\\ntuned_parameters = [{\\'kernel\\': [\\'linear\\'], \\'C\\': np.logspace(-2,3,10)}]\\nscore = \\'accuracy\\'\\nclf = grid_search.GridSearchCV(SVC(C=1), tuned_parameters, cv=5,\\n                   scoring=score)\\nclf.fit(X_train, y_train)\\nprint(\"Best parameters set found on development set:\")\\nprint()\\nprint(clf.best_params_)\\nprint()\\nprint(\"Grid scores on development set:\")\\nprint()\\nfor params, mean_score, scores in clf.grid_scores_:\\n    print(\"%0.3f (+/-%0.03f) for %r\"\\n              % (mean_score, scores.std() * 2, params))\\nprint()\\n\\nprint(\"Detailed classification report:\")\\nprint()\\nprint(\"The model is trained on the full development set.\")\\nprint(\"The scores are computed on the full evaluation set.\")\\nprint()\\ny_true, y_pred = y_test, clf.predict(X_test)\\nprint(accuracy_score(y_true, y_pred))\\nprint()\\n'"
      ]
     },
     "execution_count": 41,
     "metadata": {},
     "output_type": "execute_result"
    }
   ],
   "source": [
    "'''\n",
    "from sklearn.metrics import accuracy_score\n",
    "from sklearn.metrics import f1_score\n",
    "from sklearn import grid_search\n",
    "# Set the parameters by cross-validation\n",
    "tuned_parameters = [{'kernel': ['linear'], 'C': np.logspace(-2,3,10)}]\n",
    "score = 'accuracy'\n",
    "clf = grid_search.GridSearchCV(SVC(C=1), tuned_parameters, cv=5,\n",
    "                   scoring=score)\n",
    "clf.fit(X_train, y_train)\n",
    "print(\"Best parameters set found on development set:\")\n",
    "print()\n",
    "print(clf.best_params_)\n",
    "print()\n",
    "print(\"Grid scores on development set:\")\n",
    "print()\n",
    "for params, mean_score, scores in clf.grid_scores_:\n",
    "    print(\"%0.3f (+/-%0.03f) for %r\"\n",
    "              % (mean_score, scores.std() * 2, params))\n",
    "print()\n",
    "\n",
    "print(\"Detailed classification report:\")\n",
    "print()\n",
    "print(\"The model is trained on the full development set.\")\n",
    "print(\"The scores are computed on the full evaluation set.\")\n",
    "print()\n",
    "y_true, y_pred = y_test, clf.predict(X_test)\n",
    "print(accuracy_score(y_true, y_pred))\n",
    "print()\n",
    "'''"
   ]
  },
  {
   "cell_type": "code",
   "execution_count": 174,
   "metadata": {
    "collapsed": false
   },
   "outputs": [],
   "source": [
    "from sklearn.svm import SVC\n",
    "\n",
    "#clf = SVC(C=bestCV)\n",
    "#clf.fit(X_train,y_train)\n",
    "#TODO: remove later hard coded best CV temp\n",
    "#bestCV = 5.45559478117\n",
    "clf = svm.SVC(C=bestCV,kernel='linear',decision_function_shape ='ovr',probability=True )\n",
    "clf.fit(X_train, y_train)  \n",
    "svmPredictions = clf.predict(X_validation)\n",
    "currentAccuracy = accuracy_score(y_validation,svmPredictions)"
   ]
  },
  {
   "cell_type": "code",
   "execution_count": 175,
   "metadata": {
    "collapsed": false
   },
   "outputs": [
    {
     "name": "stdout",
     "output_type": "stream",
     "text": [
      "(399, 495)\n",
      "0.7375 0.713766898407\n"
     ]
    },
    {
     "name": "stderr",
     "output_type": "stream",
     "text": [
      "//anaconda3/lib/python3.5/site-packages/sklearn/metrics/classification.py:756: DeprecationWarning: The default `weighted` averaging is deprecated, and from version 0.18, use of precision, recall or F-score with multiclass or multilabel data or pos_label=None will result in an exception. Please set an explicit value for `average`, one of (None, 'micro', 'macro', 'weighted', 'samples'). In cross validation use, for instance, scoring=\"f1_weighted\" instead of scoring=\"f1\".\n",
      "  sample_weight=sample_weight)\n",
      "//anaconda3/lib/python3.5/site-packages/sklearn/metrics/classification.py:1074: UndefinedMetricWarning: F-score is ill-defined and being set to 0.0 in labels with no predicted samples.\n",
      "  'precision', 'predicted', average, warn_for)\n",
      "//anaconda3/lib/python3.5/site-packages/sklearn/metrics/classification.py:1076: UndefinedMetricWarning: F-score is ill-defined and being set to 0.0 in labels with no true samples.\n",
      "  'recall', 'true', average, warn_for)\n"
     ]
    }
   ],
   "source": [
    "print (clf.predict_proba(X_validation).shape)\n",
    "print (accuracy_score(y_test,clf.predict(X_test)), f1_score(y_test,clf.predict(X_test)))"
   ]
  },
  {
   "cell_type": "code",
   "execution_count": 209,
   "metadata": {
    "collapsed": false
   },
   "outputs": [
    {
     "name": "stdout",
     "output_type": "stream",
     "text": [
      "Index(['Bug 425689 - Automation:ODC:TC-121049: \"SHOWCASESANDEXTRAS\" constant has to be defined EncoreSmartbox file'], dtype='object')\n",
      "3994\n"
     ]
    },
    {
     "name": "stderr",
     "output_type": "stream",
     "text": [
      "//anaconda3/lib/python3.5/site-packages/sklearn/utils/validation.py:386: DeprecationWarning: Passing 1d arrays as data is deprecated in 0.17 and willraise ValueError in 0.19. Reshape your data either using X.reshape(-1, 1) if your data has a single feature or X.reshape(1, -1) if it contains a single sample.\n",
      "  DeprecationWarning)\n"
     ]
    }
   ],
   "source": [
    "#automationLogsFiltered_temp = pnd.DataFrame(columns=automationLogsFiltered.columns)\n",
    "def giveMyPrediction(product,myerror):\n",
    "    #print (automationLogsFiltered.shape[0])\n",
    "    string= product + \"::\" + myerror\n",
    "    #automationLogsFiltered_temp.loc[automationLogsFiltered_temp.shape[0]]['finalFeature'] = string\n",
    "    newframe = pnd.DataFrame([[myerror,product,\"\",string]],\n",
    "                             columns=automationLogsFiltered.columns)\n",
    "    #print (type(newframe))\n",
    "    #print (automationLogsFiltered.columns)\n",
    "    automationLogsFiltered_temp = pnd.concat([automationLogsFiltered, newframe])\n",
    "                                                           #[{'ERROR':myerror, \"Platform\": product, \"Analysis\": \"\", 'finalFeature':string}]\n",
    "    tfidfModel = TfidfVectorizer(min_df=1,tokenizer=None,ngram_range=(1,4))\n",
    "    automationLogsFiltered_temp.reset_index(drop=True,inplace=True)\n",
    "    #print(pnd.isnull(automationLogsFiltered_temp['finalFeature']))\n",
    "    #print(automationLogsFiltered_temp)\n",
    "    X = tfidfModel.fit_transform(automationLogsFiltered_temp['finalFeature'])\n",
    "    \n",
    "    clf = svm.SVC(C=bestCV,kernel='linear',decision_function_shape ='ovr',probability=True )\n",
    "    clf.fit(X[1:automationLogsFiltered.shape[0]], pnd.factorize(automationLogsFiltered_temp['Analysis'][1:automationLogsFiltered.shape[0]])[0])  \n",
    "    #svmPredictions = clf.predict(X.A[3993])\n",
    "    #currentAccuracy = accuracy_score(y_validation,svmPredictions)\n",
    "    \n",
    "    #print (X.shape)\n",
    "    index = automationLogsFiltered_temp.shape[0] -1\n",
    "    hotencoded = clf.predict(X.A[index])\n",
    "    print (pnd.factorize(automationLogsFiltered_temp['Analysis'])[1][hotencoded])\n",
    "    print (automationLogsFiltered_temp.shape[0])\n",
    "    #print (X[3992])\n",
    "\n",
    "#giveMyPrediction(\"Picaso\",\"0. ABORT - Unable to create recording on channel 121\")\n",
    "giveMyPrediction(\"SmartBox\",\"0. FAILED - ****Unable to highlight Showcases****\")\n",
    "#print (pnd.factorize(automationLogsFiltered['Analysis'])[1][3991])\n",
    "#print (X.shape[0],X[1:automationLogsFiltered.shape[0]])"
   ]
  },
  {
   "cell_type": "code",
   "execution_count": 42,
   "metadata": {
    "collapsed": false
   },
   "outputs": [],
   "source": [
    "from sklearn.metrics import accuracy_score\n",
    "svmPredictions = clf.predict(X_test)\n",
    "accuracy_score(y_test,svmPredictions)\n",
    "svmProbPredictions = clf.predict_proba(X_test)"
   ]
  },
  {
   "cell_type": "code",
   "execution_count": 43,
   "metadata": {
    "collapsed": false
   },
   "outputs": [
    {
     "name": "stdout",
     "output_type": "stream",
     "text": [
      "highest_prob_index: 436 max_prob: 0.04528397639853348, prediction: 467,real: 467\n",
      "highest_prob_index: 420 max_prob: 0.06180724027401956, prediction: 451,real: 451\n",
      "highest_prob_index: 70 max_prob: 0.21773725672729413, prediction: 72,real: 72\n",
      "highest_prob_index: 9 max_prob: 0.09991641418845391, prediction: 9,real: 9\n",
      "highest_prob_index: 183 max_prob: 0.037121542194447174, prediction: 131,real: 131\n",
      "highest_prob_index: 43 max_prob: 0.10347973206538476, prediction: 45,real: 45\n",
      "highest_prob_index: 11 max_prob: 0.09058970087322554, prediction: 48,real: 11\n",
      "highest_prob_index: 166 max_prob: 0.05511081881883841, prediction: 176,real: 71\n",
      "highest_prob_index: 453 max_prob: 0.031960452704030945, prediction: 486,real: 486\n",
      "highest_prob_index: 272 max_prob: 0.031113236157862663, prediction: 292,real: 292\n",
      "highest_prob_index: 61 max_prob: 0.03012031593267678, prediction: 155,real: 323\n",
      "highest_prob_index: 320 max_prob: 0.18305457480544232, prediction: 345,real: 345\n",
      "highest_prob_index: 320 max_prob: 0.035342966593244644, prediction: 159,real: 231\n",
      "highest_prob_index: 66 max_prob: 0.03328045525541013, prediction: 160,real: 160\n",
      "highest_prob_index: 4 max_prob: 0.060073989929316965, prediction: 79,real: 79\n",
      "highest_prob_index: 58 max_prob: 0.2014959301978097, prediction: 60,real: 60\n",
      "highest_prob_index: 390 max_prob: 0.029844632552207408, prediction: 262,real: 408\n",
      "highest_prob_index: 31 max_prob: 0.04890633932544569, prediction: 5,real: 5\n",
      "highest_prob_index: 329 max_prob: 0.4517655626662186, prediction: 354,real: 354\n",
      "highest_prob_index: 10 max_prob: 0.03580105685829539, prediction: 96,real: 96\n",
      "highest_prob_index: 11 max_prob: 0.1451733422916435, prediction: 11,real: 11\n",
      "highest_prob_index: 142 max_prob: 0.042736051117369535, prediction: 148,real: 148\n",
      "highest_prob_index: 97 max_prob: 0.11394381022627023, prediction: 103,real: 186\n",
      "highest_prob_index: 183 max_prob: 0.03789937770953662, prediction: 193,real: 193\n",
      "highest_prob_index: 31 max_prob: 0.07751713568295625, prediction: 487,real: 487\n",
      "highest_prob_index: 320 max_prob: 0.035342966593244644, prediction: 159,real: 159\n",
      "highest_prob_index: 288 max_prob: 0.048962092442505, prediction: 0,real: 0\n",
      "highest_prob_index: 117 max_prob: 0.1620911360307746, prediction: 123,real: 123\n",
      "highest_prob_index: 31 max_prob: 0.039006866229062104, prediction: 33,real: 515\n",
      "highest_prob_index: 80 max_prob: 0.029989707005830906, prediction: 327,real: 327\n",
      "highest_prob_index: 288 max_prob: 0.0840615140694512, prediction: 309,real: 309\n",
      "highest_prob_index: 272 max_prob: 0.031113236157862663, prediction: 292,real: 292\n",
      "highest_prob_index: 346 max_prob: 0.31028860007507175, prediction: 372,real: 372\n",
      "highest_prob_index: 320 max_prob: 0.179672807274402, prediction: 345,real: 144\n",
      "highest_prob_index: 418 max_prob: 0.06496494702544416, prediction: 449,real: 449\n",
      "highest_prob_index: 9 max_prob: 0.05101297238096518, prediction: 7,real: 504\n",
      "highest_prob_index: 66 max_prob: 0.025607634231391455, prediction: 42,real: 305\n",
      "highest_prob_index: 61 max_prob: 0.03755952886291327, prediction: 28,real: 63\n",
      "highest_prob_index: 31 max_prob: 0.23538449842908665, prediction: 33,real: 33\n",
      "highest_prob_index: 10 max_prob: 0.06538448209090197, prediction: 10,real: 10\n",
      "highest_prob_index: 31 max_prob: 0.03929938407567115, prediction: 136,real: 30\n",
      "highest_prob_index: 10 max_prob: 0.035932514232284725, prediction: 96,real: 96\n",
      "highest_prob_index: 2 max_prob: 0.059072062630092834, prediction: 2,real: 2\n",
      "highest_prob_index: 97 max_prob: 0.11394381022627023, prediction: 103,real: 103\n",
      "highest_prob_index: 320 max_prob: 0.18236142304721994, prediction: 345,real: 345\n",
      "highest_prob_index: 70 max_prob: 0.18958314961423614, prediction: 72,real: 60\n",
      "highest_prob_index: 66 max_prob: 0.02252664361228202, prediction: 452,real: 452\n",
      "highest_prob_index: 320 max_prob: 0.05056633891602074, prediction: 285,real: 285\n",
      "highest_prob_index: 80 max_prob: 0.03602965615055101, prediction: 328,real: 328\n",
      "highest_prob_index: 4 max_prob: 0.24073612566790922, prediction: 4,real: 4\n",
      "highest_prob_index: 117 max_prob: 0.06068336186251843, prediction: 14,real: 14\n",
      "highest_prob_index: 11 max_prob: 0.1599404145190896, prediction: 11,real: 200\n",
      "highest_prob_index: 64 max_prob: 0.050035183081192695, prediction: 268,real: 226\n",
      "highest_prob_index: 66 max_prob: 0.02686577297933227, prediction: 251,real: 362\n",
      "highest_prob_index: 166 max_prob: 0.08116557943060917, prediction: 176,real: 176\n",
      "highest_prob_index: 305 max_prob: 0.05943774894083228, prediction: 329,real: 329\n",
      "highest_prob_index: 23 max_prob: 0.07994152923584591, prediction: 40,real: 40\n",
      "highest_prob_index: 11 max_prob: 0.09592403197226748, prediction: 11,real: 33\n",
      "highest_prob_index: 425 max_prob: 0.048886647596383066, prediction: 456,real: 456\n",
      "highest_prob_index: 272 max_prob: 0.08145826209824415, prediction: 291,real: 291\n",
      "highest_prob_index: 433 max_prob: 0.04891141881873783, prediction: 464,real: 464\n",
      "highest_prob_index: 95 max_prob: 0.037911983560102114, prediction: 100,real: 100\n",
      "highest_prob_index: 11 max_prob: 0.044509852716959744, prediction: 405,real: 405\n",
      "highest_prob_index: 80 max_prob: 0.04628088207886744, prediction: 84,real: 84\n",
      "highest_prob_index: 31 max_prob: 0.2389275511634952, prediction: 33,real: 33\n",
      "highest_prob_index: 11 max_prob: 0.25613440603300947, prediction: 11,real: 11\n",
      "highest_prob_index: 58 max_prob: 0.16934197607833182, prediction: 60,real: 60\n",
      "highest_prob_index: 31 max_prob: 0.04243822347156274, prediction: 486,real: 486\n",
      "highest_prob_index: 66 max_prob: 0.020292700106240527, prediction: 247,real: 334\n",
      "highest_prob_index: 66 max_prob: 0.03328045525541013, prediction: 160,real: 160\n",
      "highest_prob_index: 9 max_prob: 0.0518394271871903, prediction: 7,real: 148\n",
      "highest_prob_index: 296 max_prob: 0.06328366636856801, prediction: 317,real: 169\n",
      "highest_prob_index: 103 max_prob: 0.02443927350137956, prediction: 109,real: 109\n",
      "highest_prob_index: 288 max_prob: 0.0840615140694512, prediction: 309,real: 309\n",
      "highest_prob_index: 329 max_prob: 0.4538696049226619, prediction: 354,real: 354\n",
      "highest_prob_index: 183 max_prob: 0.03963562437427987, prediction: 193,real: 193\n",
      "highest_prob_index: 80 max_prob: 0.02567812011239733, prediction: 376,real: 376\n",
      "highest_prob_index: 46 max_prob: 0.10939064952554946, prediction: 48,real: 11\n",
      "highest_prob_index: 70 max_prob: 0.18038950264696244, prediction: 72,real: 72\n",
      "highest_prob_index: 4 max_prob: 0.24073612566790922, prediction: 4,real: 4\n",
      "highest_prob_index: 80 max_prob: 0.05102808202758278, prediction: 84,real: 84\n",
      "highest_prob_index: 423 max_prob: 0.15610807420766998, prediction: 454,real: 454\n",
      "highest_prob_index: 70 max_prob: 0.18958314961423614, prediction: 72,real: 60\n",
      "highest_prob_index: 80 max_prob: 0.029989707005830906, prediction: 327,real: 327\n",
      "highest_prob_index: 70 max_prob: 0.2165569315241288, prediction: 72,real: 72\n",
      "highest_prob_index: 117 max_prob: 0.11028639336457897, prediction: 123,real: 130\n",
      "highest_prob_index: 80 max_prob: 0.021912074787449023, prediction: 137,real: 337\n",
      "highest_prob_index: 449 max_prob: 0.04928113983081237, prediction: 482,real: 482\n",
      "highest_prob_index: 80 max_prob: 0.03602965615055101, prediction: 328,real: 328\n",
      "highest_prob_index: 166 max_prob: 0.082614526386354, prediction: 176,real: 218\n",
      "highest_prob_index: 11 max_prob: 0.1027850260865083, prediction: 70,real: 11\n",
      "highest_prob_index: 2 max_prob: 0.057387412440787655, prediction: 42,real: 80\n",
      "highest_prob_index: 97 max_prob: 0.11394381022627023, prediction: 103,real: 103\n",
      "highest_prob_index: 31 max_prob: 0.09454863054354387, prediction: 354,real: 196\n",
      "highest_prob_index: 58 max_prob: 0.2014959301978097, prediction: 60,real: 60\n",
      "highest_prob_index: 390 max_prob: 0.02574278197933777, prediction: 281,real: 502\n",
      "highest_prob_index: 11 max_prob: 0.08745772758948277, prediction: 200,real: 200\n",
      "highest_prob_index: 329 max_prob: 0.4517655626662186, prediction: 354,real: 354\n",
      "highest_prob_index: 390 max_prob: 0.028281571236403593, prediction: 19,real: 19\n",
      "highest_prob_index: 320 max_prob: 0.0458580367080631, prediction: 159,real: 168\n"
     ]
    }
   ],
   "source": [
    "import operator\n",
    "\n",
    "for i in range(100):\n",
    "    values=svmProbPredictions[i]\n",
    "    #min_index, min_value = min(enumerate(values), key=operator.itemgetter(1))\n",
    "    max_index, max_value = max(enumerate(values), key=operator.itemgetter(1))\n",
    "    print(\"highest_prob_index: {} max_prob: {}, prediction: {},real: {}\".format(max_index,max_value,svmPredictions[i],y_test[i]))"
   ]
  },
  {
   "cell_type": "code",
   "execution_count": 54,
   "metadata": {
    "collapsed": true
   },
   "outputs": [],
   "source": [
    "def getUpperAndLowerQuartile(data):\n",
    "    q75, q25 = np.percentile(data, [75 ,25])\n",
    "    return q75,q25\n",
    "\n",
    "def getUpperAndLowerOutlierThreshold(data):\n",
    "    q75, q25 = getUpperAndLowerQuartile(data)\n",
    "    iqr = q75 - q25\n",
    "    upperOutlier = q75 + iqr*1.5\n",
    "    lowerOutlier = q25 - iqr*1.5\n",
    "    return upperOutlier,lowerOutlier"
   ]
  },
  {
   "cell_type": "code",
   "execution_count": 56,
   "metadata": {
    "collapsed": false
   },
   "outputs": [],
   "source": [
    "upperOutlier,lowerOutlier = getUpperAndLowerOutlierThreshold(svmProbPredictions)\n",
    "q75,q25 = getUpperAndLowerQuartile(svmProbPredictions)"
   ]
  },
  {
   "cell_type": "code",
   "execution_count": 58,
   "metadata": {
    "collapsed": false
   },
   "outputs": [
    {
     "name": "stdout",
     "output_type": "stream",
     "text": [
      "0.00021697852937 0.461086497197\n",
      "0.00320784050248 -0.000950604580726\n",
      "0.00164842359628 0.000608812325476\n"
     ]
    }
   ],
   "source": [
    "print (np.min(svmProbPredictions),np.max(svmProbPredictions))\n",
    "print (upperOutlier,lowerOutlier)\n",
    "print (q75,q25)"
   ]
  },
  {
   "cell_type": "code",
   "execution_count": 59,
   "metadata": {
    "collapsed": false
   },
   "outputs": [],
   "source": [
    "from sklearn.metrics import confusion_matrix\n",
    "\n",
    "conf_mat = confusion_matrix(y_test,svmPredictions)\n",
    "\n",
    "confusion_matrix_frame = pnd.DataFrame(conf_mat)"
   ]
  },
  {
   "cell_type": "code",
   "execution_count": 62,
   "metadata": {
    "collapsed": false
   },
   "outputs": [
    {
     "name": "stdout",
     "output_type": "stream",
     "text": [
      "Here is list of number of correct predictions with in test data\n",
      "[ 1  3  4 12  3  1  1  2  2  9  1  1  1  1  0  3  0  0  1  2  7  0  3  2  4\n",
      "  7  1  0  1  0  0  0  5  0  0  2  0  0  4  1 11  1  1  0  3  0  5  1  3  0\n",
      "  0  1  5  0  5  0  1  1  0  7  0  0  1  0  2  0  2  1  0  1  0  1  3  0  0\n",
      "  0  5  0  1  0  0  1  0  1  4  1  0  1  1  0  2  1  0  0  1  0  0  0  0  3\n",
      "  2  0  0  0  0  1  2  0  0  1  1  0  1  0  0  1  6  5  0  0  2  1  0  0  3\n",
      "  0  0  4  1  5  4  1  1  0  0  1  0  0  0  4  1 13  0  0  0  2  1  0  8 11\n",
      "  3  0  1  1  0  1  0  0  0  4  0  1  0  1  0  1  0  3  2  6  1  3  2  1  3\n",
      "  1  0  2  1  0  0  0  0  3  7  1  0  0  0  0  0  0  0  0  0  0]\n",
      "++++++++++++++++++++++++++++++++++++++++++++++++++++++++++++++++++++++++++++++++\n",
      "Total values for prediction were: 400\n",
      "Total values correctly predicted are: 295\n",
      "++++++++++++++++++++++++++++++++++++++++++++++++++++++++++++++++++++++++++++++++\n"
     ]
    }
   ],
   "source": [
    "print (\"Here is list of number of correct predictions with in test data\\n{}\".format(conf_mat.diagonal()))\n",
    "print (\"+\"*80)\n",
    "print (\"Total values for prediction were:\",y_test.shape[0])\n",
    "print (\"Total values correctly predicted are:\",sum(conf_mat.diagonal()))\n",
    "print (\"+\"*80)"
   ]
  },
  {
   "cell_type": "code",
   "execution_count": 76,
   "metadata": {
    "collapsed": false
   },
   "outputs": [],
   "source": [
    "#saveBack = pnd.DataFrame({'ERROR':X_test, 'true Analysis': y_test, 'Predicted Analysis': svmPredictions})\n",
    "#saveBack = pnd.DataFrame({'true Analysis': y_test, 'Predicted Analysis': svmPredictions})"
   ]
  },
  {
   "cell_type": "code",
   "execution_count": 117,
   "metadata": {
    "collapsed": false
   },
   "outputs": [
    {
     "name": "stdout",
     "output_type": "stream",
     "text": [
      "295\n",
      "535\n",
      "<class 'numpy.ndarray'>\n",
      "Delay in printing Q_screenname.\n",
      "400 400\n",
      "400 400\n"
     ]
    }
   ],
   "source": [
    "print (len(saveBack[saveBack['Predicted Analysis'] == saveBack['true Analysis']]))\n",
    "#print (saveBack)\n",
    "y_test_value= []\n",
    "svmPrediction_value = []\n",
    "a = pnd.factorize(automationLogsFiltered['Analysis'])\n",
    "print (max(a[0]))\n",
    "print (type(y_test))\n",
    "print (a[1][535])#map(lambda x: \n",
    "print (len(y_test),len(svmPredictions))\n",
    "for i in y_test:\n",
    "    #for index,value in enumerate(a[0]):\n",
    "        #if i == value:\n",
    "    y_test_value.append(a[1][i])\n",
    "\n",
    "for i in svmPredictions:\n",
    "    svmPrediction_value.append(a[1][i])\n",
    "\n",
    "print (len(y_test_value),len(svmPrediction_value))\n",
    "saveBack = pnd.DataFrame({'true Analysis': y_test_value, 'Predicted Analysis': svmPrediction_value})"
   ]
  },
  {
   "cell_type": "code",
   "execution_count": 118,
   "metadata": {
    "collapsed": false
   },
   "outputs": [
    {
     "name": "stdout",
     "output_type": "stream",
     "text": [
      "400\n"
     ]
    }
   ],
   "source": [
    "print (len(saveBack))\n",
    "saveBack.to_csv(\"Predicted.csv\")"
   ]
  },
  {
   "cell_type": "code",
   "execution_count": 59,
   "metadata": {
    "collapsed": false
   },
   "outputs": [
    {
     "name": "stdout",
     "output_type": "stream",
     "text": [
      "3769\n",
      "5557\n"
     ]
    }
   ],
   "source": [
    "svmExtraPredictions = clf.predict(X_train)\n",
    "trainpredict = pnd.DataFrame({'true Output': y_train, 'Predicted output': svmExtraPredictions})\n",
    "print len(trainpredict[trainpredict['Predicted output'] == trainpredict['true Output']])\n",
    "print len(trainpredict)"
   ]
  },
  {
   "cell_type": "code",
   "execution_count": 60,
   "metadata": {
    "collapsed": false
   },
   "outputs": [
    {
     "name": "stderr",
     "output_type": "stream",
     "text": [
      "//anaconda2/lib/python2.7/site-packages/sklearn/metrics/classification.py:177: FutureWarning: numpy equal will not check object identity in the future. The comparison did not return the same result as suggested by the identity (`is`)) and will change.\n",
      "  score = y_true == y_pred\n"
     ]
    },
    {
     "data": {
      "text/plain": [
       "0.67842360986143602"
      ]
     },
     "execution_count": 60,
     "metadata": {},
     "output_type": "execute_result"
    }
   ],
   "source": [
    "accuracy_score(y_train,svmExtraPredictions)"
   ]
  },
  {
   "cell_type": "code",
   "execution_count": 18,
   "metadata": {
    "collapsed": false
   },
   "outputs": [],
   "source": [
    "from nltk.tokenize import RegexpTokenizer\n",
    "from stop_words import get_stop_words\n",
    "from nltk.stem.porter import PorterStemmer\n",
    "from gensim import corpora, models\n",
    "import gensim\n",
    "import pandas as pnd\n",
    "\n",
    "def mytokenizer(x):\n",
    "    raw = x.lower()\n",
    "    tokens = tokenizer.tokenize(raw)\n",
    "    return tokens\n",
    "    #print tokens\n",
    "    \n",
    "\n",
    "#texts = [automationLogsFiltered['finalFeature'][1:5].apply(lambda x: mytokenizer(x))]\n",
    " \n",
    "texts = [mytokenizer(text) for text in automationLogsFiltered['finalFeature']]\n",
    "#print (texts)\n",
    "\n",
    "# turn our tokenized documents into a id <-> term dictionary\n",
    "dictionary = corpora.Dictionary(texts)\n",
    "    \n",
    "# convert tokenized documents into a document-term matrix\n",
    "corpus = [dictionary.doc2bow(text) for text in texts]"
   ]
  },
  {
   "cell_type": "code",
   "execution_count": 19,
   "metadata": {
    "collapsed": true
   },
   "outputs": [],
   "source": [
    "import sys\n",
    "import os\n",
    "LDA_CORPUS_SIZE=len(automationLogsFiltered)\n",
    "#LDA_CORPUS_SIZE=2000"
   ]
  },
  {
   "cell_type": "code",
   "execution_count": 50,
   "metadata": {
    "collapsed": false
   },
   "outputs": [
    {
     "name": "stdout",
     "output_type": "stream",
     "text": [
      "38548.59\n"
     ]
    }
   ],
   "source": [
    "\n",
    "a= os.times()[4]\n",
    "\n",
    "dldamodel = gensim.models.ldamodel.LdaModel(corpus[1:LDA_CORPUS_SIZE], \n",
    "                                            num_topics=max(pnd.factorize(automationLogsFiltered['Analysis'][1:LDA_CORPUS_SIZE])[0]) + 1\n",
    "                                            , id2word = dictionary, passes=2000)\n",
    "print os.times()[4] -a  "
   ]
  },
  {
   "cell_type": "code",
   "execution_count": 21,
   "metadata": {
    "collapsed": false
   },
   "outputs": [],
   "source": [
    "'''\n",
    "import joblib\n",
    "import os\n",
    "if not os.path.exists(\"models/ldamodelPOC.pkl\"):\n",
    "     joblib.dump(dldamodel, \"models/ldamodelPOC.pkl\")\n",
    "else:\n",
    "    dldamodel = joblib.load('models/ldamodelPOC.pkl') \n",
    "'''\n",
    "#joblib.dump(dldamodel, \"models/ldamodelPOC.pkl\")\n",
    "import joblib\n",
    "dldamodel = joblib.load('models/ldamodelPOC.pkl')"
   ]
  },
  {
   "cell_type": "code",
   "execution_count": 54,
   "metadata": {
    "collapsed": true
   },
   "outputs": [],
   "source": [
    "# dldamodel = joblib.load('models/ldamodelPOC.pkl') "
   ]
  },
  {
   "cell_type": "code",
   "execution_count": 22,
   "metadata": {
    "collapsed": false
   },
   "outputs": [
    {
     "name": "stdout",
     "output_type": "stream",
     "text": [
      "536\n",
      "3992\n",
      "3992\n"
     ]
    }
   ],
   "source": [
    "from gensim import matutils \n",
    "print dldamodel.num_topics\n",
    "print dldamodel.num_updates\n",
    "print len(corpus[1:LDA_CORPUS_SIZE])\n",
    "corpus_lda_dense = matutils.corpus2dense(dldamodel[corpus[1:LDA_CORPUS_SIZE]], \n",
    "                                         num_terms=dldamodel.num_topics,\n",
    "                                        num_docs=dldamodel.num_updates)"
   ]
  },
  {
   "cell_type": "code",
   "execution_count": 116,
   "metadata": {
    "collapsed": false
   },
   "outputs": [
    {
     "name": "stdout",
     "output_type": "stream",
     "text": [
      "0\n",
      "[[[ 0.29792687  0.90018654  0.90018654  0.90013039  0.90015638  0.90018654\n",
      "    0.89987856  0.90017468  0.90018654  0.89865518  0.90018654  0.89999372\n",
      "    0.90004861  0.44374123  0.45949128  0.69793731  0.72744232  0.39352271\n",
      "    0.19088715  0.80018657  0.08882438  0.70011824]]]\n",
      "1\n",
      "[]\n",
      "2\n",
      "[[[ 0.50250411  0.50608641  0.49928254  0.75675309  0.75728524  0.75779724\n",
      "    0.7779851   0.87523323  0.87523323  0.87523323  0.87523323  0.87523323\n",
      "    0.87521636  0.87522197  0.87523323  0.87523323  0.87523323  0.87523323\n",
      "    0.87523323  0.87523323  0.87523323  0.87521398  0.87523323  0.87523323\n",
      "    0.87523323  0.87523323  0.87523323  0.87523323  0.87523323  0.87523323\n",
      "    0.87523323  0.87523323  0.87523323  0.87523323  0.87523323  0.87523323\n",
      "    0.87523323  0.87523323  0.87523323  0.87523323  0.87523323  0.87523323\n",
      "    0.87522095  0.87523323  0.87523323  0.87522966  0.87523323  0.87523323\n",
      "    0.87523323  0.87523323  0.87523323  0.87523323  0.87523323  0.87523323\n",
      "    0.87523323  0.87523323  0.87523323  0.87523323  0.87523323  0.87523323\n",
      "    0.87523323  0.87523323  0.87523323  0.87521648  0.32465243  0.7779851\n",
      "    0.77797699  0.7779851   0.7779851 ]]]\n",
      "3\n",
      "[]\n",
      "4\n",
      "[]\n"
     ]
    }
   ],
   "source": [
    "for i in range(5):\n",
    "    print (i)\n",
    "    print corpus_lda_dense[i,[np.nonzero(corpus_lda_dense[i])]]"
   ]
  },
  {
   "cell_type": "code",
   "execution_count": 13,
   "metadata": {
    "collapsed": true
   },
   "outputs": [],
   "source": [
    "from sklearn.grid_search import GridSearchCV\n",
    "from sklearn.metrics import accuracy_score\n",
    "from sklearn.metrics import f1_score\n",
    "\n",
    "class MyCVClassifier(GridSearchCV):\n",
    "    def __init__(self,classificationModel,tuned_params,cv,score):\n",
    "        self.tuned_params = tuned_params # list of dicts names to encode\n",
    "        self.model = classificationModel # Model type; e.g LogisticRegression(), svm.SVC() etc.\n",
    "        self.cv = cv # 'k' value for k-fold cross validation\n",
    "        self.score = score # example 'accuracy' - which function to use for scoring from GridSearchCV\n",
    "        self.clf= GridSearchCV(self.model, self.tuned_params, cv=5,\n",
    "                   scoring=score)\n",
    "    \n",
    "    def fit(self,X,y):\n",
    "        return self.clf.fit(X,y)\n",
    "    \n",
    "    def fit_transform(self,X,y):\n",
    "        return self.clf.fit(X,y).transform(X)\n",
    "    \n",
    "    def transform(self,X,y):\n",
    "        return self.clf.transform(X,y)\n",
    "    \n",
    "    def printReport(self):\n",
    "        print(\"Best parameters set found on development set:\")\n",
    "        print()\n",
    "        print(self.clf.best_params_)\n",
    "        print()\n",
    "        print(\"Grid scores on development set:\")\n",
    "        print()\n",
    "        for params, mean_score, scores in self.clf.grid_scores_:\n",
    "            print(\"%0.3f (+/-%0.03f) for %r\"\n",
    "                  % (mean_score, scores.std() * 2, params))\n",
    "        print()\n",
    "\n",
    "        print(\"Detailed classification report:\")\n",
    "        print()\n",
    "        print(\"The model is trained on the full development set.\")\n",
    "        print(\"The scores are computed on the full evaluation set.\")\n",
    "        print()\n",
    "        y_true, y_pred = y_test, self.clf.predict(X_test)\n",
    "        print(accuracy_score(y_true, y_pred))\n",
    "        print(f1_score(y_true, y_pred)) # formula for f1_score = 2*P*R/P+R\n",
    "        print()"
   ]
  },
  {
   "cell_type": "code",
   "execution_count": 24,
   "metadata": {
    "collapsed": false
   },
   "outputs": [],
   "source": [
    "from sklearn.cross_validation import train_test_split\n",
    "X_train, X_test, y_train, y_test = train_test_split(corpus_lda_dense.transpose(), \n",
    "                                                    pnd.factorize(automationLogsFiltered['Analysis'][1:LDA_CORPUS_SIZE])[0], \n",
    "                                                    test_size=0.20, \n",
    "                                                    random_state=42)"
   ]
  },
  {
   "cell_type": "code",
   "execution_count": 107,
   "metadata": {
    "collapsed": true
   },
   "outputs": [],
   "source": [
    "from sklearn import svm\n",
    "import numpy as np\n",
    "tuned_parameters = [{'kernel': ['linear'], 'C': np.logspace(-2,3,10),'decision_function_shape' :['ovr']}]\n",
    "#tuned_parameters = [{'kernel': ['linear'], 'C': [5],'decision_function_shape' :['ovr']}]\n",
    "score = 'accuracy'\n",
    "clf = MyCVClassifier(svm.SVC(), tuned_params = tuned_parameters, cv=5, score=score)"
   ]
  },
  {
   "cell_type": "code",
   "execution_count": 108,
   "metadata": {
    "collapsed": false
   },
   "outputs": [
    {
     "name": "stdout",
     "output_type": "stream",
     "text": [
      "Best parameters set found on development set:\n",
      "()\n",
      "{'kernel': 'linear', 'C': 21.544346900318846, 'decision_function_shape': 'ovr'}\n",
      "()\n",
      "Grid scores on development set:\n",
      "()\n",
      "0.054 (+/-0.024) for {'kernel': 'linear', 'C': 0.01, 'decision_function_shape': 'ovr'}\n",
      "0.168 (+/-0.070) for {'kernel': 'linear', 'C': 0.035938136638046278, 'decision_function_shape': 'ovr'}\n",
      "0.461 (+/-0.182) for {'kernel': 'linear', 'C': 0.12915496650148839, 'decision_function_shape': 'ovr'}\n",
      "0.574 (+/-0.209) for {'kernel': 'linear', 'C': 0.46415888336127797, 'decision_function_shape': 'ovr'}\n",
      "0.676 (+/-0.206) for {'kernel': 'linear', 'C': 1.6681005372000592, 'decision_function_shape': 'ovr'}\n",
      "0.717 (+/-0.196) for {'kernel': 'linear', 'C': 5.9948425031894086, 'decision_function_shape': 'ovr'}\n",
      "0.719 (+/-0.191) for {'kernel': 'linear', 'C': 21.544346900318846, 'decision_function_shape': 'ovr'}\n",
      "0.719 (+/-0.191) for {'kernel': 'linear', 'C': 77.426368268112782, 'decision_function_shape': 'ovr'}\n",
      "0.719 (+/-0.191) for {'kernel': 'linear', 'C': 278.2559402207126, 'decision_function_shape': 'ovr'}\n",
      "0.719 (+/-0.191) for {'kernel': 'linear', 'C': 1000.0, 'decision_function_shape': 'ovr'}\n",
      "()\n",
      "Detailed classification report:\n",
      "()\n",
      "The model is trained on the full development set.\n",
      "The scores are computed on the full evaluation set.\n",
      "()\n",
      "0.7375\n",
      "0.717343738233\n",
      "()\n"
     ]
    },
    {
     "name": "stderr",
     "output_type": "stream",
     "text": [
      "//anaconda2/lib/python2.7/site-packages/sklearn/metrics/classification.py:756: DeprecationWarning: The default `weighted` averaging is deprecated, and from version 0.18, use of precision, recall or F-score with multiclass or multilabel data or pos_label=None will result in an exception. Please set an explicit value for `average`, one of (None, 'micro', 'macro', 'weighted', 'samples'). In cross validation use, for instance, scoring=\"f1_weighted\" instead of scoring=\"f1\".\n",
      "  sample_weight=sample_weight)\n"
     ]
    }
   ],
   "source": [
    "svmPredictions = clf.fit(X_train, y_train)\n",
    "clf.printReport() "
   ]
  },
  {
   "cell_type": "code",
   "execution_count": 29,
   "metadata": {
    "collapsed": false
   },
   "outputs": [
    {
     "data": {
      "text/plain": [
       "(536, 3992)"
      ]
     },
     "execution_count": 29,
     "metadata": {},
     "output_type": "execute_result"
    }
   ],
   "source": [
    "corpus_lda_dense.shape"
   ]
  },
  {
   "cell_type": "code",
   "execution_count": 31,
   "metadata": {
    "collapsed": false
   },
   "outputs": [
    {
     "data": {
      "text/plain": [
       "535"
      ]
     },
     "execution_count": 31,
     "metadata": {},
     "output_type": "execute_result"
    }
   ],
   "source": [
    "max(pnd.factorize(automationLogsFiltered['Analysis'])[0])"
   ]
  },
  {
   "cell_type": "code",
   "execution_count": 46,
   "metadata": {
    "collapsed": false
   },
   "outputs": [],
   "source": [
    "from sklearn.linear_model import LogisticRegression"
   ]
  },
  {
   "cell_type": "code",
   "execution_count": 47,
   "metadata": {
    "collapsed": false
   },
   "outputs": [
    {
     "data": {
      "text/plain": [
       "LogisticRegression(C=1.0, class_weight=None, dual=False, fit_intercept=True,\n",
       "          intercept_scaling=1, max_iter=100, multi_class='ovr', n_jobs=1,\n",
       "          penalty='l2', random_state=None, solver='liblinear', tol=0.0001,\n",
       "          verbose=0, warm_start=False)"
      ]
     },
     "execution_count": 47,
     "metadata": {},
     "output_type": "execute_result"
    }
   ],
   "source": [
    "from scipy import sparse\n",
    "from sklearn.linear_model import LogisticRegression\n",
    "logisticModel1 = LogisticRegression(multi_class='ovr')\n",
    "logisticModel1.fit(X_train, y_train)"
   ]
  },
  {
   "cell_type": "code",
   "execution_count": 48,
   "metadata": {
    "collapsed": true
   },
   "outputs": [],
   "source": [
    "logisticpredict_prob=logisticModel1.predict_proba(X_test)"
   ]
  },
  {
   "cell_type": "code",
   "execution_count": 49,
   "metadata": {
    "collapsed": false
   },
   "outputs": [
    {
     "name": "stdout",
     "output_type": "stream",
     "text": [
      "(799, 495)\n",
      "(799, 7574)\n",
      "(3993, 7574)\n",
      "535\n"
     ]
    }
   ],
   "source": [
    "#logisticpredict_prob[0].index(max(logisticpredict_prob[0]))\n",
    "print logisticpredict_prob.shape\n",
    "print X_test.shape\n",
    "print X.shape\n",
    "print max(pnd.factorize(automationLogsFiltered['Analysis'])[0])"
   ]
  },
  {
   "cell_type": "code",
   "execution_count": 50,
   "metadata": {
    "collapsed": true
   },
   "outputs": [],
   "source": []
  },
  {
   "cell_type": "code",
   "execution_count": 51,
   "metadata": {
    "collapsed": false
   },
   "outputs": [
    {
     "name": "stdout",
     "output_type": "stream",
     "text": [
      "8 0.0268003598071\n"
     ]
    }
   ],
   "source": [
    "print max_index,max_value"
   ]
  },
  {
   "cell_type": "code",
   "execution_count": 52,
   "metadata": {
    "collapsed": true
   },
   "outputs": [],
   "source": [
    "logisticpredict=logisticModel1.predict(X_test)"
   ]
  },
  {
   "cell_type": "code",
   "execution_count": 60,
   "metadata": {
    "collapsed": false
   },
   "outputs": [
    {
     "name": "stdout",
     "output_type": "stream",
     "text": [
      "highest_prob_index: 8 max_prob: 0.0268003598071, prediction: 8,real: 8\n",
      "highest_prob_index: 142 max_prob: 0.0416517677926, prediction: 148,real: 202\n",
      "highest_prob_index: 421 max_prob: 0.0982823081022, prediction: 452,real: 318\n",
      "highest_prob_index: 70 max_prob: 0.247039448866, prediction: 72,real: 72\n",
      "highest_prob_index: 423 max_prob: 0.234594489615, prediction: 454,real: 454\n",
      "highest_prob_index: 2 max_prob: 0.0334386525073, prediction: 2,real: 80\n",
      "highest_prob_index: 117 max_prob: 0.14162639534, prediction: 123,real: 123\n",
      "highest_prob_index: 8 max_prob: 0.025281034672, prediction: 8,real: 76\n",
      "highest_prob_index: 43 max_prob: 0.233558714244, prediction: 45,real: 45\n",
      "highest_prob_index: 349 max_prob: 0.366686991642, prediction: 375,real: 375\n",
      "highest_prob_index: 4 max_prob: 0.208622150958, prediction: 4,real: 3\n",
      "highest_prob_index: 419 max_prob: 0.308272253375, prediction: 450,real: 450\n",
      "highest_prob_index: 70 max_prob: 0.247039448866, prediction: 72,real: 72\n",
      "highest_prob_index: 48 max_prob: 0.212044215573, prediction: 50,real: 50\n",
      "highest_prob_index: 117 max_prob: 0.122350466963, prediction: 123,real: 32\n",
      "highest_prob_index: 320 max_prob: 0.356462559024, prediction: 345,real: 345\n",
      "highest_prob_index: 11 max_prob: 0.0970022416401, prediction: 11,real: 11\n",
      "highest_prob_index: 11 max_prob: 0.010092610162, prediction: 11,real: 95\n",
      "highest_prob_index: 183 max_prob: 0.213376255996, prediction: 193,real: 193\n",
      "highest_prob_index: 4 max_prob: 0.330481610952, prediction: 4,real: 4\n",
      "highest_prob_index: 329 max_prob: 0.417865597033, prediction: 354,real: 354\n",
      "highest_prob_index: 423 max_prob: 0.369236814754, prediction: 454,real: 454\n",
      "highest_prob_index: 344 max_prob: 0.139586325446, prediction: 369,real: 369\n",
      "highest_prob_index: 53 max_prob: 0.0463546245236, prediction: 55,real: 504\n",
      "highest_prob_index: 117 max_prob: 0.122350466963, prediction: 123,real: 32\n",
      "highest_prob_index: 95 max_prob: 0.0692420434681, prediction: 100,real: 434\n",
      "highest_prob_index: 11 max_prob: 0.130334405653, prediction: 11,real: 11\n",
      "highest_prob_index: 331 max_prob: 0.0667281184769, prediction: 356,real: 356\n",
      "highest_prob_index: 273 max_prob: 0.336972615845, prediction: 292,real: 292\n",
      "highest_prob_index: 320 max_prob: 0.363327528425, prediction: 345,real: 345\n",
      "highest_prob_index: 152 max_prob: 0.0940327515321, prediction: 159,real: 159\n",
      "highest_prob_index: 329 max_prob: 0.421034789787, prediction: 354,real: 354\n",
      "highest_prob_index: 214 max_prob: 0.0144142778238, prediction: 228,real: 228\n",
      "highest_prob_index: 288 max_prob: 0.310844778109, prediction: 309,real: 309\n",
      "highest_prob_index: 58 max_prob: 0.0247926426842, prediction: 60,real: 115\n",
      "highest_prob_index: 183 max_prob: 0.215524963218, prediction: 193,real: 193\n",
      "highest_prob_index: 9 max_prob: 0.0682264188394, prediction: 9,real: 342\n",
      "highest_prob_index: 166 max_prob: 0.131439187187, prediction: 176,real: 176\n",
      "highest_prob_index: 305 max_prob: 0.0666029752078, prediction: 329,real: 32\n",
      "highest_prob_index: 418 max_prob: 0.332481856379, prediction: 449,real: 449\n",
      "highest_prob_index: 43 max_prob: 0.252512025533, prediction: 45,real: 45\n",
      "highest_prob_index: 385 max_prob: 0.0322864629843, prediction: 413,real: 197\n",
      "highest_prob_index: 166 max_prob: 0.241821762445, prediction: 176,real: 176\n",
      "highest_prob_index: 58 max_prob: 0.0492268256495, prediction: 60,real: 340\n",
      "highest_prob_index: 40 max_prob: 0.132040228503, prediction: 42,real: 42\n",
      "highest_prob_index: 421 max_prob: 0.214346712933, prediction: 452,real: 452\n",
      "highest_prob_index: 272 max_prob: 0.131270236608, prediction: 291,real: 291\n",
      "highest_prob_index: 108 max_prob: 0.0407596893097, prediction: 114,real: 114\n",
      "highest_prob_index: 138 max_prob: 0.116540490639, prediction: 144,real: 144\n",
      "highest_prob_index: 58 max_prob: 0.0813036645138, prediction: 60,real: 60\n",
      "highest_prob_index: 329 max_prob: 0.408271888864, prediction: 354,real: 354\n",
      "highest_prob_index: 4 max_prob: 0.268760924824, prediction: 4,real: 4\n",
      "highest_prob_index: 58 max_prob: 0.0282884902496, prediction: 60,real: 60\n",
      "highest_prob_index: 2 max_prob: 0.314054110208, prediction: 2,real: 2\n",
      "highest_prob_index: 58 max_prob: 0.0851231262672, prediction: 60,real: 19\n",
      "highest_prob_index: 435 max_prob: 0.229510847382, prediction: 466,real: 466\n",
      "highest_prob_index: 53 max_prob: 0.0742282585131, prediction: 55,real: 55\n",
      "highest_prob_index: 350 max_prob: 0.19597897389, prediction: 376,real: 376\n",
      "highest_prob_index: 449 max_prob: 0.287670778204, prediction: 482,real: 0\n",
      "highest_prob_index: 4 max_prob: 0.268760924824, prediction: 4,real: 4\n",
      "highest_prob_index: 10 max_prob: 0.140158713957, prediction: 10,real: 10\n",
      "highest_prob_index: 103 max_prob: 0.237772117842, prediction: 109,real: 109\n",
      "highest_prob_index: 385 max_prob: 0.379429668073, prediction: 413,real: 413\n",
      "highest_prob_index: 70 max_prob: 0.169193088928, prediction: 72,real: 72\n",
      "highest_prob_index: 296 max_prob: 0.155734655897, prediction: 317,real: 317\n",
      "highest_prob_index: 148 max_prob: 0.0383597147126, prediction: 155,real: 323\n",
      "highest_prob_index: 143 max_prob: 0.0838082703828, prediction: 149,real: 131\n",
      "highest_prob_index: 153 max_prob: 0.100054016944, prediction: 160,real: 160\n",
      "highest_prob_index: 349 max_prob: 0.368125099611, prediction: 375,real: 375\n",
      "highest_prob_index: 349 max_prob: 0.370634195324, prediction: 375,real: 375\n",
      "highest_prob_index: 3 max_prob: 0.0847383080763, prediction: 3,real: 3\n",
      "highest_prob_index: 419 max_prob: 0.308272253375, prediction: 450,real: 450\n",
      "highest_prob_index: 70 max_prob: 0.247039448866, prediction: 72,real: 60\n",
      "highest_prob_index: 31 max_prob: 0.173832365046, prediction: 33,real: 33\n",
      "highest_prob_index: 272 max_prob: 0.131270236608, prediction: 291,real: 291\n",
      "highest_prob_index: 58 max_prob: 0.0151584140315, prediction: 60,real: 207\n",
      "highest_prob_index: 420 max_prob: 0.337503912833, prediction: 451,real: 451\n",
      "highest_prob_index: 303 max_prob: 0.2740337833, prediction: 327,real: 327\n",
      "highest_prob_index: 273 max_prob: 0.336972615845, prediction: 292,real: 292\n",
      "highest_prob_index: 38 max_prob: 0.0768726297022, prediction: 40,real: 175\n",
      "highest_prob_index: 418 max_prob: 0.332481856379, prediction: 449,real: 449\n",
      "highest_prob_index: 70 max_prob: 0.245006183633, prediction: 72,real: 72\n",
      "highest_prob_index: 288 max_prob: 0.0736262819465, prediction: 309,real: 357\n",
      "highest_prob_index: 166 max_prob: 0.143943345318, prediction: 176,real: 176\n",
      "highest_prob_index: 420 max_prob: 0.251958299128, prediction: 451,real: 16\n",
      "highest_prob_index: 449 max_prob: 0.287670778204, prediction: 482,real: 482\n",
      "highest_prob_index: 153 max_prob: 0.100054016944, prediction: 160,real: 160\n",
      "highest_prob_index: 4 max_prob: 0.268760924824, prediction: 4,real: 4\n",
      "highest_prob_index: 183 max_prob: 0.198395371119, prediction: 193,real: 193\n",
      "highest_prob_index: 52 max_prob: 0.120704135065, prediction: 54,real: 54\n",
      "highest_prob_index: 4 max_prob: 0.330481610952, prediction: 4,real: 4\n",
      "highest_prob_index: 11 max_prob: 0.109520050964, prediction: 11,real: 200\n",
      "highest_prob_index: 4 max_prob: 0.268760924824, prediction: 4,real: 4\n",
      "highest_prob_index: 10 max_prob: 0.0513282247593, prediction: 10,real: 399\n",
      "highest_prob_index: 346 max_prob: 0.409035208133, prediction: 372,real: 372\n",
      "highest_prob_index: 2 max_prob: 0.314054110208, prediction: 2,real: 2\n",
      "highest_prob_index: 166 max_prob: 0.210206540045, prediction: 176,real: 218\n",
      "highest_prob_index: 70 max_prob: 0.169193088928, prediction: 72,real: 72\n",
      "highest_prob_index: 8 max_prob: 0.0179023528428, prediction: 8,real: 148\n",
      "highest_prob_index: 103 max_prob: 0.0909632774705, prediction: 109,real: 39\n"
     ]
    }
   ],
   "source": [
    "import operator\n",
    "\n",
    "for i in range(100):\n",
    "    values=logisticpredict_prob[i]\n",
    "    #min_index, min_value = min(enumerate(values), key=operator.itemgetter(1))\n",
    "    max_index, max_value = max(enumerate(values), key=operator.itemgetter(1))\n",
    "    print(\"highest_prob_index: {} max_prob: {}, prediction: {},real: {}\".format(max_index,max_value,logisticpredict[i],y_test[i]))"
   ]
  },
  {
   "cell_type": "code",
   "execution_count": 55,
   "metadata": {
    "collapsed": false
   },
   "outputs": [
    {
     "name": "stdout",
     "output_type": "stream",
     "text": [
      "8\n"
     ]
    }
   ],
   "source": [
    "print y_test[0]"
   ]
  },
  {
   "cell_type": "code",
   "execution_count": 75,
   "metadata": {
    "collapsed": false
   },
   "outputs": [],
   "source": [
    "import numpy as np\n",
    "max_prob = [max(x) for x in logisticpredict_prob]\n",
    "q75, q25 = np.percentile(max_prob, [75 ,25])\n",
    "iqr = q75 - q25\n",
    "\n",
    "#OR\n",
    "#iqr = np.subtract(*np.percentile(x, [75, 25]))"
   ]
  },
  {
   "cell_type": "code",
   "execution_count": 69,
   "metadata": {
    "collapsed": false
   },
   "outputs": [
    {
     "data": {
      "text/plain": [
       "0.20884973001472279"
      ]
     },
     "execution_count": 69,
     "metadata": {},
     "output_type": "execute_result"
    }
   ],
   "source": [
    "iqr"
   ]
  },
  {
   "cell_type": "code",
   "execution_count": 72,
   "metadata": {
    "collapsed": false
   },
   "outputs": [],
   "source": [
    "#upperOutlier = q75 + iqr*1.5\n",
    "lowerOutlier = q25 - iqr*1.5"
   ]
  },
  {
   "cell_type": "code",
   "execution_count": 74,
   "metadata": {
    "collapsed": false
   },
   "outputs": [
    {
     "data": {
      "text/plain": [
       "0.070576598334198756"
      ]
     },
     "execution_count": 74,
     "metadata": {},
     "output_type": "execute_result"
    }
   ],
   "source": [
    "q25"
   ]
  },
  {
   "cell_type": "code",
   "execution_count": null,
   "metadata": {
    "collapsed": true
   },
   "outputs": [],
   "source": [
    "max_prob[]"
   ]
  }
 ],
 "metadata": {
  "kernelspec": {
   "display_name": "Python [Root]",
   "language": "python",
   "name": "Python [Root]"
  },
  "language_info": {
   "codemirror_mode": {
    "name": "ipython",
    "version": 3
   },
   "file_extension": ".py",
   "mimetype": "text/x-python",
   "name": "python",
   "nbconvert_exporter": "python",
   "pygments_lexer": "ipython3",
   "version": "3.5.2"
  }
 },
 "nbformat": 4,
 "nbformat_minor": 0
}
