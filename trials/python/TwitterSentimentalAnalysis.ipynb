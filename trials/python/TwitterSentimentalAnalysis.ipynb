{
 "cells": [
  {
   "cell_type": "code",
   "execution_count": 2,
   "metadata": {
    "collapsed": true
   },
   "outputs": [],
   "source": [
    "from tweepy.streaming import StreamListener\n",
    "from tweepy import Stream\n",
    "import tweepy\n",
    "from tweepy import OAuthHandler\n",
    " \n",
    "consumer_key = 'vE4lFQ67OqYQYpLMcB2TBLKP2'\n",
    "consumer_secret = 'RQ7DjXoZCeNQ1MGmarMfzBkE7xTaEUGNCRLaejDCtCg9xCCdmI'\n",
    "access_token = '3177622376-QA4yqr3A3UzAtbGHAr33VLZ5sm5FeYH17INEsJO'\n",
    "access_secret = 'nuDHpvGXt2ZfMrr0BnPLK1Uq3dWGDmz3xnCVHYbbm9uOa'\n",
    " \n",
    "auth = OAuthHandler(consumer_key, consumer_secret)\n",
    "auth.set_access_token(access_token, access_secret)\n",
    " \n",
    "api = tweepy.API(auth)"
   ]
  },
  {
   "cell_type": "code",
   "execution_count": 3,
   "metadata": {
    "collapsed": false
   },
   "outputs": [
    {
     "name": "stdout",
     "output_type": "stream",
     "text": [
      "Podcast: @caseysjournal &amp; @joshhaner discuss their reporting on people displaced by climate change in rural Bolivia https://t.co/pfF1jQJK3h\n",
      "Sentiment Analysis of 11 Million Tweets from Apple Live 2014 - Going beyondpositive and negative https://t.co/2QvhC9bLEs\n",
      "The 2016 U.S. presidential campaign season may seem stranger than fiction, but is it really that bad? Could be worse https://t.co/ExJafs0DQ8\n",
      "Arnold Schwarzenegger -- Tour de Venice ... With My Son Joseph! (PHOTO GALLERY) https://t.co/n7qZ15vw35\n",
      "Playmates takes a pic of unsuspecting, naked woman and posts on Snapchat. The backlash is fierce!\n",
      "https://t.co/0w84lnBhXO\n",
      "European Union moves to broaden air-safety responsibilities https://t.co/9K8x4NCOTO\n",
      "Newt Gingrich: Test every  Muslim on Sharia law and deport those who believe in it https://t.co/N8l58qq58s https://t.co/deGo5l81hI\n",
      "2 Americans were among the more than 80 people killed when a truck barreled through crowds in Nice https://t.co/mClBWHfojc\n",
      "Two Americans among more than 80 dead in terror attack in Nice, France. https://t.co/ssLXyCArm2\n",
      "In Srebrenica, over 6,000 white headstones list the 8,372 names of the victims https://t.co/GJjoiF0yvI https://t.co/m7aBQUEqOp\n"
     ]
    }
   ],
   "source": [
    "for status in tweepy.Cursor(api.home_timeline).items(10):\n",
    "    # Process a single status\n",
    "    print(status.text) "
   ]
  },
  {
   "cell_type": "code",
   "execution_count": 5,
   "metadata": {
    "collapsed": false
   },
   "outputs": [
    {
     "data": {
      "text/plain": [
       "'from tweepy import Stream\\nfrom tweepy.streaming import StreamListener\\n \\nclass MyListener(StreamListener):\\n \\n    def on_data(self, data):\\n        try:\\n            with open(\\'python.json\\', \\'a\\') as f:\\n                f.write(data)\\n                return True\\n        except BaseException as e:\\n            print(\"Error on_data: %s\" % str(e))\\n        return True\\n \\n    def on_error(self, status):\\n        print(status)\\n        return True\\n\\ntwitter_stream = Stream(auth, MyListener())\\ntwitter_stream.filter(track=[\\'trump\\', \\'clinton\\'])'"
      ]
     },
     "execution_count": 5,
     "metadata": {},
     "output_type": "execute_result"
    }
   ],
   "source": [
    "'''from tweepy import Stream\n",
    "from tweepy.streaming import StreamListener\n",
    " \n",
    "class MyListener(StreamListener):\n",
    " \n",
    "    def on_data(self, data):\n",
    "        try:\n",
    "            with open('python.json', 'a') as f:\n",
    "                f.write(data)\n",
    "                return True\n",
    "        except BaseException as e:\n",
    "            print(\"Error on_data: %s\" % str(e))\n",
    "        return True\n",
    " \n",
    "    def on_error(self, status):\n",
    "        print(status)\n",
    "        return True\n",
    "\n",
    "twitter_stream = Stream(auth, MyListener())\n",
    "twitter_stream.filter(track=['trump', 'clinton'])'''"
   ]
  },
  {
   "cell_type": "code",
   "execution_count": 6,
   "metadata": {
    "collapsed": true
   },
   "outputs": [],
   "source": [
    "import json\n",
    "import pandas as pd\n",
    "import matplotlib.pyplot as plt"
   ]
  },
  {
   "cell_type": "code",
   "execution_count": null,
   "metadata": {
    "collapsed": false
   },
   "outputs": [],
   "source": [
    "tweets_data_path = '//Python_work/python.json'\n",
    "\n",
    "tweet_data = []\n",
    "tweet_file = open(\"//Python_work/tweets.txt\", \"r\")\n",
    "for line in tweet_file:\n",
    "    try:\n",
    "        tweet = json.loads(line)\n",
    "        tweet_data.append(tweet)\n",
    "    except:\n",
    "        continue"
   ]
  },
  {
   "cell_type": "code",
   "execution_count": null,
   "metadata": {
    "collapsed": true
   },
   "outputs": [],
   "source": [
    "print len(tweets_data)"
   ]
  },
  {
   "cell_type": "code",
   "execution_count": null,
   "metadata": {
    "collapsed": true
   },
   "outputs": [],
   "source": [
    "tweets = pd.DataFrame()"
   ]
  },
  {
   "cell_type": "code",
   "execution_count": null,
   "metadata": {
    "collapsed": true
   },
   "outputs": [],
   "source": [
    "tweets['text'] = map(lambda tweet: tweet['text'], tweets_data)\n",
    "tweets['lang'] = map(lambda tweet: tweet['lang'], tweets_data)\n",
    "tweets['country'] = map(lambda tweet: tweet['place']['country'] if tweet['place'] != None else None, tweets_data)"
   ]
  },
  {
   "cell_type": "code",
   "execution_count": null,
   "metadata": {
    "collapsed": true
   },
   "outputs": [],
   "source": [
    "tweets_by_lang = tweets['lang'].value_counts()\n",
    "\n",
    "fig, ax = plt.subplots()\n",
    "ax.tick_params(axis='x', labelsize=15)\n",
    "ax.tick_params(axis='y', labelsize=10)\n",
    "ax.set_xlabel('Languages', fontsize=15)\n",
    "ax.set_ylabel('Number of tweets' , fontsize=15)\n",
    "ax.set_title('Top 5 languages', fontsize=15, fontweight='bold')\n",
    "tweets_by_lang[:5].plot(ax=ax, kind='bar', color='red')"
   ]
  },
  {
   "cell_type": "code",
   "execution_count": null,
   "metadata": {
    "collapsed": true
   },
   "outputs": [],
   "source": [
    "tweets_by_country = tweets['country'].value_counts()\n",
    "\n",
    "fig, ax = plt.subplots()\n",
    "ax.tick_params(axis='x', labelsize=15)\n",
    "ax.tick_params(axis='y', labelsize=10)\n",
    "ax.set_xlabel('Countries', fontsize=15)\n",
    "ax.set_ylabel('Number of tweets' , fontsize=15)\n",
    "ax.set_title('Top 5 countries', fontsize=15, fontweight='bold')\n",
    "tweets_by_country[:5].plot(ax=ax, kind='bar', color='blue')"
   ]
  },
  {
   "cell_type": "code",
   "execution_count": null,
   "metadata": {
    "collapsed": true
   },
   "outputs": [],
   "source": [
    "def word_in_text(word, text):\n",
    "    word = word.lower()\n",
    "    text = text.lower()\n",
    "    match = re.search(word, text)\n",
    "    if match:\n",
    "        return True\n",
    "    return False"
   ]
  },
  {
   "cell_type": "code",
   "execution_count": null,
   "metadata": {
    "collapsed": true
   },
   "outputs": [],
   "source": [
    "tweets['python'] = tweets['text'].apply(lambda tweet: word_in_text('python', tweet))\n",
    "tweets['javascript'] = tweets['text'].apply(lambda tweet: word_in_text('javascript', tweet))\n",
    "tweets['ruby'] = tweets['text'].apply(lambda tweet: word_in_text('ruby', tweet))"
   ]
  },
  {
   "cell_type": "code",
   "execution_count": null,
   "metadata": {
    "collapsed": true
   },
   "outputs": [],
   "source": [
    "print tweets['python'].value_counts()[True]\n",
    "print tweets['javascript'].value_counts()[True]\n",
    "print tweets['ruby'].value_counts()[True]"
   ]
  },
  {
   "cell_type": "code",
   "execution_count": null,
   "metadata": {
    "collapsed": true
   },
   "outputs": [],
   "source": [
    "prg_langs = ['python', 'javascript', 'ruby']\n",
    "tweets_by_prg_lang = [tweets['python'].value_counts()[True], tweets['javascript'].value_counts()[True], tweets['ruby'].value_counts()[True]]\n",
    "\n",
    "x_pos = list(range(len(prg_langs)))\n",
    "width = 0.8\n",
    "fig, ax = plt.subplots()\n",
    "plt.bar(x_pos, tweets_by_prg_lang, width, alpha=1, color='g')\n",
    "\n",
    "# Setting axis labels and ticks\n",
    "ax.set_ylabel('Number of tweets', fontsize=15)\n",
    "ax.set_title('Ranking: python vs. javascript vs. ruby (Raw data)', fontsize=10, fontweight='bold')\n",
    "ax.set_xticks([p + 0.4 * width for p in x_pos])\n",
    "ax.set_xticklabels(prg_langs)\n",
    "plt.grid()"
   ]
  },
  {
   "cell_type": "code",
   "execution_count": null,
   "metadata": {
    "collapsed": true
   },
   "outputs": [],
   "source": [
    "tweets['programming'] = tweets['text'].apply(lambda tweet: word_in_text('programming', tweet))\n",
    "tweets['tutorial'] = tweets['text'].apply(lambda tweet: word_in_text('tutorial', tweet))"
   ]
  },
  {
   "cell_type": "code",
   "execution_count": null,
   "metadata": {
    "collapsed": true
   },
   "outputs": [],
   "source": [
    "tweets['relevant'] = tweets['text'].apply(lambda tweet: word_in_text('programming', tweet) or word_in_text('tutorial', tweet))"
   ]
  },
  {
   "cell_type": "code",
   "execution_count": null,
   "metadata": {
    "collapsed": true
   },
   "outputs": [],
   "source": [
    "print tweets['programming'].value_counts()[True]\n",
    "print tweets['tutorial'].value_counts()[True]\n",
    "print tweets['relevant'].value_counts()[True]"
   ]
  },
  {
   "cell_type": "code",
   "execution_count": null,
   "metadata": {
    "collapsed": true
   },
   "outputs": [],
   "source": [
    "print tweets[tweets['relevant'] == True]['python'].value_counts()[True]\n",
    "print tweets[tweets['relevant'] == True]['javascript'].value_counts()[True]\n",
    "print tweets[tweets['relevant'] == True]['ruby'].value_counts()[True]"
   ]
  },
  {
   "cell_type": "code",
   "execution_count": null,
   "metadata": {
    "collapsed": true
   },
   "outputs": [],
   "source": [
    "tweets_by_prg_lang = [tweets[tweets['relevant'] == True]['python'].value_counts()[True], \n",
    "                      tweets[tweets['relevant'] == True]['javascript'].value_counts()[True], \n",
    "                      tweets[tweets['relevant'] == True]['ruby'].value_counts()[True]]\n",
    "x_pos = list(range(len(prg_langs)))\n",
    "width = 0.8\n",
    "fig, ax = plt.subplots()\n",
    "plt.bar(x_pos, tweets_by_prg_lang, width,alpha=1,color='g')\n",
    "ax.set_ylabel('Number of tweets', fontsize=15)\n",
    "ax.set_title('Ranking: python vs. javascript vs. ruby (Relevant data)', fontsize=10, fontweight='bold')\n",
    "ax.set_xticks([p + 0.4 * width for p in x_pos])\n",
    "ax.set_xticklabels(prg_langs)\n",
    "plt.grid()"
   ]
  },
  {
   "cell_type": "code",
   "execution_count": null,
   "metadata": {
    "collapsed": true
   },
   "outputs": [],
   "source": [
    "def extract_link(text):\n",
    "    regex = r'https?://[^\\s<>\"]+|www\\.[^\\s<>\"]+'\n",
    "    match = re.search(regex, text)\n",
    "    if match:\n",
    "        return match.group()\n",
    "    return ''"
   ]
  },
  {
   "cell_type": "code",
   "execution_count": null,
   "metadata": {
    "collapsed": true
   },
   "outputs": [],
   "source": [
    "tweets['link'] = tweets['text'].apply(lambda tweet: extract_link(tweet))"
   ]
  },
  {
   "cell_type": "code",
   "execution_count": null,
   "metadata": {
    "collapsed": true
   },
   "outputs": [],
   "source": [
    "tweets_relevant = tweets[tweets['relevant'] == True]\n",
    "tweets_relevant_with_link = tweets_relevant[tweets_relevant['link'] != '']"
   ]
  },
  {
   "cell_type": "code",
   "execution_count": null,
   "metadata": {
    "collapsed": true
   },
   "outputs": [],
   "source": [
    "print tweets_relevant_with_link[tweets_relevant_with_link['python'] == True]['link']\n",
    "print tweets_relevant_with_link[tweets_relevant_with_link['javascript'] == True]['link']\n",
    "print tweets_relevant_with_link[tweets_relevant_with_link['ruby'] == True]['link']"
   ]
  },
  {
   "cell_type": "code",
   "execution_count": null,
   "metadata": {
    "collapsed": true
   },
   "outputs": [],
   "source": []
  }
 ],
 "metadata": {
  "kernelspec": {
   "display_name": "Python 2",
   "language": "python",
   "name": "python2"
  },
  "language_info": {
   "codemirror_mode": {
    "name": "ipython",
    "version": 2
   },
   "file_extension": ".py",
   "mimetype": "text/x-python",
   "name": "python",
   "nbconvert_exporter": "python",
   "pygments_lexer": "ipython2",
   "version": "2.7.11"
  }
 },
 "nbformat": 4,
 "nbformat_minor": 0
}
