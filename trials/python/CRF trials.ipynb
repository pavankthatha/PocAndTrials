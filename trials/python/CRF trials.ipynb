{
 "cells": [
  {
   "cell_type": "code",
   "execution_count": 5,
   "metadata": {
    "collapsed": false
   },
   "outputs": [
    {
     "ename": "ImportError",
     "evalue": "No module named cvxopt",
     "output_type": "error",
     "traceback": [
      "\u001b[1;31m---------------------------------------------------------------------------\u001b[0m",
      "\u001b[1;31mImportError\u001b[0m                               Traceback (most recent call last)",
      "\u001b[1;32m<ipython-input-5-47a326873261>\u001b[0m in \u001b[0;36m<module>\u001b[1;34m()\u001b[0m\n\u001b[0;32m      5\u001b[0m \u001b[1;33m\u001b[0m\u001b[0m\n\u001b[0;32m      6\u001b[0m \u001b[1;32mfrom\u001b[0m \u001b[0mpystruct\u001b[0m\u001b[1;33m.\u001b[0m\u001b[0mdatasets\u001b[0m \u001b[1;32mimport\u001b[0m \u001b[0mload_letters\u001b[0m\u001b[1;33m\u001b[0m\u001b[0m\n\u001b[1;32m----> 7\u001b[1;33m \u001b[1;32mfrom\u001b[0m \u001b[0mpystruct\u001b[0m\u001b[1;33m.\u001b[0m\u001b[0mmodels\u001b[0m \u001b[1;32mimport\u001b[0m \u001b[0mChainCRF\u001b[0m\u001b[1;33m\u001b[0m\u001b[0m\n\u001b[0m\u001b[0;32m      8\u001b[0m \u001b[1;32mfrom\u001b[0m \u001b[0mpystruct\u001b[0m\u001b[1;33m.\u001b[0m\u001b[0mlearners\u001b[0m \u001b[1;32mimport\u001b[0m \u001b[0mFrankWolfeSSVM\u001b[0m\u001b[1;33m\u001b[0m\u001b[0m\n\u001b[0;32m      9\u001b[0m \u001b[1;33m\u001b[0m\u001b[0m\n",
      "\u001b[1;32m//anaconda2/lib/python2.7/site-packages/pystruct/models/__init__.py\u001b[0m in \u001b[0;36m<module>\u001b[1;34m()\u001b[0m\n\u001b[0;32m      1\u001b[0m \u001b[1;32mfrom\u001b[0m \u001b[1;33m.\u001b[0m\u001b[0mbase\u001b[0m \u001b[1;32mimport\u001b[0m \u001b[0mStructuredModel\u001b[0m\u001b[1;33m\u001b[0m\u001b[0m\n\u001b[1;32m----> 2\u001b[1;33m \u001b[1;32mfrom\u001b[0m \u001b[1;33m.\u001b[0m\u001b[0mcrf\u001b[0m \u001b[1;32mimport\u001b[0m \u001b[0mCRF\u001b[0m\u001b[1;33m\u001b[0m\u001b[0m\n\u001b[0m\u001b[0;32m      3\u001b[0m \u001b[1;32mfrom\u001b[0m \u001b[1;33m.\u001b[0m\u001b[0mgrid_crf\u001b[0m \u001b[1;32mimport\u001b[0m \u001b[0mGridCRF\u001b[0m\u001b[1;33m,\u001b[0m \u001b[0mDirectionalGridCRF\u001b[0m\u001b[1;33m\u001b[0m\u001b[0m\n\u001b[0;32m      4\u001b[0m \u001b[1;32mfrom\u001b[0m \u001b[1;33m.\u001b[0m\u001b[0mgraph_crf\u001b[0m \u001b[1;32mimport\u001b[0m \u001b[0mGraphCRF\u001b[0m\u001b[1;33m\u001b[0m\u001b[0m\n\u001b[0;32m      5\u001b[0m \u001b[1;32mfrom\u001b[0m \u001b[1;33m.\u001b[0m\u001b[0mchain_crf\u001b[0m \u001b[1;32mimport\u001b[0m \u001b[0mChainCRF\u001b[0m\u001b[1;33m\u001b[0m\u001b[0m\n",
      "\u001b[1;32m//anaconda2/lib/python2.7/site-packages/pystruct/models/crf.py\u001b[0m in \u001b[0;36m<module>\u001b[1;34m()\u001b[0m\n\u001b[0;32m      2\u001b[0m \u001b[1;33m\u001b[0m\u001b[0m\n\u001b[0;32m      3\u001b[0m \u001b[1;32mfrom\u001b[0m \u001b[1;33m.\u001b[0m\u001b[0mbase\u001b[0m \u001b[1;32mimport\u001b[0m \u001b[0mStructuredModel\u001b[0m\u001b[1;33m\u001b[0m\u001b[0m\n\u001b[1;32m----> 4\u001b[1;33m \u001b[1;32mfrom\u001b[0m \u001b[1;33m.\u001b[0m\u001b[1;33m.\u001b[0m\u001b[0minference\u001b[0m \u001b[1;32mimport\u001b[0m \u001b[0minference_dispatch\u001b[0m\u001b[1;33m,\u001b[0m \u001b[0mget_installed\u001b[0m\u001b[1;33m\u001b[0m\u001b[0m\n\u001b[0m\u001b[0;32m      5\u001b[0m \u001b[1;32mfrom\u001b[0m \u001b[1;33m.\u001b[0m\u001b[0mutils\u001b[0m \u001b[1;32mimport\u001b[0m \u001b[0mloss_augment_unaries\u001b[0m\u001b[1;33m\u001b[0m\u001b[0m\n\u001b[0;32m      6\u001b[0m \u001b[1;33m\u001b[0m\u001b[0m\n",
      "\u001b[1;32m//anaconda2/lib/python2.7/site-packages/pystruct/inference/__init__.py\u001b[0m in \u001b[0;36m<module>\u001b[1;34m()\u001b[0m\n\u001b[1;32m----> 1\u001b[1;33m from .inference_methods import (inference_qpbo, inference_lp,\n\u001b[0m\u001b[0;32m      2\u001b[0m                                 \u001b[0minference_ad3\u001b[0m\u001b[1;33m,\u001b[0m \u001b[0minference_ogm\u001b[0m\u001b[1;33m,\u001b[0m\u001b[1;33m\u001b[0m\u001b[0m\n\u001b[0;32m      3\u001b[0m                                 inference_dispatch, get_installed)\n\u001b[0;32m      4\u001b[0m \u001b[1;32mfrom\u001b[0m \u001b[1;33m.\u001b[0m\u001b[0mcommon\u001b[0m \u001b[1;32mimport\u001b[0m \u001b[0mcompute_energy\u001b[0m\u001b[1;33m\u001b[0m\u001b[0m\n\u001b[0;32m      5\u001b[0m \u001b[1;33m\u001b[0m\u001b[0m\n",
      "\u001b[1;32m//anaconda2/lib/python2.7/site-packages/pystruct/inference/inference_methods.py\u001b[0m in \u001b[0;36m<module>\u001b[1;34m()\u001b[0m\n\u001b[0;32m      1\u001b[0m \u001b[1;32mimport\u001b[0m \u001b[0mnumpy\u001b[0m \u001b[1;32mas\u001b[0m \u001b[0mnp\u001b[0m\u001b[1;33m\u001b[0m\u001b[0m\n\u001b[0;32m      2\u001b[0m \u001b[1;33m\u001b[0m\u001b[0m\n\u001b[1;32m----> 3\u001b[1;33m \u001b[1;32mfrom\u001b[0m \u001b[1;33m.\u001b[0m\u001b[0mlinear_programming\u001b[0m \u001b[1;32mimport\u001b[0m \u001b[0mlp_general_graph\u001b[0m\u001b[1;33m\u001b[0m\u001b[0m\n\u001b[0m\u001b[0;32m      4\u001b[0m \u001b[1;32mfrom\u001b[0m \u001b[1;33m.\u001b[0m\u001b[0mmaxprod\u001b[0m \u001b[1;32mimport\u001b[0m \u001b[0minference_max_product\u001b[0m\u001b[1;33m\u001b[0m\u001b[0m\n\u001b[0;32m      5\u001b[0m \u001b[1;32mfrom\u001b[0m \u001b[1;33m.\u001b[0m\u001b[0mcommon\u001b[0m \u001b[1;32mimport\u001b[0m \u001b[0m_validate_params\u001b[0m\u001b[1;33m\u001b[0m\u001b[0m\n",
      "\u001b[1;32m//anaconda2/lib/python2.7/site-packages/pystruct/inference/linear_programming.py\u001b[0m in \u001b[0;36m<module>\u001b[1;34m()\u001b[0m\n\u001b[0;32m      1\u001b[0m \u001b[1;32mimport\u001b[0m \u001b[0mnumpy\u001b[0m \u001b[1;32mas\u001b[0m \u001b[0mnp\u001b[0m\u001b[1;33m\u001b[0m\u001b[0m\n\u001b[1;32m----> 2\u001b[1;33m \u001b[1;32mimport\u001b[0m \u001b[0mcvxopt\u001b[0m\u001b[1;33m\u001b[0m\u001b[0m\n\u001b[0m\u001b[0;32m      3\u001b[0m \u001b[1;32mimport\u001b[0m \u001b[0mcvxopt\u001b[0m\u001b[1;33m.\u001b[0m\u001b[0msolvers\u001b[0m\u001b[1;33m\u001b[0m\u001b[0m\n\u001b[0;32m      4\u001b[0m \u001b[1;33m\u001b[0m\u001b[0m\n\u001b[0;32m      5\u001b[0m \u001b[1;33m\u001b[0m\u001b[0m\n",
      "\u001b[1;31mImportError\u001b[0m: No module named cvxopt"
     ]
    }
   ],
   "source": [
    "import numpy as np\n",
    "import matplotlib.pyplot as plt\n",
    "\n",
    "from sklearn.svm import LinearSVC\n",
    "\n",
    "from pystruct.datasets import load_letters\n",
    "from pystruct.models import ChainCRF\n",
    "from pystruct.learners import FrankWolfeSSVM\n",
    "\n",
    "abc = \"abcdefghijklmnopqrstuvwxyz\"\n",
    "\n",
    "letters = load_letters()\n",
    "X, y, folds = letters['data'], letters['labels'], letters['folds']\n",
    "# we convert the lists to object arrays, as that makes slicing much more\n",
    "# convenient\n",
    "X, y = np.array(X), np.array(y)\n",
    "X_train, X_test = X[folds == 1], X[folds != 1]\n",
    "y_train, y_test = y[folds == 1], y[folds != 1]\n",
    "\n",
    "# Train linear SVM\n",
    "svm = LinearSVC(dual=False, C=.1)\n",
    "# flatten input\n",
    "svm.fit(np.vstack(X_train), np.hstack(y_train))\n"
   ]
  },
  {
   "cell_type": "code",
   "execution_count": 2,
   "metadata": {
    "collapsed": false
   },
   "outputs": [
    {
     "ename": "NameError",
     "evalue": "name 'ChainCRF' is not defined",
     "output_type": "error",
     "traceback": [
      "\u001b[1;31m---------------------------------------------------------------------------\u001b[0m",
      "\u001b[1;31mNameError\u001b[0m                                 Traceback (most recent call last)",
      "\u001b[1;32m<ipython-input-2-372f69f06e9c>\u001b[0m in \u001b[0;36m<module>\u001b[1;34m()\u001b[0m\n\u001b[0;32m      1\u001b[0m \u001b[1;31m# Train linear chain CRF\u001b[0m\u001b[1;33m\u001b[0m\u001b[1;33m\u001b[0m\u001b[0m\n\u001b[1;32m----> 2\u001b[1;33m \u001b[0mmodel\u001b[0m \u001b[1;33m=\u001b[0m \u001b[0mChainCRF\u001b[0m\u001b[1;33m(\u001b[0m\u001b[1;33m)\u001b[0m\u001b[1;33m\u001b[0m\u001b[0m\n\u001b[0m\u001b[0;32m      3\u001b[0m \u001b[0mssvm\u001b[0m \u001b[1;33m=\u001b[0m \u001b[0mFrankWolfeSSVM\u001b[0m\u001b[1;33m(\u001b[0m\u001b[0mmodel\u001b[0m\u001b[1;33m=\u001b[0m\u001b[0mmodel\u001b[0m\u001b[1;33m,\u001b[0m \u001b[0mC\u001b[0m\u001b[1;33m=\u001b[0m\u001b[1;36m.1\u001b[0m\u001b[1;33m,\u001b[0m \u001b[0mmax_iter\u001b[0m\u001b[1;33m=\u001b[0m\u001b[1;36m11\u001b[0m\u001b[1;33m)\u001b[0m\u001b[1;33m\u001b[0m\u001b[0m\n\u001b[0;32m      4\u001b[0m \u001b[0mssvm\u001b[0m\u001b[1;33m.\u001b[0m\u001b[0mfit\u001b[0m\u001b[1;33m(\u001b[0m\u001b[0mX_train\u001b[0m\u001b[1;33m,\u001b[0m \u001b[0my_train\u001b[0m\u001b[1;33m)\u001b[0m\u001b[1;33m\u001b[0m\u001b[0m\n\u001b[0;32m      5\u001b[0m \u001b[1;33m\u001b[0m\u001b[0m\n",
      "\u001b[1;31mNameError\u001b[0m: name 'ChainCRF' is not defined"
     ]
    }
   ],
   "source": [
    "# Train linear chain CRF\n",
    "model = ChainCRF()\n",
    "ssvm = FrankWolfeSSVM(model=model, C=.1, max_iter=11)\n",
    "ssvm.fit(X_train, y_train)\n",
    "\n",
    "print(\"Test score with chain CRF: %f\" % ssvm.score(X_test, y_test))\n",
    "\n",
    "print(\"Test score with linear SVM: %f\" % svm.score(np.vstack(X_test),\n",
    "                                                   np.hstack(y_test)))"
   ]
  },
  {
   "cell_type": "code",
   "execution_count": 3,
   "metadata": {
    "collapsed": false
   },
   "outputs": [
    {
     "ename": "NameError",
     "evalue": "name 'y_test' is not defined",
     "output_type": "error",
     "traceback": [
      "\u001b[1;31m---------------------------------------------------------------------------\u001b[0m",
      "\u001b[1;31mNameError\u001b[0m                                 Traceback (most recent call last)",
      "\u001b[1;32m<ipython-input-3-cac47071d396>\u001b[0m in \u001b[0;36m<module>\u001b[1;34m()\u001b[0m\n\u001b[0;32m      2\u001b[0m \u001b[0mn_words\u001b[0m \u001b[1;33m=\u001b[0m \u001b[1;36m4\u001b[0m\u001b[1;33m\u001b[0m\u001b[0m\n\u001b[0;32m      3\u001b[0m \u001b[0mrnd\u001b[0m \u001b[1;33m=\u001b[0m \u001b[0mnp\u001b[0m\u001b[1;33m.\u001b[0m\u001b[0mrandom\u001b[0m\u001b[1;33m.\u001b[0m\u001b[0mRandomState\u001b[0m\u001b[1;33m(\u001b[0m\u001b[1;36m1\u001b[0m\u001b[1;33m)\u001b[0m\u001b[1;33m\u001b[0m\u001b[0m\n\u001b[1;32m----> 4\u001b[1;33m \u001b[0mselected\u001b[0m \u001b[1;33m=\u001b[0m \u001b[0mrnd\u001b[0m\u001b[1;33m.\u001b[0m\u001b[0mrandint\u001b[0m\u001b[1;33m(\u001b[0m\u001b[0mlen\u001b[0m\u001b[1;33m(\u001b[0m\u001b[0my_test\u001b[0m\u001b[1;33m)\u001b[0m\u001b[1;33m,\u001b[0m \u001b[0msize\u001b[0m\u001b[1;33m=\u001b[0m\u001b[0mn_words\u001b[0m\u001b[1;33m)\u001b[0m\u001b[1;33m\u001b[0m\u001b[0m\n\u001b[0m\u001b[0;32m      5\u001b[0m \u001b[0mmax_word_len\u001b[0m \u001b[1;33m=\u001b[0m \u001b[0mmax\u001b[0m\u001b[1;33m(\u001b[0m\u001b[1;33m[\u001b[0m\u001b[0mlen\u001b[0m\u001b[1;33m(\u001b[0m\u001b[0my_\u001b[0m\u001b[1;33m)\u001b[0m \u001b[1;32mfor\u001b[0m \u001b[0my_\u001b[0m \u001b[1;32min\u001b[0m \u001b[0my_test\u001b[0m\u001b[1;33m[\u001b[0m\u001b[0mselected\u001b[0m\u001b[1;33m]\u001b[0m\u001b[1;33m]\u001b[0m\u001b[1;33m)\u001b[0m\u001b[1;33m\u001b[0m\u001b[0m\n\u001b[0;32m      6\u001b[0m \u001b[0mfig\u001b[0m\u001b[1;33m,\u001b[0m \u001b[0maxes\u001b[0m \u001b[1;33m=\u001b[0m \u001b[0mplt\u001b[0m\u001b[1;33m.\u001b[0m\u001b[0msubplots\u001b[0m\u001b[1;33m(\u001b[0m\u001b[0mn_words\u001b[0m\u001b[1;33m,\u001b[0m \u001b[0mmax_word_len\u001b[0m\u001b[1;33m,\u001b[0m \u001b[0mfigsize\u001b[0m\u001b[1;33m=\u001b[0m\u001b[1;33m(\u001b[0m\u001b[1;36m10\u001b[0m\u001b[1;33m,\u001b[0m \u001b[1;36m10\u001b[0m\u001b[1;33m)\u001b[0m\u001b[1;33m)\u001b[0m\u001b[1;33m\u001b[0m\u001b[0m\n",
      "\u001b[1;31mNameError\u001b[0m: name 'y_test' is not defined"
     ]
    }
   ],
   "source": [
    "# plot some word sequenced\n",
    "n_words = 4\n",
    "rnd = np.random.RandomState(1)\n",
    "selected = rnd.randint(len(y_test), size=n_words)\n",
    "max_word_len = max([len(y_) for y_ in y_test[selected]])\n",
    "fig, axes = plt.subplots(n_words, max_word_len, figsize=(10, 10))\n",
    "fig.subplots_adjust(wspace=0)\n",
    "for ind, axes_row in zip(selected, axes):\n",
    "    y_pred_svm = svm.predict(X_test[ind])\n",
    "    y_pred_chain = ssvm.predict([X_test[ind]])[0]\n",
    "    for i, (a, image, y_true, y_svm, y_chain) in enumerate(\n",
    "            zip(axes_row, X_test[ind], y_test[ind], y_pred_svm, y_pred_chain)):\n",
    "        a.matshow(image.reshape(16, 8), cmap=plt.cm.Greys)\n",
    "        a.text(0, 3, abc[y_true], color=\"#00AA00\", size=25)\n",
    "        a.text(0, 14, abc[y_svm], color=\"#5555FF\", size=25)\n",
    "        a.text(5, 14, abc[y_chain], color=\"#FF5555\", size=25)\n",
    "        a.set_xticks(())\n",
    "        a.set_yticks(())\n",
    "    for ii in range(i + 1, max_word_len):\n",
    "        axes_row[ii].set_visible(False)"
   ]
  },
  {
   "cell_type": "code",
   "execution_count": 4,
   "metadata": {
    "collapsed": false
   },
   "outputs": [
    {
     "ename": "NameError",
     "evalue": "name 'ssvm' is not defined",
     "output_type": "error",
     "traceback": [
      "\u001b[1;31m---------------------------------------------------------------------------\u001b[0m",
      "\u001b[1;31mNameError\u001b[0m                                 Traceback (most recent call last)",
      "\u001b[1;32m<ipython-input-4-7a5e160ce9a6>\u001b[0m in \u001b[0;36m<module>\u001b[1;34m()\u001b[0m\n\u001b[1;32m----> 1\u001b[1;33m \u001b[0mplt\u001b[0m\u001b[1;33m.\u001b[0m\u001b[0mmatshow\u001b[0m\u001b[1;33m(\u001b[0m\u001b[0mssvm\u001b[0m\u001b[1;33m.\u001b[0m\u001b[0mw\u001b[0m\u001b[1;33m[\u001b[0m\u001b[1;36m26\u001b[0m \u001b[1;33m*\u001b[0m \u001b[1;36m8\u001b[0m \u001b[1;33m*\u001b[0m \u001b[1;36m16\u001b[0m\u001b[1;33m:\u001b[0m\u001b[1;33m]\u001b[0m\u001b[1;33m.\u001b[0m\u001b[0mreshape\u001b[0m\u001b[1;33m(\u001b[0m\u001b[1;36m26\u001b[0m\u001b[1;33m,\u001b[0m \u001b[1;36m26\u001b[0m\u001b[1;33m)\u001b[0m\u001b[1;33m)\u001b[0m\u001b[1;33m\u001b[0m\u001b[0m\n\u001b[0m\u001b[0;32m      2\u001b[0m \u001b[0mplt\u001b[0m\u001b[1;33m.\u001b[0m\u001b[0mcolorbar\u001b[0m\u001b[1;33m(\u001b[0m\u001b[1;33m)\u001b[0m\u001b[1;33m\u001b[0m\u001b[0m\n\u001b[0;32m      3\u001b[0m \u001b[0mplt\u001b[0m\u001b[1;33m.\u001b[0m\u001b[0mtitle\u001b[0m\u001b[1;33m(\u001b[0m\u001b[1;34m\"Transition parameters of the chain CRF.\"\u001b[0m\u001b[1;33m)\u001b[0m\u001b[1;33m\u001b[0m\u001b[0m\n\u001b[0;32m      4\u001b[0m \u001b[0mplt\u001b[0m\u001b[1;33m.\u001b[0m\u001b[0mxticks\u001b[0m\u001b[1;33m(\u001b[0m\u001b[0mnp\u001b[0m\u001b[1;33m.\u001b[0m\u001b[0marange\u001b[0m\u001b[1;33m(\u001b[0m\u001b[1;36m25\u001b[0m\u001b[1;33m)\u001b[0m\u001b[1;33m,\u001b[0m \u001b[0mabc\u001b[0m\u001b[1;33m)\u001b[0m\u001b[1;33m\u001b[0m\u001b[0m\n\u001b[0;32m      5\u001b[0m \u001b[0mplt\u001b[0m\u001b[1;33m.\u001b[0m\u001b[0myticks\u001b[0m\u001b[1;33m(\u001b[0m\u001b[0mnp\u001b[0m\u001b[1;33m.\u001b[0m\u001b[0marange\u001b[0m\u001b[1;33m(\u001b[0m\u001b[1;36m25\u001b[0m\u001b[1;33m)\u001b[0m\u001b[1;33m,\u001b[0m \u001b[0mabc\u001b[0m\u001b[1;33m)\u001b[0m\u001b[1;33m\u001b[0m\u001b[0m\n",
      "\u001b[1;31mNameError\u001b[0m: name 'ssvm' is not defined"
     ]
    }
   ],
   "source": [
    "plt.matshow(ssvm.w[26 * 8 * 16:].reshape(26, 26))\n",
    "plt.colorbar()\n",
    "plt.title(\"Transition parameters of the chain CRF.\")\n",
    "plt.xticks(np.arange(25), abc)\n",
    "plt.yticks(np.arange(25), abc)\n",
    "plt.show()"
   ]
  },
  {
   "cell_type": "code",
   "execution_count": 9,
   "metadata": {
    "collapsed": false
   },
   "outputs": [
    {
     "ename": "ImportError",
     "evalue": "cannot import name NERTagger",
     "output_type": "error",
     "traceback": [
      "\u001b[1;31m---------------------------------------------------------------------------\u001b[0m",
      "\u001b[1;31mImportError\u001b[0m                               Traceback (most recent call last)",
      "\u001b[1;32m<ipython-input-9-a34aa20dd60a>\u001b[0m in \u001b[0;36m<module>\u001b[1;34m()\u001b[0m\n\u001b[1;32m----> 1\u001b[1;33m \u001b[1;32mfrom\u001b[0m \u001b[0mnltk\u001b[0m\u001b[1;33m.\u001b[0m\u001b[0mtag\u001b[0m\u001b[1;33m.\u001b[0m\u001b[0mstanford\u001b[0m \u001b[1;32mimport\u001b[0m \u001b[0mNERTagger\u001b[0m\u001b[1;33m\u001b[0m\u001b[0m\n\u001b[0m\u001b[0;32m      2\u001b[0m \u001b[0mst\u001b[0m \u001b[1;33m=\u001b[0m \u001b[0mNERTagger\u001b[0m\u001b[1;33m(\u001b[0m\u001b[1;33m)\u001b[0m\u001b[1;33m\u001b[0m\u001b[0m\n",
      "\u001b[1;31mImportError\u001b[0m: cannot import name NERTagger"
     ]
    }
   ],
   "source": [
    "from nltk.tag.stanford import NERTagger\n",
    "st = NERTagger()"
   ]
  },
  {
   "cell_type": "code",
   "execution_count": 10,
   "metadata": {
    "collapsed": true
   },
   "outputs": [],
   "source": [
    "import nltk"
   ]
  },
  {
   "cell_type": "code",
   "execution_count": null,
   "metadata": {
    "collapsed": true
   },
   "outputs": [],
   "source": [
    "nltk.download()"
   ]
  },
  {
   "cell_type": "code",
   "execution_count": null,
   "metadata": {
    "collapsed": true
   },
   "outputs": [],
   "source": [
    "#!/usr/bin/python\n",
    "# The contents of this file are in the public domain. See LICENSE_FOR_EXAMPLE_PROGRAMS.txt\n",
    "#\n",
    "# This example shows how to use dlib to learn to do sequence segmentation.  In\n",
    "# a sequence segmentation task we are given a sequence of objects (e.g. words in\n",
    "# a sentence) and we are supposed to detect certain subsequences (e.g. the names\n",
    "# of people).  Therefore, in the code below we create some very simple training\n",
    "# sequences and use them to learn a sequence segmentation model.  In particular,\n",
    "# our sequences will be sentences represented as arrays of words and our task\n",
    "# will be to learn to identify person names.  Once we have our segmentation\n",
    "# model we can use it to find names in new sentences, as we will show.\n",
    "#\n",
    "# COMPILING/INSTALLING THE DLIB PYTHON INTERFACE\n",
    "#   You can install dlib using the command:\n",
    "#       pip install dlib\n",
    "#\n",
    "#   Alternatively, if you want to compile dlib yourself then go into the dlib\n",
    "#   root folder and run:\n",
    "#       python setup.py install\n",
    "#   or\n",
    "#       python setup.py install --yes USE_AVX_INSTRUCTIONS\n",
    "#   if you have a CPU that supports AVX instructions, since this makes some\n",
    "#   things run faster.  \n",
    "#\n",
    "#   Compiling dlib should work on any operating system so long as you have\n",
    "#   CMake and boost-python installed.  On Ubuntu, this can be done easily by\n",
    "#   running the command:\n",
    "#       sudo apt-get install libboost-python-dev cmake\n",
    "#\n",
    "import sys\n",
    "import dlib\n",
    "\n",
    "\n",
    "# The sequence segmentation models we work with in this example are chain\n",
    "# structured conditional random field style models.  Therefore, central to a\n",
    "# sequence segmentation model is some method for converting the elements of a\n",
    "# sequence into feature vectors. That is, while you might start out representing\n",
    "# your sequence as an array of strings, the dlib interface works in terms of\n",
    "# arrays of feature vectors.  Each feature vector should capture important\n",
    "# information about its corresponding element in the original raw sequence.  So\n",
    "# in this example, since we work with sequences of words and want to identify\n",
    "# names, we will create feature vectors that tell us if the word is capitalized\n",
    "# or not.  In our simple data, this will be enough to identify names.\n",
    "# Therefore, we define sentence_to_vectors() which takes a sentence represented\n",
    "# as a string and converts it into an array of words and then associates a\n",
    "# feature vector with each word.\n",
    "def sentence_to_vectors(sentence):\n",
    "    # Create an empty array of vectors\n",
    "    vects = dlib.vectors()\n",
    "    for word in sentence.split():\n",
    "        # Our vectors are very simple 1-dimensional vectors.  The value of the\n",
    "        # single feature is 1 if the first letter of the word is capitalized and\n",
    "        # 0 otherwise.\n",
    "        if word[0].isupper():\n",
    "            vects.append(dlib.vector([1]))\n",
    "        else:\n",
    "            vects.append(dlib.vector([0]))\n",
    "    return vects\n",
    "\n",
    "\n",
    "# Dlib also supports the use of a sparse vector representation.  This is more\n",
    "# efficient than the above form when you have very high dimensional vectors that\n",
    "# are mostly full of zeros.  In dlib, each sparse vector is represented as an\n",
    "# array of pair objects.  Each pair contains an index and value.  Any index not\n",
    "# listed in the vector is implicitly associated with a value of zero.\n",
    "# Additionally, when using sparse vectors with dlib.train_sequence_segmenter()\n",
    "# you can use \"unsorted\" sparse vectors.  This means you can add the index/value\n",
    "# pairs into your sparse vectors in any order you want and don't need to worry\n",
    "# about them being in sorted order.\n",
    "def sentence_to_sparse_vectors(sentence):\n",
    "    vects = dlib.sparse_vectors()\n",
    "    has_cap = dlib.sparse_vector()\n",
    "    no_cap = dlib.sparse_vector()\n",
    "    # make has_cap equivalent to dlib.vector([1])\n",
    "    has_cap.append(dlib.pair(0, 1))\n",
    "\n",
    "    # Since we didn't add anything to no_cap it is equivalent to\n",
    "    # dlib.vector([0])\n",
    "    for word in sentence.split():\n",
    "        if word[0].isupper():\n",
    "            vects.append(has_cap)\n",
    "        else:\n",
    "            vects.append(no_cap)\n",
    "    return vects\n",
    "\n",
    "\n",
    "def print_segment(sentence, names):\n",
    "    words = sentence.split()\n",
    "    for name in names:\n",
    "        for i in name:\n",
    "            sys.stdout.write(words[i] + \" \")\n",
    "        sys.stdout.write(\"\\n\")"
   ]
  },
  {
   "cell_type": "code",
   "execution_count": null,
   "metadata": {
    "collapsed": true
   },
   "outputs": [],
   "source": [
    "# Now let's make some training data.  Each example is a sentence as well as a\n",
    "# set of ranges which indicate the locations of any names.   \n",
    "names = dlib.ranges()     # make an array of dlib.range objects.\n",
    "segments = dlib.rangess() # make an array of arrays of dlib.range objects.\n",
    "sentences = []\n",
    "\n",
    "sentences.append(\"The other day I saw a man named Jim Smith\")\n",
    "# We want to detect person names.  So we note that the name is located within\n",
    "# the range [8, 10).  Note that we use half open ranges to identify segments.\n",
    "# So in this case, the segment identifies the string \"Jim Smith\".\n",
    "names.append(dlib.range(8, 10))\n",
    "segments.append(names)\n",
    "names.clear() # make names empty for use again below\n",
    "\n",
    "sentences.append(\"Davis King is the main author of the dlib Library\")\n",
    "names.append(dlib.range(0, 2))\n",
    "segments.append(names)\n",
    "names.clear()\n",
    "\n",
    "sentences.append(\"Bob Jones is a name and so is George Clinton\")\n",
    "names.append(dlib.range(0, 2))\n",
    "names.append(dlib.range(8, 10))\n",
    "segments.append(names)\n",
    "names.clear()\n",
    "\n",
    "sentences.append(\"My dog is named Bob Barker\")\n",
    "names.append(dlib.range(4, 6))\n",
    "segments.append(names)\n",
    "names.clear()\n",
    "\n",
    "sentences.append(\"ABC is an acronym but John James Smith is a name\")\n",
    "names.append(dlib.range(5, 8))\n",
    "segments.append(names)\n",
    "names.clear()\n",
    "\n",
    "sentences.append(\"No names in this sentence at all\")\n",
    "segments.append(names)\n",
    "names.clear()\n"
   ]
  },
  {
   "cell_type": "code",
   "execution_count": null,
   "metadata": {
    "collapsed": true
   },
   "outputs": [],
   "source": [
    "names"
   ]
  },
  {
   "cell_type": "code",
   "execution_count": null,
   "metadata": {
    "collapsed": true
   },
   "outputs": [],
   "source": []
  }
 ],
 "metadata": {
  "kernelspec": {
   "display_name": "Python 2",
   "language": "python",
   "name": "python2"
  },
  "language_info": {
   "codemirror_mode": {
    "name": "ipython",
    "version": 2
   },
   "file_extension": ".py",
   "mimetype": "text/x-python",
   "name": "python",
   "nbconvert_exporter": "python",
   "pygments_lexer": "ipython2",
   "version": "2.7.11"
  }
 },
 "nbformat": 4,
 "nbformat_minor": 0
}
