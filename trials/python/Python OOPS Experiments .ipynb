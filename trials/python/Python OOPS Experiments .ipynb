{
 "cells": [
  {
   "cell_type": "markdown",
   "metadata": {},
   "source": [
    "# Classes & Objects"
   ]
  },
  {
   "cell_type": "markdown",
   "metadata": {},
   "source": [
    "The variable empCount is a class variable whose value is shared among all instances of a this class. This can be accessed as Employee.empCount from inside the class or outside the class.\n",
    "\n",
    "The first method __init__() is a special method, which is called class constructor or initialization method that Python calls when you create a new instance of this class.\n",
    "\n",
    "You declare other class methods like normal functions with the exception that the first argument to each method is self. Python adds the self argument to the list for you; you do not need to include it when you call the methods."
   ]
  },
  {
   "cell_type": "code",
   "execution_count": 9,
   "metadata": {
    "collapsed": false
   },
   "outputs": [
    {
     "name": "stdout",
     "output_type": "stream",
     "text": [
      "Name:  Utkarsh  Salary:  20000\n",
      "Name:  Sophie  Salary:  23000\n",
      "Total Employee 2\n"
     ]
    }
   ],
   "source": [
    "#!/usr/bin/python\n",
    "\n",
    "class Employee:\n",
    "    empCount = 0\n",
    "    \n",
    "    def __init__(self,name,salary): #Constructor\n",
    "        self.name = name\n",
    "        self.salary = salary\n",
    "        Employee.empCount += 1\n",
    "        \n",
    "    def displayCount(self):\n",
    "        print \"Total Employee %d\" % Employee.empCount\n",
    "        \n",
    "    def displayEmployee(self):\n",
    "        print \"Name: \", self.name, \" Salary: \",self.salary\n",
    "        \n",
    "emp1 = Employee(\"Utkarsh\", 20000)\n",
    "emp2 = Employee(\"Sophie\", 23000)\n",
    "emp1.displayEmployee()\n",
    "emp2.displayEmployee()\n",
    "print \"Total Employee %d\" % Employee.empCount"
   ]
  },
  {
   "cell_type": "markdown",
   "metadata": {},
   "source": [
    "# Attributes"
   ]
  },
  {
   "cell_type": "code",
   "execution_count": 12,
   "metadata": {
    "collapsed": false
   },
   "outputs": [
    {
     "data": {
      "text/plain": [
       "\"hasattr(emp1, 'age')    # Returns true if 'age' attribute exists\\ngetattr(emp1, 'age')    # Returns value of 'age' attribute\\nsetattr(emp1, 'age', 8) # Set attribute 'age' at 8\\ndelattr(emp1, 'age')    # Delete attribute 'age' \""
      ]
     },
     "execution_count": 12,
     "metadata": {},
     "output_type": "execute_result"
    }
   ],
   "source": [
    "hasattr(emp1, 'age')    # Returns true if 'age' attribute exists\n",
    "getattr(emp1, 'age')    # Returns value of 'age' attribute\n",
    "setattr(emp1, 'age', 8) # Set attribute 'age' at 8\n",
    "delattr(emp1, 'age')    # Delete attribute 'age'"
   ]
  },
  {
   "cell_type": "code",
   "execution_count": 14,
   "metadata": {
    "collapsed": false
   },
   "outputs": [
    {
     "name": "stdout",
     "output_type": "stream",
     "text": [
      "EMployee.__doc__ None\n",
      "EMployee.__name__ Employee\n",
      "EMployee.__module__ __main__\n",
      "EMployee.__bases__ ()\n",
      "EMployee.__dict__ {'__module__': '__main__', 'displayCount': <function displayCount at 0xb2401df4>, 'empCount': 2, 'displayEmployee': <function displayEmployee at 0xb2401e2c>, '__doc__': None, '__init__': <function __init__ at 0xb2401dbc>}\n"
     ]
    }
   ],
   "source": [
    "print \"EMployee.__doc__\" , Employee.__doc__\n",
    "print \"EMployee.__name__\" , Employee.__name__\n",
    "print \"EMployee.__module__\" , Employee.__module__\n",
    "print \"EMployee.__bases__\" , Employee.__bases__\n",
    "print \"EMployee.__dict__\" , Employee.__dict__"
   ]
  },
  {
   "cell_type": "markdown",
   "metadata": {},
   "source": [
    "# Constructor & Destructor"
   ]
  },
  {
   "cell_type": "code",
   "execution_count": 16,
   "metadata": {
    "collapsed": false
   },
   "outputs": [
    {
     "name": "stdout",
     "output_type": "stream",
     "text": [
      "3069879308 3069879308 3069879308\n",
      "Point destroyed\n"
     ]
    }
   ],
   "source": [
    "class Point:\n",
    "    def __init__(self, x=0, y=0):\n",
    "        self.x=x\n",
    "        self.y=y\n",
    "    \n",
    "    def __del__(self):\n",
    "        class_name = self.__class__.__name__\n",
    "        print class_name, \"destroyed\"\n",
    "\n",
    "pt1 = Point()\n",
    "pt2 = pt1\n",
    "pt3 = pt1\n",
    "print id(pt1), id(pt2), id(pt3) #print the id's of objects\n",
    "del pt1\n",
    "del pt2\n",
    "del pt3\n",
    "\n",
    "#Ideally, you should define your classes in separate file, \n",
    "#then you should import them in your main program file using import statement."
   ]
  },
  {
   "cell_type": "markdown",
   "metadata": {},
   "source": [
    "# Inheritance"
   ]
  },
  {
   "cell_type": "markdown",
   "metadata": {},
   "source": [
    "SYNTAX : class SubClassName (ParentClass1[, ParentClass2, ...]):\n",
    "   'Optional class documentation string'\n",
    "   class_suite"
   ]
  },
  {
   "cell_type": "code",
   "execution_count": 20,
   "metadata": {
    "collapsed": false
   },
   "outputs": [
    {
     "name": "stdout",
     "output_type": "stream",
     "text": [
      "Calling child constructor\n",
      "Calling child method\n",
      "Calling parent method\n",
      "Parent attribute:  200\n"
     ]
    }
   ],
   "source": [
    "class Parent:\n",
    "    parentattr = 100\n",
    "    def __init__(self):\n",
    "        print \"Calling parent constructor\"\n",
    "        \n",
    "    def parentMethod(self):\n",
    "        print \"Calling parent method\"\n",
    "        \n",
    "    def setAttr(self, attr):\n",
    "        Parent.parentattr = attr\n",
    "    \n",
    "    def getAttr(self):\n",
    "        print \"Parent attribute: \", Parent.parentattr\n",
    "        \n",
    "class Child(Parent):\n",
    "    def __init__(self):\n",
    "        print \"Calling child constructor\"\n",
    "    \n",
    "    def childMethod(self):\n",
    "        print 'Calling child method'\n",
    "        \n",
    "c = Child()      #instance of child \n",
    "c.childMethod()  #child calls its method\n",
    "c.parentMethod() #calls parent's method\n",
    "c.setAttr(200)      #again call parent's method\n",
    "c.getAttr()      #again call parent's method"
   ]
  },
  {
   "cell_type": "markdown",
   "metadata": {},
   "source": [
    "Similar way, you can drive a class from multiple parent classes as follows −\n",
    "\n",
    "class A:        # define your class A\n",
    ".....\n",
    "\n",
    "class B:         # define your class B\n",
    ".....\n",
    "\n",
    "class C(A, B):   # subclass of A and B\n",
    "....."
   ]
  },
  {
   "cell_type": "markdown",
   "metadata": {},
   "source": [
    "## Overriding Methods"
   ]
  },
  {
   "cell_type": "markdown",
   "metadata": {},
   "source": [
    "You can always override your parent class methods. One reason for overriding parent's methods is because you may want special or different functionality in your subclass."
   ]
  },
  {
   "cell_type": "code",
   "execution_count": 21,
   "metadata": {
    "collapsed": false
   },
   "outputs": [
    {
     "name": "stdout",
     "output_type": "stream",
     "text": [
      "calling child class\n"
     ]
    }
   ],
   "source": [
    "class Parent:\n",
    "    def myMethod(self):\n",
    "        print \"calling parent method\"\n",
    "        \n",
    "class Child(Parent):\n",
    "    def myMethod(self):\n",
    "        print \"calling child class\"\n",
    "        \n",
    "c = Child()\n",
    "c.myMethod()"
   ]
  },
  {
   "cell_type": "markdown",
   "metadata": {},
   "source": [
    "# Base Overloading Methods"
   ]
  },
  {
   "cell_type": "markdown",
   "metadata": {},
   "source": [
    "Following table lists some generic functionality that you can override in your own classes −\n",
    "\n",
    "__init__ ( self [,args...] )\n",
    "Constructor (with any optional arguments)\n",
    "Sample Call : obj = className(args)\n",
    "\n",
    "__del__( self )\n",
    "Destructor, deletes an object\n",
    "Sample Call : del obj\n",
    "\n",
    "__repr__( self )\n",
    "Evaluatable string representation\n",
    "Sample Call : repr(obj)\n",
    "\n",
    "__str__( self )\n",
    "Printable string representation\n",
    "Sample Call : str(obj)\n",
    "\n",
    "__cmp__ ( self, x )\n",
    "Object comparison\n",
    "Sample Call : cmp(obj, x)"
   ]
  },
  {
   "cell_type": "markdown",
   "metadata": {},
   "source": [
    "## Overloading Operators"
   ]
  },
  {
   "cell_type": "markdown",
   "metadata": {},
   "source": [
    "Suppose you have created a Vector class to represent two-dimensional vectors, what happens when you use the plus operator to add them? Most likely Python will yell at you.\n",
    "\n",
    "You could, however, define the __add__ method in your class to perform vector addition and then the plus operator would behave as per expectation −"
   ]
  },
  {
   "cell_type": "code",
   "execution_count": 22,
   "metadata": {
    "collapsed": false
   },
   "outputs": [
    {
     "name": "stdout",
     "output_type": "stream",
     "text": [
      "Vector (15 18)\n"
     ]
    }
   ],
   "source": [
    "class Vector:\n",
    "    def __init__(self, a, b):\n",
    "        self.a = a\n",
    "        self.b = b\n",
    "        \n",
    "    def __str__(self):\n",
    "        return 'Vector (%d %d)' % (self.a, self.b)\n",
    "        \n",
    "    def __add__(self, other):\n",
    "        return Vector(self.a + other.a, self.b + other.b)\n",
    "    \n",
    "v1 = Vector(10,20)\n",
    "v2 = Vector(5,-2)\n",
    "print v1 + v2"
   ]
  },
  {
   "cell_type": "markdown",
   "metadata": {},
   "source": [
    "## Data Hiding"
   ]
  },
  {
   "cell_type": "markdown",
   "metadata": {},
   "source": [
    "An object's attributes may or may not be visible outside the class definition. You need to name attributes with a double underscore prefix, and those attributes then are not be directly visible to outsiders."
   ]
  },
  {
   "cell_type": "code",
   "execution_count": 23,
   "metadata": {
    "collapsed": false
   },
   "outputs": [
    {
     "name": "stdout",
     "output_type": "stream",
     "text": [
      "1\n",
      "2\n"
     ]
    },
    {
     "ename": "AttributeError",
     "evalue": "JustCounter instance has no attribute '__secretCount'",
     "output_type": "error",
     "traceback": [
      "\u001b[1;31m---------------------------------------------------------------------------\u001b[0m",
      "\u001b[1;31mAttributeError\u001b[0m                            Traceback (most recent call last)",
      "\u001b[1;32m<ipython-input-23-e72bc83f885a>\u001b[0m in \u001b[0;36m<module>\u001b[1;34m()\u001b[0m\n\u001b[0;32m      9\u001b[0m \u001b[0mcounter\u001b[0m\u001b[1;33m.\u001b[0m\u001b[0mcount\u001b[0m\u001b[1;33m(\u001b[0m\u001b[1;33m)\u001b[0m\u001b[1;33m\u001b[0m\u001b[0m\n\u001b[0;32m     10\u001b[0m \u001b[0mcounter\u001b[0m\u001b[1;33m.\u001b[0m\u001b[0mcount\u001b[0m\u001b[1;33m(\u001b[0m\u001b[1;33m)\u001b[0m\u001b[1;33m\u001b[0m\u001b[0m\n\u001b[1;32m---> 11\u001b[1;33m \u001b[1;32mprint\u001b[0m \u001b[0mcounter\u001b[0m\u001b[1;33m.\u001b[0m\u001b[0m__secretCount\u001b[0m\u001b[1;33m\u001b[0m\u001b[0m\n\u001b[0m",
      "\u001b[1;31mAttributeError\u001b[0m: JustCounter instance has no attribute '__secretCount'"
     ]
    }
   ],
   "source": [
    "class JustCounter():\n",
    "    __secretCount = 0\n",
    "    \n",
    "    def count(self):\n",
    "        self.__secretCount += 1\n",
    "        print self.__secretCount\n",
    "        \n",
    "counter = JustCounter()\n",
    "counter.count()\n",
    "counter.count()\n",
    "print counter.__secretCount"
   ]
  },
  {
   "cell_type": "markdown",
   "metadata": {},
   "source": [
    "Python protects those members by internally changing the name to include the class name. You can access such attributes as object._className__attrName. If you would replace your last line as following, then it works for you −"
   ]
  },
  {
   "cell_type": "code",
   "execution_count": 33,
   "metadata": {
    "collapsed": false
   },
   "outputs": [
    {
     "name": "stdout",
     "output_type": "stream",
     "text": [
      "1\n",
      "2\n",
      "1\n"
     ]
    }
   ],
   "source": [
    "class JustCounter():\n",
    "    secretCount = 0\n",
    "    \n",
    "    def count(self):\n",
    "        self.secretCount += 1\n",
    "        print self.secretCount\n",
    "        \n",
    "counter = JustCounter()\n",
    "counter.count()\n",
    "counter.count()\n",
    "#print counter.JustCounter.secretCount\n",
    "\n",
    "counter2 = JustCounter()\n",
    "counter2.count()"
   ]
  },
  {
   "cell_type": "code",
   "execution_count": null,
   "metadata": {
    "collapsed": true
   },
   "outputs": [],
   "source": []
  }
 ],
 "metadata": {
  "anaconda-cloud": {},
  "kernelspec": {
   "display_name": "Python [Root]",
   "language": "python",
   "name": "Python [Root]"
  },
  "language_info": {
   "codemirror_mode": {
    "name": "ipython",
    "version": 3
   },
   "file_extension": ".py",
   "mimetype": "text/x-python",
   "name": "python",
   "nbconvert_exporter": "python",
   "pygments_lexer": "ipython3",
   "version": "3.5.2"
  }
 },
 "nbformat": 4,
 "nbformat_minor": 0
}
