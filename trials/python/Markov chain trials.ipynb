{
 "cells": [
  {
   "cell_type": "code",
   "execution_count": 30,
   "metadata": {
    "collapsed": false
   },
   "outputs": [],
   "source": [
    "import random\n",
    "\n",
    "def Markov(text_file):\n",
    "    with open(text_file) as f:    # provide a text-file to parse\n",
    "        data = f.read()\n",
    "    \n",
    "    data = [i for i in data.split(' ') if i != '']     # create a list of all words \n",
    "    data = [i.lower() for i in data if i.isalpha()]    # i've been removing punctuation\n",
    "    \n",
    "    markov = {i:[] for i in data}    # i create a dict with the words as keys and empty lists as values\n",
    "\n",
    "    #print data\n",
    "    #print \"=\" *80\n",
    "    #print \"Markov{}\".format(markov)\n",
    "    \n",
    "    pos = 0\n",
    "    while pos < len(data) - 1:    # add a word to the word-key's list if it immediately follows that word\n",
    "        markov[data[pos]].append(data[pos+1])\n",
    "        pos += 1\n",
    "    \n",
    "    #print \"=\" *80\n",
    "    #print markov\n",
    "    new = {k:v for k,v in zip(range(len(markov)), [i for i in markov])}    # create another dict for the seed to match up with \n",
    "    \n",
    "    #print \"=\" *80\n",
    "    #print new\n",
    "    length_sentence = random.randint(15, 20)    # create a random length for a sentence stopping point\n",
    "    \n",
    "    seed = random.randint(0, len(new) - 1)    # randomly pick a starting point\n",
    "\n",
    "    start_index = 0\n",
    "    sentence_data = [new[start_index,:]]     # use that word as the first word and starting point\n",
    "    current_word = new[start_index]\n",
    "    \n",
    "    while len(sentence_data) < length_sentence:\n",
    "        next_index = random.randint(0, len(markov[current_word]) - 1)    # randomly pick a word from the last words list.\n",
    "        next_word = markov[current_word][next_index]\n",
    "        sentence_data.append(next_word)\n",
    "        current_word = next_word\n",
    "        \n",
    "    return ' '.join([i for i in sentence_data])"
   ]
  },
  {
   "cell_type": "code",
   "execution_count": 28,
   "metadata": {
    "collapsed": false
   },
   "outputs": [
    {
     "ename": "AttributeError",
     "evalue": "'str' object has no attribute 'append'",
     "output_type": "error",
     "traceback": [
      "\u001b[1;31m---------------------------------------------------------------------------\u001b[0m",
      "\u001b[1;31mAttributeError\u001b[0m                            Traceback (most recent call last)",
      "\u001b[1;32m<ipython-input-28-3cb5a83a0032>\u001b[0m in \u001b[0;36m<module>\u001b[1;34m()\u001b[0m\n\u001b[1;32m----> 1\u001b[1;33m \u001b[0mMarkov\u001b[0m\u001b[1;33m(\u001b[0m\u001b[1;34m'100_lines_after_and_before_EOBT.csv'\u001b[0m\u001b[1;33m)\u001b[0m\u001b[1;33m\u001b[0m\u001b[0m\n\u001b[0m",
      "\u001b[1;32m<ipython-input-27-61b63574bc6e>\u001b[0m in \u001b[0;36mMarkov\u001b[1;34m(text_file)\u001b[0m\n\u001b[0;32m     36\u001b[0m         \u001b[0mnext_index\u001b[0m \u001b[1;33m=\u001b[0m \u001b[0mrandom\u001b[0m\u001b[1;33m.\u001b[0m\u001b[0mrandint\u001b[0m\u001b[1;33m(\u001b[0m\u001b[1;36m0\u001b[0m\u001b[1;33m,\u001b[0m \u001b[0mlen\u001b[0m\u001b[1;33m(\u001b[0m\u001b[0mmarkov\u001b[0m\u001b[1;33m[\u001b[0m\u001b[0mcurrent_word\u001b[0m\u001b[1;33m]\u001b[0m\u001b[1;33m)\u001b[0m \u001b[1;33m-\u001b[0m \u001b[1;36m1\u001b[0m\u001b[1;33m)\u001b[0m    \u001b[1;31m# randomly pick a word from the last words list.\u001b[0m\u001b[1;33m\u001b[0m\u001b[0m\n\u001b[0;32m     37\u001b[0m         \u001b[0mnext_word\u001b[0m \u001b[1;33m=\u001b[0m \u001b[0mmarkov\u001b[0m\u001b[1;33m[\u001b[0m\u001b[0mcurrent_word\u001b[0m\u001b[1;33m]\u001b[0m\u001b[1;33m[\u001b[0m\u001b[0mnext_index\u001b[0m\u001b[1;33m]\u001b[0m\u001b[1;33m\u001b[0m\u001b[0m\n\u001b[1;32m---> 38\u001b[1;33m         \u001b[0msentence_data\u001b[0m\u001b[1;33m.\u001b[0m\u001b[0mappend\u001b[0m\u001b[1;33m(\u001b[0m\u001b[0mnext_word\u001b[0m\u001b[1;33m)\u001b[0m\u001b[1;33m\u001b[0m\u001b[0m\n\u001b[0m\u001b[0;32m     39\u001b[0m         \u001b[0mcurrent_word\u001b[0m \u001b[1;33m=\u001b[0m \u001b[0mnext_word\u001b[0m\u001b[1;33m\u001b[0m\u001b[0m\n\u001b[0;32m     40\u001b[0m \u001b[1;33m\u001b[0m\u001b[0m\n",
      "\u001b[1;31mAttributeError\u001b[0m: 'str' object has no attribute 'append'"
     ]
    }
   ],
   "source": [
    "Markov('100_lines_after_and_before_EOBT.csv')"
   ]
  },
  {
   "cell_type": "code",
   "execution_count": null,
   "metadata": {
    "collapsed": true
   },
   "outputs": [],
   "source": []
  }
 ],
 "metadata": {
  "kernelspec": {
   "display_name": "Python 2",
   "language": "python",
   "name": "python2"
  },
  "language_info": {
   "codemirror_mode": {
    "name": "ipython",
    "version": 2
   },
   "file_extension": ".py",
   "mimetype": "text/x-python",
   "name": "python",
   "nbconvert_exporter": "python",
   "pygments_lexer": "ipython2",
   "version": "2.7.11"
  }
 },
 "nbformat": 4,
 "nbformat_minor": 0
}
