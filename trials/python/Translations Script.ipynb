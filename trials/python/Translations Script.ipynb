{
 "cells": [
  {
   "cell_type": "code",
   "execution_count": 193,
   "metadata": {
    "collapsed": true
   },
   "outputs": [],
   "source": [
    "import pandas as pd"
   ]
  },
  {
   "cell_type": "code",
   "execution_count": 235,
   "metadata": {
    "collapsed": false,
    "scrolled": false
   },
   "outputs": [],
   "source": [
    "atlasAllStrings = pd.read_excel(\"Master_translations_atlas_esC.xls\")"
   ]
  },
  {
   "cell_type": "markdown",
   "metadata": {},
   "source": [
    "# "
   ]
  },
  {
   "cell_type": "code",
   "execution_count": 346,
   "metadata": {
    "collapsed": false
   },
   "outputs": [],
   "source": [
    "#atlasAllStrings.head(10)"
   ]
  },
  {
   "cell_type": "code",
   "execution_count": 237,
   "metadata": {
    "collapsed": false
   },
   "outputs": [],
   "source": [
    "myatlas = atlasAllStrings[(atlasAllStrings['English'] != \"NaN\") & (atlasAllStrings['English'] == atlasAllStrings['Spanish'])]\n",
    "#myatlas = myatlas[myatlas['Status'] == \"MATCH\"]"
   ]
  },
  {
   "cell_type": "code",
   "execution_count": 238,
   "metadata": {
    "collapsed": false
   },
   "outputs": [],
   "source": [
    "#myatlas.head()"
   ]
  },
  {
   "cell_type": "code",
   "execution_count": 239,
   "metadata": {
    "collapsed": false
   },
   "outputs": [
    {
     "data": {
      "text/plain": [
       "' #Enable if required to generate uniqueStrings again\\npd.DataFrame(UniqueStrings).to_csv(\"uniqueStrings\")\\n'"
      ]
     },
     "execution_count": 239,
     "metadata": {},
     "output_type": "execute_result"
    }
   ],
   "source": [
    "\n",
    "UniqueStrings=myatlas['English'].unique()\n",
    "''' #Enable if required to generate uniqueStrings again\n",
    "pd.DataFrame(UniqueStrings).to_csv(\"uniqueStrings\")\n",
    "'''"
   ]
  },
  {
   "cell_type": "code",
   "execution_count": 240,
   "metadata": {
    "collapsed": false
   },
   "outputs": [
    {
     "data": {
      "text/plain": [
       "1113"
      ]
     },
     "execution_count": 240,
     "metadata": {},
     "output_type": "execute_result"
    }
   ],
   "source": [
    "len(UniqueStrings)"
   ]
  },
  {
   "cell_type": "code",
   "execution_count": 241,
   "metadata": {
    "collapsed": false
   },
   "outputs": [],
   "source": [
    "# We removed strings offline, it's time to reload\n",
    "#UniqueStringsDf = pd.DataFrame(UniqueStrings,columns=['string'])\n",
    "#UniqueStringsDf = pd.read_csv(\"uniqueStrings\")"
   ]
  },
  {
   "cell_type": "code",
   "execution_count": 242,
   "metadata": {
    "collapsed": false
   },
   "outputs": [
    {
     "name": "stdout",
     "output_type": "stream",
     "text": [
      "(594, 1) <class 'pandas.core.frame.DataFrame'>\n",
      "(594, 1) <class 'pandas.core.frame.DataFrame'>\n"
     ]
    }
   ],
   "source": [
    "#print UniqueStringsDf\n",
    "\n",
    "UniqueStringsFilteredOut = pd.read_csv(\"uniqueStrings\")\n",
    "\n",
    "UniqueStringsFilteredOut.reset_index(drop=True,inplace=True)\n",
    "print UniqueStringsFilteredOut.shape,type(UniqueStringsFilteredOut)\n",
    "print UniqueStringsDf.shape,type(UniqueStringsDf)\n",
    "#print type(UniqueStringsFilteredOut['string'].isin(UniqueStringsDf['string']))\n",
    "#print (UniqueStringsFilteredOut['string'].isin(atlasAllStrings['English']))\n"
   ]
  },
  {
   "cell_type": "raw",
   "metadata": {},
   "source": [
    "#UniqueStringNotRequired = UniqueStringsDf[-(UniqueStringsFilteredOut['string'].isin(UniqueStringsDf['string']))]"
   ]
  },
  {
   "cell_type": "code",
   "execution_count": 153,
   "metadata": {
    "collapsed": false
   },
   "outputs": [],
   "source": [
    "#print UniqueStringNotRequired.shape\n",
    "#print UniqueStringsFilteredOut"
   ]
  },
  {
   "cell_type": "code",
   "execution_count": 347,
   "metadata": {
    "collapsed": false
   },
   "outputs": [],
   "source": [
    "#UniqueStringsFilteredOut\n",
    "#UniqueStringNotRequired['string']\n",
    "#UniqueStringsFilteredOut['string'].tolist()\n",
    "#atlasAllStrings[atlasAllStrings['English'] == \"TiVo HD XL\"]"
   ]
  },
  {
   "cell_type": "code",
   "execution_count": 343,
   "metadata": {
    "collapsed": false
   },
   "outputs": [],
   "source": [
    "def mytranslationfilter(row):\n",
    "    #print row['English']\n",
    "    if(row.isnull().all()):\n",
    "        #print \"hello\"\n",
    "        return\n",
    "    if(row['English'] != row['Spanish']):\n",
    "        #print (\"UN-MATCHED:{}\".format(row))\n",
    "        row['Result'] = \"Translated\"\n",
    "        return row\n",
    "    elif(row['English'] in UniqueStringsFilteredOut['string'].tolist()):\n",
    "        #print (\"===Row{}\",row['English'])\n",
    "        #print (\"MATCHED IN:{}\".format(row))\n",
    "        row['Result'] = \"Need analysis\"\n",
    "        return row\n",
    "    else:\n",
    "        #print (\"===Row{}\",row['English'])\n",
    "        #print (\"MATCHED NOT IN:{}\".format(row))\n",
    "        return \"REMOVE\"\n",
    "            \n",
    "\n",
    "filteredFrame=atlasAllStrings.apply(lambda x: mytranslationfilter(x),axis=1)"
   ]
  },
  {
   "cell_type": "code",
   "execution_count": 345,
   "metadata": {
    "collapsed": false
   },
   "outputs": [
    {
     "name": "stdout",
     "output_type": "stream",
     "text": [
      "(11941, 4) (13078, 4)\n"
     ]
    }
   ],
   "source": [
    "#print filteredFrame.head(20)\n",
    "#print atlasAllStrings[1:20]\n",
    "\n",
    "filteredFrame = filteredFrame[filteredFrame['String'] != \"REMOVE\"]\n",
    "filteredFrame.reset_index(drop=True,inplace=True)\n",
    "print filteredFrame.shape,atlasAllStrings.shape\n",
    "filteredFrame.to_excel(\"MasterList_filtered_out.xls\", sheet_name=\"Translated\")"
   ]
  },
  {
   "cell_type": "markdown",
   "metadata": {},
   "source": [
    "# DEEPAK: You just need to execute steps till here. \n",
    "* Please note that you can remove further more strings from file \"//uniqueStrings\" like we did earlier and run all steps above; \n",
    "* After removing more strings from \"//uniqueString\", You just need to press SHIFT+ENTER on all above buttons till here and then check file named \"MasterList_filtered_out.xls\" in / directory.\n"
   ]
  },
  {
   "cell_type": "code",
   "execution_count": 303,
   "metadata": {
    "collapsed": false
   },
   "outputs": [],
   "source": [
    "#toTranslate.head()\n",
    "###myatlas.reset_index(drop=True,inplace=True)\n",
    "#matched= myatlas\n",
    "#toTranslate= myatlas[myatlas['English'].apply(lambda x: x.isin(UniqueStringsFilteredOut['string']))] \n",
    "#== UniqueStringsFilteredOut['string']] "
   ]
  },
  {
   "cell_type": "code",
   "execution_count": 182,
   "metadata": {
    "collapsed": true
   },
   "outputs": [],
   "source": [
    "Translated.to_excel(\"MasterList_filtered_translated.xls\", sheet_name=\"Translated\")\n",
    "toTranslate.to_excel(\"MasterList_filtered_translated.xls\",sheet_name=\"ToTranslate\")"
   ]
  },
  {
   "cell_type": "code",
   "execution_count": 173,
   "metadata": {
    "collapsed": true
   },
   "outputs": [],
   "source": [
    "from pandas import ExcelWriter\n",
    "writer = ExcelWriter(\"MasterList_filtered_translated.xls\")\n",
    "Translated.to_excel(writer,'Translated')\n",
    "toTranslate.to_excel(writer,'toTranslate')\n",
    "writer.save()"
   ]
  },
  {
   "cell_type": "code",
   "execution_count": 192,
   "metadata": {
    "collapsed": false
   },
   "outputs": [
    {
     "ename": "TypeError",
     "evalue": "'NoneType' object is not callable",
     "output_type": "error",
     "traceback": [
      "\u001b[1;31m---------------------------------------------------------------------------\u001b[0m",
      "\u001b[1;31mTypeError\u001b[0m                                 Traceback (most recent call last)",
      "\u001b[1;32m<ipython-input-192-3297a1b735cf>\u001b[0m in \u001b[0;36m<module>\u001b[1;34m()\u001b[0m\n\u001b[1;32m----> 1\u001b[1;33m \u001b[0mwriter\u001b[0m\u001b[1;33m.\u001b[0m\u001b[0mcurr_sheet\u001b[0m\u001b[1;33m(\u001b[0m\u001b[1;33m)\u001b[0m\u001b[1;33m\u001b[0m\u001b[0m\n\u001b[0m",
      "\u001b[1;31mTypeError\u001b[0m: 'NoneType' object is not callable"
     ]
    }
   ],
   "source": [
    "writer"
   ]
  },
  {
   "cell_type": "code",
   "execution_count": null,
   "metadata": {
    "collapsed": true
   },
   "outputs": [],
   "source": []
  }
 ],
 "metadata": {
  "kernelspec": {
   "display_name": "Python 2",
   "language": "python",
   "name": "python2"
  },
  "language_info": {
   "codemirror_mode": {
    "name": "ipython",
    "version": 2
   },
   "file_extension": ".py",
   "mimetype": "text/x-python",
   "name": "python",
   "nbconvert_exporter": "python",
   "pygments_lexer": "ipython2",
   "version": "2.7.11"
  }
 },
 "nbformat": 4,
 "nbformat_minor": 0
}
