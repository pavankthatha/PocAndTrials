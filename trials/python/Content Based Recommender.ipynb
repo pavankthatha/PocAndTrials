{
 "cells": [
  {
   "cell_type": "code",
   "execution_count": 3,
   "metadata": {
    "collapsed": true
   },
   "outputs": [],
   "source": [
    "#https://www.themarketingtechnologist.co/a-recommendation-system-for-blogs-content-based-similarity-part-2/"
   ]
  },
  {
   "cell_type": "code",
   "execution_count": 13,
   "metadata": {
    "collapsed": false
   },
   "outputs": [],
   "source": [
    "from math import*\n",
    "import re\n",
    "import logging\n",
    "import pandas as pd\n",
    "import numpy as np\n",
    "from sklearn.feature_extraction.text import CountVectorizer\n",
    "from sklearn.decomposition import PCA, TruncatedSVD\n",
    "import seaborn as sns\n",
    "import nltk\n",
    "from nltk.stem.snowball import SnowballStemmer\n",
    "from nltk.corpus import stopwords"
   ]
  },
  {
   "cell_type": "code",
   "execution_count": 15,
   "metadata": {
    "collapsed": true
   },
   "outputs": [],
   "source": [
    "logging.basicConfig(format='%(levelname)s:%(message)s', level=logging.DEBUG)"
   ]
  },
  {
   "cell_type": "code",
   "execution_count": 17,
   "metadata": {
    "collapsed": true
   },
   "outputs": [],
   "source": [
    "class AnalyzeTMTArticles:\n",
    "    \n",
    "    def __init__(self):\n",
    "        #The values below can be changed to tweak the recommender algorithm,\n",
    "        self.n_most_similar = 1\n",
    "        self.n_features_title = 25\n",
    "        self.n_features_content = 50\n",
    "        self.n_features_tags = 25\n",
    "        self.n_features_total = 30\n",
    "        \n",
    "        #Do not change the values below\n",
    "        self.df = None\n",
    "        self.df_article_vectors = None\n",
    "        self.similarity_score_dict = {}\n",
    "        self.X = None\n",
    "        self.x_title = None\n",
    "        self.X_content = None\n",
    "        self.X_tags = None"
   ]
  },
  {
   "cell_type": "code",
   "execution_count": 19,
   "metadata": {
    "collapsed": true
   },
   "outputs": [],
   "source": [
    "def run(self):\n",
    "    \"\"\"\n",
    "    Load and transform the TMT articles, train a content-based recommender system and make a recommendation for each\n",
    "        TMT article.\n",
    "        :return:\n",
    "    \"\"\"\n",
    "    self.load_articles()\n",
    "    self.assign_tags()\n",
    "    self.vectorize_articles()\n",
    "    self.reduce_dimensionality_articles()\n",
    "    self.visualize_data()\n",
    "    self.find_similar_articles()\n",
    "    self.save_output_to_csv()"
   ]
  },
  {
   "cell_type": "code",
   "execution_count": 20,
   "metadata": {
    "collapsed": true
   },
   "outputs": [],
   "source": [
    "#Load data\n",
    "def load_articles(Self):\n",
    "    \"\"\"\"\n",
    "    Loads the DataFrame with all the TMT articles. More info on this can be found in part 1 of the TMT\n",
    "        recommender article series:\n",
    "        www.themarketingtechnologist.co/building-a-recommendation-engine-for-geek-setting-up-the-prerequisites-13/\n",
    "        :return: DataFrame with the title, content, tags and author of all TMT articles\n",
    "    \"\"\"\n",
    "    self.df = pd.read_csv('articles.csv', encodings='utf-8') #Load articles in a dataframe\n",
    "    self.df = self.df[['title','context_text','tags','author']] #Slice to remove redundant columns\n",
    "    logging.debug(\"Number of articles: {0}\\n\".format(len(self.df)))"
   ]
  },
  {
   "cell_type": "code",
   "execution_count": 24,
   "metadata": {
    "collapsed": false
   },
   "outputs": [],
   "source": [
    "def assign_tags(self):\n",
    "    \"\"\"\n",
    "        Assign one single tag (the first tag) to each article and create a list of all these tags\n",
    "        :return: Appends a new column to the dataframe\n",
    "    \"\"\"\n",
    "    def assign_single_tag(x):\n",
    "        x = x.lower().split(\",\")[0]\n",
    "        return x if x != \"\" else \"None\"\n",
    "    # Clean up tags formatting\n",
    "    self.df['tags'] = self.df['tags'].apply(lambda x: x.replace(\"[\", \"\").replace(\"]\", \"\"))\n",
    "    #Assign first tag\n",
    "    self.df['tags_first'] = self.df['tags'].apply(lambda x: assign_single_tag(x))"
   ]
  },
  {
   "cell_type": "code",
   "execution_count": 26,
   "metadata": {
    "collapsed": true
   },
   "outputs": [],
   "source": [
    "#Vectorize data and reduce dimensionality\n",
    "def vectorize_articles(self):\n",
    "    \"\"\"\n",
    "        Vectorize training data, i.e. perform a 3-gram feature extraction and selection method using FP, Chi or RP\n",
    "        :return: Result is a numeric and weighted feature vector notation for each article\n",
    "    \"\"\"\n",
    "    #vetorize articles\n",
    "    self.vectorize_title() # Add title as dummies\n",
    "    self.vectorize_content() # Add content as dummies\n",
    "    self.vectorize_tags() # Add title as dummies\n",
    "    # concatenate all articles vectors .i.e. title,content,tags,author\n",
    "    article_metrics = (self.X_title, self.X_content, self.X_tags)\n",
    "    self.X = np.concatenate(article_metrics, axis=1)\n",
    "    logging.debug(\"Number of features in total Dataframe: {0}\".format(self.X.shape[1]))"
   ]
  },
  {
   "cell_type": "code",
   "execution_count": 30,
   "metadata": {
    "collapsed": false
   },
   "outputs": [],
   "source": [
    "def get_vectorizer(self, ngram_range=(1,3), min_df=2, max_df=1.0):\n",
    "    \"\"\"\n",
    "        Define a binary CountVectorizer (Feature Presence) using n-grams and min and max document frequency\n",
    "        :param ngram_range: n-grams are created for all numbers within this range\n",
    "        :param min_df: min document frequency of features\n",
    "        :param max_df: max document frequency of features\n",
    "        :return:\n",
    "     \"\"\"\n",
    "    vectorizer = CountVectorizer(ngram_range=ngram_range,\n",
    "                                 tokenizer=self.tokenize,\n",
    "                                 min_df=min_df,\n",
    "                                 max_df=max_df,\n",
    "                                 binary=True,\n",
    "                                 stop_words='english')\n",
    "    return vectorizer"
   ]
  },
  {
   "cell_type": "code",
   "execution_count": null,
   "metadata": {
    "collapsed": true
   },
   "outputs": [],
   "source": []
  }
 ],
 "metadata": {
  "kernelspec": {
   "display_name": "Python 2",
   "language": "python",
   "name": "python2"
  },
  "language_info": {
   "codemirror_mode": {
    "name": "ipython",
    "version": 2
   },
   "file_extension": ".py",
   "mimetype": "text/x-python",
   "name": "python",
   "nbconvert_exporter": "python",
   "pygments_lexer": "ipython2",
   "version": "2.7.11"
  }
 },
 "nbformat": 4,
 "nbformat_minor": 0
}
