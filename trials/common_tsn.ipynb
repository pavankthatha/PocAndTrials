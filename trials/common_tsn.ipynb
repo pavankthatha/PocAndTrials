{
 "cells": [
  {
   "cell_type": "code",
   "execution_count": 19,
   "metadata": {
    "collapsed": true
   },
   "outputs": [],
   "source": [
    "import pandas as pd"
   ]
  },
  {
   "cell_type": "code",
   "execution_count": 20,
   "metadata": {
    "collapsed": false
   },
   "outputs": [],
   "source": [
    "data_frame_1 = pd.read_csv('/home/tivo/Python_work/hydra_tsn_list.txt')\n",
    "data_frame_2 = pd.read_csv('/home/tivo/Python_work/utsn.csv')"
   ]
  },
  {
   "cell_type": "code",
   "execution_count": 4,
   "metadata": {
    "collapsed": false
   },
   "outputs": [
    {
     "name": "stdout",
     "output_type": "stream",
     "text": [
      "              TSNs\n",
      "0  8400001901F5862\n",
      "1  8400001901F5A9E\n",
      "2  8400001901F5C3F\n",
      "3  840000190211CBB\n",
      "4  8400001903E8A95\n"
     ]
    }
   ],
   "source": [
    "#print data_frame_1.head()\n",
    "print data_frame_2.head()\n",
    "#data_frame_1.ix[[5,10,15]]"
   ]
  },
  {
   "cell_type": "code",
   "execution_count": 16,
   "metadata": {
    "collapsed": false
   },
   "outputs": [
    {
     "data": {
      "text/plain": [
       "Index([u'TSN', u'First Name', u'Last Name', u'Sw Version Group Code',\n",
       "       u'rcv_sw_version', u'xxx'],\n",
       "      dtype='object')"
      ]
     },
     "execution_count": 16,
     "metadata": {},
     "output_type": "execute_result"
    }
   ],
   "source": [
    "'''df = pd.DataFrame(data_frame_1)\n",
    "df1 = pd.DataFrame(data_frame_2)'''\n",
    "data_frame_1.columns"
   ]
  },
  {
   "cell_type": "code",
   "execution_count": 17,
   "metadata": {
    "collapsed": false
   },
   "outputs": [
    {
     "name": "stdout",
     "output_type": "stream",
     "text": [
      "0      8400001901F5862\n",
      "1      8400001901F5A9E\n",
      "2      8400001901F5C3F\n",
      "3      840000190211CBB\n",
      "4      8400001903E8A95\n",
      "5      8460001901E6343\n",
      "6      8460001901E77CA\n",
      "7      8460001902286FD\n",
      "8      84600019034B1DF\n",
      "9      8480001901F749B\n",
      "10     848000190205D2D\n",
      "11     848000190207D4B\n",
      "12     848000190233101\n",
      "13     8480001902E4C8D\n",
      "14     8480301905E561A\n",
      "15     8490001901E8FE5\n",
      "16     849000190255566\n",
      "17     849000190255764\n",
      "18     8492001901E3626\n",
      "19     8492001901E380C\n",
      "20     8492001901E3949\n",
      "21     8492001901E39D5\n",
      "22     84920019021DCB3\n",
      "23     84920019022018D\n",
      "24     8492001902208C4\n",
      "25     8492001902249FF\n",
      "26     849200190224FDA\n",
      "27     8492001902703D4\n",
      "28     84920019027072D\n",
      "29     8492001902707B1\n",
      "            ...       \n",
      "78     8D920019025FB00\n",
      "79     8D920019025FC5C\n",
      "80     8D920019025FCA2\n",
      "81     8D920019025FD7A\n",
      "82     8D920019025FE1C\n",
      "83     8D9200190260038\n",
      "84     8D920019026005F\n",
      "85     8D9200190319284\n",
      "86     8F00000001EE3FF\n",
      "87     8F00001901E40EA\n",
      "88     8F80001901E435B\n",
      "89     8F90000001F1E74\n",
      "90     8F90000001F1F0E\n",
      "91     8F90000001F1FA9\n",
      "92     8F90000001F2091\n",
      "93     8F90000001F2350\n",
      "94     8F90000001F23AD\n",
      "95     8F90000001F2CBB\n",
      "96     8F90001901E28CA\n",
      "97     8F90001901E2ECC\n",
      "98     8F90001901E2F6E\n",
      "99     8F90001901E3008\n",
      "100    8F90001901E30D2\n",
      "101    8F90001901E30E9\n",
      "102    8F90001901E310F\n",
      "103    8F90001901E314D\n",
      "104    8F90001901E31E8\n",
      "105    8F91000001F282B\n",
      "106    8F91001901E2532\n",
      "107    8F91001901E32C0\n",
      "Name: TSNs, dtype: object\n"
     ]
    }
   ],
   "source": [
    "#data_frame_1 = data_frame_1['TSN']\n",
    "#print data_frame_1\n",
    "data_frame_2 = data_frame_2['TSNs']\n",
    "print data_frame_2\n",
    "#df = df['TSN']\n",
    "#df1 = df1['Internal Hydra TSNs']"
   ]
  },
  {
   "cell_type": "code",
   "execution_count": 21,
   "metadata": {
    "collapsed": false,
    "scrolled": true
   },
   "outputs": [
    {
     "name": "stdout",
     "output_type": "stream",
     "text": [
      "Empty DataFrame\n",
      "Columns: [TSNs]\n",
      "Index: []\n"
     ]
    }
   ],
   "source": [
    "#merge_dataframe = pd.merge(df,df1,how='outer')\n",
    "#data_frame = data_frame_1[data_frame_1['TSN'].isin(data_frame_2['Internal Hydra TSNs'])]\n",
    "#data_frame = data_frame_1[data_frame_1['TSN'].not in(data_frame_2)]\n",
    "#data_frame[data_frame['Sw Version Group Code'].apply(lambda x: filterlist(x,list_beta))]\n",
    "#crt = data_frame_1[data_frame_1['TSN'].apply(lambda x: filterlist(x,data_frame_2['Internal Hydra TSNs']))]\n",
    "\n",
    "#data_frame_2\n",
    "#data_frame_1\n",
    "#print data_frame_1[-data_frame_1['TSN'].isin(data_frame_2)]['TSN']\n",
    "#print data_frame_2[-data_frame_2.isin(data_frame_1['TSN'])]['Internal Hydra TSNs']\n",
    "#data_frame_1['TSN'].isin(data_frame_2)\n",
    "print data_frame_2[-data_frame_2['TSNs'].isin(data_frame_1['TSN'])]"
   ]
  },
  {
   "cell_type": "code",
   "execution_count": null,
   "metadata": {
    "collapsed": true
   },
   "outputs": [],
   "source": []
  }
 ],
 "metadata": {
  "kernelspec": {
   "display_name": "Python [Root]",
   "language": "python",
   "name": "Python [Root]"
  },
  "language_info": {
   "codemirror_mode": {
    "name": "ipython",
    "version": 2
   },
   "file_extension": ".py",
   "mimetype": "text/x-python",
   "name": "python",
   "nbconvert_exporter": "python",
   "pygments_lexer": "ipython2",
   "version": "2.7.11"
  }
 },
 "nbformat": 4,
 "nbformat_minor": 0
}
