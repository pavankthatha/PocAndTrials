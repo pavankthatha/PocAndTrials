{
 "cells": [
  {
   "cell_type": "code",
   "execution_count": 5,
   "metadata": {
    "collapsed": false
   },
   "outputs": [
    {
     "name": "stdout",
     "output_type": "stream",
     "text": [
      "Input Arguments Needed - START DATE, END DATE, tsn, patterns file(with one or many patterns to match), output dir, service portal\n"
     ]
    }
   ],
   "source": [
    "import sys\n",
    "if len(sys.argv) < 6:\n",
    "    print \"Input Arguments Needed - START DATE, END DATE, tsn, patterns file(with one or many patterns to match), output dir, service portal\"\n",
    "    exit\n",
    "else:\n",
    "    arguments = sys.argv\n",
    "    start_date = arguments[0]\n",
    "    end_date = arguments[1]\n",
    "    tsns = arguments[2]\n",
    "    patternFile = arguments[3]\n",
    "    outRoot = arguments[4]\n",
    "    portal = arguments[5]#\"log02.chp1.tivo.com\"\n",
    "    \n",
    "    count = 0;\n",
    "    pattern = []"
   ]
  },
  {
   "cell_type": "code",
   "execution_count": null,
   "metadata": {
    "collapsed": true
   },
   "outputs": [],
   "source": [
    "#Removal of pre-existing files\n"
   ]
  }
 ],
 "metadata": {
  "kernelspec": {
   "display_name": "Python 2",
   "language": "python",
   "name": "python2"
  },
  "language_info": {
   "codemirror_mode": {
    "name": "ipython",
    "version": 2
   },
   "file_extension": ".py",
   "mimetype": "text/x-python",
   "name": "python",
   "nbconvert_exporter": "python",
   "pygments_lexer": "ipython2",
   "version": "2.7.11"
  }
 },
 "nbformat": 4,
 "nbformat_minor": 0
}
