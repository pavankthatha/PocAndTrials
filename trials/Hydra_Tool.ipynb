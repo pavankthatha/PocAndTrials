{
 "cells": [
  {
   "cell_type": "code",
   "execution_count": 7,
   "metadata": {
    "collapsed": true
   },
   "outputs": [],
   "source": [
    "import pandas as pd"
   ]
  },
  {
   "cell_type": "code",
   "execution_count": 8,
   "metadata": {
    "collapsed": true
   },
   "outputs": [],
   "source": [
    "# Reading The CSV to make it as a dataframe\n",
    "data_frame = pd.read_csv('/home/tivo/master_tsn_list')"
   ]
  },
  {
   "cell_type": "code",
   "execution_count": 9,
   "metadata": {
    "collapsed": true
   },
   "outputs": [],
   "source": [
    "#Creating a list of Software maps needs to be extracted\n",
    "list_beta = ['quattro_2_3_beta_office',\n",
    "'quattro_2_6_1_beta_office',\n",
    "'quattro_2_6_beta_office',\n",
    "'quattro_2_6_mso_beta',\n",
    "'quattro_2_7_ext_beta',\n",
    "'quattro_2_8_beta',\n",
    "'quattro_3_0_beta',\n",
    "'quattro_3_0_beta_office',\n",
    "'quattro_3_1_beta_office',\n",
    "'quattro_3_2_beta',\n",
    "'quattro_3_3_beta',\n",
    "'quattro_3_4_beta',\n",
    "'quattro_3_5_beta',\n",
    "'quattro_3_5_beta_office',\n",
    "'quattro_3_6_beta_office',\n",
    "'quattro_3_8_beta',\n",
    "'quattro_3_8_beta_office',\n",
    "'seal_beta'\n",
    "];\n",
    "data_frame=data_frame[data_frame['Sw Version Group Code'].isin(list_beta)]"
   ]
  },
  {
   "cell_type": "code",
   "execution_count": 12,
   "metadata": {
    "collapsed": false
   },
   "outputs": [],
   "source": [
    "# Extracting only the TSN's\n",
    "data_frame1=data_frame['TSN']"
   ]
  },
  {
   "cell_type": "code",
   "execution_count": 13,
   "metadata": {
    "collapsed": true
   },
   "outputs": [],
   "source": [
    "data_frame1.to_csv('beta_tsn_ex',index=False)"
   ]
  },
  {
   "cell_type": "code",
   "execution_count": null,
   "metadata": {
    "collapsed": true
   },
   "outputs": [],
   "source": []
  }
 ],
 "metadata": {
  "kernelspec": {
   "display_name": "Python 2",
   "language": "python",
   "name": "python2"
  },
  "language_info": {
   "codemirror_mode": {
    "name": "ipython",
    "version": 2
   },
   "file_extension": ".py",
   "mimetype": "text/x-python",
   "name": "python",
   "nbconvert_exporter": "python",
   "pygments_lexer": "ipython2",
   "version": "2.7.11"
  }
 },
 "nbformat": 4,
 "nbformat_minor": 0
}
