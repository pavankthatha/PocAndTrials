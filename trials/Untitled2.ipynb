{
 "cells": [
  {
   "cell_type": "code",
   "execution_count": 12,
   "metadata": {
    "collapsed": false
   },
   "outputs": [],
   "source": [
    "#Import the necessary methods from tweepy library\n",
    "from tweepy.streaming import StreamListener\n",
    "import tweepy\n",
    "from tweepy import OAuthHandler\n",
    "from tweepy import Stream\n",
    "\n",
    "#Variables that contains the user credentials to access Twitter API \n",
    "consumer_key = 'vE4lFQ67OqYQYpLMcB2TBLKP2'\n",
    "consumer_secret = 'RQ7DjXoZCeNQ1MGmarMfzBkE7xTaEUGNCRLaejDCtCg9xCCdmI'\n",
    "access_token = '3177622376-QA4yqr3A3UzAtbGHAr33VLZ5sm5FeYH17INEsJO'\n",
    "access_secret = 'nuDHpvGXt2ZfMrr0BnPLK1Uq3dWGDmz3xnCVHYbbm9uOa'\n",
    "\n",
    "auth = OAuthHandler(consumer_key, consumer_secret)\n",
    "auth.set_access_token(access_token, access_secret)\n",
    " \n",
    "api = tweepy.API(auth)"
   ]
  },
  {
   "cell_type": "code",
   "execution_count": 11,
   "metadata": {
    "collapsed": false
   },
   "outputs": [
    {
     "name": "stdout",
     "output_type": "stream",
     "text": [
      "Playmates takes a pic of unsuspecting, naked woman and posts on Snapchat. The backlash is fierce!\n",
      "https://t.co/0w84lnBhXO\n",
      "European Union moves to broaden air-safety responsibilities https://t.co/9K8x4NCOTO\n",
      "Newt Gingrich: Test every  Muslim on Sharia law and deport those who believe in it https://t.co/N8l58qq58s https://t.co/deGo5l81hI\n",
      "2 Americans were among the more than 80 people killed when a truck barreled through crowds in Nice https://t.co/mClBWHfojc\n",
      "Two Americans among more than 80 dead in terror attack in Nice, France. https://t.co/ssLXyCArm2\n",
      "In Srebrenica, over 6,000 white headstones list the 8,372 names of the victims https://t.co/GJjoiF0yvI https://t.co/m7aBQUEqOp\n",
      "Andrew Plant @BeebJournalist was live on @BBCNews @facebook at the scene of #NiceAttack https://t.co/wmC2t61LNx https://t.co/XG7gs7HWj4\n",
      "Follow latest news on the #NiceAttack in our ongoing coverage\n",
      "\n",
      "https://t.co/3w5HT8yYhb https://t.co/jjEK38hVIX\n",
      "Hidden Decision Trees vs. Decision Trees or Logistic Regression https://t.co/ssGtNer6RG\n",
      "RT @photojournalism: Impressive interactive graphic on the Nice attack by colleagues in New York https://t.co/I6KAgkc1AL https://t.co/5DGFS…\n"
     ]
    }
   ],
   "source": [
    "for status in tweepy.Cursor(api.home_timeline).items(10):\n",
    "    # Process a single status\n",
    "    print(status.text) "
   ]
  },
  {
   "cell_type": "code",
   "execution_count": 14,
   "metadata": {
    "collapsed": false
   },
   "outputs": [],
   "source": [
    "import json\n",
    "import pandas as pd\n",
    "import matplotlib.pyplot as plt"
   ]
  },
  {
   "cell_type": "code",
   "execution_count": null,
   "metadata": {
    "collapsed": true
   },
   "outputs": [],
   "source": []
  }
 ],
 "metadata": {
  "kernelspec": {
   "display_name": "Python 2",
   "language": "python",
   "name": "python2"
  },
  "language_info": {
   "codemirror_mode": {
    "name": "ipython",
    "version": 2
   },
   "file_extension": ".py",
   "mimetype": "text/x-python",
   "name": "python",
   "nbconvert_exporter": "python",
   "pygments_lexer": "ipython2",
   "version": "2.7.11"
  }
 },
 "nbformat": 4,
 "nbformat_minor": 0
}
